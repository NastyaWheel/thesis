{
 "cells": [
  {
   "cell_type": "code",
   "execution_count": 2,
   "metadata": {},
   "outputs": [],
   "source": [
    "import pandas as pd\n",
    "import numpy as np"
   ]
  },
  {
   "cell_type": "code",
   "execution_count": 3,
   "metadata": {},
   "outputs": [
    {
     "name": "stderr",
     "output_type": "stream",
     "text": [
      "C:\\Users\\Настя\\AppData\\Local\\Temp\\ipykernel_19724\\1562921182.py:1: DtypeWarning: Columns (6,7,28,38,45) have mixed types. Specify dtype option on import or set low_memory=False.\n",
      "  df = pd.read_csv('DTP_DATA_CORRECT.csv')\n"
     ]
    },
    {
     "name": "stdout",
     "output_type": "stream",
     "text": [
      "(1400915, 89)\n"
     ]
    },
    {
     "data": {
      "text/html": [
       "<div>\n",
       "<style scoped>\n",
       "    .dataframe tbody tr th:only-of-type {\n",
       "        vertical-align: middle;\n",
       "    }\n",
       "\n",
       "    .dataframe tbody tr th {\n",
       "        vertical-align: top;\n",
       "    }\n",
       "\n",
       "    .dataframe thead th {\n",
       "        text-align: right;\n",
       "    }\n",
       "</style>\n",
       "<table border=\"1\" class=\"dataframe\">\n",
       "  <thead>\n",
       "    <tr style=\"text-align: right;\">\n",
       "      <th></th>\n",
       "      <th>DTPV</th>\n",
       "      <th>date</th>\n",
       "      <th>district</th>\n",
       "      <th>EMTP_NUMBER</th>\n",
       "      <th>CHOM</th>\n",
       "      <th>COORD_L</th>\n",
       "      <th>COORD_W</th>\n",
       "      <th>dor</th>\n",
       "      <th>dor_k</th>\n",
       "      <th>dor_z</th>\n",
       "      <th>...</th>\n",
       "      <th>any cyclists</th>\n",
       "      <th>any concomitant traffic violations</th>\n",
       "      <th>any injuries without safety belt</th>\n",
       "      <th>any child restraints</th>\n",
       "      <th>number of guilty objects</th>\n",
       "      <th>fatal traffic violation(s)</th>\n",
       "      <th>number of fatal traffic violations</th>\n",
       "      <th>bodily harm</th>\n",
       "      <th>guilty drivers' average experience</th>\n",
       "      <th>drivers' average experience</th>\n",
       "    </tr>\n",
       "  </thead>\n",
       "  <tbody>\n",
       "    <tr>\n",
       "      <th>0</th>\n",
       "      <td>Столкновение</td>\n",
       "      <td>31.01.2015</td>\n",
       "      <td>ЖЕЛЕЗНОДОРОЖНЫЙ</td>\n",
       "      <td>NaN</td>\n",
       "      <td>Движение частично перекрыто</td>\n",
       "      <td>83.740833</td>\n",
       "      <td>53.333056</td>\n",
       "      <td>NaN</td>\n",
       "      <td>NaN</td>\n",
       "      <td>Не указано</td>\n",
       "      <td>...</td>\n",
       "      <td>0</td>\n",
       "      <td>0</td>\n",
       "      <td>0</td>\n",
       "      <td>0</td>\n",
       "      <td>1</td>\n",
       "      <td>{'Другие нарушения ПДД водителем'}</td>\n",
       "      <td>1</td>\n",
       "      <td>{'Раненый, находящийся (находившийся)  на амбу...</td>\n",
       "      <td>15.0</td>\n",
       "      <td>13.0</td>\n",
       "    </tr>\n",
       "    <tr>\n",
       "      <th>1</th>\n",
       "      <td>Наезд на пешехода</td>\n",
       "      <td>31.01.2015</td>\n",
       "      <td>АЛЕЙСКИЙ</td>\n",
       "      <td>NaN</td>\n",
       "      <td>Режим движения не изменялся</td>\n",
       "      <td>82.462778</td>\n",
       "      <td>52.245833</td>\n",
       "      <td>А-322 Барнаул - Рубцовск - граница с Республик...</td>\n",
       "      <td>3.0</td>\n",
       "      <td>Федеральная (дорога федерального значения)</td>\n",
       "      <td>...</td>\n",
       "      <td>0</td>\n",
       "      <td>1</td>\n",
       "      <td>0</td>\n",
       "      <td>0</td>\n",
       "      <td>1</td>\n",
       "      <td>{'Нахождение на проезжей части без цели её пер...</td>\n",
       "      <td>1</td>\n",
       "      <td>{'Раненый, находящийся (находившийся) на стаци...</td>\n",
       "      <td>NaN</td>\n",
       "      <td>5.0</td>\n",
       "    </tr>\n",
       "    <tr>\n",
       "      <th>2</th>\n",
       "      <td>Наезд на пешехода</td>\n",
       "      <td>31.01.2015</td>\n",
       "      <td>ИНДУСТРИАЛЬНЫЙ</td>\n",
       "      <td>NaN</td>\n",
       "      <td>Движение частично перекрыто</td>\n",
       "      <td>83.501944</td>\n",
       "      <td>53.274167</td>\n",
       "      <td>NaN</td>\n",
       "      <td>NaN</td>\n",
       "      <td>Не указано</td>\n",
       "      <td>...</td>\n",
       "      <td>0</td>\n",
       "      <td>0</td>\n",
       "      <td>0</td>\n",
       "      <td>0</td>\n",
       "      <td>2</td>\n",
       "      <td>{'Переход через проезжую часть вне пешеходного...</td>\n",
       "      <td>1</td>\n",
       "      <td>{'Раненый, находящийся (находившийся)  на амбу...</td>\n",
       "      <td>NaN</td>\n",
       "      <td>17.0</td>\n",
       "    </tr>\n",
       "    <tr>\n",
       "      <th>3</th>\n",
       "      <td>Наезд на пешехода</td>\n",
       "      <td>31.01.2015</td>\n",
       "      <td>ЦЕНТРАЛЬНЫЙ</td>\n",
       "      <td>NaN</td>\n",
       "      <td>Режим движения не изменялся</td>\n",
       "      <td>83.251667</td>\n",
       "      <td>53.285278</td>\n",
       "      <td>NaN</td>\n",
       "      <td>NaN</td>\n",
       "      <td>Не указано</td>\n",
       "      <td>...</td>\n",
       "      <td>0</td>\n",
       "      <td>0</td>\n",
       "      <td>0</td>\n",
       "      <td>0</td>\n",
       "      <td>1</td>\n",
       "      <td>{'Переход через проезжую часть вне пешеходного...</td>\n",
       "      <td>1</td>\n",
       "      <td>{'Раненый, находящийся (находившийся)  на амбу...</td>\n",
       "      <td>NaN</td>\n",
       "      <td>27.0</td>\n",
       "    </tr>\n",
       "    <tr>\n",
       "      <th>4</th>\n",
       "      <td>Наезд на пешехода</td>\n",
       "      <td>31.01.2015</td>\n",
       "      <td>ИНДУСТРИАЛЬНЫЙ</td>\n",
       "      <td>NaN</td>\n",
       "      <td>Движение частично перекрыто</td>\n",
       "      <td>83.708889</td>\n",
       "      <td>53.318333</td>\n",
       "      <td>NaN</td>\n",
       "      <td>NaN</td>\n",
       "      <td>Не указано</td>\n",
       "      <td>...</td>\n",
       "      <td>0</td>\n",
       "      <td>0</td>\n",
       "      <td>0</td>\n",
       "      <td>0</td>\n",
       "      <td>1</td>\n",
       "      <td>{'Переход через проезжую часть в неустановленн...</td>\n",
       "      <td>1</td>\n",
       "      <td>{'Раненый, находящийся (находившийся) на стаци...</td>\n",
       "      <td>NaN</td>\n",
       "      <td>1.0</td>\n",
       "    </tr>\n",
       "  </tbody>\n",
       "</table>\n",
       "<p>5 rows × 89 columns</p>\n",
       "</div>"
      ],
      "text/plain": [
       "                DTPV        date         district  EMTP_NUMBER  \\\n",
       "0       Столкновение  31.01.2015  ЖЕЛЕЗНОДОРОЖНЫЙ          NaN   \n",
       "1  Наезд на пешехода  31.01.2015         АЛЕЙСКИЙ          NaN   \n",
       "2  Наезд на пешехода  31.01.2015   ИНДУСТРИАЛЬНЫЙ          NaN   \n",
       "3  Наезд на пешехода  31.01.2015      ЦЕНТРАЛЬНЫЙ          NaN   \n",
       "4  Наезд на пешехода  31.01.2015   ИНДУСТРИАЛЬНЫЙ          NaN   \n",
       "\n",
       "                          CHOM    COORD_L    COORD_W  \\\n",
       "0  Движение частично перекрыто  83.740833  53.333056   \n",
       "1  Режим движения не изменялся  82.462778  52.245833   \n",
       "2  Движение частично перекрыто  83.501944  53.274167   \n",
       "3  Режим движения не изменялся  83.251667  53.285278   \n",
       "4  Движение частично перекрыто  83.708889  53.318333   \n",
       "\n",
       "                                                 dor  dor_k  \\\n",
       "0                                                NaN    NaN   \n",
       "1  А-322 Барнаул - Рубцовск - граница с Республик...    3.0   \n",
       "2                                                NaN    NaN   \n",
       "3                                                NaN    NaN   \n",
       "4                                                NaN    NaN   \n",
       "\n",
       "                                        dor_z  ... any cyclists  \\\n",
       "0                                  Не указано  ...            0   \n",
       "1  Федеральная (дорога федерального значения)  ...            0   \n",
       "2                                  Не указано  ...            0   \n",
       "3                                  Не указано  ...            0   \n",
       "4                                  Не указано  ...            0   \n",
       "\n",
       "  any concomitant traffic violations any injuries without safety belt  \\\n",
       "0                                  0                                0   \n",
       "1                                  1                                0   \n",
       "2                                  0                                0   \n",
       "3                                  0                                0   \n",
       "4                                  0                                0   \n",
       "\n",
       "   any child restraints  number of guilty objects  \\\n",
       "0                     0                         1   \n",
       "1                     0                         1   \n",
       "2                     0                         2   \n",
       "3                     0                         1   \n",
       "4                     0                         1   \n",
       "\n",
       "                          fatal traffic violation(s)  \\\n",
       "0                 {'Другие нарушения ПДД водителем'}   \n",
       "1  {'Нахождение на проезжей части без цели её пер...   \n",
       "2  {'Переход через проезжую часть вне пешеходного...   \n",
       "3  {'Переход через проезжую часть вне пешеходного...   \n",
       "4  {'Переход через проезжую часть в неустановленн...   \n",
       "\n",
       "  number of fatal traffic violations  \\\n",
       "0                                  1   \n",
       "1                                  1   \n",
       "2                                  1   \n",
       "3                                  1   \n",
       "4                                  1   \n",
       "\n",
       "                                         bodily harm  \\\n",
       "0  {'Раненый, находящийся (находившийся)  на амбу...   \n",
       "1  {'Раненый, находящийся (находившийся) на стаци...   \n",
       "2  {'Раненый, находящийся (находившийся)  на амбу...   \n",
       "3  {'Раненый, находящийся (находившийся)  на амбу...   \n",
       "4  {'Раненый, находящийся (находившийся) на стаци...   \n",
       "\n",
       "  guilty drivers' average experience  drivers' average experience  \n",
       "0                               15.0                         13.0  \n",
       "1                                NaN                          5.0  \n",
       "2                                NaN                         17.0  \n",
       "3                                NaN                         27.0  \n",
       "4                                NaN                          1.0  \n",
       "\n",
       "[5 rows x 89 columns]"
      ]
     },
     "execution_count": 3,
     "metadata": {},
     "output_type": "execute_result"
    }
   ],
   "source": [
    "df = pd.read_csv('DTP_DATA_CORRECT.csv')\n",
    "df = df.drop('Unnamed: 0', axis=1)\n",
    "print(df.shape)\n",
    "features_number = df.shape[1]\n",
    "df.head(5)"
   ]
  },
  {
   "cell_type": "code",
   "execution_count": 4,
   "metadata": {},
   "outputs": [
    {
     "data": {
      "text/plain": [
       "Index(['DTPV', 'date', 'district', 'EMTP_NUMBER', 'CHOM', 'COORD_L', 'COORD_W',\n",
       "       'dor', 'dor_k', 'dor_z', 'factor', 'house', 'k_ul', 'km', 'm', 'NP',\n",
       "       'ndu', 'OBJ_DTP', 'osv', 's_dtp', 's_pch', 'sdor', 'spog', 'street',\n",
       "       'color', 'f_sob', 'g_v', 'm_pov', 'm_ts', 'marka_ts', 'n_ts', 'o_pf',\n",
       "       'r_rul', 't_n', 't_ts', 'ts_s', 'ALCO', 'INJURED_CARD_ID', 'k_UCH',\n",
       "       'NPDD', 'n_UCH', 'POL', 'SAFETY_BELT', 'SOP_NPDD', 's_SEAT_GROUP',\n",
       "       's_SM', 's_T', 'v_ST', 'KTS', 'KUCH', 'kartId', 'POG', 'RAN', 'rowNum',\n",
       "       'time', 'any TV technical failures', 'any non-private vehicles',\n",
       "       'any russian vehicles', 'any vehicles older than 1990',\n",
       "       'any vehicles older than 2000', 'any vehicles older than 2010',\n",
       "       'any white vehicles', 'any black vehicles', 'any colored vehicles',\n",
       "       'any front-wheel-drive vehicles', 'any rear-wheel-drive vehicles',\n",
       "       'any four-wheel-drive vehicles', 'any A-class vehicles',\n",
       "       'any B-class vehicles', 'any C-class vehicles', 'any D-class vehicles',\n",
       "       'any E-class vehicles', 'any S-class vehicles', 'any non-car vehicles',\n",
       "       'any drunk passengers', 'any drunk drivers', 'any female drivers',\n",
       "       'any escaped participants', 'any pedestrians', 'any cyclists',\n",
       "       'any concomitant traffic violations',\n",
       "       'any injuries without safety belt', 'any child restraints',\n",
       "       'number of guilty objects', 'fatal traffic violation(s)',\n",
       "       'number of fatal traffic violations', 'bodily harm',\n",
       "       'guilty drivers' average experience', 'drivers' average experience'],\n",
       "      dtype='object')"
      ]
     },
     "execution_count": 4,
     "metadata": {},
     "output_type": "execute_result"
    }
   ],
   "source": [
    "df.columns"
   ]
  },
  {
   "cell_type": "code",
   "execution_count": 5,
   "metadata": {},
   "outputs": [],
   "source": [
    "df = df.drop(['color', 'f_sob', 'g_v', 'm_pov', 'm_ts', 'marka_ts', 'n_ts', 'o_pf',\n",
    "       'r_rul', 't_n', 't_ts', 'ts_s', 'ALCO', 'INJURED_CARD_ID', 'k_UCH',\n",
    "       'NPDD', 'n_UCH', 'POL', 'SAFETY_BELT', 'SOP_NPDD', 's_SEAT_GROUP',\n",
    "       's_SM', 's_T', 'v_ST'], axis=1)\n",
    "\n",
    "# dropped features because they accidentally appeared in the df\n",
    "# it's info about the last accident participant and the last vehicle in XML"
   ]
  },
  {
   "cell_type": "code",
   "execution_count": 6,
   "metadata": {},
   "outputs": [],
   "source": [
    "# just because i didn't think ahead\n",
    "\n",
    "new_column_names = {\n",
    "    \"guilty drivers' average experience\": \"guilty drivers average experience\",\n",
    "    \"drivers' average experience\": \"drivers average experience\"\n",
    "}\n",
    "\n",
    "df = df.rename(columns=new_column_names)"
   ]
  },
  {
   "cell_type": "code",
   "execution_count": 7,
   "metadata": {},
   "outputs": [
    {
     "data": {
      "text/plain": [
       "Index(['DTPV', 'date', 'district', 'EMTP_NUMBER', 'CHOM', 'COORD_L', 'COORD_W',\n",
       "       'dor', 'dor_k', 'dor_z', 'factor', 'house', 'k_ul', 'km', 'm', 'NP',\n",
       "       'ndu', 'OBJ_DTP', 'osv', 's_dtp', 's_pch', 'sdor', 'spog', 'street',\n",
       "       'KTS', 'KUCH', 'kartId', 'POG', 'RAN', 'rowNum', 'time',\n",
       "       'any TV technical failures', 'any non-private vehicles',\n",
       "       'any russian vehicles', 'any vehicles older than 1990',\n",
       "       'any vehicles older than 2000', 'any vehicles older than 2010',\n",
       "       'any white vehicles', 'any black vehicles', 'any colored vehicles',\n",
       "       'any front-wheel-drive vehicles', 'any rear-wheel-drive vehicles',\n",
       "       'any four-wheel-drive vehicles', 'any A-class vehicles',\n",
       "       'any B-class vehicles', 'any C-class vehicles', 'any D-class vehicles',\n",
       "       'any E-class vehicles', 'any S-class vehicles', 'any non-car vehicles',\n",
       "       'any drunk passengers', 'any drunk drivers', 'any female drivers',\n",
       "       'any escaped participants', 'any pedestrians', 'any cyclists',\n",
       "       'any concomitant traffic violations',\n",
       "       'any injuries without safety belt', 'any child restraints',\n",
       "       'number of guilty objects', 'fatal traffic violation(s)',\n",
       "       'number of fatal traffic violations', 'bodily harm',\n",
       "       'guilty drivers average experience', 'drivers average experience'],\n",
       "      dtype='object')"
      ]
     },
     "execution_count": 7,
     "metadata": {},
     "output_type": "execute_result"
    }
   ],
   "source": [
    "df.columns"
   ]
  },
  {
   "cell_type": "code",
   "execution_count": 8,
   "metadata": {},
   "outputs": [
    {
     "data": {
      "text/plain": [
       "(1400915, 65)"
      ]
     },
     "execution_count": 8,
     "metadata": {},
     "output_type": "execute_result"
    }
   ],
   "source": [
    "df.shape"
   ]
  },
  {
   "cell_type": "markdown",
   "metadata": {},
   "source": [
    "## Processing the data gaps"
   ]
  },
  {
   "cell_type": "code",
   "execution_count": 9,
   "metadata": {},
   "outputs": [],
   "source": [
    "column_meanings = {\n",
    "    'DTPV': 'RTA type',\n",
    "    # 'date',\n",
    "    # 'district',\n",
    "    'EMTP_NUMBER': 'RTA number', # its meaning is similar to kartId\n",
    "    'CHOM': 'info about changes in traffic',\n",
    "    'dor': 'road name',\n",
    "    'dor_k': 'road category',\n",
    "    'dor_z': 'road significance',\n",
    "    'factor': 'factors influencing the traffic',\n",
    "    # 'house',\n",
    "    'k_ul': 'street significance',\n",
    "    'km': 'RTA road km',\n",
    "    'm': 'RTA road m',\n",
    "    'NP': 'human settlement',\n",
    "    'ndu': 'defects of the road network transport and operational maintenance',\n",
    "    'OBJ_DTP': 'road network objects near RTA',\n",
    "    'osv': 'lighting',\n",
    "    's_dtp': '', # dk what is it \n",
    "    's_pch': 'road surface condition',\n",
    "    'sdor': 'road network objects at the scene of RTA',\n",
    "    'spog': 'weather',\n",
    "    # 'street',\n",
    "    # -----------------------------------------------------------------------------\n",
    "    # (info about every vehicle, was not save as column)\n",
    "    'color': 'vehicle color',\n",
    "    'f_sob': 'form of ownership', # it is not displayed in pdf version\n",
    "    'g_v': 'vehicle year of release',\n",
    "    'm_pov': 'vehicle damage place',\n",
    "    'm_ts': 'vehicle model',\n",
    "    'marka_ts': 'vehicle brand',\n",
    "    'n_ts': 'vehicle number in RTA',\n",
    "    'o_pf': 'form of ownership', # similar to f_sob in meaning, but has other values, f_sob was preferred it\n",
    "    'r_rul': 'steering position',\n",
    "    't_n': 'vehicle technical failure',\n",
    "    't_ts': 'vehicle class',\n",
    "    'ts_s': 'info about vehicle leaving a RTA place',\n",
    "    # (info about every participant, was not save as column)\n",
    "    'ALCO': 'ppm',\n",
    "    'INJURED_CARD_ID': '', # dk what is it\n",
    "    'k_UCH': 'participant category',\n",
    "    'NPDD': 'direct traffic violations',\n",
    "    'n_UCH': 'participant number',\n",
    "    'POL': 'gender',\n",
    "    'SAFETY_BELT': 'safety belt',\n",
    "    'SOP_NPDD': 'concomitant traffic violations',\n",
    "    's_SEAT_GROUP': 'type of child restraint',\n",
    "    's_SM': 'info about participant leaving a RTA place',\n",
    "    's_T': 'severity of the consequences',\n",
    "    'v_ST': 'driving experience',\n",
    "    # ---------------------------------------------------------------------\n",
    "    # (general RTA info again)\n",
    "    'KTS': 'number of vehicle in RTA',\n",
    "    'KUCH': 'number of participants in RTA',\n",
    "    'kartId': 'RTA ID', # it is not displayed in pdf version\n",
    "    'POG': 'number of deaths',\n",
    "    'RAN': 'number of wounded',\n",
    "    # 'rowNum',\n",
    "    # 'time'\n",
    "}"
   ]
  },
  {
   "cell_type": "code",
   "execution_count": 10,
   "metadata": {},
   "outputs": [
    {
     "name": "stdout",
     "output_type": "stream",
     "text": [
      "['EMTP_NUMBER', 'CHOM', 'COORD_L', 'COORD_W', 'dor', 'dor_k', 'house', 'k_ul', 'km', 'm', 'NP', 'street', 'guilty drivers average experience']\n"
     ]
    }
   ],
   "source": [
    "features_with_gaps = df.columns[df.isna().any()].tolist()\n",
    "print(features_with_gaps)"
   ]
  },
  {
   "cell_type": "code",
   "execution_count": 11,
   "metadata": {},
   "outputs": [],
   "source": [
    "drop_columns = ['district', 'house', 'street', 'rowNum']\n",
    "# will be dropped becouse of their useless"
   ]
  },
  {
   "cell_type": "markdown",
   "metadata": {},
   "source": [
    "__EMTP_NUMBER vs kartId__: kartId was chosen as an accident ID\n",
    "\n",
    "(kartId doesn't display in PDF)"
   ]
  },
  {
   "cell_type": "code",
   "execution_count": 12,
   "metadata": {},
   "outputs": [
    {
     "name": "stdout",
     "output_type": "stream",
     "text": [
      "EMTP_NUMBER gaps: 823047\n",
      "kartId gaps: 0\n"
     ]
    }
   ],
   "source": [
    "print(f\"EMTP_NUMBER gaps: {df['EMTP_NUMBER'].isna().sum()}\")\n",
    "print(f\"kartId gaps: {df['kartId'].isna().sum()}\")\n",
    "\n",
    "# Drop EMTP_NUMBER, it's fulled of nan\n",
    "\n",
    "drop_columns.append('EMTP_NUMBER')"
   ]
  },
  {
   "cell_type": "markdown",
   "metadata": {},
   "source": [
    "__CHOM__: 2 objects were dropped"
   ]
  },
  {
   "cell_type": "code",
   "execution_count": 13,
   "metadata": {},
   "outputs": [
    {
     "name": "stdout",
     "output_type": "stream",
     "text": [
      "CHOM gaps: 2\n",
      "Objects left: 1400913\n"
     ]
    }
   ],
   "source": [
    "print(f\"CHOM gaps: {df['CHOM'].isna().sum()}\")\n",
    "\n",
    "df = df[df['CHOM'].notna()]\n",
    "print(f\"Objects left: {df.shape[0]}\")"
   ]
  },
  {
   "cell_type": "code",
   "execution_count": 15,
   "metadata": {},
   "outputs": [
    {
     "data": {
      "text/plain": [
       "array([nan,  3.,  5.,  6.,  7.,  4.,  2.,  8.,  1.])"
      ]
     },
     "execution_count": 15,
     "metadata": {},
     "output_type": "execute_result"
    }
   ],
   "source": [
    "df['dor_k'].unique()"
   ]
  },
  {
   "cell_type": "markdown",
   "metadata": {},
   "source": [
    "__Km and m__: 2904 objects were deleted"
   ]
  },
  {
   "cell_type": "code",
   "execution_count": 14,
   "metadata": {},
   "outputs": [
    {
     "name": "stdout",
     "output_type": "stream",
     "text": [
      "Gaps in km: 2881\n",
      "Gaps in m: 2769\n",
      "Km and m common gaps: 2904\n",
      "Objects left: 1398009\n"
     ]
    }
   ],
   "source": [
    "km_ind = set(df[df['km'].isna() == True]['kartId'].to_list())\n",
    "m_ind = df[df['m'].isna() == True]['kartId'].to_list()\n",
    "for i in m_ind:\n",
    "    km_ind.add(i)\n",
    "\n",
    "print(f\"Gaps in km: {df['km'].isna().sum()}\")\n",
    "print(f\"Gaps in m: {df['m'].isna().sum()}\")\n",
    "print(f\"Km and m common gaps: {len(km_ind)}\")\n",
    "\n",
    "# The difference between their gaps is small, so drop all km and m gaps from DataFrame:\n",
    "\n",
    "df = df[df['km'].notna()]\n",
    "df = df[df['m'].notna()]\n",
    "print(f\"Objects left: {df.shape[0]}\")"
   ]
  },
  {
   "cell_type": "markdown",
   "metadata": {},
   "source": [
    "__dor and dor_k:__ temporarily dropped as features"
   ]
  },
  {
   "cell_type": "code",
   "execution_count": 63,
   "metadata": {},
   "outputs": [
    {
     "name": "stdout",
     "output_type": "stream",
     "text": [
      "Gaps in dor: 914452\n",
      "Gaps in dor_k: 921359\n"
     ]
    }
   ],
   "source": [
    "print(f\"Gaps in dor: {df['dor'].isna().sum()}\")\n",
    "print(f\"Gaps in dor_k: {df['dor_k'].isna().sum()}\")\n",
    "\n",
    "# Should try to fill the dor gaps by coordinates and dor_k's by repeated dor values, \n",
    "# but the task is large, so now temporarily drop features:\n",
    "# to-do\n",
    "\n",
    "drop_columns.extend(['dor', 'dor_k'])"
   ]
  },
  {
   "cell_type": "markdown",
   "metadata": {},
   "source": [
    "__k_ul:__ replace nan by new value"
   ]
  },
  {
   "cell_type": "code",
   "execution_count": 64,
   "metadata": {},
   "outputs": [
    {
     "name": "stdout",
     "output_type": "stream",
     "text": [
      "k_ul gaps: 120984\n",
      "street gaps: 517005\n",
      "k_ul gaps left: 0\n"
     ]
    }
   ],
   "source": [
    "print(f\"k_ul gaps: {df['k_ul'].isna().sum()}\")\n",
    "print(f\"street gaps: {df['street'].isna().sum()}\")\n",
    "\n",
    "# Can't try to fill the k_ul gaps by street values, cause the number of nan in street is much bigger.\n",
    "# Replace nan by 'Назначение неизвестно'\n",
    "\n",
    "df['k_ul'] = df['k_ul'].fillna('Назначение неизвестно')\n",
    "print(f\"k_ul gaps left: {df['k_ul'].isna().sum()}\")"
   ]
  },
  {
   "cell_type": "markdown",
   "metadata": {},
   "source": [
    "__NP:__ temporarily dropped as features\n",
    "\n",
    "_(ещё не успела ничего сделать, но нужно попробовать заполнить пропуски (вдруг все пропуски -- это аварии вне населённых пунктов???) и создать новый признак)_"
   ]
  },
  {
   "cell_type": "code",
   "execution_count": 74,
   "metadata": {},
   "outputs": [
    {
     "data": {
      "text/plain": [
       "(64395, 65)"
      ]
     },
     "execution_count": 74,
     "metadata": {},
     "output_type": "execute_result"
    }
   ],
   "source": [
    "df[df['NP'] == 'г Москва'].shape"
   ]
  },
  {
   "cell_type": "code",
   "execution_count": 37,
   "metadata": {},
   "outputs": [
    {
     "name": "stdout",
     "output_type": "stream",
     "text": [
      "NP gaps: 388712\n"
     ]
    }
   ],
   "source": [
    "print(f\"NP gaps: {df['NP'].isna().sum()}\")\n",
    "\n",
    "# fill nan and create new feature 'is RTA in human settlement'\n",
    "# to-do\n",
    "\n",
    "drop_columns.append('NP')"
   ]
  },
  {
   "cell_type": "markdown",
   "metadata": {},
   "source": [
    "__COORD_L and COORD_W:__ 15 objects were dropped"
   ]
  },
  {
   "cell_type": "code",
   "execution_count": 38,
   "metadata": {},
   "outputs": [
    {
     "name": "stdout",
     "output_type": "stream",
     "text": [
      "COORD_L gaps: 14\n",
      "COORD_W gaps: 8\n",
      "Km and m common gaps: 15\n",
      "Objects left: 1397994\n"
     ]
    }
   ],
   "source": [
    "L_ind = set(df[df['COORD_L'].isna() == True]['kartId'].to_list())\n",
    "W_ind = df[df['COORD_W'].isna() == True]['kartId'].to_list()\n",
    "for i in W_ind:\n",
    "    L_ind.add(i)\n",
    "\n",
    "print(f\"COORD_L gaps: {df['COORD_L'].isna().sum()}\")\n",
    "print(f\"COORD_W gaps: {df['COORD_W'].isna().sum()}\")\n",
    "print(f\"Km and m common gaps: {len(L_ind)}\")\n",
    "\n",
    "df = df[df['COORD_L'].notna()]\n",
    "df = df[df['COORD_W'].notna()]\n",
    "print(f\"Objects left: {df.shape[0]}\")"
   ]
  },
  {
   "cell_type": "markdown",
   "metadata": {},
   "source": [
    "__guilty drivers' average experience:__ 145498 objects were deleted"
   ]
  },
  {
   "cell_type": "code",
   "execution_count": 39,
   "metadata": {},
   "outputs": [
    {
     "name": "stdout",
     "output_type": "stream",
     "text": [
      "guilty drivers average experience gaps: 145498\n",
      "Objects left: 1252496\n"
     ]
    }
   ],
   "source": [
    "print(f\"guilty drivers average experience gaps: {df['guilty drivers average experience'].isna().sum()}\")\n",
    "\n",
    "df = df[df['guilty drivers average experience'].notna()]\n",
    "print(f\"Objects left: {df.shape[0]}\")"
   ]
  },
  {
   "cell_type": "code",
   "execution_count": 40,
   "metadata": {},
   "outputs": [
    {
     "name": "stdout",
     "output_type": "stream",
     "text": [
      "['EMTP_NUMBER', 'dor', 'dor_k', 'house', 'NP', 'street']\n"
     ]
    }
   ],
   "source": [
    "features_with_gaps = df.columns[df.isna().any()].tolist()\n",
    "print(features_with_gaps)"
   ]
  },
  {
   "cell_type": "markdown",
   "metadata": {},
   "source": [
    "## Rename and drop the columns"
   ]
  },
  {
   "cell_type": "code",
   "execution_count": 42,
   "metadata": {},
   "outputs": [
    {
     "name": "stdout",
     "output_type": "stream",
     "text": [
      "Features left: 57, in the begining was: 89\n"
     ]
    }
   ],
   "source": [
    "df = df.drop(drop_columns, axis=1)\n",
    "\n",
    "print(f\"Features left: {df.shape[1]}, in the begining was: {features_number}\")"
   ]
  },
  {
   "cell_type": "code",
   "execution_count": 43,
   "metadata": {},
   "outputs": [],
   "source": [
    "new_column_names = {\n",
    "    'DTPV': 'RTA type',\n",
    "    'kartId': 'RTA number',\n",
    "    'CHOM': 'traffic changes info',\n",
    "    'dor_z': 'road significance',\n",
    "    'factor': 'factors influenced traffic',\n",
    "    'k_ul': 'street significance',\n",
    "    'km': 'RTA road km',\n",
    "    'm': 'RTA road m',\n",
    "    'ndu': 'road network maintenance defects',\n",
    "    'OBJ_DTP': 'RTA-adjacent road objects',\n",
    "    'osv': 'lighting',\n",
    "    's_pch': 'road surface condition',\n",
    "    'sdor': 'RTA site road objects',\n",
    "    'spog': 'weather',\n",
    "    'KTS': 'RTA vehicle number',\n",
    "    'KUCH': 'RTA participants number',\n",
    "    'POG': 'number of deaths',\n",
    "    'RAN': 'number of wounded',\n",
    "    'time': 'RTA time'\n",
    "}\n",
    "\n",
    "df = df.rename(columns=new_column_names)"
   ]
  },
  {
   "cell_type": "code",
   "execution_count": 45,
   "metadata": {},
   "outputs": [
    {
     "data": {
      "text/plain": [
       "Index(['RTA type', 'date', 'traffic changes info', 'COORD_L', 'COORD_W',\n",
       "       'road significance', 'factors influenced traffic',\n",
       "       'street significance', 'RTA road km', 'RTA road m',\n",
       "       'road network maintenance defects', 'RTA-adjacent road objects',\n",
       "       'lighting', 's_dtp', 'road surface condition', 'RTA site road objects',\n",
       "       'weather', 'RTA vehicle number', 'RTA participants number',\n",
       "       'RTA number', 'number of deaths', 'number of wounded', 'RTA time',\n",
       "       'any TV technical failures', 'any non-private vehicles',\n",
       "       'any russian vehicles', 'any vehicles older than 1990',\n",
       "       'any vehicles older than 2000', 'any vehicles older than 2010',\n",
       "       'any white vehicles', 'any black vehicles', 'any colored vehicles',\n",
       "       'any front-wheel-drive vehicles', 'any rear-wheel-drive vehicles',\n",
       "       'any four-wheel-drive vehicles', 'any A-class vehicles',\n",
       "       'any B-class vehicles', 'any C-class vehicles', 'any D-class vehicles',\n",
       "       'any E-class vehicles', 'any S-class vehicles', 'any non-car vehicles',\n",
       "       'any drunk passengers', 'any drunk drivers', 'any female drivers',\n",
       "       'any escaped participants', 'any pedestrians', 'any cyclists',\n",
       "       'any concomitant traffic violations',\n",
       "       'any injuries without safety belt', 'any child restraints',\n",
       "       'number of guilty objects', 'fatal traffic violation(s)',\n",
       "       'number of fatal traffic violations', 'bodily harm',\n",
       "       'guilty drivers average experience', 'drivers average experience'],\n",
       "      dtype='object')"
      ]
     },
     "execution_count": 45,
     "metadata": {},
     "output_type": "execute_result"
    }
   ],
   "source": [
    "df.columns"
   ]
  },
  {
   "cell_type": "code",
   "execution_count": 48,
   "metadata": {},
   "outputs": [],
   "source": [
    "df.to_csv('DTP_DATA_CORRECT_PROCESSED.csv')"
   ]
  },
  {
   "cell_type": "markdown",
   "metadata": {},
   "source": [
    "#### _Drafts_"
   ]
  },
  {
   "cell_type": "code",
   "execution_count": 143,
   "metadata": {},
   "outputs": [],
   "source": [
    "# ts_uch_columns = ['ALCO', 'k_UCH', 'NPDD', 'n_UCH', 'POL', 'SAFETY_BELT', 'SOP_NPDD', 's_SEAT_GROUP', 's_SM', 's_T', 'v_ST']\n",
    "# ts_info_columns = ['color', 'g_v', 'm_pov', 'm_ts', 'marka_ts', 'n_ts', 'o_pf', 'r_rul', 't_n', 't_ts', 'ts_s']\n",
    "\n",
    "\n",
    "# for name in ts_uch_columns:\n",
    "#     for column in columns:\n",
    "#         if name in column:\n",
    "#             df1 = df1.rename(columns={column: column.replace(name, column_meanings[name])})\n",
    "\n",
    "# for name in ts_info_columns:\n",
    "#     for column in columns:\n",
    "#         if name in column:\n",
    "#             df1 = df1.rename(columns={column: column.replace(name, column_meanings[name])})"
   ]
  },
  {
   "cell_type": "code",
   "execution_count": null,
   "metadata": {},
   "outputs": [],
   "source": [
    "# dor_uniq = df['dor'].unique().tolist()\n",
    "# M_1_dors = list()\n",
    "\n",
    "# for dor in dor_uniq:\n",
    "#     try:\n",
    "#         if 'М-1 ' in dor and 'подъездная' not in dor and 'Подъездная' not in dor:\n",
    "#             M_1_dors.append(dor)\n",
    "#     except TypeError:\n",
    "#         continue\n",
    "\n",
    "# print(M_1_dors)\n",
    "# print(len(M_1_dors))\n",
    "\n",
    "# number = 0\n",
    "# for M_1 in M_1_dors:\n",
    "#     number += df[df['dor'] == M_1].shape[0]\n",
    "# print(number)"
   ]
  }
 ],
 "metadata": {
  "kernelspec": {
   "display_name": "Python 3",
   "language": "python",
   "name": "python3"
  },
  "language_info": {
   "codemirror_mode": {
    "name": "ipython",
    "version": 3
   },
   "file_extension": ".py",
   "mimetype": "text/x-python",
   "name": "python",
   "nbconvert_exporter": "python",
   "pygments_lexer": "ipython3",
   "version": "3.9.7"
  }
 },
 "nbformat": 4,
 "nbformat_minor": 2
}
