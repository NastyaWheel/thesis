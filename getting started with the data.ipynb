{
 "cells": [
  {
   "cell_type": "code",
   "execution_count": 248,
   "metadata": {},
   "outputs": [],
   "source": [
    "import ast\n",
    "\n",
    "import pandas as pd\n",
    "import numpy as np\n",
    "import matplotlib.pyplot as plt\n",
    "\n",
    "from sklearn.preprocessing import LabelEncoder\n",
    "from sklearn.preprocessing import MultiLabelBinarizer\n",
    "\n",
    "from sklearn.metrics import mean_absolute_error\n",
    "from sklearn.model_selection import train_test_split\n",
    "\n",
    "from sklearn.multioutput import MultiOutputRegressor\n",
    "from sklearn.ensemble import GradientBoostingRegressor"
   ]
  },
  {
   "cell_type": "code",
   "execution_count": 249,
   "metadata": {},
   "outputs": [
    {
     "name": "stderr",
     "output_type": "stream",
     "text": [
      "C:\\Users\\Настя\\AppData\\Local\\Temp\\ipykernel_3660\\4109715133.py:1: DtypeWarning: Columns (6,7,28,38,45) have mixed types. Specify dtype option on import or set low_memory=False.\n",
      "  df = pd.read_csv('DTP_DATA_2025.csv')\n"
     ]
    },
    {
     "name": "stdout",
     "output_type": "stream",
     "text": [
      "(1475674, 91)\n"
     ]
    },
    {
     "data": {
      "text/html": [
       "<div>\n",
       "<style scoped>\n",
       "    .dataframe tbody tr th:only-of-type {\n",
       "        vertical-align: middle;\n",
       "    }\n",
       "\n",
       "    .dataframe tbody tr th {\n",
       "        vertical-align: top;\n",
       "    }\n",
       "\n",
       "    .dataframe thead th {\n",
       "        text-align: right;\n",
       "    }\n",
       "</style>\n",
       "<table border=\"1\" class=\"dataframe\">\n",
       "  <thead>\n",
       "    <tr style=\"text-align: right;\">\n",
       "      <th></th>\n",
       "      <th>DTPV</th>\n",
       "      <th>date</th>\n",
       "      <th>district</th>\n",
       "      <th>EMTP_NUMBER</th>\n",
       "      <th>CHOM</th>\n",
       "      <th>COORD_L</th>\n",
       "      <th>COORD_W</th>\n",
       "      <th>dor</th>\n",
       "      <th>dor_k</th>\n",
       "      <th>dor_z</th>\n",
       "      <th>...</th>\n",
       "      <th>num rear-wheel-drive vehicles</th>\n",
       "      <th>num four-wheel-drive vehicles</th>\n",
       "      <th>num guilty objects</th>\n",
       "      <th>share guilty vehicles</th>\n",
       "      <th>fatal traffic violation(s)</th>\n",
       "      <th>num fatal traffic violations</th>\n",
       "      <th>bodily harm</th>\n",
       "      <th>guilty drivers' avg experience</th>\n",
       "      <th>drivers' avg experience</th>\n",
       "      <th>number fatal traffic violations</th>\n",
       "    </tr>\n",
       "  </thead>\n",
       "  <tbody>\n",
       "    <tr>\n",
       "      <th>0</th>\n",
       "      <td>Столкновение</td>\n",
       "      <td>31.01.2015</td>\n",
       "      <td>ЖЕЛЕЗНОДОРОЖНЫЙ</td>\n",
       "      <td>NaN</td>\n",
       "      <td>Движение частично перекрыто</td>\n",
       "      <td>83.740833</td>\n",
       "      <td>53.333056</td>\n",
       "      <td>NaN</td>\n",
       "      <td>NaN</td>\n",
       "      <td>Не указано</td>\n",
       "      <td>...</td>\n",
       "      <td>0</td>\n",
       "      <td>0</td>\n",
       "      <td>1</td>\n",
       "      <td>0.5</td>\n",
       "      <td>{'Другие нарушения ПДД водителем'}</td>\n",
       "      <td>0</td>\n",
       "      <td>{'Раненый, находящийся (находившийся)  на амбу...</td>\n",
       "      <td>15.0</td>\n",
       "      <td>13.0</td>\n",
       "      <td>1</td>\n",
       "    </tr>\n",
       "    <tr>\n",
       "      <th>1</th>\n",
       "      <td>Наезд на пешехода</td>\n",
       "      <td>31.01.2015</td>\n",
       "      <td>АЛЕЙСКИЙ</td>\n",
       "      <td>NaN</td>\n",
       "      <td>Режим движения не изменялся</td>\n",
       "      <td>82.462778</td>\n",
       "      <td>52.245833</td>\n",
       "      <td>А-322 Барнаул - Рубцовск - граница с Республик...</td>\n",
       "      <td>3.0</td>\n",
       "      <td>Федеральная (дорога федерального значения)</td>\n",
       "      <td>...</td>\n",
       "      <td>0</td>\n",
       "      <td>0</td>\n",
       "      <td>1</td>\n",
       "      <td>1.0</td>\n",
       "      <td>{'Нахождение на проезжей части без цели её пер...</td>\n",
       "      <td>0</td>\n",
       "      <td>{'Раненый, находящийся (находившийся) на стаци...</td>\n",
       "      <td>NaN</td>\n",
       "      <td>5.0</td>\n",
       "      <td>1</td>\n",
       "    </tr>\n",
       "    <tr>\n",
       "      <th>2</th>\n",
       "      <td>Наезд на пешехода</td>\n",
       "      <td>31.01.2015</td>\n",
       "      <td>ИНДУСТРИАЛЬНЫЙ</td>\n",
       "      <td>NaN</td>\n",
       "      <td>Движение частично перекрыто</td>\n",
       "      <td>83.501944</td>\n",
       "      <td>53.274167</td>\n",
       "      <td>NaN</td>\n",
       "      <td>NaN</td>\n",
       "      <td>Не указано</td>\n",
       "      <td>...</td>\n",
       "      <td>0</td>\n",
       "      <td>0</td>\n",
       "      <td>2</td>\n",
       "      <td>2.0</td>\n",
       "      <td>{'Переход через проезжую часть вне пешеходного...</td>\n",
       "      <td>0</td>\n",
       "      <td>{'Раненый, находящийся (находившийся)  на амбу...</td>\n",
       "      <td>NaN</td>\n",
       "      <td>17.0</td>\n",
       "      <td>1</td>\n",
       "    </tr>\n",
       "    <tr>\n",
       "      <th>3</th>\n",
       "      <td>Наезд на пешехода</td>\n",
       "      <td>31.01.2015</td>\n",
       "      <td>ЦЕНТРАЛЬНЫЙ</td>\n",
       "      <td>NaN</td>\n",
       "      <td>Режим движения не изменялся</td>\n",
       "      <td>83.251667</td>\n",
       "      <td>53.285278</td>\n",
       "      <td>NaN</td>\n",
       "      <td>NaN</td>\n",
       "      <td>Не указано</td>\n",
       "      <td>...</td>\n",
       "      <td>0</td>\n",
       "      <td>0</td>\n",
       "      <td>1</td>\n",
       "      <td>1.0</td>\n",
       "      <td>{'Переход через проезжую часть вне пешеходного...</td>\n",
       "      <td>0</td>\n",
       "      <td>{'Раненый, находящийся (находившийся)  на амбу...</td>\n",
       "      <td>NaN</td>\n",
       "      <td>27.0</td>\n",
       "      <td>1</td>\n",
       "    </tr>\n",
       "    <tr>\n",
       "      <th>4</th>\n",
       "      <td>Наезд на пешехода</td>\n",
       "      <td>31.01.2015</td>\n",
       "      <td>ИНДУСТРИАЛЬНЫЙ</td>\n",
       "      <td>NaN</td>\n",
       "      <td>Движение частично перекрыто</td>\n",
       "      <td>83.708889</td>\n",
       "      <td>53.318333</td>\n",
       "      <td>NaN</td>\n",
       "      <td>NaN</td>\n",
       "      <td>Не указано</td>\n",
       "      <td>...</td>\n",
       "      <td>0</td>\n",
       "      <td>0</td>\n",
       "      <td>1</td>\n",
       "      <td>1.0</td>\n",
       "      <td>{'Переход через проезжую часть в неустановленн...</td>\n",
       "      <td>0</td>\n",
       "      <td>{'Раненый, находящийся (находившийся) на стаци...</td>\n",
       "      <td>NaN</td>\n",
       "      <td>1.0</td>\n",
       "      <td>1</td>\n",
       "    </tr>\n",
       "  </tbody>\n",
       "</table>\n",
       "<p>5 rows × 91 columns</p>\n",
       "</div>"
      ],
      "text/plain": [
       "                DTPV        date         district  EMTP_NUMBER  \\\n",
       "0       Столкновение  31.01.2015  ЖЕЛЕЗНОДОРОЖНЫЙ          NaN   \n",
       "1  Наезд на пешехода  31.01.2015         АЛЕЙСКИЙ          NaN   \n",
       "2  Наезд на пешехода  31.01.2015   ИНДУСТРИАЛЬНЫЙ          NaN   \n",
       "3  Наезд на пешехода  31.01.2015      ЦЕНТРАЛЬНЫЙ          NaN   \n",
       "4  Наезд на пешехода  31.01.2015   ИНДУСТРИАЛЬНЫЙ          NaN   \n",
       "\n",
       "                          CHOM    COORD_L    COORD_W  \\\n",
       "0  Движение частично перекрыто  83.740833  53.333056   \n",
       "1  Режим движения не изменялся  82.462778  52.245833   \n",
       "2  Движение частично перекрыто  83.501944  53.274167   \n",
       "3  Режим движения не изменялся  83.251667  53.285278   \n",
       "4  Движение частично перекрыто  83.708889  53.318333   \n",
       "\n",
       "                                                 dor  dor_k  \\\n",
       "0                                                NaN    NaN   \n",
       "1  А-322 Барнаул - Рубцовск - граница с Республик...    3.0   \n",
       "2                                                NaN    NaN   \n",
       "3                                                NaN    NaN   \n",
       "4                                                NaN    NaN   \n",
       "\n",
       "                                        dor_z  ...  \\\n",
       "0                                  Не указано  ...   \n",
       "1  Федеральная (дорога федерального значения)  ...   \n",
       "2                                  Не указано  ...   \n",
       "3                                  Не указано  ...   \n",
       "4                                  Не указано  ...   \n",
       "\n",
       "  num rear-wheel-drive vehicles num four-wheel-drive vehicles  \\\n",
       "0                             0                             0   \n",
       "1                             0                             0   \n",
       "2                             0                             0   \n",
       "3                             0                             0   \n",
       "4                             0                             0   \n",
       "\n",
       "  num guilty objects  share guilty vehicles  \\\n",
       "0                  1                    0.5   \n",
       "1                  1                    1.0   \n",
       "2                  2                    2.0   \n",
       "3                  1                    1.0   \n",
       "4                  1                    1.0   \n",
       "\n",
       "                          fatal traffic violation(s)  \\\n",
       "0                 {'Другие нарушения ПДД водителем'}   \n",
       "1  {'Нахождение на проезжей части без цели её пер...   \n",
       "2  {'Переход через проезжую часть вне пешеходного...   \n",
       "3  {'Переход через проезжую часть вне пешеходного...   \n",
       "4  {'Переход через проезжую часть в неустановленн...   \n",
       "\n",
       "  num fatal traffic violations  \\\n",
       "0                            0   \n",
       "1                            0   \n",
       "2                            0   \n",
       "3                            0   \n",
       "4                            0   \n",
       "\n",
       "                                         bodily harm  \\\n",
       "0  {'Раненый, находящийся (находившийся)  на амбу...   \n",
       "1  {'Раненый, находящийся (находившийся) на стаци...   \n",
       "2  {'Раненый, находящийся (находившийся)  на амбу...   \n",
       "3  {'Раненый, находящийся (находившийся)  на амбу...   \n",
       "4  {'Раненый, находящийся (находившийся) на стаци...   \n",
       "\n",
       "  guilty drivers' avg experience drivers' avg experience  \\\n",
       "0                           15.0                    13.0   \n",
       "1                            NaN                     5.0   \n",
       "2                            NaN                    17.0   \n",
       "3                            NaN                    27.0   \n",
       "4                            NaN                     1.0   \n",
       "\n",
       "   number fatal traffic violations  \n",
       "0                                1  \n",
       "1                                1  \n",
       "2                                1  \n",
       "3                                1  \n",
       "4                                1  \n",
       "\n",
       "[5 rows x 91 columns]"
      ]
     },
     "execution_count": 249,
     "metadata": {},
     "output_type": "execute_result"
    }
   ],
   "source": [
    "df = pd.read_csv('DTP_DATA_2025.csv')\n",
    "df = df.drop('Unnamed: 0', axis=1)\n",
    "print(df.shape)\n",
    "features_number = df.shape[1]\n",
    "df.head(5)"
   ]
  },
  {
   "cell_type": "code",
   "execution_count": 250,
   "metadata": {},
   "outputs": [
    {
     "data": {
      "text/plain": [
       "Index(['DTPV', 'date', 'district', 'EMTP_NUMBER', 'CHOM', 'COORD_L', 'COORD_W',\n",
       "       'dor', 'dor_k', 'dor_z', 'factor', 'house', 'k_ul', 'km', 'm', 'NP',\n",
       "       'ndu', 'OBJ_DTP', 'osv', 's_dtp', 's_pch', 'sdor', 'spog', 'street',\n",
       "       'color', 'f_sob', 'g_v', 'm_pov', 'm_ts', 'marka_ts', 'n_ts', 'o_pf',\n",
       "       'r_rul', 't_n', 't_ts', 'ts_s', 'ALCO', 'INJURED_CARD_ID', 'k_UCH',\n",
       "       'NPDD', 'n_UCH', 'POL', 'SAFETY_BELT', 'SOP_NPDD', 's_SEAT_GROUP',\n",
       "       's_SM', 's_T', 'v_ST', 'KTS', 'KUCH', 'kartId', 'POG', 'RAN', 'rowNum',\n",
       "       'time', 'any TV technical failures', 'any non-private vehicles',\n",
       "       'any russian vehicles', 'any white vehicles', 'any black vehicles',\n",
       "       'any colored vehicles', 'any drunk drivers', 'any female drivers',\n",
       "       'any escaped participants', 'any concomitant traffic violations',\n",
       "       'any injuries without safety belt', 'num drunk participants',\n",
       "       'num child restraints', 'num cyclists', 'num pedestrians',\n",
       "       'min vehicles age', 'max vehicles age', 'avg vehicles age',\n",
       "       'num A-class vehicles', 'num B-class vehicles', 'num C-class vehicles',\n",
       "       'num D-class vehicles', 'num E-class vehicles', 'num S-class vehicles',\n",
       "       'num non-car vehicles', 'num front-wheel-drive vehicles',\n",
       "       'num rear-wheel-drive vehicles', 'num four-wheel-drive vehicles',\n",
       "       'num guilty objects', 'share guilty vehicles',\n",
       "       'fatal traffic violation(s)', 'num fatal traffic violations',\n",
       "       'bodily harm', 'guilty drivers' avg experience',\n",
       "       'drivers' avg experience', 'number fatal traffic violations'],\n",
       "      dtype='object')"
      ]
     },
     "execution_count": 250,
     "metadata": {},
     "output_type": "execute_result"
    }
   ],
   "source": [
    "df.columns"
   ]
  },
  {
   "cell_type": "code",
   "execution_count": 251,
   "metadata": {},
   "outputs": [],
   "source": [
    "df = df.drop(['color', 'f_sob', 'g_v', 'm_pov', 'm_ts', 'marka_ts', 'n_ts', 'o_pf',\n",
    "       'r_rul', 't_n', 't_ts', 'ts_s', 'ALCO', 'INJURED_CARD_ID', 'k_UCH',\n",
    "       'NPDD', 'n_UCH', 'POL', 'SAFETY_BELT', 'SOP_NPDD', 's_SEAT_GROUP',\n",
    "       's_SM', 's_T', 'v_ST'], axis=1)\n",
    "\n",
    "# dropped features because they were accidentally included in the DataFrame; \n",
    "# they contain information about the last accident participant and the last vehicle in the XML"
   ]
  },
  {
   "cell_type": "code",
   "execution_count": 252,
   "metadata": {},
   "outputs": [],
   "source": [
    "# just because i didn't think ahead\n",
    "\n",
    "new_column_names = {\n",
    "    \"guilty drivers' avg experience\": \"guilty drivers avg experience\",\n",
    "    \"drivers' avg experience\": \"drivers avg experience\"\n",
    "}\n",
    "\n",
    "df = df.rename(columns=new_column_names)"
   ]
  },
  {
   "cell_type": "code",
   "execution_count": 253,
   "metadata": {},
   "outputs": [
    {
     "data": {
      "text/plain": [
       "Index(['DTPV', 'date', 'district', 'EMTP_NUMBER', 'CHOM', 'COORD_L', 'COORD_W',\n",
       "       'dor', 'dor_k', 'dor_z', 'factor', 'house', 'k_ul', 'km', 'm', 'NP',\n",
       "       'ndu', 'OBJ_DTP', 'osv', 's_dtp', 's_pch', 'sdor', 'spog', 'street',\n",
       "       'KTS', 'KUCH', 'kartId', 'POG', 'RAN', 'rowNum', 'time',\n",
       "       'any TV technical failures', 'any non-private vehicles',\n",
       "       'any russian vehicles', 'any white vehicles', 'any black vehicles',\n",
       "       'any colored vehicles', 'any drunk drivers', 'any female drivers',\n",
       "       'any escaped participants', 'any concomitant traffic violations',\n",
       "       'any injuries without safety belt', 'num drunk participants',\n",
       "       'num child restraints', 'num cyclists', 'num pedestrians',\n",
       "       'min vehicles age', 'max vehicles age', 'avg vehicles age',\n",
       "       'num A-class vehicles', 'num B-class vehicles', 'num C-class vehicles',\n",
       "       'num D-class vehicles', 'num E-class vehicles', 'num S-class vehicles',\n",
       "       'num non-car vehicles', 'num front-wheel-drive vehicles',\n",
       "       'num rear-wheel-drive vehicles', 'num four-wheel-drive vehicles',\n",
       "       'num guilty objects', 'share guilty vehicles',\n",
       "       'fatal traffic violation(s)', 'num fatal traffic violations',\n",
       "       'bodily harm', 'guilty drivers avg experience',\n",
       "       'drivers avg experience', 'number fatal traffic violations'],\n",
       "      dtype='object')"
      ]
     },
     "execution_count": 253,
     "metadata": {},
     "output_type": "execute_result"
    }
   ],
   "source": [
    "df.columns"
   ]
  },
  {
   "cell_type": "code",
   "execution_count": 254,
   "metadata": {},
   "outputs": [
    {
     "name": "stdout",
     "output_type": "stream",
     "text": [
      "Number of observations before processing: 1475674\n"
     ]
    }
   ],
   "source": [
    "print(f\"Number of observations before processing: {df.shape[0]}\")"
   ]
  },
  {
   "cell_type": "markdown",
   "metadata": {},
   "source": [
    "### Meanings of columns"
   ]
  },
  {
   "cell_type": "code",
   "execution_count": 255,
   "metadata": {},
   "outputs": [],
   "source": [
    "column_meanings = {\n",
    "    'DTPV': 'RTA type',\n",
    "    # 'date',\n",
    "    # 'district',\n",
    "    'EMTP_NUMBER': 'RTA number', # its meaning is similar to kartId\n",
    "    'CHOM': 'info about changes in traffic',\n",
    "    'dor': 'road name',\n",
    "    'dor_k': 'road category',\n",
    "    'dor_z': 'road significance',\n",
    "    'factor': 'factors influencing the traffic',\n",
    "    # 'house',\n",
    "    'k_ul': 'street significance',\n",
    "    'km': 'RTA road km',\n",
    "    'm': 'RTA road m',\n",
    "    'NP': 'human settlement',\n",
    "    'ndu': 'defects of the road network transport and operational maintenance',\n",
    "    'OBJ_DTP': 'road network objects near RTA',\n",
    "    'osv': 'lighting',\n",
    "    's_dtp': '', # dk what is it \n",
    "    's_pch': 'road surface condition',\n",
    "    'sdor': 'road network objects at the scene of RTA',\n",
    "    'spog': 'weather',\n",
    "    # 'street',\n",
    "    # -----------------------------------------------------------------------------\n",
    "    # (info about every vehicle, was not save as column)\n",
    "    'color': 'vehicle color',\n",
    "    'f_sob': 'form of ownership', # it is not displayed in pdf version\n",
    "    'g_v': 'vehicle year of release',\n",
    "    'm_pov': 'vehicle damage place',\n",
    "    'm_ts': 'vehicle model',\n",
    "    'marka_ts': 'vehicle brand',\n",
    "    'n_ts': 'vehicle number in RTA',\n",
    "    'o_pf': 'form of ownership', # similar to f_sob in meaning, but has other values, f_sob was preferred it\n",
    "    'r_rul': 'steering position',\n",
    "    't_n': 'vehicle technical failure',\n",
    "    't_ts': 'vehicle class',\n",
    "    'ts_s': 'info about vehicle leaving a RTA place',\n",
    "    # (info about every participant, was not save as column)\n",
    "    'ALCO': 'ppm',\n",
    "    'INJURED_CARD_ID': '', # dk what is it\n",
    "    'k_UCH': 'participant category',\n",
    "    'NPDD': 'direct traffic violations',\n",
    "    'n_UCH': 'participant number',\n",
    "    'POL': 'gender',\n",
    "    'SAFETY_BELT': 'safety belt',\n",
    "    'SOP_NPDD': 'concomitant traffic violations',\n",
    "    's_SEAT_GROUP': 'type of child restraint',\n",
    "    's_SM': 'info about participant leaving a RTA place',\n",
    "    's_T': 'severity of the consequences',\n",
    "    'v_ST': 'driving experience',\n",
    "    # ---------------------------------------------------------------------\n",
    "    # (general RTA info again)\n",
    "    'KTS': 'number of vehicle in RTA',\n",
    "    'KUCH': 'number of participants in RTA',\n",
    "    'kartId': 'RTA ID', # it is not displayed in pdf version\n",
    "    'POG': 'number of deaths',\n",
    "    'RAN': 'number of wounded',\n",
    "    # 'rowNum',\n",
    "    # 'time'\n",
    "}"
   ]
  },
  {
   "cell_type": "markdown",
   "metadata": {},
   "source": [
    "## Processing the data gaps"
   ]
  },
  {
   "cell_type": "code",
   "execution_count": 256,
   "metadata": {},
   "outputs": [
    {
     "name": "stdout",
     "output_type": "stream",
     "text": [
      "1. EMTP_NUMBER\n",
      "2. CHOM\n",
      "3. COORD_L\n",
      "4. COORD_W\n",
      "5. dor\n",
      "6. dor_k\n",
      "7. house\n",
      "8. k_ul\n",
      "9. km\n",
      "10. m\n",
      "11. NP\n",
      "12. street\n",
      "13. min vehicles age\n",
      "14. max vehicles age\n",
      "15. avg vehicles age\n",
      "16. guilty drivers avg experience\n"
     ]
    }
   ],
   "source": [
    "features_with_gaps = df.columns[df.isna().any()].tolist()\n",
    "# print(features_with_gaps)\n",
    "\n",
    "for i, col in enumerate(features_with_gaps, start=1):\n",
    "    print(f\"{i}. {col}\")"
   ]
  },
  {
   "cell_type": "markdown",
   "metadata": {},
   "source": [
    "We don't need every feature, so let's create a list of columns to drop and update it as needed."
   ]
  },
  {
   "cell_type": "code",
   "execution_count": 257,
   "metadata": {},
   "outputs": [],
   "source": [
    "drop_columns = ['district', 'house', 'street', 'rowNum', 'km', 'm']\n",
    "# drop_columns = ['district', 'house', 'street', 'rowNum', 'm']\n",
    "# will be dropped because they are irrelevant to our task"
   ]
  },
  {
   "cell_type": "markdown",
   "metadata": {},
   "source": [
    "__EMTP_NUMBER vs kartId__: `kartId` was chosen as an accident ID\n",
    "\n",
    "`kartId` does not appear in the PDF but is present in the XML and serves the same function as `EMTP_NUMBER`, so we need to choose between them."
   ]
  },
  {
   "cell_type": "code",
   "execution_count": 258,
   "metadata": {},
   "outputs": [
    {
     "name": "stdout",
     "output_type": "stream",
     "text": [
      "EMTP_NUMBER gaps: 823047\n",
      "kartId gaps: 0\n"
     ]
    }
   ],
   "source": [
    "print(f\"EMTP_NUMBER gaps: {df['EMTP_NUMBER'].isna().sum()}\")\n",
    "print(f\"kartId gaps: {df['kartId'].isna().sum()}\")\n",
    "\n",
    "# drop EMTP_NUMBER, it's fulled of nan\n",
    "\n",
    "drop_columns.append('EMTP_NUMBER')"
   ]
  },
  {
   "cell_type": "markdown",
   "metadata": {},
   "source": [
    "__CHOM__: 2 objects were dropped"
   ]
  },
  {
   "cell_type": "code",
   "execution_count": 259,
   "metadata": {},
   "outputs": [
    {
     "name": "stdout",
     "output_type": "stream",
     "text": [
      "CHOM gaps: 2\n",
      "Objects left: 1475672\n"
     ]
    }
   ],
   "source": [
    "print(f\"CHOM gaps: {df['CHOM'].isna().sum()}\")\n",
    "\n",
    "df = df[df['CHOM'].notna()]\n",
    "print(f\"Objects left: {df.shape[0]}\")"
   ]
  },
  {
   "cell_type": "markdown",
   "metadata": {},
   "source": [
    "__COORD_L and COORD_W:__"
   ]
  },
  {
   "cell_type": "code",
   "execution_count": 260,
   "metadata": {},
   "outputs": [
    {
     "data": {
      "text/plain": [
       "COORD_L    float64\n",
       "COORD_W    float64\n",
       "dtype: object"
      ]
     },
     "execution_count": 260,
     "metadata": {},
     "output_type": "execute_result"
    }
   ],
   "source": [
    "df[['COORD_L', 'COORD_W']].dtypes\n",
    "\n",
    "# turn into float64\n",
    "df['COORD_L'] = pd.to_numeric(df['COORD_L'], errors='coerce')\n",
    "df['COORD_W'] = pd.to_numeric(df['COORD_W'], errors='coerce')\n",
    "\n",
    "df[['COORD_L', 'COORD_W']].dtypes"
   ]
  },
  {
   "cell_type": "markdown",
   "metadata": {},
   "source": [
    "Begin with analyzing columns gaps: 15 objects were dropped"
   ]
  },
  {
   "cell_type": "code",
   "execution_count": 261,
   "metadata": {},
   "outputs": [
    {
     "name": "stdout",
     "output_type": "stream",
     "text": [
      "COORD_L gaps: 166\n",
      "COORD_W gaps: 156\n",
      "COORD_L and COORD_W common gaps: 167\n",
      "COORD_L gaps: 0\n",
      "COORD_W gaps: 0\n",
      "Objects left: 1475505\n"
     ]
    }
   ],
   "source": [
    "L_ind = set(df[df['COORD_L'].isna()]['kartId'])\n",
    "W_ind = set(df[df['COORD_W'].isna()]['kartId'])\n",
    "common_gaps = L_ind | W_ind\n",
    "\n",
    "print(f\"COORD_L gaps: {df['COORD_L'].isna().sum()}\")\n",
    "print(f\"COORD_W gaps: {df['COORD_W'].isna().sum()}\")\n",
    "print(f\"COORD_L and COORD_W common gaps: {len(common_gaps)}\")\n",
    "\n",
    "df = df[(df['COORD_L'].notna()) & (df['COORD_W'].notna())]\n",
    "print(f\"COORD_L gaps: {df['COORD_L'].isna().sum()}\")\n",
    "print(f\"COORD_W gaps: {df['COORD_W'].isna().sum()}\")\n",
    "print(f\"Objects left: {df.shape[0]}\")"
   ]
  },
  {
   "cell_type": "markdown",
   "metadata": {},
   "source": [
    "### **dor, dor_k:** key features in our analysis"
   ]
  },
  {
   "cell_type": "markdown",
   "metadata": {},
   "source": [
    "__dor and dor_k:__ 930.003 common gaps"
   ]
  },
  {
   "cell_type": "markdown",
   "metadata": {},
   "source": [
    "Why `dor` is a key feature?\n",
    "- contains road names\n",
    "- will allow to identify accidents on toll roads (here you can find [the list of toll roads in Russia](https://avtodor-tr.ru/road/))\n",
    "- so we can create binary key feature `toll road`"
   ]
  },
  {
   "cell_type": "code",
   "execution_count": 262,
   "metadata": {},
   "outputs": [
    {
     "name": "stdout",
     "output_type": "stream",
     "text": [
      "Gaps in dor: 964910\n",
      "Gaps in dor_k: 971592\n",
      "Dor and dor_k common gaps: 977475\n"
     ]
    }
   ],
   "source": [
    "print(f\"Gaps in dor: {df['dor'].isna().sum()}\")\n",
    "print(f\"Gaps in dor_k: {df['dor_k'].isna().sum()}\")\n",
    "\n",
    "dor_ind = set(df[df['dor'].isna()]['kartId'])\n",
    "dor_k_ind = set(df[df['dor_k'].isna()]['kartId'])\n",
    "common_gaps = dor_ind | dor_k_ind\n",
    "\n",
    "print(f\"Dor and dor_k common gaps: {len(common_gaps)}\")"
   ]
  },
  {
   "cell_type": "code",
   "execution_count": 263,
   "metadata": {},
   "outputs": [
    {
     "name": "stdout",
     "output_type": "stream",
     "text": [
      "Observations left after deleting NaN in 'dor' feature: 510595\n"
     ]
    }
   ],
   "source": [
    "# now we are not going to fill the gaps (do it later), so drop NaN\n",
    "\n",
    "df = df[df['dor'].notna()]\n",
    "print(f\"Observations left after deleting NaN in 'dor' feature: {df.shape[0]}\")"
   ]
  },
  {
   "cell_type": "markdown",
   "metadata": {},
   "source": [
    "Don't drop NaN for flexibility in further work."
   ]
  },
  {
   "cell_type": "markdown",
   "metadata": {},
   "source": [
    "__k_ul:__ replace nan by new value"
   ]
  },
  {
   "cell_type": "code",
   "execution_count": 264,
   "metadata": {},
   "outputs": [
    {
     "name": "stdout",
     "output_type": "stream",
     "text": [
      "k_ul gaps: 127857\n",
      "street gaps: 472593\n",
      "k_ul gaps left: 0\n"
     ]
    }
   ],
   "source": [
    "print(f\"k_ul gaps: {df['k_ul'].isna().sum()}\")\n",
    "print(f\"street gaps: {df['street'].isna().sum()}\")\n",
    "\n",
    "# Can't try to fill the k_ul gaps by street values, cause the number of nan in street is much bigger.\n",
    "# Replace nan by 'Назначение неизвестно'\n",
    "\n",
    "df['k_ul'] = df['k_ul'].fillna('Назначение неизвестно')\n",
    "print(f\"k_ul gaps left: {df['k_ul'].isna().sum()}\")"
   ]
  },
  {
   "cell_type": "markdown",
   "metadata": {},
   "source": [
    "__guilty drivers' average experience:__ 145498 objects were deleted"
   ]
  },
  {
   "cell_type": "code",
   "execution_count": 265,
   "metadata": {},
   "outputs": [
    {
     "name": "stdout",
     "output_type": "stream",
     "text": [
      "guilty drivers avg experience gaps: 37401\n",
      "Objects left: 473194\n"
     ]
    }
   ],
   "source": [
    "print(f\"guilty drivers avg experience gaps: {df['guilty drivers avg experience'].isna().sum()}\")\n",
    "\n",
    "df = df[df['guilty drivers avg experience'].notna()]\n",
    "print(f\"Objects left: {df.shape[0]}\")"
   ]
  },
  {
   "cell_type": "markdown",
   "metadata": {},
   "source": [
    "__min vehicles age, max vehicles age, avg vehicles age:__ will be filled by ML algorithm later"
   ]
  },
  {
   "cell_type": "code",
   "execution_count": 266,
   "metadata": {},
   "outputs": [
    {
     "name": "stdout",
     "output_type": "stream",
     "text": [
      "Gaps in min vehicles age: 6208\n",
      "Gaps in max vehicles age: 6208\n",
      "Gaps in avg vehicles age: 6208\n",
      "Common gaps: 6208\n"
     ]
    }
   ],
   "source": [
    "print(f\"Gaps in min vehicles age: {df['min vehicles age'].isna().sum()}\")\n",
    "print(f\"Gaps in max vehicles age: {df['max vehicles age'].isna().sum()}\")\n",
    "print(f\"Gaps in avg vehicles age: {df['avg vehicles age'].isna().sum()}\")\n",
    "\n",
    "min_ind = set(df[df['min vehicles age'].isna()]['kartId'])\n",
    "max_ind = set(df[df['max vehicles age'].isna()]['kartId'])\n",
    "avg_ind = set(df[df['avg vehicles age'].isna()]['kartId'])\n",
    "common_gaps = min_ind | max_ind | avg_ind\n",
    "\n",
    "print(f\"Common gaps: {len(common_gaps)}\")"
   ]
  },
  {
   "cell_type": "markdown",
   "metadata": {},
   "source": [
    "Wi will train a model that will predict missing values ​​based on other features below."
   ]
  },
  {
   "cell_type": "markdown",
   "metadata": {},
   "source": [
    "#### **Lyrical digression and NP:** why it is useless and will be deleted"
   ]
  },
  {
   "cell_type": "code",
   "execution_count": 267,
   "metadata": {},
   "outputs": [
    {
     "name": "stdout",
     "output_type": "stream",
     "text": [
      "NP gaps: 358663\n"
     ]
    }
   ],
   "source": [
    "print(f\"NP gaps: {df['NP'].isna().sum()}\")"
   ]
  },
  {
   "cell_type": "markdown",
   "metadata": {},
   "source": [
    "`NP` contains only (compared to `dor`) 388.721 gaps and had a potential to be a key feature."
   ]
  },
  {
   "cell_type": "markdown",
   "metadata": {},
   "source": [
    "Why `NP` could be a key feature?\n",
    "- the aim of the thesis is not only to analyze toll roads but also to compare them with free roads in Russia\n",
    "- toll roads in Russia are mostly highways, which makes them very different from accidents occurring within cities (due to different conditions, speed limits, etc.)\n",
    "- for a correct analysis, accidents that occurred in populated areas must be excluded from the DataFrame\n",
    "- identifying these areas using NP could help achieve this\n",
    "\n",
    "Why it is NOT?\n",
    "- because the feature doesn't work tha way it should\n",
    "- according to its intended meaning, `NP` should either: \n",
    "\n",
    "(1) contain names of populated areas with non-populated areas represented as NaN or \n",
    "\n",
    "(2) include names of populated areas and a clear label for non-populated areas (e.g., \"not NP\" or \"highway\")\n",
    "\n",
    "- in reality, `NP` contains both names of populated areas and labels for non-populated areas, but these labels account for less than 0.2% of the non-NaN observations in `NP`\n",
    "- as a result, the column primarily reflects the names of populated areas nearest to the accident location — even when the accident occurred on a highway\n",
    "- this makes the feature completely useless for the analysis objectives, as it does not reliably distinguish between accidents in populated and non-populated areas"
   ]
  },
  {
   "cell_type": "code",
   "execution_count": 268,
   "metadata": {},
   "outputs": [
    {
     "name": "stdout",
     "output_type": "stream",
     "text": [
      "Number of observations without gaps in 'NP', where 'NP' values are not considered as populated areas: 275\n",
      "-----\n",
      " \n",
      "M-1 highway found in non_NP_obs DataFrame: 0\n",
      "Spoiler: the number will be the same for every toll road\n",
      "-----\n",
      " \n",
      "M-1 highway found in full DataFrame: 1642\n",
      "-----\n",
      " \n",
      "The M-1 toll road unique NP values (M-1 road is a highway):\n"
     ]
    },
    {
     "data": {
      "text/plain": [
       "array(['г Москва', 'г Кубинка', 'д Ляхово', 'с/п Новоивановское',\n",
       "       'с/п Успенское', 'рп Новоивановское', 'д Барвиха', 'д Бутынь',\n",
       "       'г Одинцово', 'г Клин', 'дп Лесной Городок', 'д Немчиново',\n",
       "       'д Вырубово', 'с Жаворонки', 'д Красная Горка', 'д Каменка',\n",
       "       'г Ярцево', 'д Анохово', 'г Гагарин'], dtype=object)"
      ]
     },
     "execution_count": 268,
     "metadata": {},
     "output_type": "execute_result"
    }
   ],
   "source": [
    "np_marks_list = [\n",
    "    'г ', 'д ', 'п ', 'с ', 'х ', 'ст-ца ', 'аал ', 'аул ', 'массив ', 'мкр ', \n",
    "    'пгт ', 'починок ', 'сл ', 'ст ', 'поселение ', 'жилрайон ', 'городок ', 'заимка ', 'м ', 'у'\n",
    "    ]           # compiled by the method of analyzing unique 'NP' feature values\n",
    "\n",
    "non_missing_np = df[df['NP'].notna()]\n",
    "not_np_unique = non_missing_np['NP'].unique().tolist()\n",
    "not_np_unique = sorted(not_np_unique)\n",
    "\n",
    "for np in not_np_unique[:]:\n",
    "    for np_mark in np_marks_list:\n",
    "        if np_mark in np:\n",
    "            not_np_unique.remove(np)\n",
    "            break\n",
    "\n",
    "non_NP_obs = df[df['NP'].isin(not_np_unique)]\n",
    "print(f\"Number of observations without gaps in 'NP', where 'NP' values are not considered as populated areas: {non_NP_obs.shape[0]}\")\n",
    "print('-----')\n",
    "print(' ')\n",
    "\n",
    "# and if we try to find any highway in this DataFrame we'll fail:\n",
    "\n",
    "dor_uniq = df['dor'].unique().tolist()\n",
    "M_1_dors = list()\n",
    "\n",
    "for dor in dor_uniq:\n",
    "    try:\n",
    "        if 'М-1 ' in dor and 'подъездная' not in dor and 'Подъездная' not in dor:\n",
    "            M_1_dors.append(dor)\n",
    "    except TypeError:\n",
    "        continue\n",
    "\n",
    "M1_df = non_NP_obs[non_NP_obs['dor'].isin(M_1_dors)]\n",
    "print(f\"M-1 highway found in non_NP_obs DataFrame: {M1_df.shape[0]}\")\n",
    "print('Spoiler: the number will be the same for every toll road')\n",
    "print('-----')\n",
    "print(' ')\n",
    "\n",
    "# and in full DataFrame:\n",
    "\n",
    "M1_df = df[df['dor'].isin(M_1_dors)]\n",
    "print(f\"M-1 highway found in full DataFrame: {M1_df.shape[0]}\")\n",
    "print('-----')\n",
    "print(' ')\n",
    "\n",
    "# analyzing the 'NP' values of M-1 toll road observations and finding out the 'NP' uselesness\n",
    "\n",
    "print('The M-1 toll road unique NP values (M-1 road is a highway):')\n",
    "M1_df[M1_df['NP'].notna()]['NP'].unique()"
   ]
  },
  {
   "cell_type": "code",
   "execution_count": 269,
   "metadata": {},
   "outputs": [],
   "source": [
    "drop_columns.append('NP')"
   ]
  },
  {
   "cell_type": "markdown",
   "metadata": {},
   "source": [
    "## Processing categorical features"
   ]
  },
  {
   "cell_type": "markdown",
   "metadata": {},
   "source": [
    "Which features are categorical?"
   ]
  },
  {
   "cell_type": "code",
   "execution_count": 270,
   "metadata": {},
   "outputs": [
    {
     "name": "stdout",
     "output_type": "stream",
     "text": [
      "1. OBJ_DTP — road network objects near RTA\n",
      "2. bodily harm — ...\n",
      "3. ndu — defects of the road network transport and operational maintenance\n",
      "4. osv — lighting\n",
      "5. fatal traffic violation(s) — ...\n",
      "6. factor — factors influencing the traffic\n",
      "7. s_pch — road surface condition\n",
      "8. DTPV — RTA type\n",
      "9. k_ul — street significance\n",
      "10. dor_z — road significance\n",
      "11. sdor — road network objects at the scene of RTA\n",
      "12. spog — weather\n",
      "13. CHOM — info about changes in traffic\n"
     ]
    }
   ],
   "source": [
    "cat_cols = df.select_dtypes(include=['object']).columns\n",
    "non_cat_cols = ['COORD_L', 'COORD_W', 'date', 'time']\n",
    "non_cat_cols.append('dor')      # road names will be necessary on further steps\n",
    "cat_cols = list(set(cat_cols) - set(drop_columns) - set(non_cat_cols))      # do not proceed unnecessary features\n",
    "\n",
    "for i, col in enumerate(cat_cols, start=1):\n",
    "    meaning = column_meanings.get(col, \"...\")     # there was a dct with column meanings above\n",
    "    print(f\"{i}. {col} — {meaning}\")"
   ]
  },
  {
   "cell_type": "markdown",
   "metadata": {},
   "source": [
    "We will handle each categorical feature manually to ensure consistent labeling and avoid issues caused by duplicates, typos, or overly detailed values that should be grouped together."
   ]
  },
  {
   "cell_type": "markdown",
   "metadata": {},
   "source": [
    "---\n",
    "\n",
    "**1. dor_z — road significance**"
   ]
  },
  {
   "cell_type": "code",
   "execution_count": 271,
   "metadata": {},
   "outputs": [
    {
     "data": {
      "text/plain": [
       "['Другие места',\n",
       " 'Иная дорога',\n",
       " 'Местного значения (дорога местного значения, включая относящиеся к собственности поселений, муниципальных районов, городских округов)',\n",
       " 'Местного значения (дороги местного значения, включая относящиеся к собственности поселений, муниципальных районов, городских округов)',\n",
       " 'Не указано',\n",
       " 'Региональная или межмуниципальная (дорога регионального или межмуниципального значения)',\n",
       " 'Федеральная (дорога федерального значения)',\n",
       " 'Частная (дорога, относящиеся к частной и иным формам собственности)',\n",
       " 'Частная (дороги, относящиеся к частной и иным формам собственности)']"
      ]
     },
     "execution_count": 271,
     "metadata": {},
     "output_type": "execute_result"
    }
   ],
   "source": [
    "sorted(df['dor_z'].unique())"
   ]
  },
  {
   "cell_type": "code",
   "execution_count": 272,
   "metadata": {},
   "outputs": [
    {
     "data": {
      "text/plain": [
       "['Другое',\n",
       " 'Местного значения',\n",
       " 'Не указано',\n",
       " 'Региональная или межмуниципальная',\n",
       " 'Федеральная',\n",
       " 'Частная']"
      ]
     },
     "execution_count": 272,
     "metadata": {},
     "output_type": "execute_result"
    }
   ],
   "source": [
    "replace_map = {\n",
    "    'Региональная или межмуниципальная (дорога регионального или межмуниципального значения)': 'Региональная или межмуниципальная',\n",
    "    'Федеральная (дорога федерального значения)': 'Федеральная',\n",
    "    'Местного значения (дороги местного значения, включая относящиеся к собственности поселений, муниципальных районов, городских округов)': 'Местного значения',\n",
    "    'Местного значения (дорога местного значения, включая относящиеся к собственности поселений, муниципальных районов, городских округов)': 'Местного значения',\n",
    "    'Частная (дороги, относящиеся к частной и иным формам собственности)': 'Частная',\n",
    "    'Частная (дорога, относящиеся к частной и иным формам собственности)': 'Частная',\n",
    "    'Другие места': 'Другое',\n",
    "    'Иная дорога': 'Другое',\n",
    "    'Не указано': 'Не указано'\n",
    "}\n",
    "\n",
    "df['dor_z'] = df['dor_z'].replace(replace_map)\n",
    "sorted(df['dor_z'].unique())"
   ]
  },
  {
   "cell_type": "code",
   "execution_count": 273,
   "metadata": {},
   "outputs": [],
   "source": [
    "le = LabelEncoder()\n",
    "df['dor_z_cat'] = le.fit_transform(df['dor_z'])"
   ]
  },
  {
   "cell_type": "markdown",
   "metadata": {},
   "source": [
    "---\n",
    "\n",
    "**2. ndu — defects of the road network transport and operational maintenance**"
   ]
  },
  {
   "cell_type": "code",
   "execution_count": 274,
   "metadata": {},
   "outputs": [
    {
     "data": {
      "text/plain": [
       "['Дефекты покрытия',\n",
       " 'Иные недостатки',\n",
       " 'Нарушения в размещении наружной рекламы',\n",
       " 'Не установлены',\n",
       " 'Недостатки зимнего содержания',\n",
       " 'Недостаточное освещение',\n",
       " 'Неисправное освещение',\n",
       " 'Неисправность светофора',\n",
       " 'Неправильное применение, плохая видимость дорожных знаков',\n",
       " 'Неровное покрытие',\n",
       " 'Несоответствие дорожных ограждений предъявляемым требованиям',\n",
       " 'Несоответствие железнодорожного переезда предъявляемым требованиям',\n",
       " 'Несоответствие люков смотровых колодцев и ливневой канализации предъявляемым требованиям',\n",
       " 'Неудовлетворительное состояние обочин',\n",
       " 'Неудовлетворительное состояние разделительной полосы',\n",
       " 'Низкие сцепные качества покрытия',\n",
       " 'Ограничение видимости',\n",
       " 'Отклонение верха головки рельса трамвайных (железнодорожных) путей, расположенных в пределах проезжей части, относительно покрытия, более чем на 2,0 см',\n",
       " 'Отсутствие временных ТСОД в местах проведения работ',\n",
       " 'Отсутствие дорожных знаков в необходимых местах',\n",
       " 'Отсутствие дорожных ограждений в необходимых местах',\n",
       " 'Отсутствие направляющих устройств и световозвращающих элементов на них',\n",
       " 'Отсутствие освещения',\n",
       " 'Отсутствие пешеходных ограждений в необходимых местах',\n",
       " 'Отсутствие тротуаров (пешеходных дорожек)',\n",
       " 'Отсутствие элементов обустройства остановочного пункта общественного пассажирского транспорта',\n",
       " 'Отсутствие, плохая различимость вертикальной разметки',\n",
       " 'Отсутствие, плохая различимость горизонтальной разметки проезжей части',\n",
       " 'Плохая видимость световозвращателей, размещенных на дорожных ограждениях',\n",
       " 'Плохая видимость светофора',\n",
       " 'Сужение проезжей части, наличие препятствий, затрудняющих движение транспортных средств']"
      ]
     },
     "execution_count": 274,
     "metadata": {},
     "output_type": "execute_result"
    }
   ],
   "source": [
    "sorted(df['ndu'].unique())"
   ]
  },
  {
   "cell_type": "code",
   "execution_count": 275,
   "metadata": {},
   "outputs": [
    {
     "data": {
      "text/plain": [
       "['Видимость',\n",
       " 'Дорожные знаки',\n",
       " 'Зимнее содержание',\n",
       " 'Люки и колодцы',\n",
       " 'Наружная реклама',\n",
       " 'Не указано',\n",
       " 'Обочины и разделительные полосы',\n",
       " 'Ограждения',\n",
       " 'Освещение',\n",
       " 'Отсутствие ТСОД',\n",
       " 'Переезды и ж/д инфраструктура',\n",
       " 'Пешеходная инфраструктура',\n",
       " 'Покрытие',\n",
       " 'Прочее',\n",
       " 'Разметка']"
      ]
     },
     "execution_count": 275,
     "metadata": {},
     "output_type": "execute_result"
    }
   ],
   "source": [
    "replace_map = {\n",
    "    # Lighting and traffic lights\n",
    "    'Недостаточное освещение': 'Освещение',\n",
    "    'Неисправное освещение': 'Освещение',\n",
    "    'Отсутствие освещения': 'Освещение',\n",
    "    'Плохая видимость светофора': 'Освещение',\n",
    "    'Неисправность светофора': 'Освещение',\n",
    "\n",
    "    # Pavement and roadway\n",
    "    'Дефекты покрытия': 'Покрытие',\n",
    "    'Неровное покрытие': 'Покрытие',\n",
    "    'Низкие сцепные качества покрытия': 'Покрытие',\n",
    "    'Сужение проезжей части, наличие препятствий, затрудняющих движение транспортных средств': 'Покрытие',\n",
    "    'Отклонение верха головки рельса трамвайных (железнодорожных) путей, расположенных в пределах проезжей части, относительно покрытия, более чем на 2,0 см': 'Покрытие',\n",
    "\n",
    "    # Markup\n",
    "    'Отсутствие, плохая различимость вертикальной разметки': 'Разметка',\n",
    "    'Отсутствие, плохая различимость горизонтальной разметки проезжей части': 'Разметка',\n",
    "\n",
    "    # Signs\n",
    "    'Отсутствие дорожных знаков в необходимых местах': 'Дорожные знаки',\n",
    "    'Неправильное применение, плохая видимость дорожных знаков': 'Дорожные знаки',\n",
    "\n",
    "    # Fences and devices\n",
    "    'Отсутствие дорожных ограждений в необходимых местах': 'Ограждения',\n",
    "    'Отсутствие пешеходных ограждений в необходимых местах': 'Ограждения',\n",
    "    'Плохая видимость световозвращателей, размещенных на дорожных ограждениях': 'Ограждения',\n",
    "    'Отсутствие направляющих устройств и световозвращающих элементов на них': 'Ограждения',\n",
    "\n",
    "    # Sidewalks, bus stops\n",
    "    'Отсутствие тротуаров (пешеходных дорожек)': 'Пешеходная инфраструктура',\n",
    "    'Отсутствие элементов обустройства остановочного пункта общественного пассажирского транспорта': 'Пешеходная инфраструктура',\n",
    "\n",
    "    # Road shoulders and median strips\n",
    "    'Неудовлетворительное состояние обочин': 'Обочины и разделительные полосы',\n",
    "    'Неудовлетворительное состояние разделительной полосы': 'Обочины и разделительные полосы',\n",
    "\n",
    "    # Railway, manholes, crossings\n",
    "    'Несоответствие железнодорожного переезда предъявляемым требованиям': 'Переезды и ж/д инфраструктура',\n",
    "    'Несоответствие люков смотровых колодцев и ливневой канализации предъявляемым требованиям': 'Люки и колодцы',\n",
    "    \n",
    "    # Other\n",
    "    'Отсутствие временных ТСОД в местах проведения работ': 'Отсутствие ТСОД',\n",
    "    'Нарушения в размещении наружной рекламы': 'Наружная реклама',\n",
    "    'Недостатки зимнего содержания': 'Зимнее содержание',\n",
    "    'Несоответствие дорожных ограждений предъявляемым требованиям': 'Ограждения',\n",
    "    'Ограничение видимости': 'Видимость',\n",
    "    'Иные недостатки': 'Прочее',\n",
    "    'Не установлены': 'Не указано'\n",
    "}\n",
    "\n",
    "df['ndu'] = df['ndu'].replace(replace_map)\n",
    "sorted(df['ndu'].unique())"
   ]
  },
  {
   "cell_type": "code",
   "execution_count": 276,
   "metadata": {},
   "outputs": [],
   "source": [
    "le = LabelEncoder()\n",
    "df['ndu_cat'] = le.fit_transform(df['ndu'])"
   ]
  },
  {
   "cell_type": "markdown",
   "metadata": {},
   "source": [
    "---\n",
    "**3. CHOM — info about changes in traffic**"
   ]
  },
  {
   "cell_type": "code",
   "execution_count": 277,
   "metadata": {},
   "outputs": [
    {
     "data": {
      "text/plain": [
       "['Движение полностью перекрыто',\n",
       " 'Движение частично перекрыто',\n",
       " 'Режим движения не изменялся']"
      ]
     },
     "execution_count": 277,
     "metadata": {},
     "output_type": "execute_result"
    }
   ],
   "source": [
    "sorted(df['CHOM'].unique())"
   ]
  },
  {
   "cell_type": "code",
   "execution_count": 278,
   "metadata": {},
   "outputs": [],
   "source": [
    "le = LabelEncoder()\n",
    "df['CHOM_cat'] = le.fit_transform(df['CHOM'])"
   ]
  },
  {
   "cell_type": "markdown",
   "metadata": {},
   "source": [
    "---\n",
    "**4. s_pch — road surface condition**"
   ]
  },
  {
   "cell_type": "code",
   "execution_count": 279,
   "metadata": {},
   "outputs": [
    {
     "data": {
      "text/plain": [
       "['Гололедица',\n",
       " 'Загрязненное',\n",
       " 'Залитое (покрытое) водой',\n",
       " 'Заснеженное',\n",
       " 'Мокрое',\n",
       " 'Не установлено',\n",
       " 'Обработанное противогололедными материалами',\n",
       " 'Пыльное',\n",
       " 'Свежеуложенная поверхностная обработка',\n",
       " 'Со снежным накатом',\n",
       " 'Сухое']"
      ]
     },
     "execution_count": 279,
     "metadata": {},
     "output_type": "execute_result"
    }
   ],
   "source": [
    "sorted(df['s_pch'].unique())"
   ]
  },
  {
   "cell_type": "code",
   "execution_count": 280,
   "metadata": {},
   "outputs": [
    {
     "data": {
      "text/plain": [
       "['Гололед',\n",
       " 'Заснеженное',\n",
       " 'Мокрое',\n",
       " 'Не указано',\n",
       " 'Обработанное',\n",
       " 'Обработка',\n",
       " 'Пыльное',\n",
       " 'Сухое']"
      ]
     },
     "execution_count": 280,
     "metadata": {},
     "output_type": "execute_result"
    }
   ],
   "source": [
    "replace_map = {\n",
    "    'Сухое': 'Сухое',\n",
    "    \n",
    "    'Мокрое': 'Мокрое',\n",
    "    'Залитое (покрытое) водой': 'Мокрое',\n",
    "    \n",
    "    'Заснеженное': 'Заснеженное',\n",
    "    'Со снежным накатом': 'Заснеженное',\n",
    "    'Гололедица': 'Гололед',\n",
    "    \n",
    "    'Обработанное противогололедными материалами': 'Обработанное',\n",
    "    \n",
    "    'Пыльное': 'Пыльное',\n",
    "    'Загрязненное': 'Пыльное',\n",
    "    \n",
    "    'Свежеуложенная поверхностная обработка': 'Обработка',\n",
    "    \n",
    "    'Не установлено': 'Не указано'\n",
    "}\n",
    "\n",
    "df['s_pch'] = df['s_pch'].replace(replace_map)\n",
    "sorted(df['s_pch'].unique())"
   ]
  },
  {
   "cell_type": "code",
   "execution_count": 281,
   "metadata": {},
   "outputs": [],
   "source": [
    "le = LabelEncoder()\n",
    "df['s_pch_cat'] = le.fit_transform(df['s_pch'])"
   ]
  },
  {
   "cell_type": "markdown",
   "metadata": {},
   "source": [
    "---\n",
    "\n",
    "__5. DTPV — RTA type__"
   ]
  },
  {
   "cell_type": "code",
   "execution_count": 282,
   "metadata": {},
   "outputs": [
    {
     "data": {
      "text/plain": [
       "['Возгорание вследствие технической неисправности движущегося или остановившегося ТС, участвующего в дорожном движении.',\n",
       " 'Иной вид ДТП',\n",
       " 'Наезд на велосипедиста',\n",
       " 'Наезд на внезапно возникшее препятствие',\n",
       " 'Наезд на гужевой транспорт',\n",
       " 'Наезд на животное',\n",
       " 'Наезд на лицо, не являющееся участником дорожного движения, осуществляющее какую-либо другую деятельность',\n",
       " 'Наезд на лицо, не являющееся участником дорожного движения, осуществляющее несение службы',\n",
       " 'Наезд на лицо, не являющееся участником дорожного движения, осуществляющее производство работ',\n",
       " 'Наезд на пешехода',\n",
       " 'Наезд на препятствие',\n",
       " 'Наезд на стоящее ТС',\n",
       " 'Опрокидывание',\n",
       " 'Отбрасывание предмета',\n",
       " 'Падение груза',\n",
       " 'Падение пассажира',\n",
       " 'Столкновение',\n",
       " 'Съезд с дороги']"
      ]
     },
     "execution_count": 282,
     "metadata": {},
     "output_type": "execute_result"
    }
   ],
   "source": [
    "sorted(df['DTPV'].unique())"
   ]
  },
  {
   "cell_type": "code",
   "execution_count": 283,
   "metadata": {},
   "outputs": [
    {
     "data": {
      "text/plain": [
       "['Другое',\n",
       " 'Наезд на велосипедиста',\n",
       " 'Наезд на животное',\n",
       " 'Наезд на пешехода',\n",
       " 'Наезд на препятствие',\n",
       " 'Наезд на человека',\n",
       " 'Прочее',\n",
       " 'Столкновение']"
      ]
     },
     "execution_count": 283,
     "metadata": {},
     "output_type": "execute_result"
    }
   ],
   "source": [
    "replace_map = {\n",
    "    # Collisions\n",
    "    'Столкновение': 'Столкновение',\n",
    "    'Опрокидывание': 'Столкновение',\n",
    "    'Съезд с дороги': 'Столкновение',\n",
    "\n",
    "    # Collisions with pedestrians and people\n",
    "    'Наезд на пешехода': 'Наезд на пешехода',\n",
    "    'Наезд на лицо, не являющееся участником дорожного движения, осуществляющее какую-либо другую деятельность': 'Наезд на человека',\n",
    "    'Наезд на лицо, не являющееся участником дорожного движения, осуществляющее несение службы': 'Наезд на человека',\n",
    "    'Наезд на лицо, не являющееся участником дорожного движения, осуществляющее производство работ': 'Наезд на человека',\n",
    "    'Наезд на велосипедиста': 'Наезд на велосипедиста',\n",
    "\n",
    "    # Collisions with objects and obstacles\n",
    "    'Наезд на препятствие': 'Наезд на препятствие',\n",
    "    'Наезд на стоящее ТС': 'Наезд на препятствие',\n",
    "    'Наезд на внезапно возникшее препятствие': 'Наезд на препятствие',\n",
    "\n",
    "    # Other raids\n",
    "    'Наезд на животное': 'Наезд на животное',\n",
    "    'Наезд на гужевой транспорт': 'Наезд на животное',\n",
    "\n",
    "    # Other\n",
    "    'Падение пассажира': 'Прочее',\n",
    "    'Падение груза': 'Прочее',\n",
    "    'Отбрасывание предмета': 'Прочее',\n",
    "    'Возгорание вследствие технической неисправности движущегося или остановившегося ТС, участвующего в дорожном движении.': 'Прочее',\n",
    "    \n",
    "    'Иной вид ДТП': 'Другое'\n",
    "}\n",
    "\n",
    "df['DTPV'] = df['DTPV'].replace(replace_map)\n",
    "sorted(df['DTPV'].unique())"
   ]
  },
  {
   "cell_type": "code",
   "execution_count": 284,
   "metadata": {},
   "outputs": [],
   "source": [
    "le = LabelEncoder()\n",
    "df['DTPV_cat'] = le.fit_transform(df['DTPV'])"
   ]
  },
  {
   "cell_type": "markdown",
   "metadata": {},
   "source": [
    "--- \n",
    "\n",
    "__6. k_ul — street significance__"
   ]
  },
  {
   "cell_type": "code",
   "execution_count": 285,
   "metadata": {},
   "outputs": [
    {
     "data": {
      "text/plain": [
       "['Велосипедные дорожки',\n",
       " 'Вне НП',\n",
       " 'Второстепенные улицы в жилой застройке (переулки)',\n",
       " 'Главные улицы',\n",
       " 'Иные места',\n",
       " 'Магистральные дороги',\n",
       " 'Магистральные улицы общегородского значения',\n",
       " 'Магистральные улицы районного значения',\n",
       " 'Назначение неизвестно',\n",
       " 'Основные улицы',\n",
       " 'Основные улицы в жилой застройке',\n",
       " 'Парковые дороги',\n",
       " 'Парковые дороги, пешеходные улицы (пешеходные зоны)',\n",
       " 'Пешеходные улицы',\n",
       " 'Поселковые дороги',\n",
       " 'Проезды',\n",
       " 'Улицы и дороги местного значения в жилой застройке',\n",
       " 'Улицы и дороги местного значения в производственных, промышленных и коммунально-складских зонах',\n",
       " 'Улицы и дороги местного значения научно-производственных промышленных и коммунально-складских районов',\n",
       " 'Хозяйственные проезды, скотопрогоны']"
      ]
     },
     "execution_count": 285,
     "metadata": {},
     "output_type": "execute_result"
    }
   ],
   "source": [
    "sorted(df['k_ul'].unique())"
   ]
  },
  {
   "cell_type": "code",
   "execution_count": 286,
   "metadata": {},
   "outputs": [
    {
     "data": {
      "text/plain": [
       "['Вне НП',\n",
       " 'Другое',\n",
       " 'Магистральная дорога',\n",
       " 'Магистральная улица',\n",
       " 'Не указано',\n",
       " 'Пешеходная зона',\n",
       " 'Улица местного значения']"
      ]
     },
     "execution_count": 286,
     "metadata": {},
     "output_type": "execute_result"
    }
   ],
   "source": [
    "replace_map = {\n",
    "    # Highways and main streets\n",
    "    'Магистральные дороги': 'Магистральная дорога',\n",
    "    \n",
    "    'Магистральные улицы общегородского значения': 'Магистральная улица',\n",
    "    'Магистральные улицы районного значения': 'Магистральная улица',\n",
    "    'Главные улицы': 'Магистральная улица',\n",
    "    'Основные улицы': 'Магистральная улица',\n",
    "    'Основные улицы в жилой застройке': 'Магистральная улица',\n",
    "\n",
    "    # Local streets\n",
    "    'Второстепенные улицы в жилой застройке (переулки)': 'Улица местного значения',\n",
    "    'Улицы и дороги местного значения в жилой застройке': 'Улица местного значения',\n",
    "    'Улицы и дороги местного значения в производственных, промышленных и коммунально-складских зонах': 'Улица местного значения',\n",
    "    'Улицы и дороги местного значения научно-производственных промышленных и коммунально-складских районов': 'Улица местного значения',\n",
    "    'Проезды': 'Улица местного значения',\n",
    "    'Поселковые дороги': 'Улица местного значения',\n",
    "    'Хозяйственные проезды, скотопрогоны': 'Улица местного значения',\n",
    "\n",
    "    # Pedestrian areas and parks\n",
    "    'Пешеходные улицы': 'Пешеходная зона',\n",
    "    'Парковые дороги': 'Пешеходная зона',\n",
    "    'Парковые дороги, пешеходные улицы (пешеходные зоны)': 'Пешеходная зона',\n",
    "    'Велосипедные дорожки': 'Пешеходная зона',\n",
    "\n",
    "    # Other\n",
    "    'Вне НП': 'Вне НП',\n",
    "    'Назначение неизвестно': 'Не указано',\n",
    "    'Иные места': 'Другое'\n",
    "}\n",
    "\n",
    "df['k_ul'] = df['k_ul'].replace(replace_map)\n",
    "sorted(df['k_ul'].unique())"
   ]
  },
  {
   "cell_type": "markdown",
   "metadata": {},
   "source": [
    "To create the final datasets in our task, we need to filter out observations that occurred outside the city limits, as accidents in populated areas happen under completely different conditions and cannot be compared to those on toll roads.\n",
    "\n",
    "As we know the variable `NP`, or populated area, turned out to be completely useless because it showed the nearest populated area to the accident, rather than whether the accident occurred in a populated area or not. However, we still have the `k_ul` variable, which accurately reflects where the accident occurred. We'll extract this information into a separate binary feature `out_of_town` before transforming `k_ul` into a categorical variable, since its original meaning will no longer be accessible after encoding."
   ]
  },
  {
   "cell_type": "code",
   "execution_count": 287,
   "metadata": {},
   "outputs": [],
   "source": [
    "df['out_of_town'] = df['k_ul'].isin([\n",
    "    'Вне НП',\n",
    "    'Не указано',\n",
    "    'Магистральная дорога'\n",
    "]).astype(int)"
   ]
  },
  {
   "cell_type": "code",
   "execution_count": 288,
   "metadata": {},
   "outputs": [],
   "source": [
    "le = LabelEncoder()\n",
    "df['k_ul_cat'] = le.fit_transform(df['k_ul'])"
   ]
  },
  {
   "cell_type": "markdown",
   "metadata": {},
   "source": [
    "---\n",
    "\n",
    "__7. spog — weather__"
   ]
  },
  {
   "cell_type": "code",
   "execution_count": 289,
   "metadata": {},
   "outputs": [
    {
     "data": {
      "text/plain": [
       "['Дождь',\n",
       " 'Метель',\n",
       " 'Пасмурно',\n",
       " 'Снегопад',\n",
       " 'Температура выше +30С',\n",
       " 'Температура ниже -30С',\n",
       " 'Туман',\n",
       " 'Ураганный ветер',\n",
       " 'Ясно']"
      ]
     },
     "execution_count": 289,
     "metadata": {},
     "output_type": "execute_result"
    }
   ],
   "source": [
    "sorted(df['spog'].unique())"
   ]
  },
  {
   "cell_type": "code",
   "execution_count": 290,
   "metadata": {},
   "outputs": [
    {
     "data": {
      "text/plain": [
       "['Жара',\n",
       " 'Мороз',\n",
       " 'Осадки',\n",
       " 'Плохая видимость',\n",
       " 'Сильный ветер',\n",
       " 'Хорошая погода']"
      ]
     },
     "execution_count": 290,
     "metadata": {},
     "output_type": "execute_result"
    }
   ],
   "source": [
    "replace_map = {\n",
    "    # Precipitation\n",
    "    'Дождь': 'Осадки',\n",
    "    'Снегопад': 'Осадки',\n",
    "    'Метель': 'Осадки',\n",
    "\n",
    "    # Poor visibility\n",
    "    'Туман': 'Плохая видимость',\n",
    "    'Пасмурно': 'Плохая видимость',\n",
    "\n",
    "    # Extreme temperatures\n",
    "    'Температура выше +30С': 'Жара',\n",
    "    'Температура ниже -30С': 'Мороз',\n",
    "\n",
    "    # Wind\n",
    "    'Ураганный ветер': 'Сильный ветер',\n",
    "\n",
    "    # Good weather\n",
    "    'Ясно': 'Хорошая погода'\n",
    "}\n",
    "\n",
    "df['spog'] = df['spog'].replace(replace_map)\n",
    "sorted(df['spog'].unique())"
   ]
  },
  {
   "cell_type": "code",
   "execution_count": 291,
   "metadata": {},
   "outputs": [],
   "source": [
    "le = LabelEncoder()\n",
    "df['spog_cat'] = le.fit_transform(df['spog'])"
   ]
  },
  {
   "cell_type": "markdown",
   "metadata": {},
   "source": [
    "---\n",
    "\n",
    "__8. OBJ_DTP — road network objects near RTA__"
   ]
  },
  {
   "cell_type": "code",
   "execution_count": 292,
   "metadata": {},
   "outputs": [
    {
     "data": {
      "text/plain": [
       "['АЗС',\n",
       " 'Автовокзал (автостанция)',\n",
       " 'Автостоянка (отделенная от проезжей части)',\n",
       " 'Административные здания',\n",
       " 'Аэропорт, ж/д вокзал (ж/д станция), речной или морской порт (пристань)',\n",
       " 'Гаражные постройки (гаражный кооператив, товарищество либо иное место концентрированного размещения гаражей)',\n",
       " 'Жилые дома индивидуальной застройки',\n",
       " 'Зоны отдыха',\n",
       " 'Иная образовательная организация',\n",
       " 'Иное образовательное учреждение',\n",
       " 'Иной объект',\n",
       " 'Кладбище',\n",
       " 'Крупный торговый объект (являющийся объектом массового тяготения пешеходов и (или) транспорта)',\n",
       " 'Ледовая переправа',\n",
       " 'Ледовая переправа (официально открытая и оборудованная);',\n",
       " 'Лечебные учреждения',\n",
       " 'Медицинские (лечебные) организации',\n",
       " 'Многоквартирные жилые дома',\n",
       " 'Мост',\n",
       " 'Надземный пешеходный переход',\n",
       " 'Нерегулируемое пересечение с круговым движением',\n",
       " 'Нерегулируемый ж/д переезд',\n",
       " 'Нерегулируемый перекрёсток',\n",
       " 'Нерегулируемый пешеходный переход',\n",
       " 'Объект (здание, сооружение) религиозного культа',\n",
       " 'Объект строительства',\n",
       " 'Объект торговли, общественного питания на автодороге вне НП',\n",
       " 'Одиночный торговый объект, являющийся местом притяжения транспорта и (или) пешеходов',\n",
       " 'Остановка маршрутного такси',\n",
       " 'Остановка общественного транспорта',\n",
       " 'Остановка трамвая',\n",
       " 'Отсутствие в непосредственной близости объектов УДС и объектов притяжения',\n",
       " 'Подземный пешеходный переход',\n",
       " 'Производственное предприятие',\n",
       " 'Пункт весового контроля',\n",
       " 'Регулируемый ж/д переезд без дежурного',\n",
       " 'Регулируемый ж/д переезд с дежурным',\n",
       " 'Регулируемый перекрёсток',\n",
       " 'Регулируемый пешеходный переход',\n",
       " 'СП ДПС (КПМ)',\n",
       " 'Спортивные и развлекательные объекты',\n",
       " 'Стихийно возникшая (не предусмотренная) ледовая переправа',\n",
       " 'Территориальное подразделение МВД России (либо его структурное подразделение)',\n",
       " 'Тоннель',\n",
       " 'Школа либо иная детская (в т.ч. дошкольная) организация',\n",
       " 'Школа либо иное детское (в т.ч. дошкольное) учреждение',\n",
       " 'Эстакада, путепровод']"
      ]
     },
     "execution_count": 292,
     "metadata": {},
     "output_type": "execute_result"
    }
   ],
   "source": [
    "sorted(df['OBJ_DTP'].unique())"
   ]
  },
  {
   "cell_type": "code",
   "execution_count": 293,
   "metadata": {},
   "outputs": [
    {
     "data": {
      "text/plain": [
       "['Дорожная инфраструктура',\n",
       " 'Жилая застройка',\n",
       " 'Ледовая переправа',\n",
       " 'Медицина',\n",
       " 'Нет объектов',\n",
       " 'Образование',\n",
       " 'Остановка',\n",
       " 'Прочее',\n",
       " 'Торговля',\n",
       " 'Транспортная инфраструктура']"
      ]
     },
     "execution_count": 293,
     "metadata": {},
     "output_type": "execute_result"
    }
   ],
   "source": [
    "replace_map = {\n",
    "    # Education\n",
    "    'Школа либо иная детская (в т.ч. дошкольная) организация': 'Образование',\n",
    "    'Школа либо иное детское (в т.ч. дошкольное) учреждение': 'Образование',\n",
    "    'Иная образовательная организация': 'Образование',\n",
    "    'Иное образовательное учреждение': 'Образование',\n",
    "\n",
    "    # Medicine\n",
    "    'Лечебные учреждения': 'Медицина',\n",
    "    'Медицинские (лечебные) организации': 'Медицина',\n",
    "\n",
    "    # Residential development\n",
    "    'Жилые дома индивидуальной застройки': 'Жилая застройка',\n",
    "    'Многоквартирные жилые дома': 'Жилая застройка',\n",
    "\n",
    "    # Trade and food\n",
    "    'Крупный торговый объект (являющийся объектом массового тяготения пешеходов и (или) транспорта)': 'Торговля',\n",
    "    'Одиночный торговый объект, являющийся местом притяжения транспорта и (или) пешеходов': 'Торговля',\n",
    "    'Объект торговли, общественного питания на автодороге вне НП': 'Торговля',\n",
    "\n",
    "    # Transport facilities\n",
    "    'АЗС': 'Транспортная инфраструктура',\n",
    "    'Автовокзал (автостанция)': 'Транспортная инфраструктура',\n",
    "    'Аэропорт, ж/д вокзал (ж/д станция), речной или морской порт (пристань)': 'Транспортная инфраструктура',\n",
    "    'Остановка маршрутного такси': 'Остановка',\n",
    "    'Остановка общественного транспорта': 'Остановка',\n",
    "    'Остановка трамвая': 'Остановка',\n",
    "    'Гаражные постройки (гаражный кооператив, товарищество либо иное место концентрированного размещения гаражей)': 'Транспортная инфраструктура',\n",
    "    'Автостоянка (отделенная от проезжей части)': 'Транспортная инфраструктура',\n",
    "    'Пункт весового контроля': 'Транспортная инфраструктура',\n",
    "\n",
    "    # Road infrastructure\n",
    "    'Регулируемый перекрёсток': 'Дорожная инфраструктура',\n",
    "    'Нерегулируемый перекрёсток': 'Дорожная инфраструктура',\n",
    "    'Нерегулируемое пересечение с круговым движением': 'Дорожная инфраструктура',\n",
    "    'Регулируемый пешеходный переход': 'Дорожная инфраструктура',\n",
    "    'Нерегулируемый пешеходный переход': 'Дорожная инфраструктура',\n",
    "    'Подземный пешеходный переход': 'Дорожная инфраструктура',\n",
    "    'Надземный пешеходный переход': 'Дорожная инфраструктура',\n",
    "    'Регулируемый ж/д переезд с дежурным': 'Дорожная инфраструктура',\n",
    "    'Регулируемый ж/д переезд без дежурного': 'Дорожная инфраструктура',\n",
    "    'Нерегулируемый ж/д переезд': 'Дорожная инфраструктура',\n",
    "    'Мост': 'Дорожная инфраструктура',\n",
    "    'Эстакада, путепровод': 'Дорожная инфраструктура',\n",
    "    'Тоннель': 'Дорожная инфраструктура',\n",
    "    'СП ДПС (КПМ)': 'Дорожная инфраструктура',\n",
    "\n",
    "    # Other\n",
    "    'Объект (здание, сооружение) религиозного культа': 'Прочее',\n",
    "    'Административные здания': 'Прочее',\n",
    "    'Зоны отдыха': 'Прочее',\n",
    "    'Кладбище': 'Прочее',\n",
    "    'Объект строительства': 'Прочее',\n",
    "    'Производственное предприятие': 'Прочее',\n",
    "    'Территориальное подразделение МВД России (либо его структурное подразделение)': 'Прочее',\n",
    "    'Спортивные и развлекательные объекты': 'Прочее',\n",
    "    'Иной объект': 'Прочее',\n",
    "\n",
    "    # Ice crossing\n",
    "    'Ледовая переправа': 'Ледовая переправа',\n",
    "    'Ледовая переправа (официально открытая и оборудованная);': 'Ледовая переправа',\n",
    "    'Стихийно возникшая (не предусмотренная) ледовая переправа': 'Ледовая переправа',\n",
    "\n",
    "    # Absence of objects\n",
    "    'Отсутствие в непосредственной близости объектов УДС и объектов притяжения': 'Нет объектов'\n",
    "}\n",
    "\n",
    "df['OBJ_DTP'] = df['OBJ_DTP'].replace(replace_map)\n",
    "sorted(df['OBJ_DTP'].unique())"
   ]
  },
  {
   "cell_type": "code",
   "execution_count": 294,
   "metadata": {},
   "outputs": [],
   "source": [
    "le = LabelEncoder()\n",
    "df['OBJ_DTP_cat'] = le.fit_transform(df['OBJ_DTP'])"
   ]
  },
  {
   "cell_type": "markdown",
   "metadata": {},
   "source": [
    "---\n",
    "__9. factor — factors influencing the traffic__"
   ]
  },
  {
   "cell_type": "code",
   "execution_count": 295,
   "metadata": {},
   "outputs": [
    {
     "data": {
      "text/plain": [
       "['Изменение в режиме движения вследствие согласованного массового мероприятия',\n",
       " 'Конструктивное сужение проезжей части вследствие уменьшения количества полос движения',\n",
       " 'Наличие  пересечения (примыкания), не предусмотренного проектной документацией',\n",
       " 'Наличие на проезжей части неисправного ТС, мешающего движению',\n",
       " 'Наличие на проезжей части, обочине или тротуаре торгового или иного объекта, затрудняющего движение или парковку транспорта и (или) движение пешеходов',\n",
       " 'Наличие на тротуарах (пешеходных дорожках, обочинах) припаркованного  транспорта,   затрудняющего движение пешеходов',\n",
       " 'Наличие пересечения (примыкания), не предусмотренного проектной документацией» (не применяется с 12.2020)',\n",
       " 'Нарушение режима движения вследствие несогласованного массового мероприятия',\n",
       " 'Несоответствие габарита моста (путепровода) ширине проезжей части  на подходах к нему',\n",
       " \"Несоответствие категории дороги (фактических геометрических характеристик) интенсивности движения (исходя из требований СНиП 2.05.02.-85 'Автомобильные дороги')\",\n",
       " 'Несоответствие категории дороги (фактических геометрических характеристик) интенсивности движения (исходя из требований СНиП 2.05.02.-85 ?Автомобильные дороги?)',\n",
       " 'Несоответствие категории дороги (фактических геометрических характеристик) интенсивности движения (исходя из требований СП 34.13330.2012 «Свод правил. Автомобильные дороги. Актуализированная редакция СНиП 2.05.02-85*»)',\n",
       " 'Несоответствие параметров дороги, в т.ч. геометрических, её категории на месте ДТП или на подходах к нему (величина радиуса поворота, ширина полос движения, обочин, крутизна откосов насыпи, отсутствие разделительной полосы, отсутствие виража и т.д.)',\n",
       " 'Неудовлетворительное состояние тротуара или пешеходной дорожки (в  т.ч. недостатки зимнего содержания), затрудняющие или препятствующие движению пешеходов',\n",
       " 'Оказание влияния на движение транспортного потока или отдельного транспортного средства, наличия или внезапного возникновения на проезжей части посторонних предметов (упавшее дерево или мачта освещения, осыпь камней, селевой вынос, груз с другого транспортного сред-ства или конструктивный элемент другого транспортного средства и т.д.)',\n",
       " 'Оказание влияния на движение транспортного потока или отдельного транспортного средства, наличия или внезапного появления на проезжей части животных',\n",
       " 'Отключение электроснабжения на данном элементе УДС (улице, дороге, площади, дворе и т.д.) в целом',\n",
       " 'Отключение электроснабжения на данном элементе УДС (улице, дороге, площади, дворе и т.д.) в целом (не применяется с 12.2020)',\n",
       " 'Отключение электроснабжения целиком или частично в муниципальном образовании  (районе, городе, районе  города, посёлке, селе, деревне, ауле и т.д.)',\n",
       " 'Отключение электроснабжения целиком или частично в муниципальном образовании (районе, городе, районе города, посёлке, селе, деревне, ауле и т.д.)',\n",
       " 'Отсутствие дополнительных полос для движения (в т.ч. переходно-скоростных полос) в необходимых местах',\n",
       " 'Отсутствие дополнительных полос для движения (в т.ч. переходно-скоростных полос) в необходимых местах (не применяется с 12.2020)',\n",
       " 'Проведение дорожных и прочих работ без сужения проезжей части',\n",
       " 'Проведение работ на тротуарах (пешеходных дорожках, обочинах),  затрудняющих движение пешеходов',\n",
       " \"Работа светофора на регулируемом перекрёстке или регулируемом пешеходном переходе в режиме 'жёлтого мигания'\",\n",
       " 'Режим движения изменён вследствие проведения спецмероприятия',\n",
       " 'Режим движения нарушен вследствие ранее произошедшего ДТП',\n",
       " 'Сведения отсутствуют',\n",
       " 'Сужение проезжей части вследствие проведения работ',\n",
       " 'Сужение проезжей части припаркованным транспортом',\n",
       " 'Участок, контролируемый камерой автоматической фотовидеофиксации нарушений ПДД, не обозначенный соответствующим предупреждающим знаком',\n",
       " 'Участок, контролируемый камерой автоматической фотовидеофиксации нарушений ПДД, обозначенный соответствующим предупреждающим знаком',\n",
       " 'Участок, контролируемый мобильными автоматической фотовидеофиксации нарушений ПДД',\n",
       " 'Участок, контролируемый передвижными средствами автоматической фотовидеофиксации нарушений ПДД',\n",
       " 'Участок, контролируемый стационарными камерами автоматической фотовидеофиксации нарушений ПДД, не обозначенный соответствующим предупреждающим знаком',\n",
       " 'Участок, контролируемый стационарными камерами автоматической фотовидеофиксации нарушений ПДД, обозначенный соответствующим предупреждающим знаком',\n",
       " 'Участок, оборудованный искусственными неровностями',\n",
       " 'Участок, оборудованный искусственными неровностями и обозначенный соответствующими дорожными знаками и разметкой',\n",
       " 'Участок, оборудованный искусственными неровностями, не обозначенный соответствующими дорожными знаками и (или) разметкой',\n",
       " 'Участок, оборудованный шумовыми полосами']"
      ]
     },
     "execution_count": 295,
     "metadata": {},
     "output_type": "execute_result"
    }
   ],
   "source": [
    "sorted(df['factor'].unique())"
   ]
  },
  {
   "cell_type": "code",
   "execution_count": 296,
   "metadata": {},
   "outputs": [
    {
     "data": {
      "text/plain": [
       "['ДТП ранее',\n",
       " 'Животные/препятствия',\n",
       " 'Искусственные неровности',\n",
       " 'Камера (мобильная)',\n",
       " 'Камера (не обозначена)',\n",
       " 'Камера (обозначена)',\n",
       " 'Конструктивное сужение',\n",
       " 'Массовое мероприятие',\n",
       " 'Нелегальное примыкание',\n",
       " 'Несоответствие габаритов',\n",
       " 'Несоответствие категории',\n",
       " 'Отключение электроснабжения',\n",
       " 'Отсутствие полос',\n",
       " 'Посторонние объекты',\n",
       " 'Проблемы на тротуаре',\n",
       " 'Работы без сужения',\n",
       " 'Работы на тротуарах',\n",
       " 'Режим светофора',\n",
       " 'Сведения отсутствуют',\n",
       " 'Сужение из-за работ',\n",
       " 'Сужение из-за транспорта',\n",
       " 'ТС мешает движению',\n",
       " 'Шумовые полосы']"
      ]
     },
     "execution_count": 296,
     "metadata": {},
     "output_type": "execute_result"
    }
   ],
   "source": [
    "replace_map = {\n",
    "    # Traffic disruptions due to events\n",
    "    'Изменение в режиме движения вследствие согласованного массового мероприятия': 'Массовое мероприятие',\n",
    "    'Нарушение режима движения вследствие несогласованного массового мероприятия': 'Массовое мероприятие',\n",
    "    'Режим движения изменён вследствие проведения спецмероприятия': 'Массовое мероприятие',\n",
    "\n",
    "    # Road accident as a cause\n",
    "    'Режим движения нарушен вследствие ранее произошедшего ДТП': 'ДТП ранее',\n",
    "\n",
    "    # Road works/narrowing\n",
    "    'Проведение дорожных и прочих работ без сужения проезжей части': 'Работы без сужения',\n",
    "    'Сужение проезжей части вследствие проведения работ': 'Сужение из-за работ',\n",
    "    'Сужение проезжей части припаркованным транспортом': 'Сужение из-за транспорта',\n",
    "    'Конструктивное сужение проезжей части вследствие уменьшения количества полос движения': 'Конструктивное сужение',\n",
    "\n",
    "    # Work on sidewalks/pedestrians\n",
    "    'Проведение работ на тротуарах (пешеходных дорожках, обочинах),  затрудняющих движение пешеходов': 'Работы на тротуарах',\n",
    "    'Неудовлетворительное состояние тротуара или пешеходной дорожки (в  т.ч. недостатки зимнего содержания), затрудняющие или препятствующие движению пешеходов': 'Проблемы на тротуаре',\n",
    "\n",
    "    # Defective/abandoned vehicle\n",
    "    'Наличие на проезжей части неисправного ТС, мешающего движению': 'ТС мешает движению',\n",
    "    'Наличие на тротуарах (пешеходных дорожках, обочинах) припаркованного  транспорта,   затрудняющего движение пешеходов': 'ТС мешает движению',\n",
    "    \n",
    "    # Foreign objects\n",
    "    'Наличие на проезжей части, обочине или тротуаре торгового или иного объекта, затрудняющего движение или парковку транспорта и (или) движение пешеходов': 'Посторонние объекты',\n",
    "    'Оказание влияния на движение транспортного потока или отдельного транспортного средства, наличия или внезапного возникновения на проезжей части посторонних предметов (упавшее дерево или мачта освещения, осыпь камней, селевой вынос, груз с другого транспортного сред-ства или конструктивный элемент другого транспортного средства и т.д.)': 'Посторонние объекты',\n",
    "    'Оказание влияния на движение транспортного потока или отдельного транспортного средства, наличия или внезапного появления на проезжей части животных': 'Животные/препятствия',\n",
    "\n",
    "    # Intersections, junctions\n",
    "    'Наличие  пересечения (примыкания), не предусмотренного проектной документацией': 'Нелегальное примыкание',\n",
    "    'Наличие пересечения (примыкания), не предусмотренного проектной документацией» (не применяется с 12.2020)': 'Нелегальное примыкание',\n",
    "\n",
    "    # Road non-compliance with standards\n",
    "    \"Несоответствие категории дороги (фактических геометрических характеристик) интенсивности движения (исходя из требований СНиП 2.05.02.-85 'Автомобильные дороги')\": 'Несоответствие категории',\n",
    "    \"Несоответствие категории дороги (фактических геометрических характеристик) интенсивности движения (исходя из требований СНиП 2.05.02.-85 ?Автомобильные дороги?)\": 'Несоответствие категории',\n",
    "    'Несоответствие категории дороги (фактических геометрических характеристик) интенсивности движения (исходя из требований СП 34.13330.2012 «Свод правил. Автомобильные дороги. Актуализированная редакция СНиП 2.05.02-85*»)': 'Несоответствие категории',\n",
    "    'Несоответствие параметров дороги, в т.ч. геометрических, её категории на месте ДТП или на подходах к нему (величина радиуса поворота, ширина полос движения, обочин, крутизна откосов насыпи, отсутствие разделительной полосы, отсутствие виража и т.д.)': 'Несоответствие категории',\n",
    "    'Несоответствие габарита моста (путепровода) ширине проезжей части  на подходах к нему': 'Несоответствие габаритов',\n",
    "\n",
    "    # Electricity supply\n",
    "    'Отключение электроснабжения на данном элементе УДС (улице, дороге, площади, дворе и т.д.) в целом': 'Отключение электроснабжения',\n",
    "    'Отключение электроснабжения на данном элементе УДС (улице, дороге, площади, дворе и т.д.) в целом (не применяется с 12.2020)': 'Отключение электроснабжения',\n",
    "    'Отключение электроснабжения целиком или частично в муниципальном образовании (районе, городе, районе города, посёлке, селе, деревне, ауле и т.д.)': 'Отключение электроснабжения',\n",
    "    'Отключение электроснабжения целиком или частично в муниципальном образовании  (районе, городе, районе  города, посёлке, селе, деревне, ауле и т.д.)': 'Отключение электроснабжения',\n",
    "\n",
    "    # Traffic lanes\n",
    "    'Отсутствие дополнительных полос для движения (в т.ч. переходно-скоростных полос) в необходимых местах': 'Отсутствие полос',\n",
    "    'Отсутствие дополнительных полос для движения (в т.ч. переходно-скоростных полос) в необходимых местах (не применяется с 12.2020)': 'Отсутствие полос',\n",
    "\n",
    "    # Traffic lights\n",
    "    \"Работа светофора на регулируемом перекрёстке или регулируемом пешеходном переходе в режиме 'жёлтого мигания'\": 'Режим светофора',\n",
    "\n",
    "    # Speed ​​cameras\n",
    "    'Участок, контролируемый камерами автоматической фотовидеофиксации нарушений ПДД, обозначенный соответствующим предупреждающим знаком': 'Камера (обозначена)',\n",
    "    'Участок, контролируемый стационарными камерами автоматической фотовидеофиксации нарушений ПДД, обозначенный соответствующим предупреждающим знаком': 'Камера (обозначена)',\n",
    "    'Участок, контролируемый стационарными камерами автоматической фотовидеофиксации нарушений ПДД, не обозначенный соответствующим предупреждающим знаком': 'Камера (не обозначена)',\n",
    "    'Участок, контролируемый мобильными автоматической фотовидеофиксации нарушений ПДД': 'Камера (мобильная)',\n",
    "    'Участок, контролируемый передвижными средствами автоматической фотовидеофиксации нарушений ПДД': 'Камера (мобильная)',\n",
    "    'Участок, контролируемый камерой автоматической фотовидеофиксации нарушений ПДД, не обозначенный соответствующим предупреждающим знаком': 'Камера (не обозначена)',\n",
    "\n",
    "    'Участок, контролируемый камерой автоматической фотовидеофиксации нарушений ПДД, обозначенный соответствующим предупреждающим знаком': 'Камера (обозначена)',\n",
    "\n",
    "    # Speed ​​bumps\n",
    "    'Участок, оборудованный искусственными неровностями': 'Искусственные неровности',\n",
    "    'Участок, оборудованный искусственными неровностями и обозначенный соответствующими дорожными знаками и разметкой': 'Искусственные неровности',\n",
    "    'Участок, оборудованный искусственными неровностями, не обозначенный соответствующими дорожными знаками и (или) разметкой': 'Искусственные неровности',\n",
    "    'Участок, оборудованный шумовыми полосами': 'Шумовые полосы',\n",
    "\n",
    "    # Other\n",
    "    'Сведения отсутствуют': 'Сведения отсутствуют'\n",
    "}\n",
    "\n",
    "df['factor'] = df['factor'].replace(replace_map)\n",
    "sorted(df['factor'].unique())"
   ]
  },
  {
   "cell_type": "code",
   "execution_count": 297,
   "metadata": {},
   "outputs": [],
   "source": [
    "le = LabelEncoder()\n",
    "df['factor_cat'] = le.fit_transform(df['factor'])"
   ]
  },
  {
   "cell_type": "markdown",
   "metadata": {},
   "source": [
    "---\n",
    "\n",
    "__10. fatal traffic violation(s) — ...__"
   ]
  },
  {
   "cell_type": "markdown",
   "metadata": {},
   "source": [
    "It's a multiclass categorial feature."
   ]
  },
  {
   "cell_type": "code",
   "execution_count": 298,
   "metadata": {},
   "outputs": [
    {
     "name": "stdout",
     "output_type": "stream",
     "text": [
      "1. Выезд на полосу встречного движения\n",
      "2. Выезд на полосу встречного движения в местах, где это запрещено\n",
      "3. Выезд на полосу встречного движения с разворотом, поворотом налево или объездом препятствия\n",
      "4. Выезд на трамвайные пути встречного направления\n",
      "5. Движение вдоль проезжей части попутного направления вне населенного пункта при удовлетворительном состоянии обочины\n",
      "6. Движение вдоль проезжей части при наличии и удовлетворительном состоянии тротуара\n",
      "7. Движение во встречном направлении по дороге с односторонним движением\n",
      "8. Другие нарушения ПДД водителем\n",
      "9. Другие нарушения ПДД водителями (не применяется с 12.2020)\n",
      "10. Игра на проезжей части\n",
      "11. Иные нарушения\n",
      "12. Нарушение правил буксировки\n",
      "13. Нарушение правил обгона\n",
      "14. Нарушение правил остановки и стоянки\n",
      "15. Нарушение правил перевозки крупногабаритных и тяжеловесных грузов\n",
      "16. Нарушение правил перевозки людей\n",
      "17. Нарушение правил перевозки опасных грузов\n",
      "18. Нарушение правил перестроения\n",
      "19. Нарушение правил погрузки, выгрузки и крепления грузов\n",
      "20. Нарушение правил пользования внешними световыми приборами\n",
      "21. Нарушение правил пользования общественным транспортом\n",
      "22. Нарушение правил при круговом движении\n",
      "23. Нарушение правил проезда ж/д переездов\n",
      "24. Нарушение правил проезда остановок трамвая\n",
      "25. Нарушение правил проезда пешеходного перехода\n",
      "26. Нарушение правил расположения ТС на проезжей части\n",
      "27. Нарушение требований дорожных знаков\n",
      "28. Нарушение требований линий разметки\n",
      "29. Нарушение требований сигналов регулировщика\n",
      "30. Нарушение требований сигналов светофора\n",
      "31. Нарушение правил движения тяжеловесного и(или) крупногабаритного ТС(превышение допустимых габаритов ТС, превышением допустимой массы ТС или допустимой нагрузки на ось ТС)\n",
      "32. Нахождение на проезжей части без цели её перехода\n",
      "33. Невыполнение требований обеспечения безопасности при начале движения\n",
      "34. Неожиданный выход из-за ТС\n",
      "35. Неожиданный выход из-за сооружений (деревьев)\n",
      "36. Неожиданный выход из-за стоящего ТС\n",
      "37. Неповиновение или сопротивление находящемуся при исполнении служебных обязанностей сотруднику правоохранительных органов или военнослужащему при остановке или задержании ТС\n",
      "38. Неподача или неправильная подача сигналов\n",
      "39. Неподача или неправильная подача сигналов поворота\n",
      "40. Неподчинение сигналам регулирования\n",
      "41. Неправильный выбор дистанции\n",
      "42. Непредоставление преимущества в движении ТС, имеющему нанесенные на наружные поверхности специальные цветографические схемы, надписи и обозначения, с одновременно включённым проблесковым маячком синего цвета и специальным звуковым сигналом\n",
      "43. Непредоставление преимущества в движении пешеходу\n",
      "44. Несоблюдение бокового интервала\n",
      "45. Несоблюдение очередности проезда\n",
      "46. Несоблюдение очередности проезда перекрестков\n",
      "47. Несоблюдение условий, разрешающих движение транспорта задним ходом\n",
      "48. Несоответствие скорости конкретным условиям движения\n",
      "49. Ожидание маршрутного ТС на проезжей части, вне посадочных площадок, тротуаров и обочин (при их наличии)\n",
      "50. Ослепление светом фар\n",
      "51. Оставление движущегося транспортного средства (выход или выпрыгивание на ходу и т.д.)\n",
      "52. Передвижение по проезжей части на скейтборде (роликовых коньках и т.д.)\n",
      "53. Пересечение велосипедистом проезжей части по пешеходному переходу\n",
      "54. Переход проезжей части в запрещённом месте (оборудованном пешеходными  ограждениями)\n",
      "55. Переход проезжей части перед приближающимся ТС с включёнными проблесковым маячком синего (сине-красного) цвета и звуковым сигналом\n",
      "56. Переход через проезжую часть в неустановленном месте (при наличии в зоне видимости перекрёстка)\n",
      "57. Переход через проезжую часть вне пешеходного перехода в зоне его видимости либо при наличии в непосредственной близости подземного (надземного) пешеходного перехода\n",
      "58. Превышение установленной скорости движения\n",
      "59. Разворот в местах, где разворот запрещён\n",
      "60. Создание помех для водителя в управлении транспортным средством\n",
      "61. Стоянка на проезжей части или обочине без освещения\n",
      "62. Управление велосипедом с неисправной тормозной системой\n",
      "63. Управление велосипедом, не оснащённым светоотражающими элементами\n",
      "64. Ходьба вдоль проезжей части попутного направления вне населенного пункта при удовлетворительном состоянии обочины\n",
      "65. Ходьба вдоль проезжей части при наличии и удовлетворительном состоянии тротуара\n",
      "66. Эксплуатация ТС с техническими неисправностями, при которых запрещается их эксплуатация\n",
      "67. Эксплуатация технически неисправного ТС (проставляется в случае ДТП по причине технеисправности)\n"
     ]
    }
   ],
   "source": [
    "df['fatal traffic violation(s)'] = df['fatal traffic violation(s)'].apply(ast.literal_eval)       # from string \"{}\" to real set {}\n",
    "\n",
    "all_violations = set()\n",
    "\n",
    "for violations in df['fatal traffic violation(s)']:\n",
    "    all_violations.update(violations)\n",
    "\n",
    "unique_violations = sorted(all_violations)\n",
    "for i, v in enumerate(unique_violations, 1):\n",
    "    print(f\"{i}. {v}\")"
   ]
  },
  {
   "cell_type": "code",
   "execution_count": null,
   "metadata": {},
   "outputs": [],
   "source": [
    "replace_map = {\n",
    "    # Oncoming lane, exit\n",
    "    'Выезд на полосу встречного движения': 'Выезд на встречку',\n",
    "    'Выезд на полосу встречного движения в местах, где это запрещено': 'Выезд на встречку',\n",
    "    'Выезд на полосу встречного движения с разворотом, поворотом налево или объездом препятствия': 'Выезд на встречку',\n",
    "    'Выезд на трамвайные пути встречного направления': 'Выезд на встречку',\n",
    "    'Движение во встречном направлении по дороге с односторонним движением': 'Выезд на встречку',\n",
    "\n",
    "    # Crossings, pedestrians\n",
    "    'Непредоставление преимущества в движении пешеходу': 'Пешеходы',\n",
    "    'Переход через проезжую часть в неустановленном месте (при наличии в зоне видимости перекрёстка)': 'Пешеходы',\n",
    "    'Переход через проезжую часть вне пешеходного перехода в зоне его видимости либо при наличии в непосредственной близости подземного (надземного) пешеходного перехода': 'Пешеходы',\n",
    "    'Переход проезжей части в запрещённом месте (оборудованном пешеходными  ограждениями)': 'Пешеходы',\n",
    "    'Нахождение на проезжей части без цели её перехода': 'Пешеходы',\n",
    "    'Ожидание маршрутного ТС на проезжей части, вне посадочных площадок, тротуаров и обочин (при их наличии)': 'Пешеходы',\n",
    "    'Игра на проезжей части': 'Пешеходы',\n",
    "    'Ходьба вдоль проезжей части при наличии и удовлетворительном состоянии тротуара': 'Пешеходы',\n",
    "    'Ходьба вдоль проезжей части попутного направления вне населенного пункта при удовлетворительном состоянии обочины': 'Пешеходы',\n",
    "    'Неожиданный выход из-за ТС': 'Пешеходы',\n",
    "    'Неожиданный выход из-за сооружений (деревьев)': 'Пешеходы',\n",
    "    'Неожиданный выход из-за стоящего ТС': 'Пешеходы',\n",
    "\n",
    "    # Speed ​​and distance\n",
    "    'Превышение установленной скорости движения': 'Скорость',\n",
    "    'Неправильный выбор дистанции': 'Скорость',\n",
    "    'Несоответствие скорости конкретным условиям движения': 'Скорость',\n",
    "    'Несоблюдение бокового интервала': 'Скорость',\n",
    "\n",
    "    # Traffic lights, regulation\n",
    "    'Неподчинение сигналам регулирования': 'Регулирование',\n",
    "    'Нарушение требований сигналов светофора': 'Регулирование',\n",
    "    'Нарушение требований сигналов регулировщика': 'Регулирование',\n",
    "\n",
    "    # Markings and signs\n",
    "    'Нарушение требований дорожных знаков': 'Разметка/знаки',\n",
    "    'Нарушение требований линий разметки': 'Разметка/знаки',\n",
    "\n",
    "    # Overtaking and changing lanes\n",
    "    'Нарушение правил обгона': 'Манёвры',\n",
    "    'Нарушение правил перестроения': 'Манёвры',\n",
    "    'Разворот в местах, где разворот запрещён': 'Манёвры',\n",
    "    'Невыполнение требований обеспечения безопасности при начале движения': 'Манёвры',\n",
    "\n",
    "    # Drive\n",
    "    'Несоблюдение очередности проезда': 'Проезд',\n",
    "    'Несоблюдение очередности проезда перекрестков': 'Проезд',\n",
    "    'Нарушение правил при круговом движении': 'Проезд',\n",
    "    'Нарушение правил проезда ж/д переездов': 'Проезд',\n",
    "    'Нарушение правил проезда пешеходного перехода': 'Проезд',\n",
    "    'Нарушение правил проезда остановок трамвая': 'Проезд',\n",
    "    'Движение вдоль проезжей части попутного направления вне населенного пункта при удовлетворительном состоянии обочины': 'Проезд',\n",
    "    'Движение вдоль проезжей части при наличии и удовлетворительном состоянии тротуара': 'Проезд',\n",
    "\n",
    "    # Signals\n",
    "    'Неподача или неправильная подача сигналов': 'Сигналы',\n",
    "    'Неподача или неправильная подача сигналов поворота': 'Сигналы',\n",
    "\n",
    "    # Stopping/Parking\n",
    "    'Нарушение правил остановки и стоянки': 'Остановка/стоянка',\n",
    "    'Стоянка на проезжей части или обочине без освещения': 'Остановка/стоянка',\n",
    "\n",
    "    # Technical problems\n",
    "    'Эксплуатация ТС с техническими неисправностями, при которых запрещается их эксплуатация': 'Технеисправности',\n",
    "    'Эксплуатация технически неисправного ТС (проставляется в случае ДТП по причине технеисправности)': 'Технеисправности',\n",
    "\n",
    "    # Shipping\n",
    "    'Нарушение правил перевозки людей': 'Перевозка',\n",
    "    'Нарушение правил перевозки опасных грузов': 'Перевозка',\n",
    "    'Нарушение правил перевозки крупногабаритных и тяжеловесных грузов': 'Перевозка',\n",
    "    'Нарушение правил погрузки, выгрузки и крепления грузов': 'Перевозка',\n",
    "    'Нарушение правил движения тяжеловесного и(или) крупногабаритного ТС(превышение допустимых габаритов ТС, превышением допустимой массы ТС или допустимой нагрузки на ось ТС)': 'Перевозка',\n",
    "\n",
    "    # Bike\n",
    "    'Управление велосипедом с неисправной тормозной системой': 'Велосипед',\n",
    "    'Управление велосипедом, не оснащённым светоотражающими элементами': 'Велосипед',\n",
    "    'Пересечение велосипедистом проезжей части по пешеходному переходу': 'Велосипед',\n",
    "\n",
    "    # Public transport and minibuses\n",
    "    'Нарушение правил пользования общественным транспортом': 'Общественный транспорт',\n",
    "\n",
    "    # Other\n",
    "    'Сведения отсутствуют': 'Не указано',\n",
    "    'Другие нарушения ПДД водителем': 'Другое',\n",
    "    'Другие нарушения ПДД водителями (не применяется с 12.2020)': 'Другое',\n",
    "    'Иные нарушения': 'Другое',\n",
    "    'Создание помех для водителя в управлении транспортным средством': 'Другое',\n",
    "    'Ослепление светом фар': 'Другое',\n",
    "    'Оставление движущегося транспортного средства (выход или выпрыгивание на ходу и т.д.)': 'Другое',\n",
    "    'Передвижение по проезжей части на скейтборде (роликовых коньках и т.д.)': 'Другое',\n",
    "    'Переход проезжей части перед приближающимся ТС с включёнными проблесковым маячком синего (сине-красного) цвета и звуковым сигналом': 'Другое',\n",
    "    'Неповиновение или сопротивление находящемуся при исполнении служебных обязанностей сотруднику правоохранительных органов или военнослужащему при остановке или задержании ТС': 'Другое',\n",
    "    'Непредоставление преимущества в движении ТС, имеющему нанесенные на наружные поверхности специальные цветографические схемы, надписи и обозначения, с одновременно включённым проблесковым маячком синего цвета и специальным звуковым сигналом': 'Другое',\n",
    "    'Нарушение правил буксировки': 'Другое',\n",
    "    'Несоблюдение условий, разрешающих движение транспорта задним ходом': 'Другое',\n",
    "    'Нарушение правил пользования внешними световыми приборами': 'Другое',\n",
    "    'Нарушение правил расположения ТС на проезжей части': 'Другое'\n",
    "}\n",
    "\n",
    "\n",
    "def map_violation_set(violation_set):\n",
    "    return set(replace_map.get(v, v) for v in violation_set)\n",
    "\n",
    "df['fatal traffic violation(s)'] = df['fatal traffic violation(s)'].apply(map_violation_set)"
   ]
  },
  {
   "cell_type": "code",
   "execution_count": 300,
   "metadata": {},
   "outputs": [
    {
     "name": "stdout",
     "output_type": "stream",
     "text": [
      "1. Велосипед\n",
      "2. Выезд на встречку\n",
      "3. Другое\n",
      "4. Манёвры\n",
      "5. Общественный транспорт\n",
      "6. Остановка/стоянка\n",
      "7. Перевозка\n",
      "8. Пешеходы\n",
      "9. Проезд\n",
      "10. Разметка/знаки\n",
      "11. Регулирование\n",
      "12. Сигналы\n",
      "13. Скорость\n",
      "14. Технеисправности\n"
     ]
    }
   ],
   "source": [
    "all_violations = set()\n",
    "\n",
    "for violations in df['fatal traffic violation(s)']:\n",
    "    all_violations.update(violations)\n",
    "\n",
    "unique_violations = sorted(all_violations)\n",
    "for i, v in enumerate(unique_violations, 1):\n",
    "    print(f\"{i}. {v}\")"
   ]
  },
  {
   "cell_type": "code",
   "execution_count": 301,
   "metadata": {},
   "outputs": [
    {
     "name": "stdout",
     "output_type": "stream",
     "text": [
      "Previous num of features: 77\n",
      "\n",
      "Current num of features: 91\n"
     ]
    }
   ],
   "source": [
    "print(f\"Previous num of features: {df.shape[1]}\\n\")\n",
    "\n",
    "mlb = MultiLabelBinarizer()\n",
    "violations_encoded = pd.DataFrame(\n",
    "    mlb.fit_transform(df['fatal traffic violation(s)']),\n",
    "    columns=mlb.classes_,\n",
    "    index=df.index\n",
    ")\n",
    "\n",
    "df = pd.concat([df, violations_encoded], axis=1)\n",
    "\n",
    "print(f\"Current num of features: {df.shape[1]}\")"
   ]
  },
  {
   "cell_type": "markdown",
   "metadata": {},
   "source": [
    "---\n",
    "\n",
    "__11. osv — lighting__"
   ]
  },
  {
   "cell_type": "code",
   "execution_count": 302,
   "metadata": {},
   "outputs": [
    {
     "data": {
      "text/plain": [
       "['В темное время суток, освещение включено',\n",
       " 'В темное время суток, освещение не включено',\n",
       " 'В темное время суток, освещение отсутствует',\n",
       " 'Не установлено',\n",
       " 'Светлое время суток',\n",
       " 'Сумерки']"
      ]
     },
     "execution_count": 302,
     "metadata": {},
     "output_type": "execute_result"
    }
   ],
   "source": [
    "sorted(df['osv'].unique())"
   ]
  },
  {
   "cell_type": "code",
   "execution_count": 303,
   "metadata": {},
   "outputs": [
    {
     "data": {
      "text/plain": [
       "['День', 'Не указано', 'Ночь без освещения', 'Ночь с освещением', 'Сумерки']"
      ]
     },
     "execution_count": 303,
     "metadata": {},
     "output_type": "execute_result"
    }
   ],
   "source": [
    "replace_map = {\n",
    "    'Светлое время суток': 'День',\n",
    "    'Сумерки': 'Сумерки',\n",
    "    'В темное время суток, освещение включено': 'Ночь с освещением',\n",
    "    'В темное время суток, освещение не включено': 'Ночь без освещения',\n",
    "    'В темное время суток, освещение отсутствует': 'Ночь без освещения',\n",
    "    'Не установлено': 'Не указано'\n",
    "}\n",
    "\n",
    "df['osv'] = df['osv'].replace(replace_map)\n",
    "sorted(df['osv'].unique())"
   ]
  },
  {
   "cell_type": "code",
   "execution_count": 304,
   "metadata": {},
   "outputs": [],
   "source": [
    "le = LabelEncoder()\n",
    "df['osv_cat'] = le.fit_transform(df['osv'])"
   ]
  },
  {
   "cell_type": "markdown",
   "metadata": {},
   "source": [
    "---\n",
    "\n",
    "__12. sdor — road network objects at the scene of RTA__"
   ]
  },
  {
   "cell_type": "code",
   "execution_count": 305,
   "metadata": {},
   "outputs": [
    {
     "data": {
      "text/plain": [
       "['АЗС',\n",
       " 'Автостоянка (не отделённая от проезжей части)',\n",
       " 'Автостоянка (отделенная от проезжей части)',\n",
       " 'Внутридворовая территория',\n",
       " 'Выезд с прилегающей территории',\n",
       " 'Гаражные постройки (гаражный кооператив, товарищество либо иное место концентрированного размещения гаражей)',\n",
       " 'Иное место',\n",
       " 'Ледовая переправа',\n",
       " 'Ледовая переправа(официально открытая и оборудованная)',\n",
       " 'Место для перегона скота',\n",
       " 'Мост, эстакада, путепровод',\n",
       " 'Нерегулируемое пересечение с круговым движением',\n",
       " 'Нерегулируемый ж/д переезд',\n",
       " 'Нерегулируемый перекрёсток неравнозначных улиц (дорог)',\n",
       " 'Нерегулируемый перекрёсток равнозначных улиц (дорог)',\n",
       " 'Нерегулируемый пешеходный переход',\n",
       " 'Нерегулируемый пешеходный переход, расположенный на участке улицы или дороги, проходящей вдоль территории школы или иного детского учреждения',\n",
       " 'Нерегулируемый пешеходный переход, расположенный на участке улицы или дороги, проходящей вдоль территории школы или иной детской организации',\n",
       " 'Остановка маршрутного такси',\n",
       " 'Остановка общественного транспорта',\n",
       " 'Остановка трамвая',\n",
       " 'Перегон (нет объектов на месте ДТП)',\n",
       " 'Пешеходная зона',\n",
       " 'Подход к мосту, эстакаде, путепроводу',\n",
       " 'Регулируемый ж/д переезд без дежурного',\n",
       " 'Регулируемый ж/д переезд с дежурным',\n",
       " 'Регулируемый перекресток',\n",
       " 'Регулируемый пешеходный переход',\n",
       " 'Регулируемый пешеходный переход, расположенный на участке улицы или дороги, проходящей вдоль территории школы или иного детского учреждения',\n",
       " 'Регулируемый пешеходный переход, расположенный на участке улицы или дороги, проходящей вдоль территории школы или иной детской организации',\n",
       " 'Стихийно возникшая (не предусмотренная) ледовая переправа',\n",
       " 'Тоннель',\n",
       " 'Тротуар, пешеходная дорожка']"
      ]
     },
     "execution_count": 305,
     "metadata": {},
     "output_type": "execute_result"
    }
   ],
   "source": [
    "sorted(df['sdor'].unique())"
   ]
  },
  {
   "cell_type": "code",
   "execution_count": 306,
   "metadata": {},
   "outputs": [
    {
     "data": {
      "text/plain": [
       "['Ж/д переезд (нерегулируемый)',\n",
       " 'Ж/д переезд (регулируемый)',\n",
       " 'Ледовая переправа',\n",
       " 'Мост/эстакада/тоннель',\n",
       " 'Остановка',\n",
       " 'Перекрёсток (круговое)',\n",
       " 'Перекрёсток (нерегулируемый)',\n",
       " 'Перекрёсток (регулируемый)',\n",
       " 'Пешеходная зона',\n",
       " 'Пешеходный переход (нерегулируемый)',\n",
       " 'Пешеходный переход (регулируемый)',\n",
       " 'Прилегающая территория',\n",
       " 'Прочее',\n",
       " 'Стоянка']"
      ]
     },
     "execution_count": 306,
     "metadata": {},
     "output_type": "execute_result"
    }
   ],
   "source": [
    "replace_map = {\n",
    "    # Pedestrian crossings\n",
    "    'Нерегулируемый пешеходный переход': 'Пешеходный переход (нерегулируемый)',\n",
    "    'Нерегулируемый пешеходный переход, расположенный на участке улицы или дороги, проходящей вдоль территории школы или иного детского учреждения': 'Пешеходный переход (нерегулируемый)',\n",
    "    'Нерегулируемый пешеходный переход, расположенный на участке улицы или дороги, проходящей вдоль территории школы или иной детской организации': 'Пешеходный переход (нерегулируемый)',\n",
    "\n",
    "    'Регулируемый пешеходный переход': 'Пешеходный переход (регулируемый)',\n",
    "    'Регулируемый пешеходный переход, расположенный на участке улицы или дороги, проходящей вдоль территории школы или иного детского учреждения': 'Пешеходный переход (регулируемый)',\n",
    "    'Регулируемый пешеходный переход, расположенный на участке улицы или дороги, проходящей вдоль территории школы или иной детской организации': 'Пешеходный переход (регулируемый)',\n",
    "\n",
    "    # Railway crossings\n",
    "    'Регулируемый ж/д переезд с дежурным': 'Ж/д переезд (регулируемый)',\n",
    "    'Регулируемый ж/д переезд без дежурного': 'Ж/д переезд (регулируемый)',\n",
    "\n",
    "    'Нерегулируемый ж/д переезд': 'Ж/д переезд (нерегулируемый)',\n",
    "\n",
    "    # Crossroads\n",
    "    'Регулируемый перекресток': 'Перекрёсток (регулируемый)',\n",
    "\n",
    "    'Нерегулируемый перекрёсток неравнозначных улиц (дорог)': 'Перекрёсток (нерегулируемый)',\n",
    "    'Нерегулируемый перекрёсток равнозначных улиц (дорог)': 'Перекрёсток (нерегулируемый)',\n",
    "\n",
    "    'Нерегулируемое пересечение с круговым движением': 'Перекрёсток (круговое)',\n",
    "\n",
    "    # Public transport\n",
    "    'Остановка маршрутного такси': 'Остановка',\n",
    "    'Остановка общественного транспорта': 'Остановка',\n",
    "    'Остановка трамвая': 'Остановка',\n",
    "\n",
    "    # Ice crossing\n",
    "    'Ледовая переправа': 'Ледовая переправа',\n",
    "    'Ледовая переправа(официально открытая и оборудованная)': 'Ледовая переправа',\n",
    "    'Стихийно возникшая (не предусмотренная) ледовая переправа': 'Ледовая переправа',\n",
    "\n",
    "    # Bridges and tunnels\n",
    "    'Мост, эстакада, путепровод': 'Мост/эстакада/тоннель',\n",
    "    'Подход к мосту, эстакаде, путепроводу': 'Мост/эстакада/тоннель',\n",
    "    'Тоннель': 'Мост/эстакада/тоннель',\n",
    "\n",
    "    # Parking, parking lot, adjacent territory\n",
    "    'Автостоянка (отделенная от проезжей части)': 'Стоянка',\n",
    "    'Автостоянка (не отделённая от проезжей части)': 'Стоянка',\n",
    "    'АЗС': 'Стоянка',\n",
    "    'Гаражные постройки (гаражный кооператив, товарищество либо иное место концентрированного размещения гаражей)': 'Стоянка',\n",
    "    \n",
    "    'Выезд с прилегающей территории': 'Прилегающая территория',\n",
    "    'Внутридворовая территория': 'Прилегающая территория',\n",
    "\n",
    "    # Pedestrian areas\n",
    "    'Пешеходная зона': 'Пешеходная зона',\n",
    "    'Тротуар, пешеходная дорожка': 'Пешеходная зона',\n",
    "\n",
    "    # Other\n",
    "    'Место для перегона скота': 'Прочее',\n",
    "    'Перегон (нет объектов на месте ДТП)': 'Прочее',\n",
    "    'Иное место': 'Прочее'\n",
    "}\n",
    "\n",
    "\n",
    "df['sdor'] = df['sdor'].replace(replace_map)\n",
    "sorted(df['sdor'].unique())"
   ]
  },
  {
   "cell_type": "code",
   "execution_count": 307,
   "metadata": {},
   "outputs": [],
   "source": [
    "le = LabelEncoder()\n",
    "df['sdor_cat'] = le.fit_transform(df['sdor'])"
   ]
  },
  {
   "cell_type": "markdown",
   "metadata": {},
   "source": [
    "---\n",
    "\n",
    "__13. bodily harm — ...__"
   ]
  },
  {
   "cell_type": "markdown",
   "metadata": {},
   "source": [
    "Also has multiple classes."
   ]
  },
  {
   "cell_type": "code",
   "execution_count": 308,
   "metadata": {},
   "outputs": [
    {
     "name": "stdout",
     "output_type": "stream",
     "text": [
      "1. Не пострадал\n",
      "2. Получил телесные повреждения с показанием к лечению в медицинских организациях (кроме разовой медицинской помощи)\n",
      "3. Получил телесные повреждения с показанием к лечению в медицинских организациях, фактически лечение не проходил, к категории раненый не относится\n",
      "4. Получил травмы с оказанием разовой медицинской помощи, к категории раненый не относится\n",
      "5. Раненый, находящийся (находившийся)  на амбулаторном лечении, либо которому по характеру полученных травм обозначена необходимость амбулаторного лечения (вне зависимости от его фактического прохождения)\n",
      "6. Раненый, находящийся (находившийся) на амбулаторном лечении, либо в условиях дневного стационара\n",
      "7. Раненый, находящийся (находившийся) на стационарном лечении\n",
      "8. Скончался в течение 1 суток\n",
      "9. Скончался в течение 10 суток\n",
      "10. Скончался в течение 11 суток\n",
      "11. Скончался в течение 12 суток\n",
      "12. Скончался в течение 13 суток\n",
      "13. Скончался в течение 14 суток\n",
      "14. Скончался в течение 15 суток\n",
      "15. Скончался в течение 16 суток\n",
      "16. Скончался в течение 17 суток\n",
      "17. Скончался в течение 18 суток\n",
      "18. Скончался в течение 19 суток\n",
      "19. Скончался в течение 2 суток\n",
      "20. Скончался в течение 20 суток\n",
      "21. Скончался в течение 21 суток\n",
      "22. Скончался в течение 22 суток\n",
      "23. Скончался в течение 23 суток\n",
      "24. Скончался в течение 24 суток\n",
      "25. Скончался в течение 25 суток\n",
      "26. Скончался в течение 26 суток\n",
      "27. Скончался в течение 27 суток\n",
      "28. Скончался в течение 28 суток\n",
      "29. Скончался в течение 29 суток\n",
      "30. Скончался в течение 3 суток\n",
      "31. Скончался в течение 30 суток\n",
      "32. Скончался в течение 4 суток\n",
      "33. Скончался в течение 5 суток\n",
      "34. Скончался в течение 6 суток\n",
      "35. Скончался в течение 7 суток\n",
      "36. Скончался в течение 8 суток\n",
      "37. Скончался в течение 9 суток\n",
      "38. Скончался на месте ДТП до приезда скорой медицинской помощи\n",
      "39. Скончался на месте ДТП по прибытию скорой медицинской помощи, но до транспортировки в мед. организацию\n",
      "40. Скончался на месте ДТП по прибытию скорой медицинской помощи, но до транспортировки в медицинское учреждение\n",
      "41. Скончался при транспортировке\n"
     ]
    }
   ],
   "source": [
    "df['bodily harm'] = df['bodily harm'].apply(ast.literal_eval)       # from string \"{}\" to real set {}\n",
    "\n",
    "all_harms = set()\n",
    "\n",
    "for harm in df['bodily harm']:\n",
    "    all_harms.update(harm)\n",
    "\n",
    "unique_harms = sorted(all_harms)\n",
    "for i, v in enumerate(unique_harms, 1):\n",
    "    print(f\"{i}. {v}\")"
   ]
  },
  {
   "cell_type": "code",
   "execution_count": 309,
   "metadata": {},
   "outputs": [],
   "source": [
    "replace_map = {\n",
    "    # No harm\n",
    "    'Не пострадал': 'Не пострадал',\n",
    "\n",
    "    # Minor injuries (not wounds)\n",
    "    'Получил телесные повреждения с показанием к лечению в медицинских организациях, фактически лечение не проходил, к категории раненый не относится': 'Лёгкая травма',\n",
    "    'Получил травмы с оказанием разовой медицинской помощи, к категории раненый не относится': 'Лёгкая травма',\n",
    "\n",
    "    # Moderate injuries (not hospitalization)\n",
    "    'Получил телесные повреждения с показанием к лечению в медицинских организациях (кроме разовой медицинской помощи)': 'Травма (без госпитализации)',\n",
    "    'Раненый, находящийся (находившийся)  на амбулаторном лечении, либо которому по характеру полученных травм обозначена необходимость амбулаторного лечения (вне зависимости от его фактического прохождения)': 'Травма (без госпитализации)',\n",
    "    'Раненый, находящийся (находившийся) на амбулаторном лечении, либо в условиях дневного стационара': 'Травма (без госпитализации)',\n",
    "\n",
    "    # Severe injuries (hospitalization)\n",
    "    'Раненый, находящийся (находившийся) на стационарном лечении': 'Травма (госпитализация)',\n",
    "\n",
    "    # Death on the spot\n",
    "    'Скончался на месте ДТП до приезда скорой медицинской помощи': 'Смерть на месте',\n",
    "    'Скончался на месте ДТП по прибытию скорой медицинской помощи, но до транспортировки в мед. организацию': 'Смерть на месте',\n",
    "    'Скончался на месте ДТП по прибытию скорой медицинской помощи, но до транспортировки в медицинское учреждение': 'Смерть на месте',\n",
    "\n",
    "    # Death during transportation\n",
    "    'Скончался при транспортировке': 'Смерть при транспортировке',\n",
    "\n",
    "    # Death\n",
    "    'Скончался в течение 1 суток': 'Смерть в течение 30 суток',\n",
    "    'Скончался в течение 2 суток': 'Смерть в течение 30 суток',\n",
    "    'Скончался в течение 3 суток': 'Смерть в течение 30 суток',\n",
    "    'Скончался в течение 4 суток': 'Смерть в течение 30 суток',\n",
    "    'Скончался в течение 5 суток': 'Смерть в течение 30 суток',\n",
    "    'Скончался в течение 6 суток': 'Смерть в течение 30 суток',\n",
    "    'Скончался в течение 7 суток': 'Смерть в течение 30 суток',\n",
    "    'Скончался в течение 8 суток': 'Смерть в течение 30 суток',\n",
    "    'Скончался в течение 9 суток': 'Смерть в течение 30 суток',\n",
    "    'Скончался в течение 10 суток': 'Смерть в течение 30 суток',\n",
    "    'Скончался в течение 11 суток': 'Смерть в течение 30 суток',\n",
    "    'Скончался в течение 12 суток': 'Смерть в течение 30 суток',\n",
    "    'Скончался в течение 13 суток': 'Смерть в течение 30 суток',\n",
    "    'Скончался в течение 14 суток': 'Смерть в течение 30 суток',\n",
    "    'Скончался в течение 15 суток': 'Смерть в течение 30 суток',\n",
    "    'Скончался в течение 16 суток': 'Смерть в течение 30 суток',\n",
    "    'Скончался в течение 17 суток': 'Смерть в течение 30 суток',\n",
    "    'Скончался в течение 18 суток': 'Смерть в течение 30 суток',\n",
    "    'Скончался в течение 19 суток': 'Смерть в течение 30 суток',\n",
    "    'Скончался в течение 20 суток': 'Смерть в течение 30 суток',\n",
    "    'Скончался в течение 21 суток': 'Смерть в течение 30 суток',\n",
    "    'Скончался в течение 22 суток': 'Смерть в течение 30 суток',\n",
    "    'Скончался в течение 23 суток': 'Смерть в течение 30 суток',\n",
    "    'Скончался в течение 24 суток': 'Смерть в течение 30 суток',\n",
    "    'Скончался в течение 25 суток': 'Смерть в течение 30 суток',\n",
    "    'Скончался в течение 26 суток': 'Смерть в течение 30 суток',\n",
    "    'Скончался в течение 27 суток': 'Смерть в течение 30 суток',\n",
    "    'Скончался в течение 28 суток': 'Смерть в течение 30 суток',\n",
    "    'Скончался в течение 29 суток': 'Смерть в течение 30 суток',\n",
    "    'Скончался в течение 30 суток': 'Смерть в течение 30 суток',\n",
    "}\n",
    "\n",
    "def map_violation_set(violation_set):\n",
    "    return set(replace_map.get(v, v) for v in violation_set)\n",
    "\n",
    "df['bodily harm'] = df['bodily harm'].apply(map_violation_set)"
   ]
  },
  {
   "cell_type": "code",
   "execution_count": 310,
   "metadata": {},
   "outputs": [
    {
     "name": "stdout",
     "output_type": "stream",
     "text": [
      "1. Лёгкая травма\n",
      "2. Не пострадал\n",
      "3. Смерть в течение 30 суток\n",
      "4. Смерть на месте\n",
      "5. Смерть при транспортировке\n",
      "6. Травма (без госпитализации)\n",
      "7. Травма (госпитализация)\n"
     ]
    }
   ],
   "source": [
    "all_harms = set()\n",
    "\n",
    "for harm in df['bodily harm']:\n",
    "    all_harms.update(harm)\n",
    "\n",
    "unique_harms = sorted(all_harms)\n",
    "for i, v in enumerate(unique_harms, 1):\n",
    "    print(f\"{i}. {v}\")"
   ]
  },
  {
   "cell_type": "code",
   "execution_count": 311,
   "metadata": {},
   "outputs": [
    {
     "name": "stdout",
     "output_type": "stream",
     "text": [
      "Previous num of features: 93\n",
      "\n",
      "Current num of features: 100\n"
     ]
    }
   ],
   "source": [
    "print(f\"Previous num of features: {df.shape[1]}\\n\")\n",
    "\n",
    "mlb = MultiLabelBinarizer()\n",
    "harms_encoded = pd.DataFrame(\n",
    "    mlb.fit_transform(df['bodily harm']),\n",
    "    columns=mlb.classes_,\n",
    "    index=df.index\n",
    ")\n",
    "\n",
    "df = pd.concat([df, harms_encoded], axis=1)\n",
    "\n",
    "print(f\"Current num of features: {df.shape[1]}\")"
   ]
  },
  {
   "cell_type": "markdown",
   "metadata": {},
   "source": [
    "---"
   ]
  },
  {
   "cell_type": "code",
   "execution_count": 312,
   "metadata": {},
   "outputs": [],
   "source": [
    "# drop raw categorial features\n",
    "drop_columns.extend(cat_cols)"
   ]
  },
  {
   "cell_type": "markdown",
   "metadata": {},
   "source": [
    "## Drop unnecessary columns"
   ]
  },
  {
   "cell_type": "code",
   "execution_count": 313,
   "metadata": {},
   "outputs": [
    {
     "name": "stdout",
     "output_type": "stream",
     "text": [
      "Features left: 79, in the begining was: 91\n"
     ]
    }
   ],
   "source": [
    "df = df.drop(drop_columns, axis=1)\n",
    "\n",
    "print(f\"Features left: {df.shape[1]}, in the begining was: {features_number}\")"
   ]
  },
  {
   "cell_type": "code",
   "execution_count": 314,
   "metadata": {},
   "outputs": [
    {
     "data": {
      "text/plain": [
       "Index(['date', 'COORD_L', 'COORD_W', 'dor', 'dor_k', 's_dtp', 'KTS', 'KUCH',\n",
       "       'kartId', 'POG', 'RAN', 'time', 'any TV technical failures',\n",
       "       'any non-private vehicles', 'any russian vehicles',\n",
       "       'any white vehicles', 'any black vehicles', 'any colored vehicles',\n",
       "       'any drunk drivers', 'any female drivers', 'any escaped participants',\n",
       "       'any concomitant traffic violations',\n",
       "       'any injuries without safety belt', 'num drunk participants',\n",
       "       'num child restraints', 'num cyclists', 'num pedestrians',\n",
       "       'min vehicles age', 'max vehicles age', 'avg vehicles age',\n",
       "       'num A-class vehicles', 'num B-class vehicles', 'num C-class vehicles',\n",
       "       'num D-class vehicles', 'num E-class vehicles', 'num S-class vehicles',\n",
       "       'num non-car vehicles', 'num front-wheel-drive vehicles',\n",
       "       'num rear-wheel-drive vehicles', 'num four-wheel-drive vehicles',\n",
       "       'num guilty objects', 'share guilty vehicles',\n",
       "       'num fatal traffic violations', 'guilty drivers avg experience',\n",
       "       'drivers avg experience', 'number fatal traffic violations',\n",
       "       'dor_z_cat', 'ndu_cat', 'CHOM_cat', 's_pch_cat', 'DTPV_cat',\n",
       "       'out_of_town', 'k_ul_cat', 'spog_cat', 'OBJ_DTP_cat', 'factor_cat',\n",
       "       'Велосипед', 'Выезд на встречку', 'Другое', 'Манёвры',\n",
       "       'Общественный транспорт', 'Остановка/стоянка', 'Перевозка', 'Пешеходы',\n",
       "       'Проезд', 'Разметка/знаки', 'Регулирование', 'Сигналы', 'Скорость',\n",
       "       'Технеисправности', 'osv_cat', 'sdor_cat', 'Лёгкая травма',\n",
       "       'Не пострадал', 'Смерть в течение 30 суток', 'Смерть на месте',\n",
       "       'Смерть при транспортировке', 'Травма (без госпитализации)',\n",
       "       'Травма (госпитализация)'],\n",
       "      dtype='object')"
      ]
     },
     "execution_count": 314,
     "metadata": {},
     "output_type": "execute_result"
    }
   ],
   "source": [
    "df.columns"
   ]
  },
  {
   "cell_type": "markdown",
   "metadata": {},
   "source": [
    "## Processing the data gaps (part 2) with ML algorithms"
   ]
  },
  {
   "cell_type": "markdown",
   "metadata": {},
   "source": [
    "After initial processing of gaps there are still columns with NaN. In this part we will fill them using machine learning methods."
   ]
  },
  {
   "cell_type": "code",
   "execution_count": 315,
   "metadata": {},
   "outputs": [
    {
     "name": "stdout",
     "output_type": "stream",
     "text": [
      "Columns for proceed:\n",
      "\n",
      "'dor_k' — 11652 gaps\n",
      "'min vehicles age' — 6208 gaps\n",
      "'max vehicles age' — 6208 gaps\n",
      "'avg vehicles age' — 6208 gaps\n",
      "\n",
      "Current num of obs: 473194\n"
     ]
    }
   ],
   "source": [
    "cols_with_gaps = df.columns[df.isna().any()].tolist()\n",
    "\n",
    "print('Columns for proceed:\\n')\n",
    "for col in cols_with_gaps:\n",
    "    gaps = df[col].isna().sum()\n",
    "    print(f\"'{col}' — {gaps} gaps\")\n",
    "\n",
    "print(f\"\\nCurrent num of obs: {df.shape[0]}\")"
   ]
  },
  {
   "cell_type": "code",
   "execution_count": 316,
   "metadata": {},
   "outputs": [],
   "source": [
    "df_ml = df.copy()\n",
    "\n",
    "# encoding 'dor'\n",
    "le = LabelEncoder()\n",
    "df_ml['dor_encoded'] = le.fit_transform(df_ml['dor'])"
   ]
  },
  {
   "cell_type": "code",
   "execution_count": 317,
   "metadata": {},
   "outputs": [
    {
     "name": "stdout",
     "output_type": "stream",
     "text": [
      "Num of obs in train DataFrame: 455568\n"
     ]
    }
   ],
   "source": [
    "# train models to dill the gaps on these data\n",
    "df_train = df_ml.dropna()\n",
    "print(f\"Num of obs in train DataFrame: {df_train.shape[0]}\")"
   ]
  },
  {
   "cell_type": "markdown",
   "metadata": {},
   "source": [
    "#### **'dor_k'**"
   ]
  },
  {
   "cell_type": "code",
   "execution_count": 318,
   "metadata": {},
   "outputs": [
    {
     "data": {
      "text/plain": [
       "array([ 5.,  6.,  7.,  3.,  4.,  2.,  1.,  8., nan])"
      ]
     },
     "execution_count": 318,
     "metadata": {},
     "output_type": "execute_result"
    }
   ],
   "source": [
    "df['dor_k'].unique()"
   ]
  },
  {
   "cell_type": "markdown",
   "metadata": {},
   "source": [
    "Analysis shows that `'dor_k'` is a categorical preproceed feature."
   ]
  },
  {
   "cell_type": "code",
   "execution_count": 319,
   "metadata": {},
   "outputs": [
    {
     "name": "stdout",
     "output_type": "stream",
     "text": [
      "Classification report:\n",
      "               precision    recall  f1-score   support\n",
      "\n",
      "           1       0.62      0.67      0.65      7249\n",
      "           2       0.55      0.47      0.51      5393\n",
      "           3       0.48      0.34      0.40      3721\n",
      "           4       0.72      0.77      0.74     22801\n",
      "           5       0.79      0.82      0.81     27332\n",
      "           6       0.80      0.80      0.80     19786\n",
      "           7       0.66      0.50      0.57      2172\n",
      "           8       0.74      0.56      0.64      2660\n",
      "\n",
      "    accuracy                           0.74     91114\n",
      "   macro avg       0.67      0.62      0.64     91114\n",
      "weighted avg       0.73      0.74      0.73     91114\n",
      "\n"
     ]
    }
   ],
   "source": [
    "from sklearn.model_selection import train_test_split\n",
    "from sklearn.preprocessing import LabelEncoder, StandardScaler\n",
    "from sklearn.neighbors import KNeighborsClassifier\n",
    "from sklearn.metrics import classification_report\n",
    "\n",
    "df_knn = df_train[['dor_encoded', 'dor_z_cat', 'COORD_L', 'COORD_W', 'dor_k']]\n",
    "\n",
    "X = df_knn[['dor_encoded', 'dor_z_cat', 'COORD_L', 'COORD_W']]\n",
    "y = df_knn['dor_k'].astype(int)\n",
    "\n",
    "# normalize\n",
    "scaler = StandardScaler()\n",
    "X_scaled = scaler.fit_transform(X)\n",
    "\n",
    "X_train, X_val, y_train, y_val = train_test_split(\n",
    "    X_scaled, y, test_size=0.2, random_state=42, stratify=y\n",
    ")\n",
    "\n",
    "knn = KNeighborsClassifier(n_neighbors=5)\n",
    "knn.fit(X_train, y_train)\n",
    "\n",
    "y_pred = knn.predict(X_val)\n",
    "\n",
    "print(\"Classification report:\\n\", classification_report(y_val, y_pred))"
   ]
  },
  {
   "cell_type": "code",
   "execution_count": 320,
   "metadata": {},
   "outputs": [],
   "source": [
    "df_missing = df_ml[df_ml['dor_k'].isna()]\n",
    "\n",
    "X_missing = df_missing[['dor_encoded', 'dor_z_cat', 'COORD_L', 'COORD_W']]\n",
    "X_missing_scaled = scaler.transform(X_missing)\n",
    "\n",
    "predicted_dor_k = knn.predict(X_missing_scaled)\n",
    "\n",
    "# Записываем результат обратно в основной DataFrame\n",
    "df.loc[df_missing.index, 'dor_k'] = predicted_dor_k"
   ]
  },
  {
   "cell_type": "code",
   "execution_count": 321,
   "metadata": {},
   "outputs": [
    {
     "name": "stdout",
     "output_type": "stream",
     "text": [
      "Column 'dor_k' has 0 gaps.\n"
     ]
    }
   ],
   "source": [
    "gaps = df['dor_k'].isna().sum()\n",
    "print(f\"Column 'dor_k' has {gaps} gaps.\")"
   ]
  },
  {
   "cell_type": "markdown",
   "metadata": {},
   "source": [
    "#### **'min vehicles age', 'max vehicles age', 'avg vehicles age'**"
   ]
  },
  {
   "cell_type": "code",
   "execution_count": 322,
   "metadata": {},
   "outputs": [
    {
     "data": {
      "text/plain": [
       "min vehicles age    float64\n",
       "max vehicles age    float64\n",
       "avg vehicles age    float64\n",
       "dtype: object"
      ]
     },
     "execution_count": 322,
     "metadata": {},
     "output_type": "execute_result"
    }
   ],
   "source": [
    "df[['min vehicles age', 'max vehicles age', 'avg vehicles age']].dtypes"
   ]
  },
  {
   "cell_type": "code",
   "execution_count": 323,
   "metadata": {},
   "outputs": [
    {
     "name": "stdout",
     "output_type": "stream",
     "text": [
      "MAE (min vehicles age): 6.42\n",
      "MAE (max vehicles age): 4.94\n",
      "MAE (avg vehicles age): 5.29\n",
      "\n",
      "Overall MAE (all targets averaged): 5.55\n"
     ]
    }
   ],
   "source": [
    "features = [\n",
    "    'KTS', 'KUCH', 'any non-private vehicles', 'any russian vehicles',\n",
    "    'any drunk drivers', 'any escaped participants',\n",
    "    'num A-class vehicles', 'num B-class vehicles', 'num C-class vehicles',\n",
    "    'num D-class vehicles', 'num E-class vehicles', 'num S-class vehicles',\n",
    "    'num non-car vehicles', 'num front-wheel-drive vehicles',\n",
    "    'num rear-wheel-drive vehicles', 'num four-wheel-drive vehicles',\n",
    "    'drivers avg experience', 'guilty drivers avg experience',\n",
    "    'any TV technical failures',\n",
    "    'spog_cat', 'osv_cat', 'factor_cat', 'out_of_town'\n",
    "]\n",
    "\n",
    "X = df_train[features]\n",
    "y = df_train[['min vehicles age', 'max vehicles age', 'avg vehicles age']].astype(int)\n",
    "\n",
    "X_train, X_test, y_train, y_test = train_test_split(X, y, test_size=0.2, random_state=42)\n",
    "\n",
    "model = MultiOutputRegressor(GradientBoostingRegressor(random_state=42))\n",
    "model.fit(X_train, y_train)\n",
    "\n",
    "y_pred = model.predict(X_test)\n",
    "\n",
    "mae = mean_absolute_error(y_test, y_pred)\n",
    "mae_min = mean_absolute_error(y_test.iloc[:, 0], y_pred[:, 0])\n",
    "mae_max = mean_absolute_error(y_test.iloc[:, 1], y_pred[:, 1])\n",
    "mae_avg = mean_absolute_error(y_test.iloc[:, 2], y_pred[:, 2])\n",
    "\n",
    "print(f\"MAE (min vehicles age): {mae_min:.2f}\")\n",
    "print(f\"MAE (max vehicles age): {mae_max:.2f}\")\n",
    "print(f\"MAE (avg vehicles age): {mae_avg:.2f}\")\n",
    "print(f\"\\nOverall MAE (all targets averaged): {mae:.2f}\")"
   ]
  },
  {
   "cell_type": "code",
   "execution_count": 324,
   "metadata": {},
   "outputs": [],
   "source": [
    "features = [\n",
    "    'KTS', 'KUCH', 'any non-private vehicles', 'any russian vehicles',\n",
    "    'any drunk drivers', 'any escaped participants',\n",
    "    'num A-class vehicles', 'num B-class vehicles', 'num C-class vehicles',\n",
    "    'num D-class vehicles', 'num E-class vehicles', 'num S-class vehicles',\n",
    "    'num non-car vehicles', 'num front-wheel-drive vehicles',\n",
    "    'num rear-wheel-drive vehicles', 'num four-wheel-drive vehicles',\n",
    "    'drivers avg experience', 'guilty drivers avg experience',\n",
    "    'any TV technical failures',\n",
    "    'spog_cat', 'osv_cat', 'factor_cat', 'out_of_town'\n",
    "]\n",
    "\n",
    "df_missing = df_ml[df_ml[['min vehicles age', 'max vehicles age', 'avg vehicles age']].isna().any(axis=1)]\n",
    "X_missing = df_missing[features]\n",
    "\n",
    "y_pred = model.predict(X_missing)\n",
    "\n",
    "y_pred_fixed = y_pred.copy()\n",
    "\n",
    "for i in range(y_pred.shape[0]):\n",
    "    min_val, max_val, avg_val = y_pred[i]\n",
    "\n",
    "    min_val = min(min_val, avg_val, max_val)\n",
    "    max_val = max(min_val, avg_val, max_val)\n",
    "    avg_val = max(min_val, min(avg_val, max_val))\n",
    "\n",
    "    y_pred_fixed[i] = [min_val, max_val, avg_val]\n",
    "\n",
    "\n",
    "df.loc[df_missing.index, 'min vehicles age'] = y_pred_fixed[:, 0]\n",
    "df.loc[df_missing.index, 'max vehicles age'] = y_pred_fixed[:, 1]\n",
    "df.loc[df_missing.index, 'avg vehicles age'] = y_pred_fixed[:, 2]"
   ]
  },
  {
   "cell_type": "code",
   "execution_count": 325,
   "metadata": {},
   "outputs": [
    {
     "name": "stdout",
     "output_type": "stream",
     "text": [
      "Column 'min vehicles age' has 0 gaps.\n",
      "Column 'max vehicles age' has 0 gaps.\n",
      "Column 'avg vehicles age' has 0 gaps.\n"
     ]
    }
   ],
   "source": [
    "gaps = df['min vehicles age'].isna().sum()\n",
    "print(f\"Column 'min vehicles age' has {gaps} gaps.\")\n",
    "\n",
    "gaps = df['max vehicles age'].isna().sum()\n",
    "print(f\"Column 'max vehicles age' has {gaps} gaps.\")\n",
    "\n",
    "gaps = df['avg vehicles age'].isna().sum()\n",
    "print(f\"Column 'avg vehicles age' has {gaps} gaps.\")"
   ]
  },
  {
   "cell_type": "code",
   "execution_count": 326,
   "metadata": {},
   "outputs": [
    {
     "data": {
      "text/plain": [
       "0"
      ]
     },
     "execution_count": 326,
     "metadata": {},
     "output_type": "execute_result"
    }
   ],
   "source": [
    "df.isna().any().sum()"
   ]
  },
  {
   "cell_type": "markdown",
   "metadata": {},
   "source": [
    "## Rename the columns"
   ]
  },
  {
   "cell_type": "code",
   "execution_count": 327,
   "metadata": {},
   "outputs": [],
   "source": [
    "new_column_names = {\n",
    "    'DTPV': 'RTA type',\n",
    "    'kartId': 'RTA number',\n",
    "    'CHOM': 'traffic changes info',\n",
    "    'dor_z': 'road significance',\n",
    "    'factor': 'factors influenced traffic',\n",
    "    'k_ul': 'street significance',\n",
    "    'km': 'RTA road km',\n",
    "    'm': 'RTA road m',\n",
    "    'ndu': 'road network maintenance defects',\n",
    "    'OBJ_DTP': 'RTA-adjacent road objects',\n",
    "    'osv': 'lighting',\n",
    "    's_pch': 'road surface condition',\n",
    "    'sdor': 'RTA site road objects',\n",
    "    'spog': 'weather',\n",
    "    'KTS': 'RTA vehicle number',\n",
    "    'KUCH': 'RTA participants number',\n",
    "    'POG': 'number of deaths',\n",
    "    'RAN': 'number of wounded',\n",
    "    'time': 'RTA time',\n",
    "\n",
    "    'Велосипед': 'bicycle_related',\n",
    "    'Выезд на встречку': 'wrong_way_driving',\n",
    "    'Другое': 'other_violation',\n",
    "    'Манёвры': 'maneuvers',\n",
    "    'Общественный транспорт': 'public_transport',\n",
    "    'Остановка/стоянка': 'stopping_or_parking',\n",
    "    'Перевозка': 'transport_violation',\n",
    "    'Пешеходы': 'pedestrian_related',\n",
    "    'Проезд': 'intersection_crossing',\n",
    "    'Разметка/знаки': 'markings_or_signs',\n",
    "    'Регулирование': 'traffic_control_violation',\n",
    "    'Сигналы': 'signal_violation',\n",
    "    'Скорость': 'speeding',\n",
    "    'Технеисправности': 'technical_malfunction',\n",
    "    'osv_cat': 'lighting_condition',\n",
    "    'sdor_cat': 'road_object_type',\n",
    "    'Лёгкая травма': 'minor_injury',\n",
    "    'Не пострадал': 'no_injury',\n",
    "    'Смерть в течение 30 суток': 'death_within_30_days',\n",
    "    'Смерть на месте': 'death_at_scene',\n",
    "    'Смерть при транспортировке': 'death_during_transport',\n",
    "    'Травма (без госпитализации)': 'injury_no_hospitalization',\n",
    "    'Травма (госпитализация)': 'injury_with_hospitalization'\n",
    "}\n",
    "\n",
    "\n",
    "df = df.rename(columns=new_column_names)"
   ]
  },
  {
   "cell_type": "code",
   "execution_count": 328,
   "metadata": {},
   "outputs": [
    {
     "data": {
      "text/plain": [
       "(473194, 79)"
      ]
     },
     "execution_count": 328,
     "metadata": {},
     "output_type": "execute_result"
    }
   ],
   "source": [
    "df.shape"
   ]
  },
  {
   "cell_type": "code",
   "execution_count": 329,
   "metadata": {},
   "outputs": [],
   "source": [
    "df.to_csv('DTP_DATA_2025_PROCESSED.csv')"
   ]
  }
 ],
 "metadata": {
  "kernelspec": {
   "display_name": "Python 3",
   "language": "python",
   "name": "python3"
  },
  "language_info": {
   "codemirror_mode": {
    "name": "ipython",
    "version": 3
   },
   "file_extension": ".py",
   "mimetype": "text/x-python",
   "name": "python",
   "nbconvert_exporter": "python",
   "pygments_lexer": "ipython3",
   "version": "3.9.7"
  }
 },
 "nbformat": 4,
 "nbformat_minor": 2
}
