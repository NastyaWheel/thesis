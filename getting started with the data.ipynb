{
 "cells": [
  {
   "cell_type": "code",
   "execution_count": 1,
   "metadata": {},
   "outputs": [],
   "source": [
    "import pandas as pd\n",
    "import numpy as np\n",
    "import matplotlib.pyplot as plt"
   ]
  },
  {
   "cell_type": "code",
   "execution_count": 2,
   "metadata": {},
   "outputs": [
    {
     "name": "stderr",
     "output_type": "stream",
     "text": [
      "C:\\Users\\Настя\\AppData\\Local\\Temp\\ipykernel_28088\\4109715133.py:1: DtypeWarning: Columns (6,7,28,38,45) have mixed types. Specify dtype option on import or set low_memory=False.\n",
      "  df = pd.read_csv('DTP_DATA_2025.csv')\n"
     ]
    },
    {
     "name": "stdout",
     "output_type": "stream",
     "text": [
      "(1475674, 91)\n"
     ]
    },
    {
     "data": {
      "text/html": [
       "<div>\n",
       "<style scoped>\n",
       "    .dataframe tbody tr th:only-of-type {\n",
       "        vertical-align: middle;\n",
       "    }\n",
       "\n",
       "    .dataframe tbody tr th {\n",
       "        vertical-align: top;\n",
       "    }\n",
       "\n",
       "    .dataframe thead th {\n",
       "        text-align: right;\n",
       "    }\n",
       "</style>\n",
       "<table border=\"1\" class=\"dataframe\">\n",
       "  <thead>\n",
       "    <tr style=\"text-align: right;\">\n",
       "      <th></th>\n",
       "      <th>DTPV</th>\n",
       "      <th>date</th>\n",
       "      <th>district</th>\n",
       "      <th>EMTP_NUMBER</th>\n",
       "      <th>CHOM</th>\n",
       "      <th>COORD_L</th>\n",
       "      <th>COORD_W</th>\n",
       "      <th>dor</th>\n",
       "      <th>dor_k</th>\n",
       "      <th>dor_z</th>\n",
       "      <th>...</th>\n",
       "      <th>num rear-wheel-drive vehicles</th>\n",
       "      <th>num four-wheel-drive vehicles</th>\n",
       "      <th>num guilty objects</th>\n",
       "      <th>share guilty vehicles</th>\n",
       "      <th>fatal traffic violation(s)</th>\n",
       "      <th>num fatal traffic violations</th>\n",
       "      <th>bodily harm</th>\n",
       "      <th>guilty drivers' avg experience</th>\n",
       "      <th>drivers' avg experience</th>\n",
       "      <th>number fatal traffic violations</th>\n",
       "    </tr>\n",
       "  </thead>\n",
       "  <tbody>\n",
       "    <tr>\n",
       "      <th>0</th>\n",
       "      <td>Столкновение</td>\n",
       "      <td>31.01.2015</td>\n",
       "      <td>ЖЕЛЕЗНОДОРОЖНЫЙ</td>\n",
       "      <td>NaN</td>\n",
       "      <td>Движение частично перекрыто</td>\n",
       "      <td>83.740833</td>\n",
       "      <td>53.333056</td>\n",
       "      <td>NaN</td>\n",
       "      <td>NaN</td>\n",
       "      <td>Не указано</td>\n",
       "      <td>...</td>\n",
       "      <td>0</td>\n",
       "      <td>0</td>\n",
       "      <td>1</td>\n",
       "      <td>0.5</td>\n",
       "      <td>{'Другие нарушения ПДД водителем'}</td>\n",
       "      <td>0</td>\n",
       "      <td>{'Раненый, находящийся (находившийся)  на амбу...</td>\n",
       "      <td>15.0</td>\n",
       "      <td>13.0</td>\n",
       "      <td>1</td>\n",
       "    </tr>\n",
       "    <tr>\n",
       "      <th>1</th>\n",
       "      <td>Наезд на пешехода</td>\n",
       "      <td>31.01.2015</td>\n",
       "      <td>АЛЕЙСКИЙ</td>\n",
       "      <td>NaN</td>\n",
       "      <td>Режим движения не изменялся</td>\n",
       "      <td>82.462778</td>\n",
       "      <td>52.245833</td>\n",
       "      <td>А-322 Барнаул - Рубцовск - граница с Республик...</td>\n",
       "      <td>3.0</td>\n",
       "      <td>Федеральная (дорога федерального значения)</td>\n",
       "      <td>...</td>\n",
       "      <td>0</td>\n",
       "      <td>0</td>\n",
       "      <td>1</td>\n",
       "      <td>1.0</td>\n",
       "      <td>{'Нахождение на проезжей части без цели её пер...</td>\n",
       "      <td>0</td>\n",
       "      <td>{'Раненый, находящийся (находившийся) на стаци...</td>\n",
       "      <td>NaN</td>\n",
       "      <td>5.0</td>\n",
       "      <td>1</td>\n",
       "    </tr>\n",
       "    <tr>\n",
       "      <th>2</th>\n",
       "      <td>Наезд на пешехода</td>\n",
       "      <td>31.01.2015</td>\n",
       "      <td>ИНДУСТРИАЛЬНЫЙ</td>\n",
       "      <td>NaN</td>\n",
       "      <td>Движение частично перекрыто</td>\n",
       "      <td>83.501944</td>\n",
       "      <td>53.274167</td>\n",
       "      <td>NaN</td>\n",
       "      <td>NaN</td>\n",
       "      <td>Не указано</td>\n",
       "      <td>...</td>\n",
       "      <td>0</td>\n",
       "      <td>0</td>\n",
       "      <td>2</td>\n",
       "      <td>2.0</td>\n",
       "      <td>{'Переход через проезжую часть вне пешеходного...</td>\n",
       "      <td>0</td>\n",
       "      <td>{'Раненый, находящийся (находившийся)  на амбу...</td>\n",
       "      <td>NaN</td>\n",
       "      <td>17.0</td>\n",
       "      <td>1</td>\n",
       "    </tr>\n",
       "    <tr>\n",
       "      <th>3</th>\n",
       "      <td>Наезд на пешехода</td>\n",
       "      <td>31.01.2015</td>\n",
       "      <td>ЦЕНТРАЛЬНЫЙ</td>\n",
       "      <td>NaN</td>\n",
       "      <td>Режим движения не изменялся</td>\n",
       "      <td>83.251667</td>\n",
       "      <td>53.285278</td>\n",
       "      <td>NaN</td>\n",
       "      <td>NaN</td>\n",
       "      <td>Не указано</td>\n",
       "      <td>...</td>\n",
       "      <td>0</td>\n",
       "      <td>0</td>\n",
       "      <td>1</td>\n",
       "      <td>1.0</td>\n",
       "      <td>{'Переход через проезжую часть вне пешеходного...</td>\n",
       "      <td>0</td>\n",
       "      <td>{'Раненый, находящийся (находившийся)  на амбу...</td>\n",
       "      <td>NaN</td>\n",
       "      <td>27.0</td>\n",
       "      <td>1</td>\n",
       "    </tr>\n",
       "    <tr>\n",
       "      <th>4</th>\n",
       "      <td>Наезд на пешехода</td>\n",
       "      <td>31.01.2015</td>\n",
       "      <td>ИНДУСТРИАЛЬНЫЙ</td>\n",
       "      <td>NaN</td>\n",
       "      <td>Движение частично перекрыто</td>\n",
       "      <td>83.708889</td>\n",
       "      <td>53.318333</td>\n",
       "      <td>NaN</td>\n",
       "      <td>NaN</td>\n",
       "      <td>Не указано</td>\n",
       "      <td>...</td>\n",
       "      <td>0</td>\n",
       "      <td>0</td>\n",
       "      <td>1</td>\n",
       "      <td>1.0</td>\n",
       "      <td>{'Переход через проезжую часть в неустановленн...</td>\n",
       "      <td>0</td>\n",
       "      <td>{'Раненый, находящийся (находившийся) на стаци...</td>\n",
       "      <td>NaN</td>\n",
       "      <td>1.0</td>\n",
       "      <td>1</td>\n",
       "    </tr>\n",
       "  </tbody>\n",
       "</table>\n",
       "<p>5 rows × 91 columns</p>\n",
       "</div>"
      ],
      "text/plain": [
       "                DTPV        date         district  EMTP_NUMBER  \\\n",
       "0       Столкновение  31.01.2015  ЖЕЛЕЗНОДОРОЖНЫЙ          NaN   \n",
       "1  Наезд на пешехода  31.01.2015         АЛЕЙСКИЙ          NaN   \n",
       "2  Наезд на пешехода  31.01.2015   ИНДУСТРИАЛЬНЫЙ          NaN   \n",
       "3  Наезд на пешехода  31.01.2015      ЦЕНТРАЛЬНЫЙ          NaN   \n",
       "4  Наезд на пешехода  31.01.2015   ИНДУСТРИАЛЬНЫЙ          NaN   \n",
       "\n",
       "                          CHOM    COORD_L    COORD_W  \\\n",
       "0  Движение частично перекрыто  83.740833  53.333056   \n",
       "1  Режим движения не изменялся  82.462778  52.245833   \n",
       "2  Движение частично перекрыто  83.501944  53.274167   \n",
       "3  Режим движения не изменялся  83.251667  53.285278   \n",
       "4  Движение частично перекрыто  83.708889  53.318333   \n",
       "\n",
       "                                                 dor  dor_k  \\\n",
       "0                                                NaN    NaN   \n",
       "1  А-322 Барнаул - Рубцовск - граница с Республик...    3.0   \n",
       "2                                                NaN    NaN   \n",
       "3                                                NaN    NaN   \n",
       "4                                                NaN    NaN   \n",
       "\n",
       "                                        dor_z  ...  \\\n",
       "0                                  Не указано  ...   \n",
       "1  Федеральная (дорога федерального значения)  ...   \n",
       "2                                  Не указано  ...   \n",
       "3                                  Не указано  ...   \n",
       "4                                  Не указано  ...   \n",
       "\n",
       "  num rear-wheel-drive vehicles num four-wheel-drive vehicles  \\\n",
       "0                             0                             0   \n",
       "1                             0                             0   \n",
       "2                             0                             0   \n",
       "3                             0                             0   \n",
       "4                             0                             0   \n",
       "\n",
       "  num guilty objects  share guilty vehicles  \\\n",
       "0                  1                    0.5   \n",
       "1                  1                    1.0   \n",
       "2                  2                    2.0   \n",
       "3                  1                    1.0   \n",
       "4                  1                    1.0   \n",
       "\n",
       "                          fatal traffic violation(s)  \\\n",
       "0                 {'Другие нарушения ПДД водителем'}   \n",
       "1  {'Нахождение на проезжей части без цели её пер...   \n",
       "2  {'Переход через проезжую часть вне пешеходного...   \n",
       "3  {'Переход через проезжую часть вне пешеходного...   \n",
       "4  {'Переход через проезжую часть в неустановленн...   \n",
       "\n",
       "  num fatal traffic violations  \\\n",
       "0                            0   \n",
       "1                            0   \n",
       "2                            0   \n",
       "3                            0   \n",
       "4                            0   \n",
       "\n",
       "                                         bodily harm  \\\n",
       "0  {'Раненый, находящийся (находившийся)  на амбу...   \n",
       "1  {'Раненый, находящийся (находившийся) на стаци...   \n",
       "2  {'Раненый, находящийся (находившийся)  на амбу...   \n",
       "3  {'Раненый, находящийся (находившийся)  на амбу...   \n",
       "4  {'Раненый, находящийся (находившийся) на стаци...   \n",
       "\n",
       "  guilty drivers' avg experience drivers' avg experience  \\\n",
       "0                           15.0                    13.0   \n",
       "1                            NaN                     5.0   \n",
       "2                            NaN                    17.0   \n",
       "3                            NaN                    27.0   \n",
       "4                            NaN                     1.0   \n",
       "\n",
       "   number fatal traffic violations  \n",
       "0                                1  \n",
       "1                                1  \n",
       "2                                1  \n",
       "3                                1  \n",
       "4                                1  \n",
       "\n",
       "[5 rows x 91 columns]"
      ]
     },
     "execution_count": 2,
     "metadata": {},
     "output_type": "execute_result"
    }
   ],
   "source": [
    "df = pd.read_csv('DTP_DATA_2025.csv')\n",
    "df = df.drop('Unnamed: 0', axis=1)\n",
    "print(df.shape)\n",
    "features_number = df.shape[1]\n",
    "df.head(5)"
   ]
  },
  {
   "cell_type": "code",
   "execution_count": 3,
   "metadata": {},
   "outputs": [
    {
     "data": {
      "text/plain": [
       "Index(['DTPV', 'date', 'district', 'EMTP_NUMBER', 'CHOM', 'COORD_L', 'COORD_W',\n",
       "       'dor', 'dor_k', 'dor_z', 'factor', 'house', 'k_ul', 'km', 'm', 'NP',\n",
       "       'ndu', 'OBJ_DTP', 'osv', 's_dtp', 's_pch', 'sdor', 'spog', 'street',\n",
       "       'color', 'f_sob', 'g_v', 'm_pov', 'm_ts', 'marka_ts', 'n_ts', 'o_pf',\n",
       "       'r_rul', 't_n', 't_ts', 'ts_s', 'ALCO', 'INJURED_CARD_ID', 'k_UCH',\n",
       "       'NPDD', 'n_UCH', 'POL', 'SAFETY_BELT', 'SOP_NPDD', 's_SEAT_GROUP',\n",
       "       's_SM', 's_T', 'v_ST', 'KTS', 'KUCH', 'kartId', 'POG', 'RAN', 'rowNum',\n",
       "       'time', 'any TV technical failures', 'any non-private vehicles',\n",
       "       'any russian vehicles', 'any white vehicles', 'any black vehicles',\n",
       "       'any colored vehicles', 'any drunk drivers', 'any female drivers',\n",
       "       'any escaped participants', 'any concomitant traffic violations',\n",
       "       'any injuries without safety belt', 'num drunk participants',\n",
       "       'num child restraints', 'num cyclists', 'num pedestrians',\n",
       "       'min vehicles age', 'max vehicles age', 'avg vehicles age',\n",
       "       'num A-class vehicles', 'num B-class vehicles', 'num C-class vehicles',\n",
       "       'num D-class vehicles', 'num E-class vehicles', 'num S-class vehicles',\n",
       "       'num non-car vehicles', 'num front-wheel-drive vehicles',\n",
       "       'num rear-wheel-drive vehicles', 'num four-wheel-drive vehicles',\n",
       "       'num guilty objects', 'share guilty vehicles',\n",
       "       'fatal traffic violation(s)', 'num fatal traffic violations',\n",
       "       'bodily harm', 'guilty drivers' avg experience',\n",
       "       'drivers' avg experience', 'number fatal traffic violations'],\n",
       "      dtype='object')"
      ]
     },
     "execution_count": 3,
     "metadata": {},
     "output_type": "execute_result"
    }
   ],
   "source": [
    "df.columns"
   ]
  },
  {
   "cell_type": "code",
   "execution_count": 4,
   "metadata": {},
   "outputs": [],
   "source": [
    "df = df.drop(['color', 'f_sob', 'g_v', 'm_pov', 'm_ts', 'marka_ts', 'n_ts', 'o_pf',\n",
    "       'r_rul', 't_n', 't_ts', 'ts_s', 'ALCO', 'INJURED_CARD_ID', 'k_UCH',\n",
    "       'NPDD', 'n_UCH', 'POL', 'SAFETY_BELT', 'SOP_NPDD', 's_SEAT_GROUP',\n",
    "       's_SM', 's_T', 'v_ST'], axis=1)\n",
    "\n",
    "# dropped features because they were accidentally included in the DataFrame; \n",
    "# they contain information about the last accident participant and the last vehicle in the XML"
   ]
  },
  {
   "cell_type": "code",
   "execution_count": 5,
   "metadata": {},
   "outputs": [],
   "source": [
    "# just because i didn't think ahead\n",
    "\n",
    "new_column_names = {\n",
    "    \"guilty drivers' avg experience\": \"guilty drivers avg experience\",\n",
    "    \"drivers' avg experience\": \"drivers avg experience\"\n",
    "}\n",
    "\n",
    "df = df.rename(columns=new_column_names)"
   ]
  },
  {
   "cell_type": "code",
   "execution_count": 6,
   "metadata": {},
   "outputs": [
    {
     "data": {
      "text/plain": [
       "Index(['DTPV', 'date', 'district', 'EMTP_NUMBER', 'CHOM', 'COORD_L', 'COORD_W',\n",
       "       'dor', 'dor_k', 'dor_z', 'factor', 'house', 'k_ul', 'km', 'm', 'NP',\n",
       "       'ndu', 'OBJ_DTP', 'osv', 's_dtp', 's_pch', 'sdor', 'spog', 'street',\n",
       "       'KTS', 'KUCH', 'kartId', 'POG', 'RAN', 'rowNum', 'time',\n",
       "       'any TV technical failures', 'any non-private vehicles',\n",
       "       'any russian vehicles', 'any white vehicles', 'any black vehicles',\n",
       "       'any colored vehicles', 'any drunk drivers', 'any female drivers',\n",
       "       'any escaped participants', 'any concomitant traffic violations',\n",
       "       'any injuries without safety belt', 'num drunk participants',\n",
       "       'num child restraints', 'num cyclists', 'num pedestrians',\n",
       "       'min vehicles age', 'max vehicles age', 'avg vehicles age',\n",
       "       'num A-class vehicles', 'num B-class vehicles', 'num C-class vehicles',\n",
       "       'num D-class vehicles', 'num E-class vehicles', 'num S-class vehicles',\n",
       "       'num non-car vehicles', 'num front-wheel-drive vehicles',\n",
       "       'num rear-wheel-drive vehicles', 'num four-wheel-drive vehicles',\n",
       "       'num guilty objects', 'share guilty vehicles',\n",
       "       'fatal traffic violation(s)', 'num fatal traffic violations',\n",
       "       'bodily harm', 'guilty drivers avg experience',\n",
       "       'drivers avg experience', 'number fatal traffic violations'],\n",
       "      dtype='object')"
      ]
     },
     "execution_count": 6,
     "metadata": {},
     "output_type": "execute_result"
    }
   ],
   "source": [
    "df.columns"
   ]
  },
  {
   "cell_type": "code",
   "execution_count": 8,
   "metadata": {},
   "outputs": [
    {
     "name": "stdout",
     "output_type": "stream",
     "text": [
      "Number of observations before processing: 1475674\n"
     ]
    }
   ],
   "source": [
    "print(f\"Number of observations before processing: {df.shape[0]}\")"
   ]
  },
  {
   "cell_type": "markdown",
   "metadata": {},
   "source": [
    "### Meanings of columns"
   ]
  },
  {
   "cell_type": "code",
   "execution_count": 22,
   "metadata": {},
   "outputs": [],
   "source": [
    "column_meanings = {\n",
    "    'DTPV': 'RTA type',\n",
    "    # 'date',\n",
    "    # 'district',\n",
    "    'EMTP_NUMBER': 'RTA number', # its meaning is similar to kartId\n",
    "    'CHOM': 'info about changes in traffic',\n",
    "    'dor': 'road name',\n",
    "    'dor_k': 'road category',\n",
    "    'dor_z': 'road significance',\n",
    "    'factor': 'factors influencing the traffic',\n",
    "    # 'house',\n",
    "    'k_ul': 'street significance',\n",
    "    'km': 'RTA road km',\n",
    "    'm': 'RTA road m',\n",
    "    'NP': 'human settlement',\n",
    "    'ndu': 'defects of the road network transport and operational maintenance',\n",
    "    'OBJ_DTP': 'road network objects near RTA',\n",
    "    'osv': 'lighting',\n",
    "    's_dtp': '', # dk what is it \n",
    "    's_pch': 'road surface condition',\n",
    "    'sdor': 'road network objects at the scene of RTA',\n",
    "    'spog': 'weather',\n",
    "    # 'street',\n",
    "    # -----------------------------------------------------------------------------\n",
    "    # (info about every vehicle, was not save as column)\n",
    "    'color': 'vehicle color',\n",
    "    'f_sob': 'form of ownership', # it is not displayed in pdf version\n",
    "    'g_v': 'vehicle year of release',\n",
    "    'm_pov': 'vehicle damage place',\n",
    "    'm_ts': 'vehicle model',\n",
    "    'marka_ts': 'vehicle brand',\n",
    "    'n_ts': 'vehicle number in RTA',\n",
    "    'o_pf': 'form of ownership', # similar to f_sob in meaning, but has other values, f_sob was preferred it\n",
    "    'r_rul': 'steering position',\n",
    "    't_n': 'vehicle technical failure',\n",
    "    't_ts': 'vehicle class',\n",
    "    'ts_s': 'info about vehicle leaving a RTA place',\n",
    "    # (info about every participant, was not save as column)\n",
    "    'ALCO': 'ppm',\n",
    "    'INJURED_CARD_ID': '', # dk what is it\n",
    "    'k_UCH': 'participant category',\n",
    "    'NPDD': 'direct traffic violations',\n",
    "    'n_UCH': 'participant number',\n",
    "    'POL': 'gender',\n",
    "    'SAFETY_BELT': 'safety belt',\n",
    "    'SOP_NPDD': 'concomitant traffic violations',\n",
    "    's_SEAT_GROUP': 'type of child restraint',\n",
    "    's_SM': 'info about participant leaving a RTA place',\n",
    "    's_T': 'severity of the consequences',\n",
    "    'v_ST': 'driving experience',\n",
    "    # ---------------------------------------------------------------------\n",
    "    # (general RTA info again)\n",
    "    'KTS': 'number of vehicle in RTA',\n",
    "    'KUCH': 'number of participants in RTA',\n",
    "    'kartId': 'RTA ID', # it is not displayed in pdf version\n",
    "    'POG': 'number of deaths',\n",
    "    'RAN': 'number of wounded',\n",
    "    # 'rowNum',\n",
    "    # 'time'\n",
    "}"
   ]
  },
  {
   "cell_type": "markdown",
   "metadata": {},
   "source": [
    "## Processing categorical features"
   ]
  },
  {
   "cell_type": "code",
   "execution_count": null,
   "metadata": {},
   "outputs": [],
   "source": [
    "# This part will appear here."
   ]
  },
  {
   "cell_type": "markdown",
   "metadata": {},
   "source": [
    "## Processing the data gaps"
   ]
  },
  {
   "cell_type": "code",
   "execution_count": 13,
   "metadata": {},
   "outputs": [
    {
     "name": "stdout",
     "output_type": "stream",
     "text": [
      "1. EMTP_NUMBER\n",
      "2. CHOM\n",
      "3. COORD_L\n",
      "4. COORD_W\n",
      "5. dor\n",
      "6. dor_k\n",
      "7. house\n",
      "8. k_ul\n",
      "9. km\n",
      "10. m\n",
      "11. NP\n",
      "12. street\n",
      "13. min vehicles age\n",
      "14. max vehicles age\n",
      "15. avg vehicles age\n",
      "16. guilty drivers avg experience\n"
     ]
    }
   ],
   "source": [
    "features_with_gaps = df.columns[df.isna().any()].tolist()\n",
    "# print(features_with_gaps)\n",
    "\n",
    "for i, col in enumerate(features_with_gaps, start=1):\n",
    "    print(f\"{i}. {col}\")"
   ]
  },
  {
   "cell_type": "markdown",
   "metadata": {},
   "source": [
    "We don't need every feature, so let's create a list of columns to drop and update it as needed."
   ]
  },
  {
   "cell_type": "code",
   "execution_count": 24,
   "metadata": {},
   "outputs": [],
   "source": [
    "drop_columns = ['district', 'house', 'street', 'rowNum', 'km', 'm']\n",
    "# drop_columns = ['district', 'house', 'street', 'rowNum', 'm']\n",
    "# will be dropped because they are irrelevant to our task"
   ]
  },
  {
   "cell_type": "markdown",
   "metadata": {},
   "source": [
    "__EMTP_NUMBER vs kartId__: `kartId` was chosen as an accident ID\n",
    "\n",
    "`kartId` does not appear in the PDF but is present in the XML and serves the same function as `EMTP_NUMBER`, so we need to choose between them."
   ]
  },
  {
   "cell_type": "code",
   "execution_count": 25,
   "metadata": {},
   "outputs": [
    {
     "name": "stdout",
     "output_type": "stream",
     "text": [
      "EMTP_NUMBER gaps: 823047\n",
      "kartId gaps: 0\n"
     ]
    }
   ],
   "source": [
    "print(f\"EMTP_NUMBER gaps: {df['EMTP_NUMBER'].isna().sum()}\")\n",
    "print(f\"kartId gaps: {df['kartId'].isna().sum()}\")\n",
    "\n",
    "# drop EMTP_NUMBER, it's fulled of nan\n",
    "\n",
    "drop_columns.append('EMTP_NUMBER')"
   ]
  },
  {
   "cell_type": "markdown",
   "metadata": {},
   "source": [
    "__CHOM__: 2 objects were dropped"
   ]
  },
  {
   "cell_type": "code",
   "execution_count": 26,
   "metadata": {},
   "outputs": [
    {
     "name": "stdout",
     "output_type": "stream",
     "text": [
      "CHOM gaps: 2\n",
      "Objects left: 1475672\n"
     ]
    }
   ],
   "source": [
    "print(f\"CHOM gaps: {df['CHOM'].isna().sum()}\")\n",
    "\n",
    "df = df[df['CHOM'].notna()]\n",
    "print(f\"Objects left: {df.shape[0]}\")"
   ]
  },
  {
   "cell_type": "markdown",
   "metadata": {},
   "source": [
    "__COORD_L and COORD_W:__"
   ]
  },
  {
   "cell_type": "markdown",
   "metadata": {},
   "source": [
    "Begin with analyzing columns gaps: 15 objects were dropped"
   ]
  },
  {
   "cell_type": "code",
   "execution_count": 36,
   "metadata": {},
   "outputs": [
    {
     "name": "stdout",
     "output_type": "stream",
     "text": [
      "COORD_L gaps: 14\n",
      "COORD_W gaps: 8\n",
      "COORD_L and COORD_W common gaps: 15\n",
      "Objects left: 1323567\n"
     ]
    }
   ],
   "source": [
    "L_ind = set(df[df['COORD_L'].isna()]['kartId'])\n",
    "W_ind = set(df[df['COORD_W'].isna()]['kartId'])\n",
    "common_gaps = L_ind | W_ind\n",
    "\n",
    "print(f\"COORD_L gaps: {df['COORD_L'].isna().sum()}\")\n",
    "print(f\"COORD_W gaps: {df['COORD_W'].isna().sum()}\")\n",
    "print(f\"COORD_L and COORD_W common gaps: {len(common_gaps)}\")\n",
    "\n",
    "df = df[(df['COORD_L'].notna()) & (df['COORD_W'].notna())]\n",
    "print(f\"Objects left: {df.shape[0]}\")"
   ]
  },
  {
   "cell_type": "markdown",
   "metadata": {},
   "source": [
    "### **dor, dor_k:** key features in our analysis"
   ]
  },
  {
   "cell_type": "markdown",
   "metadata": {},
   "source": [
    "__dor and dor_k:__ 930.003 common gaps"
   ]
  },
  {
   "cell_type": "markdown",
   "metadata": {},
   "source": [
    "Why `dor` is a key feature?\n",
    "- contains road names\n",
    "- will allow to identify accidents on toll roads (here you can find [the list of toll roads in Russia](https://avtodor-tr.ru/road/))\n",
    "- so we can create binary key feature `toll road`"
   ]
  },
  {
   "cell_type": "code",
   "execution_count": null,
   "metadata": {},
   "outputs": [
    {
     "name": "stdout",
     "output_type": "stream",
     "text": [
      "Gaps in dor: 850333\n",
      "Gaps in dor_k: 856775\n",
      "Dor and dor_k common gaps: 861986\n"
     ]
    }
   ],
   "source": [
    "print(f\"Gaps in dor: {df['dor'].isna().sum()}\")\n",
    "print(f\"Gaps in dor_k: {df['dor_k'].isna().sum()}\")\n",
    "\n",
    "dor_ind = set(df[df['dor'].isna()]['kartId'])\n",
    "dor_k_ind = set(df[df['dor_k'].isna()]['kartId'])\n",
    "common_gaps = dor_ind | dor_k_ind\n",
    "\n",
    "print(f\"Dor and dor_k common gaps: {len(common_gaps)}\")"
   ]
  },
  {
   "cell_type": "code",
   "execution_count": null,
   "metadata": {},
   "outputs": [],
   "source": [
    "# now we are not going to fill the gaps (do it later), so drop NaN\n",
    "\n",
    "df = df[df['dor'].notna()]\n",
    "print(f\"Observations left after deleting NaN in 'dor' feature: {df.shape[0]}\")"
   ]
  },
  {
   "cell_type": "markdown",
   "metadata": {},
   "source": [
    "Don't drop NaN for flexibility in further work."
   ]
  },
  {
   "cell_type": "markdown",
   "metadata": {},
   "source": [
    "__k_ul:__ replace nan by new value"
   ]
  },
  {
   "cell_type": "code",
   "execution_count": 27,
   "metadata": {},
   "outputs": [
    {
     "name": "stdout",
     "output_type": "stream",
     "text": [
      "k_ul gaps: 129514\n",
      "street gaps: 547360\n",
      "k_ul gaps left: 0\n"
     ]
    }
   ],
   "source": [
    "print(f\"k_ul gaps: {df['k_ul'].isna().sum()}\")\n",
    "print(f\"street gaps: {df['street'].isna().sum()}\")\n",
    "\n",
    "# Can't try to fill the k_ul gaps by street values, cause the number of nan in street is much bigger.\n",
    "# Replace nan by 'Назначение неизвестно'\n",
    "\n",
    "df['k_ul'] = df['k_ul'].fillna('Назначение неизвестно')\n",
    "print(f\"k_ul gaps left: {df['k_ul'].isna().sum()}\")"
   ]
  },
  {
   "cell_type": "markdown",
   "metadata": {},
   "source": [
    "__guilty drivers' average experience:__ 145498 objects were deleted"
   ]
  },
  {
   "cell_type": "code",
   "execution_count": 28,
   "metadata": {},
   "outputs": [
    {
     "name": "stdout",
     "output_type": "stream",
     "text": [
      "guilty drivers avg experience gaps: 152090\n",
      "Objects left: 1323582\n"
     ]
    }
   ],
   "source": [
    "print(f\"guilty drivers avg experience gaps: {df['guilty drivers avg experience'].isna().sum()}\")\n",
    "\n",
    "df = df[df['guilty drivers avg experience'].notna()]\n",
    "print(f\"Objects left: {df.shape[0]}\")"
   ]
  },
  {
   "cell_type": "markdown",
   "metadata": {},
   "source": [
    "__min vehicles age, max vehicles age, avg vehicles age:__ will be filled by ML algorithm later"
   ]
  },
  {
   "cell_type": "code",
   "execution_count": 14,
   "metadata": {},
   "outputs": [
    {
     "name": "stdout",
     "output_type": "stream",
     "text": [
      "Gaps in min vehicles age: 50191\n",
      "Gaps in max vehicles age: 50191\n",
      "Gaps in avg vehicles age: 50191\n",
      "Common gaps: 50191\n"
     ]
    }
   ],
   "source": [
    "print(f\"Gaps in min vehicles age: {df['min vehicles age'].isna().sum()}\")\n",
    "print(f\"Gaps in max vehicles age: {df['max vehicles age'].isna().sum()}\")\n",
    "print(f\"Gaps in avg vehicles age: {df['avg vehicles age'].isna().sum()}\")\n",
    "\n",
    "min_ind = set(df[df['min vehicles age'].isna()]['kartId'])\n",
    "max_ind = set(df[df['max vehicles age'].isna()]['kartId'])\n",
    "avg_ind = set(df[df['avg vehicles age'].isna()]['kartId'])\n",
    "common_gaps = min_ind | max_ind | avg_ind\n",
    "\n",
    "print(f\"Common gaps: {len(common_gaps)}\")"
   ]
  },
  {
   "cell_type": "markdown",
   "metadata": {},
   "source": [
    "Wi will train a model that will predict missing values ​​based on other features below."
   ]
  },
  {
   "cell_type": "markdown",
   "metadata": {},
   "source": [
    "#### **Lyrical digression and NP:** why it is useless and will be deleted"
   ]
  },
  {
   "cell_type": "code",
   "execution_count": 31,
   "metadata": {},
   "outputs": [
    {
     "name": "stdout",
     "output_type": "stream",
     "text": [
      "NP gaps: 385550\n"
     ]
    }
   ],
   "source": [
    "print(f\"NP gaps: {df['NP'].isna().sum()}\")"
   ]
  },
  {
   "cell_type": "markdown",
   "metadata": {},
   "source": [
    "`NP` contains only (compared to `dor`) 388.721 gaps and had a potential to be a key feature."
   ]
  },
  {
   "cell_type": "markdown",
   "metadata": {},
   "source": [
    "Why `NP` could be a key feature?\n",
    "- the aim of the thesis is not only to analyze toll roads but also to compare them with free roads in Russia\n",
    "- toll roads in Russia are mostly highways, which makes them very different from accidents occurring within cities (due to different conditions, speed limits, etc.)\n",
    "- for a correct analysis, accidents that occurred in populated areas must be excluded from the DataFrame\n",
    "- identifying these areas using NP could help achieve this\n",
    "\n",
    "Why it is NOT?\n",
    "- because the feature doesn't work tha way it should\n",
    "- according to its intended meaning, `NP` should either: \n",
    "\n",
    "(1) contain names of populated areas with non-populated areas represented as NaN or \n",
    "\n",
    "(2) include names of populated areas and a clear label for non-populated areas (e.g., \"not NP\" or \"highway\")\n",
    "\n",
    "- in reality, `NP` contains both names of populated areas and labels for non-populated areas, but these labels account for less than 0.2% of the non-NaN observations in `NP`\n",
    "- as a result, the column primarily reflects the names of populated areas nearest to the accident location — even when the accident occurred on a highway\n",
    "- this makes the feature completely useless for the analysis objectives, as it does not reliably distinguish between accidents in populated and non-populated areas"
   ]
  },
  {
   "cell_type": "code",
   "execution_count": 32,
   "metadata": {},
   "outputs": [
    {
     "name": "stdout",
     "output_type": "stream",
     "text": [
      "Number of observations without gaps in 'NP', where 'NP' values are not considered as populated areas: 1404\n",
      "-----\n",
      " \n",
      "M-1 highway found in non_NP_obs DataFrame: 0\n",
      "Spoiler: the number will be the same for every toll road\n",
      "-----\n",
      " \n",
      "M-1 highway found in full DataFrame: 1643\n",
      "-----\n",
      " \n",
      "The M-1 toll road unique NP values (M-1 road is a highway):\n"
     ]
    },
    {
     "data": {
      "text/plain": [
       "array(['г Москва', 'г Кубинка', 'д Ляхово', 'с/п Новоивановское',\n",
       "       'с/п Успенское', 'рп Новоивановское', 'д Барвиха', 'д Бутынь',\n",
       "       'г Одинцово', 'г Клин', 'дп Лесной Городок', 'д Немчиново',\n",
       "       'д Вырубово', 'с Жаворонки', 'д Красная Горка', 'д Каменка',\n",
       "       'г Ярцево', 'д Анохово', 'г Гагарин'], dtype=object)"
      ]
     },
     "execution_count": 32,
     "metadata": {},
     "output_type": "execute_result"
    }
   ],
   "source": [
    "np_marks_list = [\n",
    "    'г ', 'д ', 'п ', 'с ', 'х ', 'ст-ца ', 'аал ', 'аул ', 'массив ', 'мкр ', \n",
    "    'пгт ', 'починок ', 'сл ', 'ст ', 'поселение ', 'жилрайон ', 'городок ', 'заимка ', 'м ', 'у'\n",
    "    ]           # compiled by the method of analyzing unique 'NP' feature values\n",
    "\n",
    "non_missing_np = df[df['NP'].notna()]\n",
    "not_np_unique = non_missing_np['NP'].unique().tolist()\n",
    "not_np_unique = sorted(not_np_unique)\n",
    "\n",
    "for np in not_np_unique[:]:\n",
    "    for np_mark in np_marks_list:\n",
    "        if np_mark in np:\n",
    "            not_np_unique.remove(np)\n",
    "            break\n",
    "\n",
    "non_NP_obs = df[df['NP'].isin(not_np_unique)]\n",
    "print(f\"Number of observations without gaps in 'NP', where 'NP' values are not considered as populated areas: {non_NP_obs.shape[0]}\")\n",
    "print('-----')\n",
    "print(' ')\n",
    "\n",
    "# and if we try to find any highway in this DataFrame we'll fail:\n",
    "\n",
    "dor_uniq = df['dor'].unique().tolist()\n",
    "M_1_dors = list()\n",
    "\n",
    "for dor in dor_uniq:\n",
    "    try:\n",
    "        if 'М-1 ' in dor and 'подъездная' not in dor and 'Подъездная' not in dor:\n",
    "            M_1_dors.append(dor)\n",
    "    except TypeError:\n",
    "        continue\n",
    "\n",
    "M1_df = non_NP_obs[non_NP_obs['dor'].isin(M_1_dors)]\n",
    "print(f\"M-1 highway found in non_NP_obs DataFrame: {M1_df.shape[0]}\")\n",
    "print('Spoiler: the number will be the same for every toll road')\n",
    "print('-----')\n",
    "print(' ')\n",
    "\n",
    "# and in full DataFrame:\n",
    "\n",
    "M1_df = df[df['dor'].isin(M_1_dors)]\n",
    "print(f\"M-1 highway found in full DataFrame: {M1_df.shape[0]}\")\n",
    "print('-----')\n",
    "print(' ')\n",
    "\n",
    "# analyzing the 'NP' values of M-1 toll road observations and finding out the 'NP' uselesness\n",
    "\n",
    "print('The M-1 toll road unique NP values (M-1 road is a highway):')\n",
    "M1_df[M1_df['NP'].notna()]['NP'].unique()"
   ]
  },
  {
   "cell_type": "code",
   "execution_count": 33,
   "metadata": {},
   "outputs": [],
   "source": [
    "drop_columns.append('NP')"
   ]
  },
  {
   "cell_type": "markdown",
   "metadata": {},
   "source": [
    "## Rename and drop the columns"
   ]
  },
  {
   "cell_type": "code",
   "execution_count": 37,
   "metadata": {},
   "outputs": [
    {
     "name": "stdout",
     "output_type": "stream",
     "text": [
      "Features left: 59, in the begining was: 91\n"
     ]
    }
   ],
   "source": [
    "df = df.drop(drop_columns, axis=1)\n",
    "\n",
    "print(f\"Features left: {df.shape[1]}, in the begining was: {features_number}\")"
   ]
  },
  {
   "cell_type": "code",
   "execution_count": 38,
   "metadata": {},
   "outputs": [],
   "source": [
    "new_column_names = {\n",
    "    'DTPV': 'RTA type',\n",
    "    'kartId': 'RTA number',\n",
    "    'CHOM': 'traffic changes info',\n",
    "    'dor_z': 'road significance',\n",
    "    'factor': 'factors influenced traffic',\n",
    "    'k_ul': 'street significance',\n",
    "    'km': 'RTA road km',\n",
    "    'm': 'RTA road m',\n",
    "    'ndu': 'road network maintenance defects',\n",
    "    'OBJ_DTP': 'RTA-adjacent road objects',\n",
    "    'osv': 'lighting',\n",
    "    's_pch': 'road surface condition',\n",
    "    'sdor': 'RTA site road objects',\n",
    "    'spog': 'weather',\n",
    "    'KTS': 'RTA vehicle number',\n",
    "    'KUCH': 'RTA participants number',\n",
    "    'POG': 'number of deaths',\n",
    "    'RAN': 'number of wounded',\n",
    "    'time': 'RTA time'\n",
    "}\n",
    "\n",
    "df = df.rename(columns=new_column_names)"
   ]
  },
  {
   "cell_type": "code",
   "execution_count": 39,
   "metadata": {},
   "outputs": [
    {
     "data": {
      "text/plain": [
       "Index(['RTA type', 'date', 'traffic changes info', 'COORD_L', 'COORD_W', 'dor',\n",
       "       'dor_k', 'road significance', 'factors influenced traffic',\n",
       "       'street significance', 'road network maintenance defects',\n",
       "       'RTA-adjacent road objects', 'lighting', 's_dtp',\n",
       "       'road surface condition', 'RTA site road objects', 'weather',\n",
       "       'RTA vehicle number', 'RTA participants number', 'RTA number',\n",
       "       'number of deaths', 'number of wounded', 'RTA time',\n",
       "       'any TV technical failures', 'any non-private vehicles',\n",
       "       'any russian vehicles', 'any white vehicles', 'any black vehicles',\n",
       "       'any colored vehicles', 'any drunk drivers', 'any female drivers',\n",
       "       'any escaped participants', 'any concomitant traffic violations',\n",
       "       'any injuries without safety belt', 'num drunk participants',\n",
       "       'num child restraints', 'num cyclists', 'num pedestrians',\n",
       "       'min vehicles age', 'max vehicles age', 'avg vehicles age',\n",
       "       'num A-class vehicles', 'num B-class vehicles', 'num C-class vehicles',\n",
       "       'num D-class vehicles', 'num E-class vehicles', 'num S-class vehicles',\n",
       "       'num non-car vehicles', 'num front-wheel-drive vehicles',\n",
       "       'num rear-wheel-drive vehicles', 'num four-wheel-drive vehicles',\n",
       "       'num guilty objects', 'share guilty vehicles',\n",
       "       'fatal traffic violation(s)', 'num fatal traffic violations',\n",
       "       'bodily harm', 'guilty drivers avg experience',\n",
       "       'drivers avg experience', 'number fatal traffic violations'],\n",
       "      dtype='object')"
      ]
     },
     "execution_count": 39,
     "metadata": {},
     "output_type": "execute_result"
    }
   ],
   "source": [
    "df.columns"
   ]
  },
  {
   "cell_type": "code",
   "execution_count": 40,
   "metadata": {},
   "outputs": [
    {
     "data": {
      "text/plain": [
       "(1323567, 59)"
      ]
     },
     "execution_count": 40,
     "metadata": {},
     "output_type": "execute_result"
    }
   ],
   "source": [
    "df.shape"
   ]
  },
  {
   "cell_type": "code",
   "execution_count": 41,
   "metadata": {},
   "outputs": [],
   "source": [
    "df.to_csv('DTP_DATA_2025_PROCESSED.csv')"
   ]
  }
 ],
 "metadata": {
  "kernelspec": {
   "display_name": "Python 3",
   "language": "python",
   "name": "python3"
  },
  "language_info": {
   "codemirror_mode": {
    "name": "ipython",
    "version": 3
   },
   "file_extension": ".py",
   "mimetype": "text/x-python",
   "name": "python",
   "nbconvert_exporter": "python",
   "pygments_lexer": "ipython3",
   "version": "3.9.7"
  }
 },
 "nbformat": 4,
 "nbformat_minor": 2
}
