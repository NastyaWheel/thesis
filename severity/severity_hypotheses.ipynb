{
 "cells": [
  {
   "cell_type": "code",
   "execution_count": null,
   "id": "94b25b0a",
   "metadata": {},
   "outputs": [],
   "source": [
    "import numpy as np\n",
    "import pandas as pd\n",
    "pd.set_option('mode.chained_assignment', None)\n",
    "\n",
    "import warnings\n",
    "warnings.filterwarnings(\"ignore\", category=DeprecationWarning)\n",
    "\n",
    "import statsmodels.api as sm\n",
    "import statsmodels.formula.api as smf\n",
    "from sklearn.utils.class_weight import compute_sample_weight\n",
    "\n",
    "import matplotlib.pyplot as plt\n",
    "import seaborn as sns\n",
    "\n",
    "from sklearn.model_selection import train_test_split\n",
    "from sklearn.ensemble import RandomForestClassifier\n",
    "from sklearn.metrics import classification_report, confusion_matrix"
   ]
  },
  {
   "cell_type": "code",
   "execution_count": 128,
   "id": "b664ec70",
   "metadata": {},
   "outputs": [
    {
     "name": "stdout",
     "output_type": "stream",
     "text": [
      "(440132, 73)\n"
     ]
    },
    {
     "data": {
      "text/html": [
       "<div>\n",
       "<style scoped>\n",
       "    .dataframe tbody tr th:only-of-type {\n",
       "        vertical-align: middle;\n",
       "    }\n",
       "\n",
       "    .dataframe tbody tr th {\n",
       "        vertical-align: top;\n",
       "    }\n",
       "\n",
       "    .dataframe thead th {\n",
       "        text-align: right;\n",
       "    }\n",
       "</style>\n",
       "<table border=\"1\" class=\"dataframe\">\n",
       "  <thead>\n",
       "    <tr style=\"text-align: right;\">\n",
       "      <th></th>\n",
       "      <th>date</th>\n",
       "      <th>COORD_L</th>\n",
       "      <th>COORD_W</th>\n",
       "      <th>dor_k</th>\n",
       "      <th>s_dtp</th>\n",
       "      <th>RTA_vehicle_number</th>\n",
       "      <th>RTA_participants_number</th>\n",
       "      <th>RTA_number</th>\n",
       "      <th>number_of_deaths</th>\n",
       "      <th>number_of_wounded</th>\n",
       "      <th>...</th>\n",
       "      <th>markings_or_signs</th>\n",
       "      <th>traffic_control_violation</th>\n",
       "      <th>signal_violation</th>\n",
       "      <th>speeding</th>\n",
       "      <th>technical_malfunction</th>\n",
       "      <th>lighting_cat</th>\n",
       "      <th>road_object_type_cat</th>\n",
       "      <th>severity</th>\n",
       "      <th>severity_detailed</th>\n",
       "      <th>is_toll</th>\n",
       "    </tr>\n",
       "  </thead>\n",
       "  <tbody>\n",
       "    <tr>\n",
       "      <th>0</th>\n",
       "      <td>31.01.2015</td>\n",
       "      <td>81.151944</td>\n",
       "      <td>53.740000</td>\n",
       "      <td>5.0</td>\n",
       "      <td>610</td>\n",
       "      <td>1</td>\n",
       "      <td>3</td>\n",
       "      <td>161242174</td>\n",
       "      <td>0</td>\n",
       "      <td>3</td>\n",
       "      <td>...</td>\n",
       "      <td>0</td>\n",
       "      <td>0</td>\n",
       "      <td>0</td>\n",
       "      <td>0</td>\n",
       "      <td>0</td>\n",
       "      <td>4</td>\n",
       "      <td>12</td>\n",
       "      <td>medium</td>\n",
       "      <td>injury_with_hospitalization</td>\n",
       "      <td>0</td>\n",
       "    </tr>\n",
       "    <tr>\n",
       "      <th>1</th>\n",
       "      <td>30.01.2015</td>\n",
       "      <td>85.018056</td>\n",
       "      <td>51.684444</td>\n",
       "      <td>6.0</td>\n",
       "      <td>200</td>\n",
       "      <td>2</td>\n",
       "      <td>3</td>\n",
       "      <td>161105683</td>\n",
       "      <td>0</td>\n",
       "      <td>2</td>\n",
       "      <td>...</td>\n",
       "      <td>0</td>\n",
       "      <td>0</td>\n",
       "      <td>0</td>\n",
       "      <td>0</td>\n",
       "      <td>0</td>\n",
       "      <td>0</td>\n",
       "      <td>12</td>\n",
       "      <td>medium</td>\n",
       "      <td>injury_with_hospitalization</td>\n",
       "      <td>0</td>\n",
       "    </tr>\n",
       "    <tr>\n",
       "      <th>2</th>\n",
       "      <td>30.01.2015</td>\n",
       "      <td>81.250000</td>\n",
       "      <td>53.818056</td>\n",
       "      <td>5.0</td>\n",
       "      <td>210</td>\n",
       "      <td>2</td>\n",
       "      <td>3</td>\n",
       "      <td>161763431</td>\n",
       "      <td>0</td>\n",
       "      <td>1</td>\n",
       "      <td>...</td>\n",
       "      <td>0</td>\n",
       "      <td>0</td>\n",
       "      <td>0</td>\n",
       "      <td>0</td>\n",
       "      <td>0</td>\n",
       "      <td>0</td>\n",
       "      <td>12</td>\n",
       "      <td>light</td>\n",
       "      <td>injury_no_hospitalization</td>\n",
       "      <td>0</td>\n",
       "    </tr>\n",
       "    <tr>\n",
       "      <th>3</th>\n",
       "      <td>24.01.2015</td>\n",
       "      <td>51.000000</td>\n",
       "      <td>84.000000</td>\n",
       "      <td>7.0</td>\n",
       "      <td>610</td>\n",
       "      <td>1</td>\n",
       "      <td>2</td>\n",
       "      <td>160331994</td>\n",
       "      <td>0</td>\n",
       "      <td>1</td>\n",
       "      <td>...</td>\n",
       "      <td>0</td>\n",
       "      <td>0</td>\n",
       "      <td>0</td>\n",
       "      <td>1</td>\n",
       "      <td>0</td>\n",
       "      <td>2</td>\n",
       "      <td>12</td>\n",
       "      <td>light</td>\n",
       "      <td>injury_no_hospitalization</td>\n",
       "      <td>0</td>\n",
       "    </tr>\n",
       "    <tr>\n",
       "      <th>4</th>\n",
       "      <td>23.01.2015</td>\n",
       "      <td>84.000000</td>\n",
       "      <td>53.000000</td>\n",
       "      <td>7.0</td>\n",
       "      <td>600</td>\n",
       "      <td>1</td>\n",
       "      <td>2</td>\n",
       "      <td>160213415</td>\n",
       "      <td>1</td>\n",
       "      <td>1</td>\n",
       "      <td>...</td>\n",
       "      <td>0</td>\n",
       "      <td>0</td>\n",
       "      <td>0</td>\n",
       "      <td>0</td>\n",
       "      <td>0</td>\n",
       "      <td>2</td>\n",
       "      <td>12</td>\n",
       "      <td>severe</td>\n",
       "      <td>death_at_scene</td>\n",
       "      <td>0</td>\n",
       "    </tr>\n",
       "  </tbody>\n",
       "</table>\n",
       "<p>5 rows × 73 columns</p>\n",
       "</div>"
      ],
      "text/plain": [
       "         date    COORD_L    COORD_W  dor_k  s_dtp  RTA_vehicle_number  \\\n",
       "0  31.01.2015  81.151944  53.740000    5.0    610                   1   \n",
       "1  30.01.2015  85.018056  51.684444    6.0    200                   2   \n",
       "2  30.01.2015  81.250000  53.818056    5.0    210                   2   \n",
       "3  24.01.2015  51.000000  84.000000    7.0    610                   1   \n",
       "4  23.01.2015  84.000000  53.000000    7.0    600                   1   \n",
       "\n",
       "   RTA_participants_number  RTA_number  number_of_deaths  number_of_wounded  \\\n",
       "0                        3   161242174                 0                  3   \n",
       "1                        3   161105683                 0                  2   \n",
       "2                        3   161763431                 0                  1   \n",
       "3                        2   160331994                 0                  1   \n",
       "4                        2   160213415                 1                  1   \n",
       "\n",
       "   ... markings_or_signs  traffic_control_violation  signal_violation  \\\n",
       "0  ...                 0                          0                 0   \n",
       "1  ...                 0                          0                 0   \n",
       "2  ...                 0                          0                 0   \n",
       "3  ...                 0                          0                 0   \n",
       "4  ...                 0                          0                 0   \n",
       "\n",
       "   speeding  technical_malfunction  lighting_cat  road_object_type_cat  \\\n",
       "0         0                      0             4                    12   \n",
       "1         0                      0             0                    12   \n",
       "2         0                      0             0                    12   \n",
       "3         1                      0             2                    12   \n",
       "4         0                      0             2                    12   \n",
       "\n",
       "   severity            severity_detailed  is_toll  \n",
       "0    medium  injury_with_hospitalization        0  \n",
       "1    medium  injury_with_hospitalization        0  \n",
       "2     light    injury_no_hospitalization        0  \n",
       "3     light    injury_no_hospitalization        0  \n",
       "4    severe               death_at_scene        0  \n",
       "\n",
       "[5 rows x 73 columns]"
      ]
     },
     "execution_count": 128,
     "metadata": {},
     "output_type": "execute_result"
    }
   ],
   "source": [
    "df = pd.read_csv(\"C:/Users/Настя/YandexDisk-n4skolesnikova/HSE 4th year/Graduation Thesis/ACCIDENT_LEVEL_DATA.csv\")\n",
    "df = df.drop('Unnamed: 0', axis=1)\n",
    "print(df.shape)\n",
    "df.head()"
   ]
  },
  {
   "cell_type": "code",
   "execution_count": 129,
   "id": "27853ec6",
   "metadata": {},
   "outputs": [
    {
     "data": {
      "text/plain": [
       "Index(['date', 'COORD_L', 'COORD_W', 'dor_k', 's_dtp', 'RTA_vehicle_number',\n",
       "       'RTA_participants_number', 'RTA_number', 'number_of_deaths',\n",
       "       'number_of_wounded', 'RTA_time', 'any_TV_technical_failures',\n",
       "       'any_non_private_vehicles', 'any_russian_vehicles',\n",
       "       'any_white_vehicles', 'any_black_vehicles', 'any_colored_vehicles',\n",
       "       'any_drunk_drivers', 'any_female_drivers', 'any_escaped_participants',\n",
       "       'any_concomitant_traffic_violations',\n",
       "       'any_injuries_without_safety_belt', 'num_drunk_participants',\n",
       "       'num_child_restraints', 'num_cyclists', 'num_pedestrians',\n",
       "       'min_vehicles_age', 'max_vehicles_age', 'avg_vehicles_age',\n",
       "       'num_A_class_vehicles', 'num_B_class_vehicles', 'num_C_class_vehicles',\n",
       "       'num_D_class_vehicles', 'num_E_class_vehicles', 'num_S_class_vehicles',\n",
       "       'num_non_car_vehicles', 'num_front_wheel_drive_vehicles',\n",
       "       'num_rear_wheel_drive_vehicles', 'num_four_wheel_drive_vehicles',\n",
       "       'num_guilty_objects', 'share_guilty_vehicles',\n",
       "       'num_fatal_traffic_violations', 'guilty_drivers_avg_experience',\n",
       "       'drivers_avg_experience', 'number_fatal_traffic_violations',\n",
       "       'dor_z_cat', 'ndu_cat', 'CHOM_cat', 's_pch_cat', 'DTPV_cat', 'k_ul_cat',\n",
       "       'spog_cat', 'OBJ_DTP_cat', 'factor_cat', 'bicycle_related',\n",
       "       'wrong_way_driving', 'other_violation', 'maneuvers', 'public_transport',\n",
       "       'stopping_or_parking', 'transport_violation', 'pedestrian_related',\n",
       "       'intersection_crossing', 'markings_or_signs',\n",
       "       'traffic_control_violation', 'signal_violation', 'speeding',\n",
       "       'technical_malfunction', 'lighting_cat', 'road_object_type_cat',\n",
       "       'severity', 'severity_detailed', 'is_toll'],\n",
       "      dtype='object')"
      ]
     },
     "execution_count": 129,
     "metadata": {},
     "output_type": "execute_result"
    }
   ],
   "source": [
    "df.columns"
   ]
  },
  {
   "cell_type": "code",
   "execution_count": 130,
   "id": "ca2d7e22",
   "metadata": {},
   "outputs": [
    {
     "name": "stdout",
     "output_type": "stream",
     "text": [
      "Final check for the gaps: 0 gaps\n"
     ]
    }
   ],
   "source": [
    "print(f\"Final check for the gaps: {df.isna().any().sum()} gaps\")"
   ]
  },
  {
   "cell_type": "markdown",
   "id": "cb7a02f3",
   "metadata": {},
   "source": [
    "#### Create DataFrame for testing hypotheses."
   ]
  },
  {
   "cell_type": "code",
   "execution_count": 131,
   "id": "20e12886",
   "metadata": {},
   "outputs": [
    {
     "data": {
      "text/plain": [
       "array(['medium', 'light', 'severe'], dtype=object)"
      ]
     },
     "execution_count": 131,
     "metadata": {},
     "output_type": "execute_result"
    }
   ],
   "source": [
    "df['severity'].unique()"
   ]
  },
  {
   "cell_type": "code",
   "execution_count": 132,
   "id": "22f70494",
   "metadata": {},
   "outputs": [
    {
     "data": {
      "text/plain": [
       "array([2, 1, 3])"
      ]
     },
     "execution_count": 132,
     "metadata": {},
     "output_type": "execute_result"
    }
   ],
   "source": [
    "# manually encode target\n",
    "\n",
    "replace_map = {\n",
    "    'light': '1',\n",
    "    'medium': '2',\n",
    "    'severe': '3'\n",
    "}\n",
    "\n",
    "df['severity_encode'] = df['severity'].replace(replace_map)\n",
    "df['severity_encode'] = df['severity_encode'].astype(int)\n",
    "df['severity_encode'].unique()"
   ]
  },
  {
   "cell_type": "code",
   "execution_count": 133,
   "id": "5e073903",
   "metadata": {},
   "outputs": [],
   "source": [
    "df_hypoth = df.drop(columns=['severity_detailed', 'severity'])"
   ]
  },
  {
   "cell_type": "markdown",
   "id": "e54e330b",
   "metadata": {},
   "source": [
    "# Econometrics\n",
    "\n",
    "## Multinomial Logit (MNL) regression"
   ]
  },
  {
   "cell_type": "markdown",
   "id": "01e75ac3",
   "metadata": {},
   "source": [
    "Earlier, a class imbalance was found in the 'is_toll' variable: the positive class makes up less than 7% of the entire dataset. Therefore, the results of hypothesis testing on such data will not be representative.  \n",
    "To address the class imbalance problem, we will try two methods:\n",
    "\n",
    "1. Balancing using undersampling  \n",
    "2. Balancing using class weighting"
   ]
  },
  {
   "cell_type": "markdown",
   "id": "e23f80d4",
   "metadata": {},
   "source": [
    "### 1. undersampling "
   ]
  },
  {
   "cell_type": "code",
   "execution_count": 134,
   "id": "81c363ce",
   "metadata": {},
   "outputs": [],
   "source": [
    "df_balanced = pd.concat([\n",
    "    df_hypoth[df_hypoth['is_toll'] == 1],\n",
    "    df_hypoth[df_hypoth['is_toll'] == 0].groupby('severity_encode').apply(\n",
    "        lambda x: x.sample(n=(df_hypoth[df_hypoth['is_toll'] == 1]['severity_encode'] == x.name).sum(),\n",
    "                          random_state=42)\n",
    "    ).reset_index(drop=True)\n",
    "])"
   ]
  },
  {
   "cell_type": "markdown",
   "id": "139a7574",
   "metadata": {},
   "source": [
    "Let's start the analysis by building a baseline model that includes the `'is_toll'` variable along with key factors related to the road environment and driver experience."
   ]
  },
  {
   "cell_type": "code",
   "execution_count": 135,
   "id": "921f3c69",
   "metadata": {},
   "outputs": [
    {
     "name": "stdout",
     "output_type": "stream",
     "text": [
      "Optimization terminated successfully.\n",
      "         Current function value: 1.037139\n",
      "         Iterations 6\n",
      "                          MNLogit Regression Results                          \n",
      "==============================================================================\n",
      "Dep. Variable:        severity_encode   No. Observations:                59080\n",
      "Model:                        MNLogit   Df Residuals:                    59064\n",
      "Method:                           MLE   Df Model:                           14\n",
      "Date:                Sun, 20 Apr 2025   Pseudo R-squ.:                0.006764\n",
      "Time:                        06:04:53   Log-Likelihood:                -61274.\n",
      "converged:                       True   LL-Null:                       -61691.\n",
      "Covariance Type:            nonrobust   LLR p-value:                4.535e-169\n",
      "=================================================================================================\n",
      "            severity_encode=2       coef    std err          z      P>|z|      [0.025      0.975]\n",
      "-------------------------------------------------------------------------------------------------\n",
      "Intercept                        -0.1101      0.098     -1.127      0.260      -0.302       0.081\n",
      "is_toll                           0.0649      0.022      2.968      0.003       0.022       0.108\n",
      "drivers_avg_experience            0.0048      0.001      4.765      0.000       0.003       0.007\n",
      "guilty_drivers_avg_experience     0.0019      0.001      2.307      0.021       0.000       0.003\n",
      "lighting_cat                      0.0498      0.007      6.774      0.000       0.035       0.064\n",
      "road_object_type_cat              0.0164      0.004      4.642      0.000       0.010       0.023\n",
      "dor_z_cat                        -0.0550      0.015     -3.622      0.000      -0.085      -0.025\n",
      "factor_cat                       -0.0038      0.004     -0.947      0.344      -0.012       0.004\n",
      "-------------------------------------------------------------------------------------------------\n",
      "            severity_encode=3       coef    std err          z      P>|z|      [0.025      0.975]\n",
      "-------------------------------------------------------------------------------------------------\n",
      "Intercept                        -2.2842      0.132    -17.328      0.000      -2.543      -2.026\n",
      "is_toll                          -0.0496      0.028     -1.790      0.073      -0.104       0.005\n",
      "drivers_avg_experience            0.0010      0.001      0.823      0.410      -0.001       0.003\n",
      "guilty_drivers_avg_experience     0.0075      0.001      7.481      0.000       0.006       0.009\n",
      "lighting_cat                      0.1286      0.009     14.158      0.000       0.111       0.146\n",
      "road_object_type_cat              0.0712      0.005     14.407      0.000       0.061       0.081\n",
      "dor_z_cat                         0.0818      0.020      4.054      0.000       0.042       0.121\n",
      "factor_cat                        0.0091      0.005      1.676      0.094      -0.002       0.020\n",
      "=================================================================================================\n"
     ]
    }
   ],
   "source": [
    "formula = 'severity_encode ~ is_toll + drivers_avg_experience + guilty_drivers_avg_experience\\\n",
    "                + lighting_cat + road_object_type_cat + dor_z_cat + factor_cat'\n",
    "\n",
    "model = smf.mnlogit(formula, data=df_balanced)\n",
    "result = model.fit()\n",
    "\n",
    "print(result.summary())"
   ]
  },
  {
   "cell_type": "markdown",
   "id": "819f4408",
   "metadata": {},
   "source": [
    "The coefficient for `is_toll` in medium-severity crashes (severity_encode = 2) is 0.0649 and statistically significant (p < 0.001), indicating a higher likelihood of medium-severity crashes compared to minor ones on toll roads. However, for severe crashes (severity_encode = 3), the `is_toll` coefficient is negative (−0.0496) and borderline significant (p ≈ 0.073).  \n",
    "Therefore, **Hypothesis 2.1 is partially supported**: medium-severity crashes are statistically more likely than minor ones on toll roads, but no significant increase is observed for severe outcomes."
   ]
  },
  {
   "cell_type": "markdown",
   "id": "6e935950",
   "metadata": {},
   "source": [
    "The next step is to shift the focus from the external environment to behavioral and regulatory aspects of crashes, including traffic violations and the presence of drunk drivers. This will allow us to explore an alternative explanation for the observed differences."
   ]
  },
  {
   "cell_type": "code",
   "execution_count": 136,
   "id": "46412b5f",
   "metadata": {},
   "outputs": [
    {
     "name": "stdout",
     "output_type": "stream",
     "text": [
      "Optimization terminated successfully.\n",
      "         Current function value: 1.017238\n",
      "         Iterations 6\n",
      "                          MNLogit Regression Results                          \n",
      "==============================================================================\n",
      "Dep. Variable:        severity_encode   No. Observations:                59080\n",
      "Model:                        MNLogit   Df Residuals:                    59064\n",
      "Method:                           MLE   Df Model:                           14\n",
      "Date:                Sun, 20 Apr 2025   Pseudo R-squ.:                 0.02582\n",
      "Time:                        06:04:54   Log-Likelihood:                -60098.\n",
      "converged:                       True   LL-Null:                       -61691.\n",
      "Covariance Type:            nonrobust   LLR p-value:                     0.000\n",
      "==========================================================================================\n",
      "     severity_encode=2       coef    std err          z      P>|z|      [0.025      0.975]\n",
      "------------------------------------------------------------------------------------------\n",
      "Intercept                 -0.0519      0.017     -3.047      0.002      -0.085      -0.019\n",
      "is_toll                    0.0619      0.019      3.331      0.001       0.025       0.098\n",
      "speeding                  -0.1647      0.019     -8.478      0.000      -0.203      -0.127\n",
      "signal_violation          -0.2529      0.422     -0.599      0.549      -1.080       0.574\n",
      "wrong_way_driving          0.4329      0.029     14.975      0.000       0.376       0.490\n",
      "any_drunk_drivers          0.3850      0.034     11.370      0.000       0.319       0.451\n",
      "num_drunk_participants    -0.1164      0.012     -9.357      0.000      -0.141      -0.092\n",
      "pedestrian_related         0.8278      0.106      7.814      0.000       0.620       1.035\n",
      "------------------------------------------------------------------------------------------\n",
      "     severity_encode=3       coef    std err          z      P>|z|      [0.025      0.975]\n",
      "------------------------------------------------------------------------------------------\n",
      "Intercept                 -1.2694      0.024    -53.650      0.000      -1.316      -1.223\n",
      "is_toll                    0.1602      0.024      6.639      0.000       0.113       0.207\n",
      "speeding                  -0.1519      0.026     -5.795      0.000      -0.203      -0.101\n",
      "signal_violation           0.2115      0.503      0.420      0.674      -0.775       1.198\n",
      "wrong_way_driving          1.3412      0.032     41.847      0.000       1.278       1.404\n",
      "any_drunk_drivers          0.9392      0.041     23.072      0.000       0.859       1.019\n",
      "num_drunk_participants    -0.1777      0.015    -11.727      0.000      -0.207      -0.148\n",
      "pedestrian_related         2.0472      0.104     19.651      0.000       1.843       2.251\n",
      "==========================================================================================\n"
     ]
    }
   ],
   "source": [
    "formula = 'severity_encode ~ is_toll + speeding + signal_violation + wrong_way_driving\\\n",
    "                + any_drunk_drivers + num_drunk_participants + pedestrian_related'\n",
    "\n",
    "model = smf.mnlogit(formula, data=df_balanced)\n",
    "result = model.fit()\n",
    "\n",
    "print(result.summary())"
   ]
  },
  {
   "cell_type": "markdown",
   "id": "b4356ef3",
   "metadata": {},
   "source": [
    "`'is_toll'` shows a positive and statistically significant effect for both medium-severity crashes (coef = 0.0619, p < 0.001) and severe crashes (coef = 0.1602, p < 0.001). This means that on toll roads, the likelihood of more severe outcomes compared to minor ones is significantly higher, which **supports Hypothesis 2.1** in this model specification."
   ]
  },
  {
   "cell_type": "markdown",
   "id": "448bc389",
   "metadata": {},
   "source": [
    "Next, environmental factors, vehicle technical characteristics, and participant behavior should be combined into a single model, which brings the analysis closer to a more comprehensive assessment of the `'is_toll'` effect."
   ]
  },
  {
   "cell_type": "code",
   "execution_count": 137,
   "id": "8c48aedb",
   "metadata": {},
   "outputs": [
    {
     "name": "stdout",
     "output_type": "stream",
     "text": [
      "Optimization terminated successfully.\n",
      "         Current function value: 1.006955\n",
      "         Iterations 7\n",
      "                          MNLogit Regression Results                          \n",
      "==============================================================================\n",
      "Dep. Variable:        severity_encode   No. Observations:                59080\n",
      "Model:                        MNLogit   Df Residuals:                    59046\n",
      "Method:                           MLE   Df Model:                           32\n",
      "Date:                Sun, 20 Apr 2025   Pseudo R-squ.:                 0.03567\n",
      "Time:                        06:04:55   Log-Likelihood:                -59491.\n",
      "converged:                       True   LL-Null:                       -61691.\n",
      "Covariance Type:            nonrobust   LLR p-value:                     0.000\n",
      "==================================================================================================\n",
      "             severity_encode=2       coef    std err          z      P>|z|      [0.025      0.975]\n",
      "--------------------------------------------------------------------------------------------------\n",
      "Intercept                         39.1559      2.767     14.151      0.000      33.733      44.579\n",
      "is_toll                            0.1272      0.022      5.694      0.000       0.083       0.171\n",
      "num_drunk_participants             0.0250      0.008      3.169      0.002       0.010       0.040\n",
      "guilty_drivers_avg_experience      0.0049      0.000     11.905      0.000       0.004       0.006\n",
      "share_guilty_vehicles              0.2388      0.036      6.699      0.000       0.169       0.309\n",
      "lighting_cat                       0.0374      0.007      5.021      0.000       0.023       0.052\n",
      "road_object_type_cat               0.0089      0.004      2.411      0.016       0.002       0.016\n",
      "speeding                          -0.1339      0.020     -6.686      0.000      -0.173      -0.095\n",
      "signal_violation                  -0.3911      0.426     -0.918      0.358      -1.226       0.443\n",
      "pedestrian_related                 0.4548      0.113      4.037      0.000       0.234       0.676\n",
      "wrong_way_driving                  0.5477      0.030     17.978      0.000       0.488       0.607\n",
      "num_front_wheel_drive_vehicles    -0.1625      0.012    -13.179      0.000      -0.187      -0.138\n",
      "avg_vehicles_age                  -0.0195      0.001    -14.130      0.000      -0.022      -0.017\n",
      "dor_z_cat                         -0.0281      0.015     -1.813      0.070      -0.058       0.002\n",
      "DTPV_cat                          -0.0244      0.007     -3.651      0.000      -0.038      -0.011\n",
      "OBJ_DTP_cat                        0.0021      0.004      0.481      0.631      -0.006       0.011\n",
      "factor_cat                        -0.0094      0.004     -2.275      0.023      -0.017      -0.001\n",
      "--------------------------------------------------------------------------------------------------\n",
      "             severity_encode=3       coef    std err          z      P>|z|      [0.025      0.975]\n",
      "--------------------------------------------------------------------------------------------------\n",
      "Intercept                         39.3989      3.125     12.607      0.000      33.274      45.524\n",
      "is_toll                            0.0728      0.029      2.520      0.012       0.016       0.129\n",
      "num_drunk_participants             0.1284      0.009     13.629      0.000       0.110       0.147\n",
      "guilty_drivers_avg_experience      0.0080      0.000     16.201      0.000       0.007       0.009\n",
      "share_guilty_vehicles              0.0975      0.046      2.117      0.034       0.007       0.188\n",
      "lighting_cat                       0.1021      0.009     10.764      0.000       0.083       0.121\n",
      "road_object_type_cat               0.0473      0.005      9.157      0.000       0.037       0.057\n",
      "speeding                          -0.1271      0.027     -4.713      0.000      -0.180      -0.074\n",
      "signal_violation                  -0.0437      0.509     -0.086      0.932      -1.042       0.955\n",
      "pedestrian_related                 1.4994      0.115     13.083      0.000       1.275       1.724\n",
      "wrong_way_driving                  1.4913      0.035     42.910      0.000       1.423       1.559\n",
      "num_front_wheel_drive_vehicles    -0.2450      0.016    -15.186      0.000      -0.277      -0.213\n",
      "avg_vehicles_age                  -0.0204      0.002    -13.106      0.000      -0.023      -0.017\n",
      "dor_z_cat                          0.0848      0.021      4.068      0.000       0.044       0.126\n",
      "DTPV_cat                          -0.1237      0.008    -14.772      0.000      -0.140      -0.107\n",
      "OBJ_DTP_cat                        0.0287      0.006      5.007      0.000       0.017       0.040\n",
      "factor_cat                         0.0044      0.006      0.785      0.432      -0.007       0.015\n",
      "==================================================================================================\n"
     ]
    }
   ],
   "source": [
    "formula = 'severity_encode ~ is_toll\\\n",
    "          + num_drunk_participants + guilty_drivers_avg_experience\\\n",
    "          + share_guilty_vehicles\\\n",
    "          + lighting_cat + road_object_type_cat\\\n",
    "          + speeding + signal_violation + pedestrian_related + wrong_way_driving\\\n",
    "          + num_front_wheel_drive_vehicles + avg_vehicles_age\\\n",
    "          + dor_z_cat + DTPV_cat + OBJ_DTP_cat + factor_cat'\n",
    "\n",
    "\n",
    "model = smf.mnlogit(formula, data=df_balanced)\n",
    "result = model.fit()\n",
    "\n",
    "print(result.summary())"
   ]
  },
  {
   "cell_type": "markdown",
   "id": "209653d4",
   "metadata": {},
   "source": [
    "The coefficient for `'is_toll'` is positive and statistically significant for both medium-severity crashes (coef = 0.1272, p < 0.001) and severe crashes (coef = 0.0728, p = 0.012).  \n",
    "Thus, the model confidently **confirms Hypothesis 2.1**: the likelihood of both medium and severe crashes is higher on toll roads compared to minor ones when controlling for the full set of factors."
   ]
  },
  {
   "cell_type": "markdown",
   "id": "9c0a4ba1",
   "metadata": {},
   "source": [
    "### 2. sample weights"
   ]
  },
  {
   "cell_type": "code",
   "execution_count": 143,
   "id": "88f82d06",
   "metadata": {},
   "outputs": [
    {
     "name": "stdout",
     "output_type": "stream",
     "text": [
      "Optimization terminated successfully.\n",
      "         Current function value: 0.987080\n",
      "         Iterations 6\n",
      "                          MNLogit Regression Results                          \n",
      "==============================================================================\n",
      "Dep. Variable:        severity_encode   No. Observations:               617372\n",
      "Model:                        MNLogit   Df Residuals:                   617332\n",
      "Method:                           MLE   Df Model:                           38\n",
      "Date:                Sun, 20 Apr 2025   Pseudo R-squ.:                 0.04488\n",
      "Time:                        06:25:53   Log-Likelihood:            -6.0940e+05\n",
      "converged:                       True   LL-Null:                   -6.3803e+05\n",
      "Covariance Type:            nonrobust   LLR p-value:                     0.000\n",
      "==================================================================================================\n",
      "             severity_encode=2       coef    std err          z      P>|z|      [0.025      0.975]\n",
      "--------------------------------------------------------------------------------------------------\n",
      "const                             28.8096      0.816     35.298      0.000      27.210      30.409\n",
      "is_toll                            0.2600      0.007     37.261      0.000       0.246       0.274\n",
      "RTA_vehicle_number                 0.0845      0.008     10.332      0.000       0.069       0.101\n",
      "RTA_participants_number            0.1588      0.003     59.482      0.000       0.154       0.164\n",
      "num_drunk_participants             0.0060      0.003      2.356      0.018       0.001       0.011\n",
      "guilty_drivers_avg_experience      0.0019      0.000      7.409      0.000       0.001       0.002\n",
      "drivers_avg_experience             0.0044      0.000     14.388      0.000       0.004       0.005\n",
      "share_guilty_vehicles              0.7180      0.022     32.935      0.000       0.675       0.761\n",
      "lighting_cat                       0.0378      0.002     16.309      0.000       0.033       0.042\n",
      "road_object_type_cat               0.0102      0.001      9.012      0.000       0.008       0.012\n",
      "speeding                          -0.1548      0.006    -24.975      0.000      -0.167      -0.143\n",
      "signal_violation                  -0.5618      0.110     -5.106      0.000      -0.777      -0.346\n",
      "pedestrian_related                 0.0422      0.038      1.117      0.264      -0.032       0.116\n",
      "wrong_way_driving                  0.4326      0.009     47.303      0.000       0.415       0.451\n",
      "num_front_wheel_drive_vehicles    -0.1934      0.004    -49.317      0.000      -0.201      -0.186\n",
      "avg_vehicles_age                  -0.0149      0.000    -36.680      0.000      -0.016      -0.014\n",
      "dor_z_cat                         -0.0402      0.004     -9.441      0.000      -0.049      -0.032\n",
      "DTPV_cat                          -0.0264      0.002    -12.924      0.000      -0.030      -0.022\n",
      "OBJ_DTP_cat                        0.0029      0.001      2.120      0.034       0.000       0.006\n",
      "factor_cat                         0.0033      0.001      2.602      0.009       0.001       0.006\n",
      "--------------------------------------------------------------------------------------------------\n",
      "             severity_encode=3       coef    std err          z      P>|z|      [0.025      0.975]\n",
      "--------------------------------------------------------------------------------------------------\n",
      "const                             26.1611      0.895     29.229      0.000      24.407      27.915\n",
      "is_toll                            0.2564      0.009     27.796      0.000       0.238       0.274\n",
      "RTA_vehicle_number                 0.3591      0.009     38.036      0.000       0.341       0.378\n",
      "RTA_participants_number            0.3045      0.003     94.690      0.000       0.298       0.311\n",
      "num_drunk_participants             0.0799      0.003     26.128      0.000       0.074       0.086\n",
      "guilty_drivers_avg_experience      0.0049      0.000     15.420      0.000       0.004       0.005\n",
      "drivers_avg_experience             0.0051      0.000     13.234      0.000       0.004       0.006\n",
      "share_guilty_vehicles              1.3527      0.025     53.980      0.000       1.304       1.402\n",
      "lighting_cat                       0.1070      0.003     35.403      0.000       0.101       0.113\n",
      "road_object_type_cat               0.0513      0.002     31.375      0.000       0.048       0.054\n",
      "speeding                          -0.1842      0.009    -21.423      0.000      -0.201      -0.167\n",
      "signal_violation                  -1.1416      0.185     -6.165      0.000      -1.504      -0.779\n",
      "pedestrian_related                 0.5030      0.039     12.744      0.000       0.426       0.580\n",
      "wrong_way_driving                  1.2985      0.011    121.276      0.000       1.278       1.319\n",
      "num_front_wheel_drive_vehicles    -0.3261      0.005    -63.144      0.000      -0.336      -0.316\n",
      "avg_vehicles_age                  -0.0150      0.000    -33.663      0.000      -0.016      -0.014\n",
      "dor_z_cat                          0.0340      0.006      5.799      0.000       0.023       0.045\n",
      "DTPV_cat                          -0.1273      0.003    -48.160      0.000      -0.132      -0.122\n",
      "OBJ_DTP_cat                        0.0212      0.002     11.448      0.000       0.018       0.025\n",
      "factor_cat                         0.0141      0.002      7.966      0.000       0.011       0.018\n",
      "==================================================================================================\n"
     ]
    }
   ],
   "source": [
    "sample_weights = compute_sample_weight(class_weight='balanced', y=df_hypoth['is_toll'])\n",
    "df_weighted = df_hypoth.loc[df_hypoth.index.repeat(sample_weights.round().astype(int))]\n",
    "\n",
    "X = df_weighted[[\n",
    "    'is_toll', 'RTA_vehicle_number', 'RTA_participants_number',\n",
    "    'num_drunk_participants', 'guilty_drivers_avg_experience',\n",
    "    'drivers_avg_experience', 'share_guilty_vehicles',\n",
    "    'lighting_cat', 'road_object_type_cat', 'speeding', 'signal_violation',\n",
    "    'pedestrian_related', 'wrong_way_driving', 'num_front_wheel_drive_vehicles',\n",
    "    'avg_vehicles_age', 'dor_z_cat', 'DTPV_cat', 'OBJ_DTP_cat', 'factor_cat'\n",
    "]]\n",
    "\n",
    "X = sm.add_constant(X)\n",
    "\n",
    "y = df_weighted['severity_encode']\n",
    "\n",
    "# model = sm.MNLogit(y, X)\n",
    "# result = model.fit(weights=sample_weights)\n",
    "\n",
    "model = sm.MNLogit(y, X)\n",
    "result = model.fit()\n",
    "\n",
    "print(result.summary())"
   ]
  },
  {
   "cell_type": "markdown",
   "id": "9da76565",
   "metadata": {},
   "source": [
    "The coefficient for `'is_toll'` is positive and highly significant for both medium-severity crashes (coef = 0.2600, p < 0.001) and severe crashes (coef = 0.2564, p < 0.001), providing strong support for Hypothesis 2.1.  \n",
    "The significance of `is_toll` remains even after controlling for more than 15 different predictors, which confirms the robustness of the toll road effect."
   ]
  },
  {
   "cell_type": "markdown",
   "id": "baa58863",
   "metadata": {},
   "source": [
    "_To test the robustness of the results, a series of models was estimated with the gradual inclusion of variables (on a balanced subsample). The weighted model was built using the broadest specification, reflecting the full range of available factors, which allowed for the most comprehensive view of the toll road’s impact on crash severity._"
   ]
  }
 ],
 "metadata": {
  "kernelspec": {
   "display_name": "Python 3",
   "language": "python",
   "name": "python3"
  },
  "language_info": {
   "codemirror_mode": {
    "name": "ipython",
    "version": 3
   },
   "file_extension": ".py",
   "mimetype": "text/x-python",
   "name": "python",
   "nbconvert_exporter": "python",
   "pygments_lexer": "ipython3",
   "version": "3.9.7"
  }
 },
 "nbformat": 4,
 "nbformat_minor": 5
}
