{
 "cells": [
  {
   "cell_type": "code",
   "execution_count": 1,
   "id": "8ce85abc",
   "metadata": {},
   "outputs": [],
   "source": [
    "import random\n",
    "import numpy as np\n",
    "import pandas as pd\n",
    "\n",
    "# settings\n",
    "pd.set_option('mode.chained_assignment', None)\n",
    "\n",
    "# statistics\n",
    "from statsmodels.stats.outliers_influence import variance_inflation_factor\n",
    "import statsmodels.api as sm\n",
    "from statsmodels.miscmodels.ordinal_model import OrderedModel\n",
    "from sklearn.utils.class_weight import compute_sample_weight\n",
    "\n",
    "# data preprocessing and models\n",
    "from sklearn.model_selection import train_test_split\n",
    "from sklearn.preprocessing import StandardScaler\n",
    "from sklearn.cluster import DBSCAN\n",
    "from sklearn.ensemble import RandomForestClassifier\n",
    "from xgboost import XGBClassifier\n",
    "from sklearn.model_selection import GridSearchCV\n",
    "from sklearn.metrics import accuracy_score, f1_score\n",
    "\n",
    "# dl models\n",
    "import torch\n",
    "import torch.nn as nn\n",
    "import torch.optim as optim\n",
    "from torch.utils.data import TensorDataset, DataLoader\n",
    "\n",
    "# visualization\n",
    "import matplotlib.pyplot as plt\n",
    "import seaborn as sns\n",
    "import folium\n",
    "\n",
    "# imbalance\n",
    "from imblearn.under_sampling import RandomUnderSampler\n",
    "from imblearn.over_sampling import RandomOverSampler\n",
    "\n",
    "# specific\n",
    "from tqdm import tqdm"
   ]
  },
  {
   "cell_type": "code",
   "execution_count": 2,
   "id": "217c8405",
   "metadata": {},
   "outputs": [
    {
     "name": "stdout",
     "output_type": "stream",
     "text": [
      "(440127, 75)\n"
     ]
    },
    {
     "data": {
      "text/html": [
       "<div>\n",
       "<style scoped>\n",
       "    .dataframe tbody tr th:only-of-type {\n",
       "        vertical-align: middle;\n",
       "    }\n",
       "\n",
       "    .dataframe tbody tr th {\n",
       "        vertical-align: top;\n",
       "    }\n",
       "\n",
       "    .dataframe thead th {\n",
       "        text-align: right;\n",
       "    }\n",
       "</style>\n",
       "<table border=\"1\" class=\"dataframe\">\n",
       "  <thead>\n",
       "    <tr style=\"text-align: right;\">\n",
       "      <th></th>\n",
       "      <th>REGION</th>\n",
       "      <th>DATE</th>\n",
       "      <th>COORD_L</th>\n",
       "      <th>COORD_W</th>\n",
       "      <th>road_name</th>\n",
       "      <th>road_category</th>\n",
       "      <th>n_VEHICLES</th>\n",
       "      <th>n_PARTICIPANTS</th>\n",
       "      <th>ID</th>\n",
       "      <th>n_DEATHS</th>\n",
       "      <th>...</th>\n",
       "      <th>severity</th>\n",
       "      <th>YEAR</th>\n",
       "      <th>MONTH</th>\n",
       "      <th>WEEKDAY</th>\n",
       "      <th>SEASON</th>\n",
       "      <th>is_WEEKEND</th>\n",
       "      <th>HOUR</th>\n",
       "      <th>is_NIGHT</th>\n",
       "      <th>is_PEAK_HOUR</th>\n",
       "      <th>is_toll</th>\n",
       "    </tr>\n",
       "  </thead>\n",
       "  <tbody>\n",
       "    <tr>\n",
       "      <th>0</th>\n",
       "      <td>1</td>\n",
       "      <td>31.01.2015</td>\n",
       "      <td>81.151944</td>\n",
       "      <td>53.740000</td>\n",
       "      <td>Романово - Завьялово - Баево - Камень-на-Оби</td>\n",
       "      <td>5.0</td>\n",
       "      <td>1</td>\n",
       "      <td>3</td>\n",
       "      <td>161242174</td>\n",
       "      <td>0</td>\n",
       "      <td>...</td>\n",
       "      <td>2</td>\n",
       "      <td>2015</td>\n",
       "      <td>1</td>\n",
       "      <td>5</td>\n",
       "      <td>1</td>\n",
       "      <td>1</td>\n",
       "      <td>9</td>\n",
       "      <td>0</td>\n",
       "      <td>1</td>\n",
       "      <td>0</td>\n",
       "    </tr>\n",
       "    <tr>\n",
       "      <th>1</th>\n",
       "      <td>1</td>\n",
       "      <td>30.01.2015</td>\n",
       "      <td>85.018056</td>\n",
       "      <td>51.684444</td>\n",
       "      <td>Куяган - Куяча - Тоурак</td>\n",
       "      <td>6.0</td>\n",
       "      <td>2</td>\n",
       "      <td>3</td>\n",
       "      <td>161105683</td>\n",
       "      <td>0</td>\n",
       "      <td>...</td>\n",
       "      <td>2</td>\n",
       "      <td>2015</td>\n",
       "      <td>1</td>\n",
       "      <td>4</td>\n",
       "      <td>1</td>\n",
       "      <td>0</td>\n",
       "      <td>14</td>\n",
       "      <td>0</td>\n",
       "      <td>0</td>\n",
       "      <td>0</td>\n",
       "    </tr>\n",
       "    <tr>\n",
       "      <th>2</th>\n",
       "      <td>1</td>\n",
       "      <td>30.01.2015</td>\n",
       "      <td>81.250000</td>\n",
       "      <td>53.818056</td>\n",
       "      <td>Барнаул - Камень-на-Оби - граница Новосибирско...</td>\n",
       "      <td>5.0</td>\n",
       "      <td>2</td>\n",
       "      <td>3</td>\n",
       "      <td>161763431</td>\n",
       "      <td>0</td>\n",
       "      <td>...</td>\n",
       "      <td>1</td>\n",
       "      <td>2015</td>\n",
       "      <td>1</td>\n",
       "      <td>4</td>\n",
       "      <td>1</td>\n",
       "      <td>0</td>\n",
       "      <td>17</td>\n",
       "      <td>0</td>\n",
       "      <td>1</td>\n",
       "      <td>0</td>\n",
       "    </tr>\n",
       "    <tr>\n",
       "      <th>3</th>\n",
       "      <td>1</td>\n",
       "      <td>24.01.2015</td>\n",
       "      <td>51.000000</td>\n",
       "      <td>84.000000</td>\n",
       "      <td>Быканов Мост - Солоновка - Солонешное - границ...</td>\n",
       "      <td>7.0</td>\n",
       "      <td>1</td>\n",
       "      <td>2</td>\n",
       "      <td>160331994</td>\n",
       "      <td>0</td>\n",
       "      <td>...</td>\n",
       "      <td>1</td>\n",
       "      <td>2015</td>\n",
       "      <td>1</td>\n",
       "      <td>5</td>\n",
       "      <td>1</td>\n",
       "      <td>1</td>\n",
       "      <td>19</td>\n",
       "      <td>0</td>\n",
       "      <td>0</td>\n",
       "      <td>0</td>\n",
       "    </tr>\n",
       "    <tr>\n",
       "      <th>4</th>\n",
       "      <td>1</td>\n",
       "      <td>23.01.2015</td>\n",
       "      <td>84.000000</td>\n",
       "      <td>53.000000</td>\n",
       "      <td>Быканов Мост - Солоновка - Солонешное - границ...</td>\n",
       "      <td>7.0</td>\n",
       "      <td>1</td>\n",
       "      <td>2</td>\n",
       "      <td>160213415</td>\n",
       "      <td>1</td>\n",
       "      <td>...</td>\n",
       "      <td>3</td>\n",
       "      <td>2015</td>\n",
       "      <td>1</td>\n",
       "      <td>4</td>\n",
       "      <td>1</td>\n",
       "      <td>0</td>\n",
       "      <td>21</td>\n",
       "      <td>0</td>\n",
       "      <td>0</td>\n",
       "      <td>0</td>\n",
       "    </tr>\n",
       "  </tbody>\n",
       "</table>\n",
       "<p>5 rows × 75 columns</p>\n",
       "</div>"
      ],
      "text/plain": [
       "   REGION        DATE    COORD_L    COORD_W  \\\n",
       "0       1  31.01.2015  81.151944  53.740000   \n",
       "1       1  30.01.2015  85.018056  51.684444   \n",
       "2       1  30.01.2015  81.250000  53.818056   \n",
       "3       1  24.01.2015  51.000000  84.000000   \n",
       "4       1  23.01.2015  84.000000  53.000000   \n",
       "\n",
       "                                           road_name  road_category  \\\n",
       "0       Романово - Завьялово - Баево - Камень-на-Оби            5.0   \n",
       "1                            Куяган - Куяча - Тоурак            6.0   \n",
       "2  Барнаул - Камень-на-Оби - граница Новосибирско...            5.0   \n",
       "3  Быканов Мост - Солоновка - Солонешное - границ...            7.0   \n",
       "4  Быканов Мост - Солоновка - Солонешное - границ...            7.0   \n",
       "\n",
       "   n_VEHICLES  n_PARTICIPANTS         ID  n_DEATHS  ...  severity  YEAR  \\\n",
       "0           1               3  161242174         0  ...         2  2015   \n",
       "1           2               3  161105683         0  ...         2  2015   \n",
       "2           2               3  161763431         0  ...         1  2015   \n",
       "3           1               2  160331994         0  ...         1  2015   \n",
       "4           1               2  160213415         1  ...         3  2015   \n",
       "\n",
       "   MONTH  WEEKDAY  SEASON  is_WEEKEND  HOUR  is_NIGHT  is_PEAK_HOUR  is_toll  \n",
       "0      1        5       1           1     9         0             1        0  \n",
       "1      1        4       1           0    14         0             0        0  \n",
       "2      1        4       1           0    17         0             1        0  \n",
       "3      1        5       1           1    19         0             0        0  \n",
       "4      1        4       1           0    21         0             0        0  \n",
       "\n",
       "[5 rows x 75 columns]"
      ]
     },
     "execution_count": 2,
     "metadata": {},
     "output_type": "execute_result"
    }
   ],
   "source": [
    "df = pd.read_csv(\"C:/Users/Настя/YandexDisk-n4skolesnikova/HSE 4th year/Graduation Thesis/data/ACCIDENT_LEVEL_DATA.csv\")\n",
    "df = df.drop('Unnamed: 0', axis=1)\n",
    "print(df.shape)\n",
    "df.head()"
   ]
  },
  {
   "cell_type": "code",
   "execution_count": 3,
   "id": "46e26e75",
   "metadata": {},
   "outputs": [],
   "source": [
    "toll_roads_df = df[df['is_toll'] == 1]\n",
    "free_roads_df = df[df['is_toll'] == 0]\n",
    "\n",
    "dbscan_toll = DBSCAN(eps=0.2/6371.0, min_samples=5, metric=\"haversine\")\n",
    "toll_roads_df.loc[:, \"cluster\"] = dbscan_toll.fit_predict(np.radians(toll_roads_df[[\"COORD_W\", \"COORD_L\"]].values))\n",
    "\n",
    "dbscan_free = DBSCAN(eps=0.3/6371.0, min_samples=5, metric=\"haversine\")    # larger eps for free ones as more observations\n",
    "free_roads_df.loc[:, \"cluster\"] = dbscan_free.fit_predict(np.radians(free_roads_df[[\"COORD_W\", \"COORD_L\"]].values))\n",
    "\n",
    "df = pd.concat([toll_roads_df, free_roads_df], ignore_index=True)"
   ]
  },
  {
   "cell_type": "code",
   "execution_count": 4,
   "id": "925f96b8",
   "metadata": {},
   "outputs": [
    {
     "data": {
      "text/plain": [
       "cluster\n",
       "-1       299824\n",
       " 5963      5538\n",
       " 34        4090\n",
       " 5181      1070\n",
       " 5183       746\n",
       "          ...  \n",
       " 9326         3\n",
       " 9017         3\n",
       " 5809         3\n",
       " 4319         3\n",
       " 8923         1\n",
       "Name: count, Length: 11507, dtype: int64"
      ]
     },
     "execution_count": 4,
     "metadata": {},
     "output_type": "execute_result"
    }
   ],
   "source": [
    "df['cluster'].value_counts()"
   ]
  },
  {
   "cell_type": "code",
   "execution_count": 11,
   "id": "fdd55e36",
   "metadata": {},
   "outputs": [],
   "source": [
    "# Negative examples (clusters with label -1)\n",
    "negative_examples = df[df[\"cluster\"] == -1]\n",
    "\n",
    "# Positive examples (clusters with labels 0, 1, 2, ...)\n",
    "positive_examples = df[df[\"cluster\"] != -1]"
   ]
  },
  {
   "cell_type": "code",
   "execution_count": 5,
   "id": "eb646602",
   "metadata": {},
   "outputs": [],
   "source": [
    "df['is_HOT_SPOT'] = np.where(df['cluster'] != -1, 1, 0)\n",
    "df = df.rename(columns={'cluster': 'CLUSTER'})\n",
    "\n",
    "df_hot_spot = df[['REGION', 'road_name', 'is_HOT_SPOT', 'CLUSTER']]\n",
    "df_hot_spot.to_csv('C:/Users/Настя/YandexDisk-n4skolesnikova/HSE 4th year/Graduation Thesis/data/ACCIDENTS_HOT_SPOTS.csv')"
   ]
  },
  {
   "cell_type": "code",
   "execution_count": 25,
   "id": "6ea4c7d8",
   "metadata": {},
   "outputs": [
    {
     "data": {
      "text/html": [
       "<style>#sk-container-id-3 {color: black;}#sk-container-id-3 pre{padding: 0;}#sk-container-id-3 div.sk-toggleable {background-color: white;}#sk-container-id-3 label.sk-toggleable__label {cursor: pointer;display: block;width: 100%;margin-bottom: 0;padding: 0.3em;box-sizing: border-box;text-align: center;}#sk-container-id-3 label.sk-toggleable__label-arrow:before {content: \"▸\";float: left;margin-right: 0.25em;color: #696969;}#sk-container-id-3 label.sk-toggleable__label-arrow:hover:before {color: black;}#sk-container-id-3 div.sk-estimator:hover label.sk-toggleable__label-arrow:before {color: black;}#sk-container-id-3 div.sk-toggleable__content {max-height: 0;max-width: 0;overflow: hidden;text-align: left;background-color: #f0f8ff;}#sk-container-id-3 div.sk-toggleable__content pre {margin: 0.2em;color: black;border-radius: 0.25em;background-color: #f0f8ff;}#sk-container-id-3 input.sk-toggleable__control:checked~div.sk-toggleable__content {max-height: 200px;max-width: 100%;overflow: auto;}#sk-container-id-3 input.sk-toggleable__control:checked~label.sk-toggleable__label-arrow:before {content: \"▾\";}#sk-container-id-3 div.sk-estimator input.sk-toggleable__control:checked~label.sk-toggleable__label {background-color: #d4ebff;}#sk-container-id-3 div.sk-label input.sk-toggleable__control:checked~label.sk-toggleable__label {background-color: #d4ebff;}#sk-container-id-3 input.sk-hidden--visually {border: 0;clip: rect(1px 1px 1px 1px);clip: rect(1px, 1px, 1px, 1px);height: 1px;margin: -1px;overflow: hidden;padding: 0;position: absolute;width: 1px;}#sk-container-id-3 div.sk-estimator {font-family: monospace;background-color: #f0f8ff;border: 1px dotted black;border-radius: 0.25em;box-sizing: border-box;margin-bottom: 0.5em;}#sk-container-id-3 div.sk-estimator:hover {background-color: #d4ebff;}#sk-container-id-3 div.sk-parallel-item::after {content: \"\";width: 100%;border-bottom: 1px solid gray;flex-grow: 1;}#sk-container-id-3 div.sk-label:hover label.sk-toggleable__label {background-color: #d4ebff;}#sk-container-id-3 div.sk-serial::before {content: \"\";position: absolute;border-left: 1px solid gray;box-sizing: border-box;top: 0;bottom: 0;left: 50%;z-index: 0;}#sk-container-id-3 div.sk-serial {display: flex;flex-direction: column;align-items: center;background-color: white;padding-right: 0.2em;padding-left: 0.2em;position: relative;}#sk-container-id-3 div.sk-item {position: relative;z-index: 1;}#sk-container-id-3 div.sk-parallel {display: flex;align-items: stretch;justify-content: center;background-color: white;position: relative;}#sk-container-id-3 div.sk-item::before, #sk-container-id-3 div.sk-parallel-item::before {content: \"\";position: absolute;border-left: 1px solid gray;box-sizing: border-box;top: 0;bottom: 0;left: 50%;z-index: -1;}#sk-container-id-3 div.sk-parallel-item {display: flex;flex-direction: column;z-index: 1;position: relative;background-color: white;}#sk-container-id-3 div.sk-parallel-item:first-child::after {align-self: flex-end;width: 50%;}#sk-container-id-3 div.sk-parallel-item:last-child::after {align-self: flex-start;width: 50%;}#sk-container-id-3 div.sk-parallel-item:only-child::after {width: 0;}#sk-container-id-3 div.sk-dashed-wrapped {border: 1px dashed gray;margin: 0 0.4em 0.5em 0.4em;box-sizing: border-box;padding-bottom: 0.4em;background-color: white;}#sk-container-id-3 div.sk-label label {font-family: monospace;font-weight: bold;display: inline-block;line-height: 1.2em;}#sk-container-id-3 div.sk-label-container {text-align: center;}#sk-container-id-3 div.sk-container {/* jupyter's `normalize.less` sets `[hidden] { display: none; }` but bootstrap.min.css set `[hidden] { display: none !important; }` so we also need the `!important` here to be able to override the default hidden behavior on the sphinx rendered scikit-learn.org. See: https://github.com/scikit-learn/scikit-learn/issues/21755 */display: inline-block !important;position: relative;}#sk-container-id-3 div.sk-text-repr-fallback {display: none;}</style><div id=\"sk-container-id-3\" class=\"sk-top-container\"><div class=\"sk-text-repr-fallback\"><pre>RandomForestClassifier(random_state=42)</pre><b>In a Jupyter environment, please rerun this cell to show the HTML representation or trust the notebook. <br />On GitHub, the HTML representation is unable to render, please try loading this page with nbviewer.org.</b></div><div class=\"sk-container\" hidden><div class=\"sk-item\"><div class=\"sk-estimator sk-toggleable\"><input class=\"sk-toggleable__control sk-hidden--visually\" id=\"sk-estimator-id-3\" type=\"checkbox\" checked><label for=\"sk-estimator-id-3\" class=\"sk-toggleable__label sk-toggleable__label-arrow\">RandomForestClassifier</label><div class=\"sk-toggleable__content\"><pre>RandomForestClassifier(random_state=42)</pre></div></div></div></div></div>"
      ],
      "text/plain": [
       "RandomForestClassifier(random_state=42)"
      ]
     },
     "execution_count": 25,
     "metadata": {},
     "output_type": "execute_result"
    }
   ],
   "source": [
    "df_hot_spot = df[df['is_HOT_SPOT'] == 1]\n",
    "\n",
    "df_toll = df_hot_spot[df_hot_spot['is_toll'] == 1]\n",
    "df_free = df_hot_spot[df_hot_spot['is_toll'] == 0]\n",
    "\n",
    "drop_features = [\n",
    "    'severity',\n",
    "    'n_DEATHS',\n",
    "    'n_INJURED',\n",
    "    'road_name',\n",
    "    'DATE',\n",
    "    'ID',\n",
    "    'COORD_L', \n",
    "    'COORD_W',\n",
    "    'is_HOT_SPOT',\n",
    "    'CLUSTER'\n",
    "]\n",
    "\n",
    "features = [col for col in df_hot_spot.columns if col not in drop_features]\n",
    "\n",
    "X_toll = df_toll[features]\n",
    "y_toll = df_toll['severity']\n",
    "X_train_toll, X_test_toll, y_train_toll, y_test_toll = train_test_split(X_toll, y_toll, test_size=0.2, random_state=42)\n",
    "\n",
    "X_free = df_free[features]\n",
    "y_free = df_free['severity']\n",
    "X_train_free, X_test_free, y_train_free, y_test_free = train_test_split(X_free, y_free, test_size=0.2, random_state=42)\n",
    "\n",
    "rf_toll = RandomForestClassifier(random_state=42)\n",
    "rf_toll.fit(X_train_toll, y_train_toll)\n",
    "\n",
    "rf_free = RandomForestClassifier(random_state=42)\n",
    "rf_free.fit(X_train_free, y_train_free)"
   ]
  },
  {
   "cell_type": "code",
   "execution_count": 26,
   "id": "f1951194",
   "metadata": {},
   "outputs": [
    {
     "data": {
      "image/png": "[encoded data removed]",
      "text/plain": [
       "<Figure size 900x600 with 2 Axes>"
      ]
     },
     "metadata": {},
     "output_type": "display_data"
    }
   ],
   "source": [
    "# Feature importances\n",
    "importances_toll = pd.Series(rf_toll.feature_importances_, index=X_toll.columns).sort_values(ascending=False)\n",
    "importances_free = pd.Series(rf_free.feature_importances_, index=X_free.columns).sort_values(ascending=False)\n",
    "\n",
    "top_n = 25\n",
    "imp_toll_filt = importances_toll.nlargest(top_n)\n",
    "imp_free_filt = importances_free.nlargest(top_n)\n",
    "\n",
    "plt.figure(figsize=(9, 6))\n",
    "\n",
    "plt.subplot(1, 2, 1)\n",
    "sns.barplot(x=imp_toll_filt.values, y=imp_toll_filt.index)\n",
    "plt.title(\"Feature Importances - Toll Roads\")\n",
    "plt.xlabel(\"Importance\")\n",
    "plt.ylabel(\"Feature\")\n",
    "\n",
    "plt.subplot(1, 2, 2)\n",
    "sns.barplot(x=imp_free_filt.values, y=imp_free_filt.index)\n",
    "plt.title(\"Feature Importances - Free Roads\")\n",
    "plt.xlabel(\"Importance\")\n",
    "plt.ylabel(\"\")\n",
    "\n",
    "plt.tight_layout()\n",
    "plt.show()"
   ]
  },
  {
   "cell_type": "markdown",
   "id": "3cf5ea4c",
   "metadata": {},
   "source": [
    "# Severity predictor model (trying to enhance)"
   ]
  },
  {
   "cell_type": "markdown",
   "id": "464491bb",
   "metadata": {},
   "source": [
    "Add `'cluster'` and `'is_HOT_SPOT'` as features to the model."
   ]
  },
  {
   "cell_type": "code",
   "execution_count": 27,
   "id": "0d8ab6aa",
   "metadata": {},
   "outputs": [
    {
     "name": "stdout",
     "output_type": "stream",
     "text": [
      "F1 (macro): 0.49755653612884787\n",
      "Accuracy: 0.54606593506464\n"
     ]
    }
   ],
   "source": [
    "drop_features = [\n",
    "    'severity',\n",
    "    'n_DEATHS',\n",
    "    'n_INJURED',\n",
    "    'road_name',\n",
    "    'DATE',\n",
    "    'ID',\n",
    "    'COORD_L', \n",
    "    'COORD_W'\n",
    "]\n",
    "\n",
    "features = [col for col in df.columns if col not in drop_features]\n",
    "\n",
    "X = df[features]\n",
    "y = df['severity']\n",
    "\n",
    "X_train, X_test, y_train, y_test = train_test_split(X, y, test_size=0.2, random_state=42)\n",
    "\n",
    "xgb = XGBClassifier(random_state=42, use_label_encoder=False, eval_metric='mlogloss')\n",
    "xgb.fit(X_train, y_train-1)\n",
    "\n",
    "y_pred = xgb.predict(X_test)\n",
    "\n",
    "print(\"F1 (macro):\", f1_score(y_test-1, y_pred, average='macro'))\n",
    "print(\"Accuracy:\", accuracy_score(y_test-1, y_pred))"
   ]
  },
  {
   "cell_type": "markdown",
   "id": "18fa3e8d",
   "metadata": {},
   "source": [
    "Model quality increase by 1-2 percent.\n",
    "\n",
    "Let's try to find optimal parameters for the model to reaise metrics."
   ]
  },
  {
   "cell_type": "code",
   "execution_count": null,
   "id": "8597d20f",
   "metadata": {},
   "outputs": [
    {
     "name": "stderr",
     "output_type": "stream",
     "text": [
      "[I 2025-05-05 21:21:18,939] A new study created in memory with name: no-name-9fddf9d6-124e-4912-83bf-c9c3ea832938\n",
      "[I 2025-05-05 21:21:57,827] Trial 0 finished with value: 0.4922017936291628 and parameters: {'max_depth': 4, 'n_estimators': 166, 'learning_rate': 0.22116415451162502, 'subsample': 0.821115367779596, 'colsample_bytree': 0.9239010060102556, 'gamma': 0.7196467438716442}. Best is trial 0 with value: 0.4922017936291628.\n"
     ]
    }
   ],
   "source": [
    "import optuna\n",
    "\n",
    "def objective(trial):\n",
    "    params = {\n",
    "        'max_depth': trial.suggest_int('max_depth', 3, 10),\n",
    "        'n_estimators': trial.suggest_int('n_estimators', 100, 500),\n",
    "        'learning_rate': trial.suggest_float('learning_rate', 0.01, 0.3),\n",
    "        'subsample': trial.suggest_float('subsample', 0.7, 1.0),\n",
    "        'colsample_bytree': trial.suggest_float('colsample_bytree', 0.7, 1.0),\n",
    "        'gamma': trial.suggest_float('gamma', 0, 5),\n",
    "        'random_state': 42,\n",
    "        'use_label_encoder': False,\n",
    "        'eval_metric': 'mlogloss',\n",
    "        'n_jobs': -1\n",
    "    }\n",
    "\n",
    "    model = XGBClassifier(**params)\n",
    "    model.fit(X_train, y_train - 1)\n",
    "\n",
    "    y_pred = model.predict(X_test)\n",
    "\n",
    "    return f1_score(y_test - 1, y_pred, average='macro')\n",
    "\n",
    "study = optuna.create_study(direction='maximize')\n",
    "study.optimize(objective, n_trials=30, timeout=600)\n",
    "\n",
    "print(\"Best trial:\")\n",
    "print(study.best_trial.params)"
   ]
  },
  {
   "cell_type": "code",
   "execution_count": null,
   "id": "633ce538",
   "metadata": {},
   "outputs": [
    {
     "name": "stdout",
     "output_type": "stream",
     "text": [
      "F1 (macro): 0.5005030160818352\n",
      "Accuracy: 0.5480085429304978\n"
     ]
    }
   ],
   "source": [
    "best_model = XGBClassifier(**study.best_trial.params)\n",
    "best_model.fit(X_train, y_train - 1)\n",
    "\n",
    "y_pred_best = best_model.predict(X_test)\n",
    "print(\"F1 (macro):\", f1_score(y_test - 1, y_pred_best, average='macro'))\n",
    "print(\"Accuracy:\", accuracy_score(y_test - 1, y_pred_best))"
   ]
  },
  {
   "cell_type": "markdown",
   "id": "fb5b378a",
   "metadata": {},
   "source": [
    "# Hypotheses testing (for hot spots only)"
   ]
  },
  {
   "cell_type": "code",
   "execution_count": 11,
   "id": "7dd3cb76",
   "metadata": {},
   "outputs": [
    {
     "name": "stdout",
     "output_type": "stream",
     "text": [
      "Class imbalance in hotspot dataset: 0.08205811707518727\n"
     ]
    }
   ],
   "source": [
    "imsbalance = positive_examples['is_toll'].sum() / positive_examples.shape[0]\n",
    "print(f\"Class imbalance in hotspot dataset: {imsbalance}\")"
   ]
  },
  {
   "cell_type": "markdown",
   "id": "564fea2d",
   "metadata": {},
   "source": [
    "### Multinomial Logit Model (Full specification)"
   ]
  },
  {
   "cell_type": "code",
   "execution_count": null,
   "id": "4ff583ee",
   "metadata": {},
   "outputs": [
    {
     "name": "stdout",
     "output_type": "stream",
     "text": [
      "Optimization terminated successfully.\n",
      "         Current function value: 0.922731\n",
      "         Iterations 7\n",
      "                          MNLogit Regression Results                          \n",
      "==============================================================================\n",
      "Dep. Variable:               severity   No. Observations:               257580\n",
      "Model:                        MNLogit   Df Residuals:                   257516\n",
      "Method:                           MLE   Df Model:                           62\n",
      "Date:                Mon, 05 May 2025   Pseudo R-squ.:                 0.08457\n",
      "Time:                        18:54:19   Log-Likelihood:            -2.3768e+05\n",
      "converged:                       True   LL-Null:                   -2.5964e+05\n",
      "Covariance Type:            nonrobust   LLR p-value:                     0.000\n",
      "===============================================================================================\n",
      "                 severity=2       coef    std err          z      P>|z|      [0.025      0.975]\n",
      "-----------------------------------------------------------------------------------------------\n",
      "const                          -1.0664      0.066    -16.092      0.000      -1.196      -0.937\n",
      "is_toll                         0.3326      0.011     31.276      0.000       0.312       0.353\n",
      "road_category                   0.0149      0.003      4.974      0.000       0.009       0.021\n",
      "road_rank_cat                   0.0591      0.008      7.248      0.000       0.043       0.075\n",
      "site_objects_cat                0.0060      0.002      3.692      0.000       0.003       0.009\n",
      "adj_objects_cat                 0.0096      0.002      5.523      0.000       0.006       0.013\n",
      "weather_cat                    -0.0153      0.005     -3.009      0.003      -0.025      -0.005\n",
      "lighting_cat                    0.0019      0.004      0.500      0.617      -0.006       0.010\n",
      "road_surface_cat                0.0277      0.003     10.267      0.000       0.022       0.033\n",
      "traffic_changes_cat            -0.1439      0.009    -15.414      0.000      -0.162      -0.126\n",
      "is_NIGHT                        0.2059      0.014     14.891      0.000       0.179       0.233\n",
      "is_PEAK_HOUR                    0.0376      0.010      3.777      0.000       0.018       0.057\n",
      "is_WEEKEND                     -0.0754      0.010     -7.887      0.000      -0.094      -0.057\n",
      "SEASON                         -0.0035      0.004     -0.864      0.387      -0.012       0.004\n",
      "wrong_way                       0.0424      0.018      2.322      0.020       0.007       0.078\n",
      "pedestrian_violation            0.5804      0.054     10.804      0.000       0.475       0.686\n",
      "impaired_driving                0.1434      0.020      7.162      0.000       0.104       0.183\n",
      "maneuver_violation             -0.3564      0.019    -18.978      0.000      -0.393      -0.320\n",
      "traffic_control_violation      -0.1673      0.018     -9.360      0.000      -0.202      -0.132\n",
      "license_violation               0.2619      0.032      8.251      0.000       0.200       0.324\n",
      "transport_violation             0.1251      0.025      4.911      0.000       0.075       0.175\n",
      "crossing_violation              0.3852      0.031     12.375      0.000       0.324       0.446\n",
      "interference_violation          0.0477      0.047      1.009      0.313      -0.045       0.140\n",
      "sudden_appearance_violation     0.7410      0.079      9.380      0.000       0.586       0.896\n",
      "other_violation                -0.1327      0.016     -8.119      0.000      -0.165      -0.101\n",
      "TYPE_cat                       -0.0330      0.004     -8.982      0.000      -0.040      -0.026\n",
      "exp_avg                         0.0020      0.000      4.816      0.000       0.001       0.003\n",
      "guilty_share                    0.2425      0.022     11.083      0.000       0.200       0.285\n",
      "n_fatal_violations              0.1009      0.011      8.925      0.000       0.079       0.123\n",
      "n_INJURED                       0.3191      0.005     69.814      0.000       0.310       0.328\n",
      "cause_factors_cat               0.0049      0.002      2.827      0.005       0.002       0.008\n",
      "n_guilty                       -0.0930      0.031     -2.981      0.003      -0.154      -0.032\n",
      "-----------------------------------------------------------------------------------------------\n",
      "                 severity=3       coef    std err          z      P>|z|      [0.025      0.975]\n",
      "-----------------------------------------------------------------------------------------------\n",
      "const                          -2.1745      0.093    -23.334      0.000      -2.357      -1.992\n",
      "is_toll                         0.5015      0.015     32.981      0.000       0.472       0.531\n",
      "road_category                   0.0373      0.004      8.729      0.000       0.029       0.046\n",
      "road_rank_cat                   0.1638      0.012     13.265      0.000       0.140       0.188\n",
      "site_objects_cat                0.0483      0.002     19.646      0.000       0.043       0.053\n",
      "adj_objects_cat                 0.0315      0.002     12.782      0.000       0.027       0.036\n",
      "weather_cat                     0.0002      0.007      0.033      0.974      -0.014       0.014\n",
      "lighting_cat                    0.0373      0.005      6.825      0.000       0.027       0.048\n",
      "road_surface_cat                0.0379      0.004      9.851      0.000       0.030       0.045\n",
      "traffic_changes_cat            -0.4502      0.013    -35.039      0.000      -0.475      -0.425\n",
      "is_NIGHT                        0.4064      0.018     22.301      0.000       0.371       0.442\n",
      "is_PEAK_HOUR                   -0.0781      0.015     -5.326      0.000      -0.107      -0.049\n",
      "is_WEEKEND                      0.0071      0.013      0.525      0.599      -0.019       0.034\n",
      "SEASON                          0.0134      0.006      2.321      0.020       0.002       0.025\n",
      "wrong_way                       0.3578      0.023     15.312      0.000       0.312       0.404\n",
      "pedestrian_violation            1.1958      0.057     20.986      0.000       1.084       1.308\n",
      "impaired_driving                0.2348      0.024      9.596      0.000       0.187       0.283\n",
      "maneuver_violation             -1.0453      0.025    -41.960      0.000      -1.094      -0.996\n",
      "traffic_control_violation      -0.2663      0.023    -11.459      0.000      -0.312      -0.221\n",
      "license_violation              -0.1397      0.042     -3.329      0.001      -0.222      -0.057\n",
      "transport_violation             0.6308      0.030     20.854      0.000       0.572       0.690\n",
      "crossing_violation              0.5566      0.039     14.256      0.000       0.480       0.633\n",
      "interference_violation         -0.1979      0.061     -3.266      0.001      -0.317      -0.079\n",
      "sudden_appearance_violation     0.7926      0.082      9.665      0.000       0.632       0.953\n",
      "other_violation                -0.4410      0.022    -20.496      0.000      -0.483      -0.399\n",
      "TYPE_cat                       -0.0238      0.005     -4.797      0.000      -0.034      -0.014\n",
      "exp_avg                         0.0036      0.001      6.205      0.000       0.002       0.005\n",
      "guilty_share                   -0.7885      0.028    -27.841      0.000      -0.844      -0.733\n",
      "n_fatal_violations              0.3732      0.014     27.164      0.000       0.346       0.400\n",
      "n_INJURED                      -0.7056      0.009    -76.870      0.000      -0.724      -0.688\n",
      "cause_factors_cat               0.0123      0.002      4.921      0.000       0.007       0.017\n",
      "n_guilty                        0.7218      0.038     19.244      0.000       0.648       0.795\n",
      "===============================================================================================\n"
     ]
    }
   ],
   "source": [
    "X = positive_examples.drop(columns=[\"is_toll\"])\n",
    "y = positive_examples[\"is_toll\"]\n",
    "\n",
    "ros = RandomOverSampler(random_state=42)\n",
    "X_resampled, y_resampled = ros.fit_resample(X, y)\n",
    "\n",
    "df_weighted = pd.concat([X_resampled, y_resampled], axis=1)\n",
    "df_weighted.shape\n",
    "\n",
    "\n",
    "X = df_weighted[[\n",
    "    'is_toll', 'road_category', 'road_rank_cat', 'site_objects_cat', 'adj_objects_cat',\n",
    "    'weather_cat', 'lighting_cat', 'road_surface_cat', 'traffic_changes_cat', 'is_NIGHT', 'is_PEAK_HOUR', 'is_WEEKEND', 'SEASON',\n",
    "    'wrong_way', 'pedestrian_violation', 'impaired_driving', 'maneuver_violation', 'traffic_control_violation', 'license_violation',\n",
    "    'transport_violation', 'crossing_violation', 'interference_violation', 'sudden_appearance_violation', 'other_violation',\n",
    "    'TYPE_cat', 'exp_avg', 'guilty_share', 'n_fatal_violations', 'n_INJURED', 'cause_factors_cat', 'n_guilty'\n",
    "]]\n",
    "\n",
    "X = sm.add_constant(X)\n",
    "\n",
    "y = df_weighted['severity']\n",
    "\n",
    "model = sm.MNLogit(y, X)\n",
    "result = model.fit()\n",
    "\n",
    "print(result.summary())"
   ]
  },
  {
   "cell_type": "markdown",
   "id": "e70af332",
   "metadata": {},
   "source": [
    "#### Separate models"
   ]
  },
  {
   "cell_type": "code",
   "execution_count": 18,
   "id": "bd4c6c70",
   "metadata": {},
   "outputs": [],
   "source": [
    "df_toll = positive_examples[positive_examples['is_toll'] == 1]\n",
    "df_toll.drop(['is_toll'], axis=1, inplace=True)\n",
    "\n",
    "df_free = positive_examples[positive_examples['is_toll'] == 0]\n",
    "df_free.drop(['is_toll'], axis=1, inplace=True)"
   ]
  },
  {
   "cell_type": "code",
   "execution_count": 19,
   "id": "3aea9e1b",
   "metadata": {},
   "outputs": [
    {
     "name": "stdout",
     "output_type": "stream",
     "text": [
      "Optimization terminated successfully.\n",
      "         Current function value: 0.949781\n",
      "         Iterations 7\n",
      "\n",
      "Full model for toll roads:\n",
      "\n",
      "                          MNLogit Regression Results                          \n",
      "==============================================================================\n",
      "Dep. Variable:               severity   No. Observations:                11513\n",
      "Model:                        MNLogit   Df Residuals:                    11451\n",
      "Method:                           MLE   Df Model:                           60\n",
      "Date:                Mon, 05 May 2025   Pseudo R-squ.:                 0.07872\n",
      "Time:                        19:06:02   Log-Likelihood:                -10935.\n",
      "converged:                       True   LL-Null:                       -11869.\n",
      "Covariance Type:            nonrobust   LLR p-value:                     0.000\n",
      "===============================================================================================\n",
      "                 severity=2       coef    std err          z      P>|z|      [0.025      0.975]\n",
      "-----------------------------------------------------------------------------------------------\n",
      "const                          -1.0732      0.504     -2.129      0.033      -2.061      -0.085\n",
      "road_category                  -0.0096      0.015     -0.644      0.519      -0.039       0.020\n",
      "road_rank_cat                   0.1682      0.105      1.603      0.109      -0.037       0.374\n",
      "site_objects_cat                0.0118      0.008      1.519      0.129      -0.003       0.027\n",
      "adj_objects_cat                 0.0058      0.008      0.732      0.464      -0.010       0.021\n",
      "weather_cat                    -0.0114      0.026     -0.443      0.658      -0.062       0.039\n",
      "lighting_cat                    0.0134      0.018      0.738      0.461      -0.022       0.049\n",
      "road_surface_cat                0.0303      0.014      2.192      0.028       0.003       0.057\n",
      "traffic_changes_cat            -0.0837      0.044     -1.917      0.055      -0.169       0.002\n",
      "is_NIGHT                        0.2301      0.063      3.628      0.000       0.106       0.354\n",
      "is_PEAK_HOUR                    0.0534      0.048      1.118      0.263      -0.040       0.147\n",
      "is_WEEKEND                     -0.0809      0.045     -1.782      0.075      -0.170       0.008\n",
      "SEASON                          0.0040      0.019      0.204      0.838      -0.034       0.042\n",
      "wrong_way                      -0.1061      0.093     -1.138      0.255      -0.289       0.077\n",
      "pedestrian_violation            0.4495      0.254      1.771      0.077      -0.048       0.947\n",
      "impaired_driving               -0.0649      0.106     -0.610      0.542      -0.273       0.144\n",
      "maneuver_violation             -0.5007      0.093     -5.369      0.000      -0.684      -0.318\n",
      "traffic_control_violation      -0.2728      0.089     -3.051      0.002      -0.448      -0.098\n",
      "license_violation               0.2291      0.157      1.458      0.145      -0.079       0.537\n",
      "transport_violation             0.0032      0.121      0.027      0.979      -0.234       0.240\n",
      "crossing_violation              0.3458      0.155      2.230      0.026       0.042       0.650\n",
      "interference_violation          0.0541      0.219      0.247      0.805      -0.375       0.484\n",
      "sudden_appearance_violation     1.1964      0.511      2.344      0.019       0.196       2.197\n",
      "other_violation                -0.2714      0.080     -3.413      0.001      -0.427      -0.116\n",
      "TYPE_cat                       -0.0230      0.018     -1.274      0.203      -0.058       0.012\n",
      "exp_avg                         0.0018      0.002      0.828      0.407      -0.002       0.006\n",
      "guilty_share                    0.1559      0.105      1.481      0.139      -0.050       0.362\n",
      "n_fatal_violations              0.1901      0.058      3.296      0.001       0.077       0.303\n",
      "n_INJURED                       0.2885      0.021     13.455      0.000       0.246       0.331\n",
      "cause_factors_cat              -0.0040      0.009     -0.434      0.664      -0.022       0.014\n",
      "n_guilty                       -0.0835      0.156     -0.534      0.593      -0.390       0.223\n",
      "-----------------------------------------------------------------------------------------------\n",
      "                 severity=3       coef    std err          z      P>|z|      [0.025      0.975]\n",
      "-----------------------------------------------------------------------------------------------\n",
      "const                          -3.7834      0.770     -4.913      0.000      -5.293      -2.274\n",
      "road_category                   0.0186      0.020      0.911      0.362      -0.021       0.059\n",
      "road_rank_cat                   0.5062      0.169      2.988      0.003       0.174       0.838\n",
      "site_objects_cat                0.0606      0.012      5.264      0.000       0.038       0.083\n",
      "adj_objects_cat                 0.0352      0.011      3.228      0.001       0.014       0.057\n",
      "weather_cat                     0.0264      0.035      0.749      0.454      -0.043       0.096\n",
      "lighting_cat                    0.0521      0.025      2.108      0.035       0.004       0.101\n",
      "road_surface_cat                0.0350      0.019      1.848      0.065      -0.002       0.072\n",
      "traffic_changes_cat            -0.3122      0.058     -5.337      0.000      -0.427      -0.198\n",
      "is_NIGHT                        0.4236      0.082      5.195      0.000       0.264       0.583\n",
      "is_PEAK_HOUR                   -0.0994      0.068     -1.468      0.142      -0.232       0.033\n",
      "is_WEEKEND                     -0.0417      0.062     -0.672      0.501      -0.163       0.080\n",
      "SEASON                          0.0130      0.026      0.490      0.624      -0.039       0.065\n",
      "wrong_way                       0.2079      0.114      1.831      0.067      -0.015       0.430\n",
      "pedestrian_violation            0.9178      0.261      3.512      0.000       0.406       1.430\n",
      "impaired_driving               -0.0641      0.127     -0.507      0.612      -0.312       0.184\n",
      "maneuver_violation             -1.1922      0.118    -10.076      0.000      -1.424      -0.960\n",
      "traffic_control_violation      -0.3882      0.111     -3.483      0.000      -0.607      -0.170\n",
      "license_violation               0.0269      0.200      0.135      0.893      -0.365       0.419\n",
      "transport_violation             0.3975      0.141      2.821      0.005       0.121       0.674\n",
      "crossing_violation              0.5288      0.185      2.858      0.004       0.166       0.892\n",
      "interference_violation         -0.3036      0.275     -1.102      0.270      -0.843       0.236\n",
      "sudden_appearance_violation     1.1471      0.516      2.222      0.026       0.135       2.159\n",
      "other_violation                -0.5349      0.100     -5.326      0.000      -0.732      -0.338\n",
      "TYPE_cat                       -0.0076      0.024     -0.321      0.748      -0.054       0.039\n",
      "exp_avg                         0.0018      0.003      0.640      0.522      -0.004       0.008\n",
      "guilty_share                   -0.7654      0.132     -5.815      0.000      -1.023      -0.507\n",
      "n_fatal_violations              0.4953      0.067      7.341      0.000       0.363       0.628\n",
      "n_INJURED                      -0.6589      0.040    -16.414      0.000      -0.738      -0.580\n",
      "cause_factors_cat               0.0153      0.013      1.162      0.245      -0.011       0.041\n",
      "n_guilty                        0.8608      0.179      4.801      0.000       0.509       1.212\n",
      "===============================================================================================\n"
     ]
    }
   ],
   "source": [
    "X = df_toll[[\n",
    "    'road_category', 'road_rank_cat', 'site_objects_cat', 'adj_objects_cat',\n",
    "    'weather_cat', 'lighting_cat', 'road_surface_cat', 'traffic_changes_cat', 'is_NIGHT', 'is_PEAK_HOUR', 'is_WEEKEND', 'SEASON',\n",
    "    'wrong_way', 'pedestrian_violation', 'impaired_driving', 'maneuver_violation', 'traffic_control_violation', 'license_violation',\n",
    "    'transport_violation', 'crossing_violation', 'interference_violation', 'sudden_appearance_violation', 'other_violation',\n",
    "    'TYPE_cat', 'exp_avg', 'guilty_share', 'n_fatal_violations', 'n_INJURED', 'cause_factors_cat', 'n_guilty'\n",
    "]]\n",
    "\n",
    "X = sm.add_constant(X)\n",
    "\n",
    "y = df_toll['severity']\n",
    "\n",
    "model = sm.MNLogit(y, X)\n",
    "result = model.fit()\n",
    "\n",
    "print('\\nFull model for toll roads:\\n')\n",
    "print(result.summary())"
   ]
  },
  {
   "cell_type": "code",
   "execution_count": 20,
   "id": "e0c106e0",
   "metadata": {},
   "outputs": [
    {
     "name": "stdout",
     "output_type": "stream",
     "text": [
      "Optimization terminated successfully.\n",
      "         Current function value: 0.892915\n",
      "         Iterations 7\n",
      "\n",
      "Full model for free roads:\n",
      "\n",
      "                          MNLogit Regression Results                          \n",
      "==============================================================================\n",
      "Dep. Variable:               severity   No. Observations:               128790\n",
      "Model:                        MNLogit   Df Residuals:                   128728\n",
      "Method:                           MLE   Df Model:                           60\n",
      "Date:                Mon, 05 May 2025   Pseudo R-squ.:                 0.08606\n",
      "Time:                        19:06:11   Log-Likelihood:            -1.1500e+05\n",
      "converged:                       True   LL-Null:                   -1.2583e+05\n",
      "Covariance Type:            nonrobust   LLR p-value:                     0.000\n",
      "===============================================================================================\n",
      "                 severity=2       coef    std err          z      P>|z|      [0.025      0.975]\n",
      "-----------------------------------------------------------------------------------------------\n",
      "const                          -1.1352      0.087    -13.029      0.000      -1.306      -0.964\n",
      "road_category                   0.0328      0.004      8.007      0.000       0.025       0.041\n",
      "road_rank_cat                   0.0621      0.009      7.199      0.000       0.045       0.079\n",
      "site_objects_cat               -0.0005      0.002     -0.216      0.829      -0.005       0.004\n",
      "adj_objects_cat                 0.0116      0.003      4.562      0.000       0.007       0.017\n",
      "weather_cat                    -0.0192      0.007     -2.816      0.005      -0.033      -0.006\n",
      "lighting_cat                   -0.0018      0.006     -0.325      0.745      -0.013       0.009\n",
      "road_surface_cat                0.0264      0.004      7.336      0.000       0.019       0.033\n",
      "traffic_changes_cat            -0.1785      0.013    -13.266      0.000      -0.205      -0.152\n",
      "is_NIGHT                        0.1613      0.020      7.962      0.000       0.122       0.201\n",
      "is_PEAK_HOUR                    0.0083      0.014      0.596      0.551      -0.019       0.036\n",
      "is_WEEKEND                     -0.0959      0.014     -7.092      0.000      -0.122      -0.069\n",
      "SEASON                         -0.0076      0.006     -1.320      0.187      -0.019       0.004\n",
      "wrong_way                       0.1401      0.024      5.762      0.000       0.092       0.188\n",
      "pedestrian_violation            0.6125      0.076      8.072      0.000       0.464       0.761\n",
      "impaired_driving                0.2894      0.026     11.156      0.000       0.239       0.340\n",
      "maneuver_violation             -0.2437      0.026     -9.519      0.000      -0.294      -0.194\n",
      "traffic_control_violation      -0.0852      0.024     -3.515      0.000      -0.133      -0.038\n",
      "license_violation               0.3107      0.043      7.184      0.000       0.226       0.395\n",
      "transport_violation             0.1734      0.036      4.793      0.000       0.102       0.244\n",
      "crossing_violation              0.4523      0.042     10.703      0.000       0.369       0.535\n",
      "interference_violation          0.0913      0.071      1.283      0.199      -0.048       0.231\n",
      "sudden_appearance_violation     0.5183      0.095      5.484      0.000       0.333       0.703\n",
      "other_violation                -0.0008      0.023     -0.034      0.973      -0.045       0.044\n",
      "TYPE_cat                       -0.0472      0.005     -9.308      0.000      -0.057      -0.037\n",
      "exp_avg                         0.0018      0.001      3.197      0.001       0.001       0.003\n",
      "guilty_share                    0.3011      0.031      9.766      0.000       0.241       0.361\n",
      "n_fatal_violations              0.0385      0.015      2.559      0.011       0.009       0.068\n",
      "n_INJURED                       0.3538      0.007     54.115      0.000       0.341       0.367\n",
      "cause_factors_cat               0.0107      0.002      4.685      0.000       0.006       0.015\n",
      "n_guilty                       -0.0914      0.042     -2.158      0.031      -0.174      -0.008\n",
      "-----------------------------------------------------------------------------------------------\n",
      "                 severity=3       coef    std err          z      P>|z|      [0.025      0.975]\n",
      "-----------------------------------------------------------------------------------------------\n",
      "const                          -1.3214      0.125    -10.598      0.000      -1.566      -1.077\n",
      "road_category                   0.0568      0.006      9.277      0.000       0.045       0.069\n",
      "road_rank_cat                   0.1408      0.013     10.779      0.000       0.115       0.166\n",
      "site_objects_cat                0.0327      0.004      9.251      0.000       0.026       0.040\n",
      "adj_objects_cat                 0.0247      0.004      6.501      0.000       0.017       0.032\n",
      "weather_cat                    -0.0272      0.010     -2.714      0.007      -0.047      -0.008\n",
      "lighting_cat                    0.0230      0.008      2.801      0.005       0.007       0.039\n",
      "road_surface_cat                0.0389      0.005      7.311      0.000       0.029       0.049\n",
      "traffic_changes_cat            -0.6088      0.019    -31.806      0.000      -0.646      -0.571\n",
      "is_NIGHT                        0.3674      0.028     13.229      0.000       0.313       0.422\n",
      "is_PEAK_HOUR                   -0.0661      0.021     -3.096      0.002      -0.108      -0.024\n",
      "is_WEEKEND                      0.0333      0.020      1.679      0.093      -0.006       0.072\n",
      "SEASON                          0.0178      0.009      2.096      0.036       0.001       0.034\n",
      "wrong_way                       0.4446      0.033     13.641      0.000       0.381       0.508\n",
      "pedestrian_violation            1.4401      0.084     17.052      0.000       1.275       1.606\n",
      "impaired_driving                0.4412      0.033     13.516      0.000       0.377       0.505\n",
      "maneuver_violation             -0.9530      0.036    -26.756      0.000      -1.023      -0.883\n",
      "traffic_control_violation      -0.2022      0.033     -6.145      0.000      -0.267      -0.138\n",
      "license_violation              -0.2901      0.059     -4.900      0.000      -0.406      -0.174\n",
      "transport_violation             0.7225      0.045     16.233      0.000       0.635       0.810\n",
      "crossing_violation              0.6033      0.056     10.763      0.000       0.493       0.713\n",
      "interference_violation         -0.0021      0.091     -0.023      0.982      -0.180       0.176\n",
      "sudden_appearance_violation     0.6327      0.101      6.242      0.000       0.434       0.831\n",
      "other_violation                -0.3959      0.031    -12.633      0.000      -0.457      -0.334\n",
      "TYPE_cat                       -0.0318      0.007     -4.459      0.000      -0.046      -0.018\n",
      "exp_avg                         0.0055      0.001      7.049      0.000       0.004       0.007\n",
      "guilty_share                   -0.8633      0.042    -20.670      0.000      -0.945      -0.781\n",
      "n_fatal_violations              0.3008      0.019     15.783      0.000       0.263       0.338\n",
      "n_INJURED                      -0.7638      0.014    -53.806      0.000      -0.792      -0.736\n",
      "cause_factors_cat               0.0116      0.003      3.486      0.000       0.005       0.018\n",
      "n_guilty                        0.5568      0.054     10.312      0.000       0.451       0.663\n",
      "===============================================================================================\n"
     ]
    }
   ],
   "source": [
    "X = df_free[[\n",
    "    'road_category', 'road_rank_cat', 'site_objects_cat', 'adj_objects_cat',\n",
    "    'weather_cat', 'lighting_cat', 'road_surface_cat', 'traffic_changes_cat', 'is_NIGHT', 'is_PEAK_HOUR', 'is_WEEKEND', 'SEASON',\n",
    "    'wrong_way', 'pedestrian_violation', 'impaired_driving', 'maneuver_violation', 'traffic_control_violation', 'license_violation',\n",
    "    'transport_violation', 'crossing_violation', 'interference_violation', 'sudden_appearance_violation', 'other_violation',\n",
    "    'TYPE_cat', 'exp_avg', 'guilty_share', 'n_fatal_violations', 'n_INJURED', 'cause_factors_cat', 'n_guilty'\n",
    "]]\n",
    "\n",
    "X = sm.add_constant(X)\n",
    "\n",
    "y = df_free['severity']\n",
    "\n",
    "model = sm.MNLogit(y, X)\n",
    "result = model.fit()\n",
    "\n",
    "print('\\nFull model for free roads:\\n')\n",
    "print(result.summary())"
   ]
  },
  {
   "cell_type": "markdown",
   "id": "f6744e04",
   "metadata": {},
   "source": [
    "We have once again confirmed the hypothesis that the probability of a severe accident is higher on toll roads than on free roads.\n",
    "\n",
    "Moreover, by comparing the coefficients for the `is_toll` feature between the model for the entire dataset (see the file `severity_hypotheses.ipynb`) and the model for hotspot areas, we can note that the coefficient for `is_toll` is significantly higher in the hotspot areas: for moderate severity accidents (`severity = 2`) — 0.3285, and for severe accidents (`severity = 3`) — 0.4498. In contrast, for all observations, the coefficients are considerably lower: 0.2678 for moderate severity and 0.2938 for severe accidents. This indicates that the influence of the `is_toll` feature on accident severity is stronger in hotspot areas compared to roads in general.\n",
    "\n",
    "This leads us to the idea of developing a model that can predict accident hotspots based on coordinates and additional features."
   ]
  },
  {
   "cell_type": "markdown",
   "id": "c8e4e9ab",
   "metadata": {},
   "source": [
    "### Ordered Logit (Full specification)"
   ]
  },
  {
   "cell_type": "code",
   "execution_count": 13,
   "id": "7144c70d",
   "metadata": {},
   "outputs": [
    {
     "name": "stdout",
     "output_type": "stream",
     "text": [
      "Optimization terminated successfully.\n",
      "         Current function value: 0.963866\n",
      "         Iterations: 131\n",
      "         Function evaluations: 134\n",
      "         Gradient evaluations: 134\n",
      "\n",
      "5. Full model (undersampling):\n",
      "\n",
      "                             OrderedModel Results                             \n",
      "==============================================================================\n",
      "Dep. Variable:               severity   Log-Likelihood:                -22194.\n",
      "Model:                   OrderedModel   AIC:                         4.445e+04\n",
      "Method:            Maximum Likelihood   BIC:                         4.472e+04\n",
      "Date:                Mon, 05 May 2025                                         \n",
      "Time:                        18:56:45                                         \n",
      "No. Observations:               23026                                         \n",
      "Df Residuals:                   22993                                         \n",
      "Df Model:                          31                                         \n",
      "===============================================================================================\n",
      "                                  coef    std err          z      P>|z|      [0.025      0.975]\n",
      "-----------------------------------------------------------------------------------------------\n",
      "is_toll                         0.3325      0.031     10.827      0.000       0.272       0.393\n",
      "road_category                   0.0323      0.009      3.719      0.000       0.015       0.049\n",
      "road_rank_cat                   0.1208      0.024      5.032      0.000       0.074       0.168\n",
      "site_objects_cat                0.0212      0.005      4.487      0.000       0.012       0.030\n",
      "adj_objects_cat                 0.0171      0.005      3.413      0.001       0.007       0.027\n",
      "weather_cat                    -0.0196      0.015     -1.329      0.184      -0.048       0.009\n",
      "lighting_cat                    0.0327      0.011      2.941      0.003       0.011       0.055\n",
      "road_surface_cat                0.0388      0.008      4.960      0.000       0.023       0.054\n",
      "traffic_changes_cat            -0.2931      0.027    -11.027      0.000      -0.345      -0.241\n",
      "is_NIGHT                        0.2494      0.039      6.457      0.000       0.174       0.325\n",
      "is_PEAK_HOUR                   -0.0013      0.029     -0.044      0.965      -0.058       0.056\n",
      "is_WEEKEND                     -0.0432      0.028     -1.571      0.116      -0.097       0.011\n",
      "SEASON                          0.0213      0.012      1.808      0.071      -0.002       0.044\n",
      "wrong_way                       0.1990      0.051      3.914      0.000       0.099       0.299\n",
      "pedestrian_violation            0.9385      0.131      7.188      0.000       0.683       1.194\n",
      "impaired_driving                0.2116      0.055      3.861      0.000       0.104       0.319\n",
      "maneuver_violation             -0.6589      0.053    -12.548      0.000      -0.762      -0.556\n",
      "traffic_control_violation      -0.2056      0.050     -4.128      0.000      -0.303      -0.108\n",
      "license_violation              -0.0613      0.088     -0.698      0.485      -0.233       0.111\n",
      "transport_violation             0.3183      0.069      4.627      0.000       0.183       0.453\n",
      "crossing_violation              0.4004      0.085      4.702      0.000       0.233       0.567\n",
      "interference_violation         -0.0208      0.134     -0.156      0.876      -0.283       0.241\n",
      "sudden_appearance_violation     0.6147      0.184      3.347      0.001       0.255       0.975\n",
      "other_violation                -0.2361      0.045     -5.191      0.000      -0.325      -0.147\n",
      "TYPE_cat                       -0.0237      0.010     -2.262      0.024      -0.044      -0.003\n",
      "exp_avg                         0.0030      0.001      2.525      0.012       0.001       0.005\n",
      "guilty_share                   -0.3069      0.061     -5.032      0.000      -0.426      -0.187\n",
      "n_fatal_violations              0.2340      0.031      7.622      0.000       0.174       0.294\n",
      "n_INJURED                      -0.0700      0.013     -5.396      0.000      -0.095      -0.045\n",
      "cause_factors_cat               0.0093      0.005      1.816      0.069      -0.001       0.019\n",
      "n_guilty                        0.3387      0.087      3.910      0.000       0.169       0.508\n",
      "1/2                             0.8463      0.193      4.390      0.000       0.468       1.224\n",
      "2/3                             0.6832      0.010     70.004      0.000       0.664       0.702\n",
      "===============================================================================================\n"
     ]
    }
   ],
   "source": [
    "positive_examples['severity'] = pd.Categorical(positive_examples['severity'], ordered=True)\n",
    "\n",
    "X = positive_examples.drop(columns=[\"is_toll\"])\n",
    "y = positive_examples[\"is_toll\"]\n",
    "\n",
    "rus = RandomUnderSampler(random_state=42)\n",
    "X_resampled, y_resampled = rus.fit_resample(X, y)\n",
    "\n",
    "df_balanced = pd.concat([X_resampled, y_resampled], axis=1)\n",
    "df_balanced.shape\n",
    "\n",
    "\n",
    "X = df_balanced[[\n",
    "    'is_toll', 'road_category', 'road_rank_cat', 'site_objects_cat', 'adj_objects_cat',\n",
    "    'weather_cat', 'lighting_cat', 'road_surface_cat', 'traffic_changes_cat', 'is_NIGHT', 'is_PEAK_HOUR', 'is_WEEKEND', 'SEASON',\n",
    "    'wrong_way', 'pedestrian_violation', 'impaired_driving', 'maneuver_violation', 'traffic_control_violation', 'license_violation',\n",
    "    'transport_violation', 'crossing_violation', 'interference_violation', 'sudden_appearance_violation', 'other_violation',\n",
    "    'TYPE_cat', 'exp_avg', 'guilty_share', 'n_fatal_violations', 'n_INJURED', 'cause_factors_cat', 'n_guilty'\n",
    "]]\n",
    "\n",
    "y = df_balanced['severity']\n",
    "\n",
    "model = OrderedModel(y, X, distr='logit')\n",
    "result = model.fit(method='bfgs')\n",
    "\n",
    "print('\\n5. Full model (undersampling):\\n')\n",
    "print(result.summary())"
   ]
  },
  {
   "cell_type": "markdown",
   "id": "450b3af5",
   "metadata": {},
   "source": [
    "#### Separate models"
   ]
  },
  {
   "cell_type": "code",
   "execution_count": 14,
   "id": "bfdf2e63",
   "metadata": {},
   "outputs": [],
   "source": [
    "df_toll = positive_examples[positive_examples['is_toll'] == 1]\n",
    "df_toll.drop(['is_toll'], axis=1, inplace=True)\n",
    "\n",
    "df_free = positive_examples[positive_examples['is_toll'] == 0]\n",
    "df_free.drop(['is_toll'], axis=1, inplace=True)"
   ]
  },
  {
   "cell_type": "code",
   "execution_count": 15,
   "id": "1d91b280",
   "metadata": {},
   "outputs": [
    {
     "name": "stdout",
     "output_type": "stream",
     "text": [
      "Optimization terminated successfully.\n",
      "         Current function value: 0.987429\n",
      "         Iterations: 147\n",
      "         Function evaluations: 150\n",
      "         Gradient evaluations: 150\n",
      "\n",
      "Full model for toll roads:\n",
      "\n",
      "                             OrderedModel Results                             \n",
      "==============================================================================\n",
      "Dep. Variable:               severity   Log-Likelihood:                -11368.\n",
      "Model:                   OrderedModel   AIC:                         2.280e+04\n",
      "Method:            Maximum Likelihood   BIC:                         2.304e+04\n",
      "Date:                Mon, 05 May 2025                                         \n",
      "Time:                        19:00:57                                         \n",
      "No. Observations:               11513                                         \n",
      "Df Residuals:                   11481                                         \n",
      "Df Model:                          30                                         \n",
      "===============================================================================================\n",
      "                                  coef    std err          z      P>|z|      [0.025      0.975]\n",
      "-----------------------------------------------------------------------------------------------\n",
      "road_category                   0.0064      0.013      0.504      0.614      -0.019       0.031\n",
      "road_rank_cat                   0.2931      0.093      3.136      0.002       0.110       0.476\n",
      "site_objects_cat                0.0320      0.007      4.714      0.000       0.019       0.045\n",
      "adj_objects_cat                 0.0208      0.007      3.061      0.002       0.007       0.034\n",
      "weather_cat                     0.0033      0.022      0.149      0.882      -0.040       0.047\n",
      "lighting_cat                    0.0333      0.015      2.162      0.031       0.003       0.063\n",
      "road_surface_cat                0.0309      0.012      2.607      0.009       0.008       0.054\n",
      "traffic_changes_cat            -0.1852      0.037     -5.008      0.000      -0.258      -0.113\n",
      "is_NIGHT                        0.3004      0.053      5.716      0.000       0.197       0.403\n",
      "is_PEAK_HOUR                   -0.0172      0.041     -0.420      0.675      -0.098       0.063\n",
      "is_WEEKEND                     -0.0552      0.039     -1.427      0.154      -0.131       0.021\n",
      "SEASON                          0.0094      0.017      0.570      0.569      -0.023       0.042\n",
      "wrong_way                       0.0802      0.076      1.061      0.288      -0.068       0.228\n",
      "pedestrian_violation            0.8194      0.180      4.540      0.000       0.466       1.173\n",
      "impaired_driving               -0.0401      0.086     -0.467      0.640      -0.208       0.128\n",
      "maneuver_violation             -0.7840      0.077    -10.233      0.000      -0.934      -0.634\n",
      "traffic_control_violation      -0.2944      0.073     -4.029      0.000      -0.438      -0.151\n",
      "license_violation               0.0611      0.128      0.476      0.634      -0.190       0.312\n",
      "transport_violation             0.1993      0.095      2.103      0.035       0.014       0.385\n",
      "crossing_violation              0.3625      0.122      2.966      0.003       0.123       0.602\n",
      "interference_violation         -0.1356      0.176     -0.769      0.442      -0.481       0.210\n",
      "sudden_appearance_violation     0.6407      0.279      2.294      0.022       0.093       1.188\n",
      "other_violation                -0.3749      0.065     -5.791      0.000      -0.502      -0.248\n",
      "TYPE_cat                       -0.0156      0.015     -1.023      0.306      -0.045       0.014\n",
      "exp_avg                         0.0013      0.002      0.745      0.456      -0.002       0.005\n",
      "guilty_share                   -0.3683      0.086     -4.273      0.000      -0.537      -0.199\n",
      "n_fatal_violations              0.3295      0.045      7.277      0.000       0.241       0.418\n",
      "n_INJURED                      -0.1040      0.018     -5.801      0.000      -0.139      -0.069\n",
      "cause_factors_cat               0.0023      0.008      0.300      0.764      -0.013       0.018\n",
      "n_guilty                        0.4669      0.123      3.798      0.000       0.226       0.708\n",
      "1/2                             1.3689      0.441      3.107      0.002       0.505       2.232\n",
      "2/3                             0.6935      0.013     52.106      0.000       0.667       0.720\n",
      "===============================================================================================\n"
     ]
    }
   ],
   "source": [
    "X = df_toll[[\n",
    "    'road_category', 'road_rank_cat', 'site_objects_cat', 'adj_objects_cat',\n",
    "    'weather_cat', 'lighting_cat', 'road_surface_cat', 'traffic_changes_cat', 'is_NIGHT', 'is_PEAK_HOUR', 'is_WEEKEND', 'SEASON',\n",
    "    'wrong_way', 'pedestrian_violation', 'impaired_driving', 'maneuver_violation', 'traffic_control_violation', 'license_violation',\n",
    "    'transport_violation', 'crossing_violation', 'interference_violation', 'sudden_appearance_violation', 'other_violation',\n",
    "    'TYPE_cat', 'exp_avg', 'guilty_share', 'n_fatal_violations', 'n_INJURED', 'cause_factors_cat', 'n_guilty'\n",
    "]]\n",
    "y = df_toll['severity']\n",
    "\n",
    "model = OrderedModel(y, X, distr='logit')\n",
    "result = model.fit(method='bfgs')\n",
    "\n",
    "print('\\nFull model for toll roads:\\n')\n",
    "print(result.summary())"
   ]
  },
  {
   "cell_type": "code",
   "execution_count": 16,
   "id": "aff3744b",
   "metadata": {},
   "outputs": [
    {
     "name": "stdout",
     "output_type": "stream",
     "text": [
      "Optimization terminated successfully.\n",
      "         Current function value: 0.934898\n",
      "         Iterations: 114\n",
      "         Function evaluations: 117\n",
      "         Gradient evaluations: 117\n",
      "\n",
      "Full model for toll roads:\n",
      "\n",
      "                             OrderedModel Results                             \n",
      "==============================================================================\n",
      "Dep. Variable:               severity   Log-Likelihood:            -1.2041e+05\n",
      "Model:                   OrderedModel   AIC:                         2.409e+05\n",
      "Method:            Maximum Likelihood   BIC:                         2.412e+05\n",
      "Date:                Mon, 05 May 2025                                         \n",
      "Time:                        19:05:09                                         \n",
      "No. Observations:              128790                                         \n",
      "Df Residuals:                  128758                                         \n",
      "Df Model:                          30                                         \n",
      "===============================================================================================\n",
      "                                  coef    std err          z      P>|z|      [0.025      0.975]\n",
      "-----------------------------------------------------------------------------------------------\n",
      "road_category                   0.0433      0.004     12.067      0.000       0.036       0.050\n",
      "road_rank_cat                   0.0966      0.008     12.756      0.000       0.082       0.111\n",
      "site_objects_cat                0.0116      0.002      5.780      0.000       0.008       0.015\n",
      "adj_objects_cat                 0.0164      0.002      7.409      0.000       0.012       0.021\n",
      "weather_cat                    -0.0219      0.006     -3.695      0.000      -0.034      -0.010\n",
      "lighting_cat                    0.0093      0.005      1.922      0.055      -0.000       0.019\n",
      "road_surface_cat                0.0305      0.003      9.705      0.000       0.024       0.037\n",
      "traffic_changes_cat            -0.3520      0.012    -30.349      0.000      -0.375      -0.329\n",
      "is_NIGHT                        0.2444      0.017     14.168      0.000       0.211       0.278\n",
      "is_PEAK_HOUR                   -0.0244      0.012     -1.989      0.047      -0.048      -0.000\n",
      "is_WEEKEND                     -0.0318      0.012     -2.701      0.007      -0.055      -0.009\n",
      "SEASON                          0.0050      0.005      0.998      0.318      -0.005       0.015\n",
      "wrong_way                       0.2666      0.021     13.002      0.000       0.226       0.307\n",
      "pedestrian_violation            1.1413      0.058     19.817      0.000       1.028       1.254\n",
      "impaired_driving                0.3649      0.021     17.047      0.000       0.323       0.407\n",
      "maneuver_violation             -0.5407      0.022    -24.782      0.000      -0.583      -0.498\n",
      "traffic_control_violation      -0.1337      0.021     -6.512      0.000      -0.174      -0.093\n",
      "license_violation              -0.0172      0.037     -0.469      0.639      -0.089       0.055\n",
      "transport_violation             0.4462      0.030     15.093      0.000       0.388       0.504\n",
      "crossing_violation              0.4556      0.036     12.805      0.000       0.386       0.525\n",
      "interference_violation          0.0645      0.059      1.089      0.276      -0.052       0.181\n",
      "sudden_appearance_violation     0.6245      0.070      8.915      0.000       0.487       0.762\n",
      "other_violation                -0.1713      0.019     -8.905      0.000      -0.209      -0.134\n",
      "TYPE_cat                       -0.0390      0.004     -8.898      0.000      -0.048      -0.030\n",
      "exp_avg                         0.0030      0.000      6.365      0.000       0.002       0.004\n",
      "guilty_share                   -0.2954      0.026    -11.296      0.000      -0.347      -0.244\n",
      "n_fatal_violations              0.1513      0.012     12.196      0.000       0.127       0.176\n",
      "n_INJURED                      -0.0195      0.006     -3.489      0.000      -0.031      -0.009\n",
      "cause_factors_cat               0.0113      0.002      5.646      0.000       0.007       0.015\n",
      "n_guilty                        0.2267      0.035      6.450      0.000       0.158       0.296\n",
      "1/2                             0.4289      0.075      5.705      0.000       0.282       0.576\n",
      "2/3                             0.6702      0.004    154.881      0.000       0.662       0.679\n",
      "===============================================================================================\n"
     ]
    }
   ],
   "source": [
    "X = df_free[[\n",
    "    'road_category', 'road_rank_cat', 'site_objects_cat', 'adj_objects_cat',\n",
    "    'weather_cat', 'lighting_cat', 'road_surface_cat', 'traffic_changes_cat', 'is_NIGHT', 'is_PEAK_HOUR', 'is_WEEKEND', 'SEASON',\n",
    "    'wrong_way', 'pedestrian_violation', 'impaired_driving', 'maneuver_violation', 'traffic_control_violation', 'license_violation',\n",
    "    'transport_violation', 'crossing_violation', 'interference_violation', 'sudden_appearance_violation', 'other_violation',\n",
    "    'TYPE_cat', 'exp_avg', 'guilty_share', 'n_fatal_violations', 'n_INJURED', 'cause_factors_cat', 'n_guilty'\n",
    "]]\n",
    "y = df_free['severity']\n",
    "\n",
    "model = OrderedModel(y, X, distr='logit')\n",
    "result = model.fit(method='bfgs')\n",
    "\n",
    "print('\\nFull model for toll roads:\\n')\n",
    "print(result.summary())"
   ]
  },
  {
   "cell_type": "markdown",
   "id": "87e32d2b",
   "metadata": {},
   "source": [
    "# Hot spot predictor model"
   ]
  },
  {
   "cell_type": "markdown",
   "id": "dad67e59",
   "metadata": {},
   "source": [
    "### Random Forest"
   ]
  },
  {
   "cell_type": "markdown",
   "id": "4c88270a",
   "metadata": {},
   "source": [
    "#### Predict hot spots based on __road features__"
   ]
  },
  {
   "cell_type": "markdown",
   "id": "c2f22a71",
   "metadata": {},
   "source": [
    "The model works better with info about driver behavior on the roads and other accidents variables, but we must proceed from the fact that when opening a new section of road we have no information about accidents on it, so we will select features that reflect the geographical location and characteristics of the road section itself."
   ]
  },
  {
   "cell_type": "code",
   "execution_count": 32,
   "id": "37c0e56e",
   "metadata": {},
   "outputs": [
    {
     "name": "stdout",
     "output_type": "stream",
     "text": [
      "Accuracy: 0.8376161588621543\n",
      "F1 (macro): 0.8101451634169294\n"
     ]
    }
   ],
   "source": [
    "features = [\"COORD_L\", \"COORD_W\", \"site_objects_cat\", \"road_rank_cat\", \"adj_objects_cat\", \n",
    "            \"traffic_changes_cat\", \"road_defects_cat\", \"cause_factors_cat\", \"road_category\", \n",
    "            \"street_rank_cat\", \"is_toll\"]\n",
    "\n",
    "X_model = df[features]\n",
    "\n",
    "# Target variable: hotspots (1 = hotspot, 0 = not hotspot)\n",
    "y_model = np.where(df[\"cluster\"] != -1, 1, 0)\n",
    "\n",
    "X_train, X_test, y_train, y_test = train_test_split(X_model, y_model, test_size=0.2, random_state=42)\n",
    "\n",
    "rf_model_road = RandomForestClassifier(n_estimators=100, random_state=42)\n",
    "rf_model_road.fit(X_train, y_train)\n",
    "\n",
    "y_pred = rf_model_road.predict(X_test)\n",
    "\n",
    "print(\"Accuracy:\", accuracy_score(y_test, y_pred))\n",
    "print(\"F1 (macro):\", f1_score(y_test, y_pred, average='macro'))"
   ]
  },
  {
   "cell_type": "markdown",
   "id": "5dc48d3c",
   "metadata": {},
   "source": [
    "#### Predict hot spots based on __road features and conditions__"
   ]
  },
  {
   "cell_type": "markdown",
   "id": "0fad99f8",
   "metadata": {},
   "source": [
    "We can also approach the task by predicting hot spots under specific conditions, for example, by setting certain weather or temporal parameters. We will select the most informative features from the proposed list and use the Variance Inflation Factor (VIF) to check for multicollinearity, removing some features if necessary."
   ]
  },
  {
   "cell_type": "code",
   "execution_count": null,
   "id": "bd841afe",
   "metadata": {},
   "outputs": [
    {
     "name": "stdout",
     "output_type": "stream",
     "text": [
      "            feature        VIF\n",
      "9              YEAR  23.869131\n",
      "2       weather_cat  20.290597\n",
      "0  road_surface_cat  10.554632\n",
      "3            SEASON  10.043429\n",
      "8           WEEKDAY   9.695555\n",
      "7             MONTH   7.888668\n",
      "4        is_WEEKEND   4.150945\n",
      "1      lighting_cat   1.972666\n",
      "5          is_NIGHT   1.681767\n",
      "6      is_PEAK_HOUR   1.662838\n"
     ]
    }
   ],
   "source": [
    "conditions = ['road_surface_cat', 'lighting_cat', 'weather_cat', 'SEASON', 'is_WEEKEND', 'is_NIGHT', 'is_PEAK_HOUR', 'MONTH', 'WEEKDAY', 'YEAR']"
   ]
  },
  {
   "cell_type": "code",
   "execution_count": 24,
   "id": "47b1b034",
   "metadata": {},
   "outputs": [
    {
     "data": {
      "image/png": "[encoded data removed]",
      "text/plain": [
       "<Figure size 1000x800 with 2 Axes>"
      ]
     },
     "metadata": {},
     "output_type": "display_data"
    }
   ],
   "source": [
    "plt.figure(figsize=(10, 8))\n",
    "sns.heatmap(df[conditions].corr(), annot=True, cmap=\"coolwarm\", fmt=\".2f\")\n",
    "plt.title(\"Корреляция между признаками conditions\")\n",
    "plt.show()"
   ]
  },
  {
   "cell_type": "code",
   "execution_count": null,
   "id": "8ea0af16",
   "metadata": {},
   "outputs": [
    {
     "name": "stderr",
     "output_type": "stream",
     "text": [
      "C:\\Users\\Настя\\AppData\\Local\\Temp\\ipykernel_26400\\2614426569.py:5: FutureWarning: \n",
      "\n",
      "Passing `palette` without assigning `hue` is deprecated and will be removed in v0.14.0. Assign the `y` variable to `hue` and set `legend=False` for the same effect.\n",
      "\n",
      "  sns.barplot(\n"
     ]
    },
    {
     "data": {
      "image/png": "[encoded data removed]",
      "text/plain": [
       "<Figure size 1000x600 with 1 Axes>"
      ]
     },
     "metadata": {},
     "output_type": "display_data"
    }
   ],
   "source": [
    "X_vif = df[conditions]\n",
    "vif = pd.DataFrame()\n",
    "vif[\"feature\"] = X_vif.columns\n",
    "vif[\"VIF\"] = [variance_inflation_factor(X_vif.values, i) for i in range(X_vif.shape[1])]\n",
    "\n",
    "\n",
    "plt.figure(figsize=(10, 6))\n",
    "sns.barplot(\n",
    "    data=vif.sort_values(by=\"VIF\", ascending=True),\n",
    "    x=\"VIF\",\n",
    "    y=\"feature\",\n",
    "    palette=\"coolwarm\"\n",
    ")\n",
    "plt.axvline(5, color='orange', linestyle='--', label='VIF = 5 (warning)')\n",
    "plt.axvline(10, color='red', linestyle='--', label='VIF = 10 (problem)')\n",
    "plt.title(\"Variance Inflation Factor (VIF) по признакам\")\n",
    "plt.xlabel(\"VIF\")\n",
    "plt.ylabel(\"Признак\")\n",
    "plt.legend()\n",
    "plt.tight_layout()\n",
    "plt.show()"
   ]
  },
  {
   "cell_type": "markdown",
   "id": "2d0ab5fb",
   "metadata": {},
   "source": [
    "Based on the VIF analysis and the correlation matrix, we retain the following features:"
   ]
  },
  {
   "cell_type": "code",
   "execution_count": null,
   "id": "baf12cc2",
   "metadata": {},
   "outputs": [
    {
     "name": "stdout",
     "output_type": "stream",
     "text": [
      "Accuracy: 0.7950264694522073\n",
      "F1 (macro): 0.7459124013986174\n"
     ]
    }
   ],
   "source": [
    "final_conditions = [\n",
    "    'road_surface_cat',\n",
    "    'lighting_cat',\n",
    "    'weather_cat',\n",
    "    'SEASON',\n",
    "    'is_WEEKEND',\n",
    "    'is_NIGHT',\n",
    "    'is_PEAK_HOUR'\n",
    "]\n",
    "\n",
    "features.extend(final_conditions)\n",
    "\n",
    "X_model = df[features]\n",
    "y_model = np.where(df[\"cluster\"] != -1, 1, 0)\n",
    "\n",
    "X_train, X_test, y_train, y_test = train_test_split(X_model, y_model, test_size=0.2, random_state=42)\n",
    "\n",
    "rf_model = RandomForestClassifier(n_estimators=100, random_state=42)\n",
    "rf_model.fit(X_train, y_train)\n",
    "\n",
    "y_pred = rf_model.predict(X_test)\n",
    "\n",
    "print(\"Accuracy:\", accuracy_score(y_test, y_pred))\n",
    "print(\"F1 (macro):\", f1_score(y_test, y_pred, average='macro'))"
   ]
  },
  {
   "cell_type": "markdown",
   "id": "468041f2",
   "metadata": {},
   "source": [
    "Example of prediction:"
   ]
  },
  {
   "cell_type": "code",
   "execution_count": 10,
   "id": "59c9cfc0",
   "metadata": {},
   "outputs": [
    {
     "name": "stdout",
     "output_type": "stream",
     "text": [
      "This is not a hot spot (low-risk area).\n"
     ]
    }
   ],
   "source": [
    "new_data = pd.DataFrame({\n",
    "    \"COORD_L\": [55.7558],\n",
    "    \"COORD_W\": [37.6173],\n",
    "    \"site_objects_cat\": [2],\n",
    "    \"road_rank_cat\": [1],\n",
    "    \"adj_objects_cat\": [3],\n",
    "    \"traffic_changes_cat\": [0],\n",
    "    \"road_defects_cat\": [1],\n",
    "    \"cause_factors_cat\": [0],\n",
    "    \"road_category\": [1],\n",
    "    \"is_toll\": [0]\n",
    "})\n",
    "\n",
    "new_prediction = rf_model.predict(new_data)\n",
    "\n",
    "if new_prediction[0] == 1:\n",
    "    print(\"This is a hot spot (high-risk area).\")\n",
    "else:\n",
    "    print(\"This is not a hot spot (low-risk area).\")"
   ]
  },
  {
   "cell_type": "code",
   "execution_count": 11,
   "id": "a97cfcd5",
   "metadata": {},
   "outputs": [
    {
     "data": {
      "text/html": [
       "<div style=\"width:100%;\"><div style=\"position:relative;width:100%;height:0;padding-bottom:60%;\"><span style=\"color:#565656\">Make this Notebook Trusted to load map: File -> Trust Notebook</span><iframe srcdoc=\"&lt;!DOCTYPE html&gt;\n",
       "&lt;html&gt;\n",
       "&lt;head&gt;\n",
       "    \n",
       "    &lt;meta http-equiv=&quot;content-type&quot; content=&quot;text/html; charset=UTF-8&quot; /&gt;\n",
       "    \n",
       "        &lt;script&gt;\n",
       "            L_NO_TOUCH = false;\n",
       "            L_DISABLE_3D = false;\n",
       "        &lt;/script&gt;\n",
       "    \n",
       "    &lt;style&gt;html, body {width: 100%;height: 100%;margin: 0;padding: 0;}&lt;/style&gt;\n",
       "    &lt;style&gt;#map {position:absolute;top:0;bottom:0;right:0;left:0;}&lt;/style&gt;\n",
       "    &lt;script src=&quot;https://cdn.jsdelivr.net/npm/leaflet@1.9.3/dist/leaflet.js&quot;&gt;&lt;/script&gt;\n",
       "    &lt;script src=&quot;https://code.jquery.com/jquery-3.7.1.min.js&quot;&gt;&lt;/script&gt;\n",
       "    &lt;script src=&quot;https://cdn.jsdelivr.net/npm/bootstrap@5.2.2/dist/js/bootstrap.bundle.min.js&quot;&gt;&lt;/script&gt;\n",
       "    &lt;script src=&quot;https://cdnjs.cloudflare.com/ajax/libs/Leaflet.awesome-markers/2.0.2/leaflet.awesome-markers.js&quot;&gt;&lt;/script&gt;\n",
       "    &lt;link rel=&quot;stylesheet&quot; href=&quot;https://cdn.jsdelivr.net/npm/leaflet@1.9.3/dist/leaflet.css&quot;/&gt;\n",
       "    &lt;link rel=&quot;stylesheet&quot; href=&quot;https://cdn.jsdelivr.net/npm/bootstrap@5.2.2/dist/css/bootstrap.min.css&quot;/&gt;\n",
       "    &lt;link rel=&quot;stylesheet&quot; href=&quot;https://netdna.bootstrapcdn.com/bootstrap/3.0.0/css/bootstrap-glyphicons.css&quot;/&gt;\n",
       "    &lt;link rel=&quot;stylesheet&quot; href=&quot;https://cdn.jsdelivr.net/npm/@fortawesome/fontawesome-free@6.2.0/css/all.min.css&quot;/&gt;\n",
       "    &lt;link rel=&quot;stylesheet&quot; href=&quot;https://cdnjs.cloudflare.com/ajax/libs/Leaflet.awesome-markers/2.0.2/leaflet.awesome-markers.css&quot;/&gt;\n",
       "    &lt;link rel=&quot;stylesheet&quot; href=&quot;https://cdn.jsdelivr.net/gh/python-visualization/folium/folium/templates/leaflet.awesome.rotate.min.css&quot;/&gt;\n",
       "    \n",
       "            &lt;meta name=&quot;viewport&quot; content=&quot;width=device-width,\n",
       "                initial-scale=1.0, maximum-scale=1.0, user-scalable=no&quot; /&gt;\n",
       "            &lt;style&gt;\n",
       "                #map_07a48af8b4ad064cbc2f7130e590a734 {\n",
       "                    position: relative;\n",
       "                    width: 100.0%;\n",
       "                    height: 100.0%;\n",
       "                    left: 0.0%;\n",
       "                    top: 0.0%;\n",
       "                }\n",
       "                .leaflet-container { font-size: 1rem; }\n",
       "            &lt;/style&gt;\n",
       "        \n",
       "&lt;/head&gt;\n",
       "&lt;body&gt;\n",
       "    \n",
       "    \n",
       "            &lt;div class=&quot;folium-map&quot; id=&quot;map_07a48af8b4ad064cbc2f7130e590a734&quot; &gt;&lt;/div&gt;\n",
       "        \n",
       "&lt;/body&gt;\n",
       "&lt;script&gt;\n",
       "    \n",
       "    \n",
       "            var map_07a48af8b4ad064cbc2f7130e590a734 = L.map(\n",
       "                &quot;map_07a48af8b4ad064cbc2f7130e590a734&quot;,\n",
       "                {\n",
       "                    center: [55.7558, 37.6173],\n",
       "                    crs: L.CRS.EPSG3857,\n",
       "                    ...{\n",
       "  &quot;zoom&quot;: 10,\n",
       "  &quot;zoomControl&quot;: true,\n",
       "  &quot;preferCanvas&quot;: false,\n",
       "}\n",
       "\n",
       "                }\n",
       "            );\n",
       "\n",
       "            \n",
       "\n",
       "        \n",
       "    \n",
       "            var tile_layer_a6d80904f3d843e1a22fd9b951175dc1 = L.tileLayer(\n",
       "                &quot;https://tile.openstreetmap.org/{z}/{x}/{y}.png&quot;,\n",
       "                {\n",
       "  &quot;minZoom&quot;: 0,\n",
       "  &quot;maxZoom&quot;: 19,\n",
       "  &quot;maxNativeZoom&quot;: 19,\n",
       "  &quot;noWrap&quot;: false,\n",
       "  &quot;attribution&quot;: &quot;\\u0026copy; \\u003ca href=\\&quot;https://www.openstreetmap.org/copyright\\&quot;\\u003eOpenStreetMap\\u003c/a\\u003e contributors&quot;,\n",
       "  &quot;subdomains&quot;: &quot;abc&quot;,\n",
       "  &quot;detectRetina&quot;: false,\n",
       "  &quot;tms&quot;: false,\n",
       "  &quot;opacity&quot;: 1,\n",
       "}\n",
       "\n",
       "            );\n",
       "        \n",
       "    \n",
       "            tile_layer_a6d80904f3d843e1a22fd9b951175dc1.addTo(map_07a48af8b4ad064cbc2f7130e590a734);\n",
       "        \n",
       "    \n",
       "            var circle_marker_ce478d81507ae235cbf004265bf248fa = L.circleMarker(\n",
       "                [55.7558, 37.6173],\n",
       "                {&quot;bubblingMouseEvents&quot;: true, &quot;color&quot;: &quot;blue&quot;, &quot;dashArray&quot;: null, &quot;dashOffset&quot;: null, &quot;fill&quot;: true, &quot;fillColor&quot;: &quot;blue&quot;, &quot;fillOpacity&quot;: 0.6, &quot;fillRule&quot;: &quot;evenodd&quot;, &quot;lineCap&quot;: &quot;round&quot;, &quot;lineJoin&quot;: &quot;round&quot;, &quot;opacity&quot;: 1.0, &quot;radius&quot;: 6, &quot;stroke&quot;: true, &quot;weight&quot;: 3}\n",
       "            ).addTo(map_07a48af8b4ad064cbc2f7130e590a734);\n",
       "        \n",
       "&lt;/script&gt;\n",
       "&lt;/html&gt;\" style=\"position:absolute;width:100%;height:100%;left:0;top:0;border:none !important;\" allowfullscreen webkitallowfullscreen mozallowfullscreen></iframe></div></div>"
      ],
      "text/plain": [
       "<folium.folium.Map at 0x22e1eb76070>"
      ]
     },
     "execution_count": 11,
     "metadata": {},
     "output_type": "execute_result"
    }
   ],
   "source": [
    "m = folium.Map(location=[55.7558, 37.6173], zoom_start=10)\n",
    "\n",
    "# If it is hot spot, the marker is red, if not, the marker is blue\n",
    "color = \"red\" if new_prediction[0] == 1 else \"blue\"\n",
    "\n",
    "folium.CircleMarker(\n",
    "    location=[new_data[\"COORD_L\"][0], new_data[\"COORD_W\"][0]],\n",
    "    radius=6,\n",
    "    color=color,\n",
    "    fill=True,\n",
    "    fill_color=color,\n",
    "    fill_opacity=0.6\n",
    ").add_to(m)\n",
    "\n",
    "m"
   ]
  },
  {
   "cell_type": "markdown",
   "id": "85e59a5b",
   "metadata": {},
   "source": [
    "Since the model is trained on both toll and non-toll roads, and includes the `'is_toll'` feature along with only those features related to the geographical location and road characteristics, it can be useful for predicting dangerous areas on new toll roads. Observations from non-toll roads, unlike toll roads, almost entirely cover the country's territory, which will allow the model to identify hotspots on a new toll road, even if it is geographically far from previously built toll highways.\n",
    "\n",
    "Let's check it! We will try to train the model on data excluding the toll road M-1 and see how well the model performs in identifying hotspots for this road."
   ]
  },
  {
   "cell_type": "code",
   "execution_count": null,
   "id": "56343857",
   "metadata": {},
   "outputs": [],
   "source": [
    "df_train = df[~df['road_name'].str.contains('М-1', case=False, na=False)]\n",
    "X_train = df_train[features]\n",
    "y_train = np.where(df_train[\"cluster\"] != -1, 1, 0)  # 1 = hotspot, 0 = not hotspot\n",
    "\n",
    "df_m1 = df[df['road_name'].str.contains('М-1', case=False, na=False)]\n",
    "X_test = df_m1[features]\n",
    "y_test = np.where(df_m1[\"cluster\"] != -1, 1, 0)  # 1 = hotspot, 0 = not hotspot"
   ]
  },
  {
   "cell_type": "code",
   "execution_count": 44,
   "id": "a673d504",
   "metadata": {},
   "outputs": [
    {
     "name": "stdout",
     "output_type": "stream",
     "text": [
      "Accuracy for М-1: 0.68481455563331\n",
      "F1 (macro) for М-1: 0.6166441473508499\n"
     ]
    }
   ],
   "source": [
    "rf_model = RandomForestClassifier(n_estimators=100, random_state=42)\n",
    "rf_model.fit(X_train, y_train)\n",
    "y_pred_m1 = rf_model.predict(X_test)\n",
    "\n",
    "accuracy = accuracy_score(y_test, y_pred_m1)\n",
    "f1_macro = f1_score(y_test, y_pred_m1, average='macro')\n",
    "\n",
    "print(\"Accuracy for М-1:\", accuracy)\n",
    "print(\"F1 (macro) for М-1:\", f1_macro)"
   ]
  },
  {
   "cell_type": "markdown",
   "id": "ad35fa34",
   "metadata": {},
   "source": [
    "### Gradient Boosting"
   ]
  },
  {
   "cell_type": "code",
   "execution_count": null,
   "id": "a15920c1",
   "metadata": {},
   "outputs": [
    {
     "name": "stdout",
     "output_type": "stream",
     "text": [
      "Accuracy: 0.7696589643968827\n",
      "F1 (macro): 0.6985103405019857\n"
     ]
    }
   ],
   "source": [
    "xgb_model = XGBClassifier(n_estimators=100, max_depth=4, learning_rate=0.1, use_label_encoder=False, eval_metric='logloss', random_state=42)\n",
    "xgb_model.fit(X_train, y_train)\n",
    "\n",
    "y_pred = xgb_model.predict(X_test)\n",
    "\n",
    "print(\"Accuracy:\", accuracy_score(y_test, y_pred))\n",
    "print(\"F1 (macro):\", f1_score(y_test, y_pred, average='macro'))"
   ]
  },
  {
   "cell_type": "code",
   "execution_count": 13,
   "id": "8367f3aa",
   "metadata": {},
   "outputs": [
    {
     "name": "stdout",
     "output_type": "stream",
     "text": [
      "Fitting 3 folds for each of 72 candidates, totalling 216 fits\n",
      "Best parameters: {'colsample_bytree': 1, 'learning_rate': 0.2, 'max_depth': 5, 'n_estimators': 200, 'subsample': 0.8}\n",
      "Test Accuracy: 0.8044782223433985\n",
      "Test F1 (macro): 0.7557633915554123\n"
     ]
    }
   ],
   "source": [
    "xgb = XGBClassifier(use_label_encoder=False, eval_metric='logloss', random_state=42)\n",
    "\n",
    "param_grid = {\n",
    "    'n_estimators': [100, 200],\n",
    "    'max_depth': [3, 4, 5],\n",
    "    'learning_rate': [0.05, 0.1, 0.2],\n",
    "    'subsample': [0.8, 1],\n",
    "    'colsample_bytree': [0.8, 1]\n",
    "}\n",
    "\n",
    "grid_search = GridSearchCV(\n",
    "    estimator=xgb,\n",
    "    param_grid=param_grid,\n",
    "    cv=3,\n",
    "    scoring='f1_macro',\n",
    "    verbose=1,\n",
    "    n_jobs=-1\n",
    ")\n",
    "\n",
    "grid_search.fit(X_train, y_train)\n",
    "print(\"Best parameters:\", grid_search.best_params_)\n",
    "\n",
    "best_model = grid_search.best_estimator_\n",
    "y_pred = best_model.predict(X_test)\n",
    "\n",
    "print(\"Test Accuracy:\", accuracy_score(y_test, y_pred))\n",
    "print(\"Test F1 (macro):\", f1_score(y_test, y_pred, average='macro'))"
   ]
  },
  {
   "cell_type": "markdown",
   "id": "dca42811",
   "metadata": {},
   "source": [
    "Gradient boosting was also tried, but it resulted in 5% less quality on both metrics."
   ]
  },
  {
   "cell_type": "markdown",
   "id": "5d02947c",
   "metadata": {},
   "source": [
    "### Neural Network"
   ]
  },
  {
   "cell_type": "code",
   "execution_count": 15,
   "id": "2e84a3b2",
   "metadata": {},
   "outputs": [],
   "source": [
    "df_train = df[~df['road_name'].str.contains('М-1', case=False, na=False)]\n",
    "X_train = df_train[features]\n",
    "y_train = np.where(df_train[\"cluster\"] != -1, 1, 0)  # 1 = hotspot, 0 = not hotspot\n",
    "\n",
    "df_m1 = df[df['road_name'].str.contains('М-1', case=False, na=False)]\n",
    "X_test = df_m1[features]\n",
    "y_test = np.where(df_m1[\"cluster\"] != -1, 1, 0)  # 1 = hotspot, 0 = not hotspot"
   ]
  },
  {
   "cell_type": "code",
   "execution_count": 11,
   "id": "6ed8c89a",
   "metadata": {},
   "outputs": [
    {
     "data": {
      "text/plain": [
       "COORD_L                float64\n",
       "COORD_W                float64\n",
       "site_objects_cat         int64\n",
       "road_rank_cat            int64\n",
       "adj_objects_cat          int64\n",
       "traffic_changes_cat      int64\n",
       "road_defects_cat         int64\n",
       "cause_factors_cat        int64\n",
       "road_category          float64\n",
       "is_toll                  int64\n",
       "dtype: object"
      ]
     },
     "execution_count": 11,
     "metadata": {},
     "output_type": "execute_result"
    }
   ],
   "source": [
    "X_train.dtypes"
   ]
  },
  {
   "cell_type": "code",
   "execution_count": 16,
   "id": "2731eb9f",
   "metadata": {},
   "outputs": [
    {
     "name": "stdout",
     "output_type": "stream",
     "text": [
      "\n",
      "Epoch 1/20\n"
     ]
    },
    {
     "name": "stderr",
     "output_type": "stream",
     "text": [
      "Training: 100%|██████████| 5413/5413 [00:18<00:00, 285.15it/s]\n"
     ]
    },
    {
     "name": "stdout",
     "output_type": "stream",
     "text": [
      "Train Loss: 0.5769 | Val Loss: 0.5520 | Val F1: 0.6314\n",
      "\n",
      "Epoch 2/20\n"
     ]
    },
    {
     "name": "stderr",
     "output_type": "stream",
     "text": [
      "Training: 100%|██████████| 5413/5413 [00:17<00:00, 310.12it/s]\n"
     ]
    },
    {
     "name": "stdout",
     "output_type": "stream",
     "text": [
      "Train Loss: 0.5531 | Val Loss: 0.5438 | Val F1: 0.6244\n",
      "\n",
      "Epoch 3/20\n"
     ]
    },
    {
     "name": "stderr",
     "output_type": "stream",
     "text": [
      "Training: 100%|██████████| 5413/5413 [00:15<00:00, 348.79it/s]\n"
     ]
    },
    {
     "name": "stdout",
     "output_type": "stream",
     "text": [
      "Train Loss: 0.5490 | Val Loss: 0.5414 | Val F1: 0.6143\n",
      "\n",
      "Epoch 4/20\n"
     ]
    },
    {
     "name": "stderr",
     "output_type": "stream",
     "text": [
      "Training: 100%|██████████| 5413/5413 [00:14<00:00, 377.42it/s]\n"
     ]
    },
    {
     "name": "stdout",
     "output_type": "stream",
     "text": [
      "Train Loss: 0.5475 | Val Loss: 0.5425 | Val F1: 0.5934\n",
      "\n",
      "Epoch 5/20\n"
     ]
    },
    {
     "name": "stderr",
     "output_type": "stream",
     "text": [
      "Training: 100%|██████████| 5413/5413 [00:14<00:00, 366.92it/s]\n"
     ]
    },
    {
     "name": "stdout",
     "output_type": "stream",
     "text": [
      "Train Loss: 0.5456 | Val Loss: 0.5379 | Val F1: 0.6359\n",
      "\n",
      "Epoch 6/20\n"
     ]
    },
    {
     "name": "stderr",
     "output_type": "stream",
     "text": [
      "Training: 100%|██████████| 5413/5413 [00:14<00:00, 369.78it/s]\n"
     ]
    },
    {
     "name": "stdout",
     "output_type": "stream",
     "text": [
      "Train Loss: 0.5449 | Val Loss: 0.5400 | Val F1: 0.6126\n",
      "\n",
      "Epoch 7/20\n"
     ]
    },
    {
     "name": "stderr",
     "output_type": "stream",
     "text": [
      "Training: 100%|██████████| 5413/5413 [00:14<00:00, 382.50it/s]\n"
     ]
    },
    {
     "name": "stdout",
     "output_type": "stream",
     "text": [
      "Train Loss: 0.5439 | Val Loss: 0.5354 | Val F1: 0.6185\n",
      "\n",
      "Epoch 8/20\n"
     ]
    },
    {
     "name": "stderr",
     "output_type": "stream",
     "text": [
      "Training: 100%|██████████| 5413/5413 [00:16<00:00, 333.74it/s]\n"
     ]
    },
    {
     "name": "stdout",
     "output_type": "stream",
     "text": [
      "Train Loss: 0.5432 | Val Loss: 0.5345 | Val F1: 0.6353\n",
      "\n",
      "Epoch 9/20\n"
     ]
    },
    {
     "name": "stderr",
     "output_type": "stream",
     "text": [
      "Training: 100%|██████████| 5413/5413 [00:16<00:00, 331.95it/s]\n"
     ]
    },
    {
     "name": "stdout",
     "output_type": "stream",
     "text": [
      "Train Loss: 0.5428 | Val Loss: 0.5344 | Val F1: 0.6277\n",
      "\n",
      "Epoch 10/20\n"
     ]
    },
    {
     "name": "stderr",
     "output_type": "stream",
     "text": [
      "Training: 100%|██████████| 5413/5413 [00:19<00:00, 278.19it/s]\n"
     ]
    },
    {
     "name": "stdout",
     "output_type": "stream",
     "text": [
      "Train Loss: 0.5423 | Val Loss: 0.5392 | Val F1: 0.6089\n",
      "\n",
      "Epoch 11/20\n"
     ]
    },
    {
     "name": "stderr",
     "output_type": "stream",
     "text": [
      "Training: 100%|██████████| 5413/5413 [00:12<00:00, 448.31it/s]\n"
     ]
    },
    {
     "name": "stdout",
     "output_type": "stream",
     "text": [
      "Train Loss: 0.5423 | Val Loss: 0.5351 | Val F1: 0.6340\n",
      "\n",
      "Epoch 12/20\n"
     ]
    },
    {
     "name": "stderr",
     "output_type": "stream",
     "text": [
      "Training: 100%|██████████| 5413/5413 [00:11<00:00, 452.10it/s]\n"
     ]
    },
    {
     "name": "stdout",
     "output_type": "stream",
     "text": [
      "Train Loss: 0.5418 | Val Loss: 0.5378 | Val F1: 0.6272\n",
      "\n",
      "Epoch 13/20\n"
     ]
    },
    {
     "name": "stderr",
     "output_type": "stream",
     "text": [
      "Training: 100%|██████████| 5413/5413 [00:12<00:00, 444.33it/s]\n"
     ]
    },
    {
     "name": "stdout",
     "output_type": "stream",
     "text": [
      "Train Loss: 0.5414 | Val Loss: 0.5418 | Val F1: 0.6081\n",
      "\n",
      "Epoch 14/20\n"
     ]
    },
    {
     "name": "stderr",
     "output_type": "stream",
     "text": [
      "Training: 100%|██████████| 5413/5413 [00:14<00:00, 366.07it/s]\n"
     ]
    },
    {
     "name": "stdout",
     "output_type": "stream",
     "text": [
      "Train Loss: 0.5410 | Val Loss: 0.5341 | Val F1: 0.6008\n",
      "\n",
      "Epoch 15/20\n"
     ]
    },
    {
     "name": "stderr",
     "output_type": "stream",
     "text": [
      "Training: 100%|██████████| 5413/5413 [00:16<00:00, 338.23it/s]\n"
     ]
    },
    {
     "name": "stdout",
     "output_type": "stream",
     "text": [
      "Train Loss: 0.5410 | Val Loss: 0.5337 | Val F1: 0.6183\n",
      "\n",
      "Epoch 16/20\n"
     ]
    },
    {
     "name": "stderr",
     "output_type": "stream",
     "text": [
      "Training: 100%|██████████| 5413/5413 [00:15<00:00, 346.21it/s]\n"
     ]
    },
    {
     "name": "stdout",
     "output_type": "stream",
     "text": [
      "Train Loss: 0.5408 | Val Loss: 0.5337 | Val F1: 0.6465\n",
      "\n",
      "Epoch 17/20\n"
     ]
    },
    {
     "name": "stderr",
     "output_type": "stream",
     "text": [
      "Training: 100%|██████████| 5413/5413 [00:14<00:00, 363.75it/s]\n"
     ]
    },
    {
     "name": "stdout",
     "output_type": "stream",
     "text": [
      "Train Loss: 0.5402 | Val Loss: 0.5313 | Val F1: 0.6422\n",
      "\n",
      "Epoch 18/20\n"
     ]
    },
    {
     "name": "stderr",
     "output_type": "stream",
     "text": [
      "Training: 100%|██████████| 5413/5413 [00:13<00:00, 405.28it/s]\n"
     ]
    },
    {
     "name": "stdout",
     "output_type": "stream",
     "text": [
      "Train Loss: 0.5403 | Val Loss: 0.5313 | Val F1: 0.6120\n",
      "\n",
      "Epoch 19/20\n"
     ]
    },
    {
     "name": "stderr",
     "output_type": "stream",
     "text": [
      "Training: 100%|██████████| 5413/5413 [00:13<00:00, 406.83it/s]\n"
     ]
    },
    {
     "name": "stdout",
     "output_type": "stream",
     "text": [
      "Train Loss: 0.5397 | Val Loss: 0.5316 | Val F1: 0.6313\n",
      "\n",
      "Epoch 20/20\n"
     ]
    },
    {
     "name": "stderr",
     "output_type": "stream",
     "text": [
      "Training: 100%|██████████| 5413/5413 [00:12<00:00, 419.09it/s]\n"
     ]
    },
    {
     "name": "stdout",
     "output_type": "stream",
     "text": [
      "Train Loss: 0.5398 | Val Loss: 0.5350 | Val F1: 0.6265\n",
      "Accuracy for М-1 (PyTorch NN): 0.6516445066480056\n",
      "F1 (macro) for М-1 (PyTorch NN): 0.6432188826331711\n"
     ]
    }
   ],
   "source": [
    "X_train_tensor = torch.tensor(X_train.values, dtype=torch.float32)\n",
    "X_test_tensor = torch.tensor(X_test.values, dtype=torch.float32)\n",
    "\n",
    "y_train_tensor = torch.tensor(y_train, dtype=torch.float32).view(-1, 1)\n",
    "y_test_tensor = torch.tensor(y_test, dtype=torch.int64)\n",
    "\n",
    "X_tr, X_val, y_tr, y_val = train_test_split(X_train_tensor, y_train_tensor, test_size=0.2, random_state=42)\n",
    "\n",
    "train_dataset = TensorDataset(X_tr, y_tr)\n",
    "val_dataset = TensorDataset(X_val, y_val)\n",
    "\n",
    "train_loader = DataLoader(train_dataset, batch_size=64, shuffle=True)\n",
    "val_loader = DataLoader(val_dataset, batch_size=64)\n",
    "\n",
    "\n",
    "class MLP(nn.Module):\n",
    "    def __init__(self, input_dim):\n",
    "        super(MLP, self).__init__()\n",
    "        self.model = nn.Sequential(\n",
    "            nn.Linear(input_dim, 64),\n",
    "            nn.ReLU(),\n",
    "            nn.Dropout(0.3),\n",
    "            nn.Linear(64, 32),\n",
    "            nn.ReLU(),\n",
    "            nn.Dropout(0.3),\n",
    "            nn.Linear(32, 1),\n",
    "            nn.Sigmoid()\n",
    "        )\n",
    "\n",
    "    def forward(self, x):\n",
    "        return self.model(x)\n",
    "\n",
    "model = MLP(X_train_tensor.shape[1])\n",
    "\n",
    "criterion = nn.BCELoss()\n",
    "optimizer = optim.Adam(model.parameters(), lr=0.001)\n",
    "\n",
    "epochs = 20\n",
    "model.train()\n",
    "for epoch in range(epochs):\n",
    "    total_loss = 0\n",
    "    model.train()\n",
    "    print(f\"\\nEpoch {epoch+1}/{epochs}\")\n",
    "    for X_batch, y_batch in tqdm(train_loader, desc=f\"Training\"):\n",
    "        optimizer.zero_grad()\n",
    "        outputs = model(X_batch)\n",
    "        loss = criterion(outputs, y_batch)\n",
    "        loss.backward()\n",
    "        optimizer.step()\n",
    "        total_loss += loss.item()\n",
    "    \n",
    "    avg_train_loss = total_loss / len(train_loader)\n",
    "\n",
    "    model.eval()\n",
    "    val_loss = 0\n",
    "    all_preds = []\n",
    "    all_targets = []\n",
    "    with torch.no_grad():\n",
    "        for X_val_batch, y_val_batch in val_loader:\n",
    "            val_outputs = model(X_val_batch)\n",
    "            val_loss += criterion(val_outputs, y_val_batch).item()\n",
    "            preds = (val_outputs > 0.5).int()\n",
    "            all_preds.extend(preds.cpu().numpy())\n",
    "            all_targets.extend(y_val_batch.cpu().numpy())\n",
    "\n",
    "    avg_val_loss = val_loss / len(val_loader)\n",
    "    val_f1 = f1_score(all_targets, all_preds, average='macro')\n",
    "\n",
    "    print(f\"Train Loss: {avg_train_loss:.4f} | Val Loss: {avg_val_loss:.4f} | Val F1: {val_f1:.4f}\")\n",
    "\n",
    "model.eval()\n",
    "with torch.no_grad():\n",
    "    y_pred_probs = model(X_test_tensor).numpy().flatten()\n",
    "    y_pred_m1 = (y_pred_probs > 0.5).astype(int)\n",
    "\n",
    "accuracy = accuracy_score(y_test, y_pred_m1)\n",
    "f1_macro = f1_score(y_test, y_pred_m1, average='macro')\n",
    "\n",
    "print(\"Accuracy for М-1 (PyTorch NN):\", accuracy)\n",
    "print(\"F1 (macro) for М-1 (PyTorch NN):\", f1_macro)"
   ]
  },
  {
   "cell_type": "code",
   "execution_count": null,
   "id": "80380849",
   "metadata": {},
   "outputs": [],
   "source": []
  }
 ],
 "metadata": {
  "kernelspec": {
   "display_name": "Python 3",
   "language": "python",
   "name": "python3"
  },
  "language_info": {
   "codemirror_mode": {
    "name": "ipython",
    "version": 3
   },
   "file_extension": ".py",
   "mimetype": "text/x-python",
   "name": "python",
   "nbconvert_exporter": "python",
   "pygments_lexer": "ipython3",
   "version": "3.9.7"
  }
 },
 "nbformat": 4,
 "nbformat_minor": 5
}
