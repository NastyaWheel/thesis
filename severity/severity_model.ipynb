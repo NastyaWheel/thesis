{
 "cells": [
  {
   "cell_type": "code",
   "execution_count": null,
   "id": "8ce85abc",
   "metadata": {},
   "outputs": [],
   "source": [
    "import random\n",
    "import folium\n",
    "\n",
    "import numpy as np\n",
    "import pandas as pd\n",
    "pd.set_option('mode.chained_assignment', None)\n",
    "\n",
    "from sklearn.cluster import DBSCAN\n",
    "\n",
    "import statsmodels.api as sm\n",
    "from sklearn.utils.class_weight import compute_sample_weight\n",
    "\n",
    "from sklearn.ensemble import RandomForestClassifier\n",
    "from sklearn.model_selection import train_test_split\n",
    "from sklearn.metrics import accuracy_score, f1_score"
   ]
  },
  {
   "cell_type": "code",
   "execution_count": 33,
   "id": "217c8405",
   "metadata": {},
   "outputs": [
    {
     "name": "stdout",
     "output_type": "stream",
     "text": [
      "(440132, 81)\n"
     ]
    },
    {
     "data": {
      "text/html": [
       "<div>\n",
       "<style scoped>\n",
       "    .dataframe tbody tr th:only-of-type {\n",
       "        vertical-align: middle;\n",
       "    }\n",
       "\n",
       "    .dataframe tbody tr th {\n",
       "        vertical-align: top;\n",
       "    }\n",
       "\n",
       "    .dataframe thead th {\n",
       "        text-align: right;\n",
       "    }\n",
       "</style>\n",
       "<table border=\"1\" class=\"dataframe\">\n",
       "  <thead>\n",
       "    <tr style=\"text-align: right;\">\n",
       "      <th></th>\n",
       "      <th>date</th>\n",
       "      <th>COORD_L</th>\n",
       "      <th>COORD_W</th>\n",
       "      <th>dor</th>\n",
       "      <th>dor_k</th>\n",
       "      <th>s_dtp</th>\n",
       "      <th>RTA_vehicle_number</th>\n",
       "      <th>RTA_participants_number</th>\n",
       "      <th>RTA_number</th>\n",
       "      <th>number_of_deaths</th>\n",
       "      <th>...</th>\n",
       "      <th>accident_month</th>\n",
       "      <th>accident_weekday</th>\n",
       "      <th>accident_season</th>\n",
       "      <th>is_weekend</th>\n",
       "      <th>RTA_hour</th>\n",
       "      <th>is_night</th>\n",
       "      <th>is_peak_hour</th>\n",
       "      <th>severity</th>\n",
       "      <th>severity_detailed</th>\n",
       "      <th>is_toll</th>\n",
       "    </tr>\n",
       "  </thead>\n",
       "  <tbody>\n",
       "    <tr>\n",
       "      <th>0</th>\n",
       "      <td>31.01.2015</td>\n",
       "      <td>81.151944</td>\n",
       "      <td>53.740000</td>\n",
       "      <td>Романово - Завьялово - Баево - Камень-на-Оби</td>\n",
       "      <td>5.0</td>\n",
       "      <td>610</td>\n",
       "      <td>1</td>\n",
       "      <td>3</td>\n",
       "      <td>161242174</td>\n",
       "      <td>0</td>\n",
       "      <td>...</td>\n",
       "      <td>1</td>\n",
       "      <td>5</td>\n",
       "      <td>1</td>\n",
       "      <td>1</td>\n",
       "      <td>9</td>\n",
       "      <td>0</td>\n",
       "      <td>1</td>\n",
       "      <td>medium</td>\n",
       "      <td>injury_with_hospitalization</td>\n",
       "      <td>0</td>\n",
       "    </tr>\n",
       "    <tr>\n",
       "      <th>1</th>\n",
       "      <td>30.01.2015</td>\n",
       "      <td>85.018056</td>\n",
       "      <td>51.684444</td>\n",
       "      <td>Куяган - Куяча - Тоурак</td>\n",
       "      <td>6.0</td>\n",
       "      <td>200</td>\n",
       "      <td>2</td>\n",
       "      <td>3</td>\n",
       "      <td>161105683</td>\n",
       "      <td>0</td>\n",
       "      <td>...</td>\n",
       "      <td>1</td>\n",
       "      <td>4</td>\n",
       "      <td>1</td>\n",
       "      <td>0</td>\n",
       "      <td>14</td>\n",
       "      <td>0</td>\n",
       "      <td>0</td>\n",
       "      <td>medium</td>\n",
       "      <td>injury_with_hospitalization</td>\n",
       "      <td>0</td>\n",
       "    </tr>\n",
       "    <tr>\n",
       "      <th>2</th>\n",
       "      <td>30.01.2015</td>\n",
       "      <td>81.250000</td>\n",
       "      <td>53.818056</td>\n",
       "      <td>Барнаул - Камень-на-Оби - граница Новосибирско...</td>\n",
       "      <td>5.0</td>\n",
       "      <td>210</td>\n",
       "      <td>2</td>\n",
       "      <td>3</td>\n",
       "      <td>161763431</td>\n",
       "      <td>0</td>\n",
       "      <td>...</td>\n",
       "      <td>1</td>\n",
       "      <td>4</td>\n",
       "      <td>1</td>\n",
       "      <td>0</td>\n",
       "      <td>17</td>\n",
       "      <td>0</td>\n",
       "      <td>1</td>\n",
       "      <td>light</td>\n",
       "      <td>injury_no_hospitalization</td>\n",
       "      <td>0</td>\n",
       "    </tr>\n",
       "    <tr>\n",
       "      <th>3</th>\n",
       "      <td>24.01.2015</td>\n",
       "      <td>51.000000</td>\n",
       "      <td>84.000000</td>\n",
       "      <td>Быканов Мост - Солоновка - Солонешное - границ...</td>\n",
       "      <td>7.0</td>\n",
       "      <td>610</td>\n",
       "      <td>1</td>\n",
       "      <td>2</td>\n",
       "      <td>160331994</td>\n",
       "      <td>0</td>\n",
       "      <td>...</td>\n",
       "      <td>1</td>\n",
       "      <td>5</td>\n",
       "      <td>1</td>\n",
       "      <td>1</td>\n",
       "      <td>19</td>\n",
       "      <td>0</td>\n",
       "      <td>0</td>\n",
       "      <td>light</td>\n",
       "      <td>injury_no_hospitalization</td>\n",
       "      <td>0</td>\n",
       "    </tr>\n",
       "    <tr>\n",
       "      <th>4</th>\n",
       "      <td>23.01.2015</td>\n",
       "      <td>84.000000</td>\n",
       "      <td>53.000000</td>\n",
       "      <td>Быканов Мост - Солоновка - Солонешное - границ...</td>\n",
       "      <td>7.0</td>\n",
       "      <td>600</td>\n",
       "      <td>1</td>\n",
       "      <td>2</td>\n",
       "      <td>160213415</td>\n",
       "      <td>1</td>\n",
       "      <td>...</td>\n",
       "      <td>1</td>\n",
       "      <td>4</td>\n",
       "      <td>1</td>\n",
       "      <td>0</td>\n",
       "      <td>21</td>\n",
       "      <td>0</td>\n",
       "      <td>0</td>\n",
       "      <td>severe</td>\n",
       "      <td>death_at_scene</td>\n",
       "      <td>0</td>\n",
       "    </tr>\n",
       "  </tbody>\n",
       "</table>\n",
       "<p>5 rows × 81 columns</p>\n",
       "</div>"
      ],
      "text/plain": [
       "         date    COORD_L    COORD_W  \\\n",
       "0  31.01.2015  81.151944  53.740000   \n",
       "1  30.01.2015  85.018056  51.684444   \n",
       "2  30.01.2015  81.250000  53.818056   \n",
       "3  24.01.2015  51.000000  84.000000   \n",
       "4  23.01.2015  84.000000  53.000000   \n",
       "\n",
       "                                                 dor  dor_k  s_dtp  \\\n",
       "0       Романово - Завьялово - Баево - Камень-на-Оби    5.0    610   \n",
       "1                            Куяган - Куяча - Тоурак    6.0    200   \n",
       "2  Барнаул - Камень-на-Оби - граница Новосибирско...    5.0    210   \n",
       "3  Быканов Мост - Солоновка - Солонешное - границ...    7.0    610   \n",
       "4  Быканов Мост - Солоновка - Солонешное - границ...    7.0    600   \n",
       "\n",
       "   RTA_vehicle_number  RTA_participants_number  RTA_number  number_of_deaths  \\\n",
       "0                   1                        3   161242174                 0   \n",
       "1                   2                        3   161105683                 0   \n",
       "2                   2                        3   161763431                 0   \n",
       "3                   1                        2   160331994                 0   \n",
       "4                   1                        2   160213415                 1   \n",
       "\n",
       "   ...  accident_month  accident_weekday  accident_season  is_weekend  \\\n",
       "0  ...               1                 5                1           1   \n",
       "1  ...               1                 4                1           0   \n",
       "2  ...               1                 4                1           0   \n",
       "3  ...               1                 5                1           1   \n",
       "4  ...               1                 4                1           0   \n",
       "\n",
       "   RTA_hour  is_night  is_peak_hour  severity            severity_detailed  \\\n",
       "0         9         0             1    medium  injury_with_hospitalization   \n",
       "1        14         0             0    medium  injury_with_hospitalization   \n",
       "2        17         0             1     light    injury_no_hospitalization   \n",
       "3        19         0             0     light    injury_no_hospitalization   \n",
       "4        21         0             0    severe               death_at_scene   \n",
       "\n",
       "   is_toll  \n",
       "0        0  \n",
       "1        0  \n",
       "2        0  \n",
       "3        0  \n",
       "4        0  \n",
       "\n",
       "[5 rows x 81 columns]"
      ]
     },
     "execution_count": 33,
     "metadata": {},
     "output_type": "execute_result"
    }
   ],
   "source": [
    "df = pd.read_csv(\"C:/Users/Настя/YandexDisk-n4skolesnikova/HSE 4th year/Graduation Thesis/ACCIDENT_LEVEL_DATA.csv\")\n",
    "df = df.drop('Unnamed: 0', axis=1)\n",
    "print(df.shape)\n",
    "df.head()"
   ]
  },
  {
   "cell_type": "code",
   "execution_count": 34,
   "id": "c4cf3abc",
   "metadata": {},
   "outputs": [
    {
     "data": {
      "text/plain": [
       "array([2, 1, 3])"
      ]
     },
     "execution_count": 34,
     "metadata": {},
     "output_type": "execute_result"
    }
   ],
   "source": [
    "replace_map = {\n",
    "    'light': '1',\n",
    "    'medium': '2',\n",
    "    'severe': '3'\n",
    "}\n",
    "\n",
    "df['severity_encode'] = df['severity'].replace(replace_map)\n",
    "df['severity_encode'] = df['severity_encode'].astype(int)\n",
    "df['severity_encode'].unique()"
   ]
  },
  {
   "cell_type": "code",
   "execution_count": 35,
   "id": "d1380919",
   "metadata": {},
   "outputs": [],
   "source": [
    "df = df.drop(columns=['severity_detailed', 'severity', 'num_fatal_traffic_violations'])"
   ]
  },
  {
   "cell_type": "code",
   "execution_count": null,
   "id": "46e26e75",
   "metadata": {},
   "outputs": [
    {
     "name": "stderr",
     "output_type": "stream",
     "text": [
      "C:\\Users\\Настя\\AppData\\Local\\Temp\\ipykernel_24944\\1707238632.py:7: SettingWithCopyWarning: \n",
      "A value is trying to be set on a copy of a slice from a DataFrame.\n",
      "Try using .loc[row_indexer,col_indexer] = value instead\n",
      "\n",
      "See the caveats in the documentation: https://pandas.pydata.org/pandas-docs/stable/user_guide/indexing.html#returning-a-view-versus-a-copy\n",
      "  toll_roads_df[\"cluster\"] = dbscan_toll.fit_predict(np.radians(toll_roads_df[[\"COORD_W\", \"COORD_L\"]].values))\n",
      "C:\\Users\\Настя\\AppData\\Local\\Temp\\ipykernel_24944\\1707238632.py:11: SettingWithCopyWarning: \n",
      "A value is trying to be set on a copy of a slice from a DataFrame.\n",
      "Try using .loc[row_indexer,col_indexer] = value instead\n",
      "\n",
      "See the caveats in the documentation: https://pandas.pydata.org/pandas-docs/stable/user_guide/indexing.html#returning-a-view-versus-a-copy\n",
      "  free_roads_df[\"cluster\"] = dbscan_free.fit_predict(np.radians(free_roads_df[[\"COORD_W\", \"COORD_L\"]].values))\n"
     ]
    }
   ],
   "source": [
    "toll_roads_df = df[df['is_toll'] == 1]\n",
    "free_roads_df = df[df['is_toll'] == 0]\n",
    "\n",
    "dbscan_toll = DBSCAN(eps=0.2/6371.0, min_samples=5, metric=\"haversine\")\n",
    "toll_roads_df[\"cluster\"] = dbscan_toll.fit_predict(np.radians(toll_roads_df[[\"COORD_W\", \"COORD_L\"]].values))\n",
    "\n",
    "dbscan_free = DBSCAN(eps=0.3/6371.0, min_samples=5, metric=\"haversine\")  # larger eps for free ones as more observations\n",
    "free_roads_df[\"cluster\"] = dbscan_free.fit_predict(np.radians(free_roads_df[[\"COORD_W\", \"COORD_L\"]].values))\n",
    "\n",
    "df = pd.concat([toll_roads_df, free_roads_df], ignore_index=True)"
   ]
  },
  {
   "cell_type": "code",
   "execution_count": null,
   "id": "fdd55e36",
   "metadata": {},
   "outputs": [],
   "source": [
    "# Negative examples (clusters with label -1)\n",
    "negative_examples = df[df[\"cluster\"] == -1]\n",
    "\n",
    "# Positive examples (clusters with labels 0, 1, 2, ...)\n",
    "positive_examples = df[df[\"cluster\"] != -1]"
   ]
  },
  {
   "cell_type": "markdown",
   "id": "fb5b378a",
   "metadata": {},
   "source": [
    "# Hypotheses testing"
   ]
  },
  {
   "cell_type": "code",
   "execution_count": 39,
   "id": "7dd3cb76",
   "metadata": {},
   "outputs": [
    {
     "name": "stdout",
     "output_type": "stream",
     "text": [
      "Class imbalance in hotspot dataset: 0.08205811707518727\n"
     ]
    }
   ],
   "source": [
    "imsbalance = positive_examples['is_toll'].sum() / positive_examples.shape[0]\n",
    "print(f\"Class imbalance in hotspot dataset: {imsbalance}\")"
   ]
  },
  {
   "cell_type": "code",
   "execution_count": null,
   "id": "4ff583ee",
   "metadata": {},
   "outputs": [
    {
     "name": "stdout",
     "output_type": "stream",
     "text": [
      "Optimization terminated successfully.\n",
      "         Current function value: 0.945331\n",
      "         Iterations 7\n",
      "                          MNLogit Regression Results                          \n",
      "==============================================================================\n",
      "Dep. Variable:        severity_encode   No. Observations:               197868\n",
      "Model:                        MNLogit   Df Residuals:                   197828\n",
      "Method:                           MLE   Df Model:                           38\n",
      "Date:                Sun, 20 Apr 2025   Pseudo R-squ.:                 0.05397\n",
      "Time:                        20:42:47   Log-Likelihood:            -1.8705e+05\n",
      "converged:                       True   LL-Null:                   -1.9772e+05\n",
      "Covariance Type:            nonrobust   LLR p-value:                     0.000\n",
      "==================================================================================================\n",
      "             severity_encode=2       coef    std err          z      P>|z|      [0.025      0.975]\n",
      "--------------------------------------------------------------------------------------------------\n",
      "const                             39.4074      1.573     25.047      0.000      36.324      42.491\n",
      "is_toll                            0.3235      0.012     27.663      0.000       0.301       0.346\n",
      "RTA_vehicle_number                 0.1047      0.013      7.759      0.000       0.078       0.131\n",
      "RTA_participants_number            0.1712      0.005     35.684      0.000       0.162       0.181\n",
      "num_drunk_participants            -0.0056      0.004     -1.270      0.204      -0.014       0.003\n",
      "guilty_drivers_avg_experience      0.0023      0.000      5.200      0.000       0.001       0.003\n",
      "drivers_avg_experience             0.0039      0.001      6.876      0.000       0.003       0.005\n",
      "share_guilty_vehicles              0.7604      0.037     20.285      0.000       0.687       0.834\n",
      "lighting_cat                       0.0410      0.004     10.586      0.000       0.033       0.049\n",
      "road_object_type_cat               0.0092      0.002      5.047      0.000       0.006       0.013\n",
      "speeding                          -0.2426      0.011    -21.934      0.000      -0.264      -0.221\n",
      "signal_violation                  -0.9008      0.258     -3.489      0.000      -1.407      -0.395\n",
      "pedestrian_related                -0.0303      0.060     -0.506      0.613      -0.148       0.087\n",
      "wrong_way_driving                  0.4995      0.016     30.507      0.000       0.467       0.532\n",
      "num_front_wheel_drive_vehicles    -0.2015      0.007    -30.959      0.000      -0.214      -0.189\n",
      "avg_vehicles_age                  -0.0204      0.001    -25.999      0.000      -0.022      -0.019\n",
      "dor_z_cat                          0.0511      0.008      6.365      0.000       0.035       0.067\n",
      "DTPV_cat                          -0.0544      0.004    -14.579      0.000      -0.062      -0.047\n",
      "OBJ_DTP_cat                        0.0078      0.002      3.945      0.000       0.004       0.012\n",
      "factor_cat                         0.0026      0.002      1.360      0.174      -0.001       0.006\n",
      "--------------------------------------------------------------------------------------------------\n",
      "             severity_encode=3       coef    std err          z      P>|z|      [0.025      0.975]\n",
      "--------------------------------------------------------------------------------------------------\n",
      "const                             38.0644      1.898     20.055      0.000      34.344      41.784\n",
      "is_toll                            0.4115      0.016     25.233      0.000       0.380       0.443\n",
      "RTA_vehicle_number                 0.3171      0.017     19.013      0.000       0.284       0.350\n",
      "RTA_participants_number            0.3303      0.006     54.259      0.000       0.318       0.342\n",
      "num_drunk_participants             0.0531      0.006      9.341      0.000       0.042       0.064\n",
      "guilty_drivers_avg_experience      0.0064      0.001     11.078      0.000       0.005       0.008\n",
      "drivers_avg_experience             0.0037      0.001      4.781      0.000       0.002       0.005\n",
      "share_guilty_vehicles              1.2792      0.045     28.336      0.000       1.191       1.368\n",
      "lighting_cat                       0.1223      0.005     22.800      0.000       0.112       0.133\n",
      "road_object_type_cat               0.0444      0.003     16.159      0.000       0.039       0.050\n",
      "speeding                          -0.2425      0.016    -14.883      0.000      -0.274      -0.211\n",
      "signal_violation                  -2.1642      0.604     -3.581      0.000      -3.349      -0.980\n",
      "pedestrian_related                 0.4089      0.065      6.309      0.000       0.282       0.536\n",
      "wrong_way_driving                  1.4227      0.020     70.862      0.000       1.383       1.462\n",
      "num_front_wheel_drive_vehicles    -0.3768      0.009    -40.960      0.000      -0.395      -0.359\n",
      "avg_vehicles_age                  -0.0209      0.001    -22.146      0.000      -0.023      -0.019\n",
      "dor_z_cat                          0.1428      0.012     11.808      0.000       0.119       0.166\n",
      "DTPV_cat                          -0.1921      0.005    -38.226      0.000      -0.202      -0.182\n",
      "OBJ_DTP_cat                        0.0294      0.003     10.334      0.000       0.024       0.035\n",
      "factor_cat                         0.0059      0.003      2.129      0.033       0.000       0.011\n",
      "==================================================================================================\n"
     ]
    }
   ],
   "source": [
    "sample_weights = compute_sample_weight(class_weight='balanced', y=positive_examples['is_toll'])\n",
    "df_weighted = positive_examples.loc[positive_examples.index.repeat(sample_weights.round().astype(int))]\n",
    "\n",
    "X = df_weighted[[\n",
    "    'is_toll', 'RTA_vehicle_number', 'RTA_participants_number',\n",
    "    'num_drunk_participants', 'guilty_drivers_avg_experience',\n",
    "    'drivers_avg_experience', 'share_guilty_vehicles',\n",
    "    'lighting_cat', 'road_object_type_cat', 'speeding', 'signal_violation',\n",
    "    'pedestrian_related', 'wrong_way_driving', 'num_front_wheel_drive_vehicles',\n",
    "    'avg_vehicles_age', 'dor_z_cat', 'DTPV_cat', 'OBJ_DTP_cat', 'factor_cat'\n",
    "]]\n",
    "\n",
    "X = sm.add_constant(X)\n",
    "\n",
    "y = df_weighted['severity_encode']\n",
    "\n",
    "model = sm.MNLogit(y, X)\n",
    "result = model.fit()\n",
    "\n",
    "print(result.summary())"
   ]
  },
  {
   "cell_type": "markdown",
   "id": "f6744e04",
   "metadata": {},
   "source": [
    "Мы снова подтвердили гипотезу о том, что вероятность тяжёлой аварии на платных дорогах выше, чем на бесплатных.\n",
    "\n",
    "Также, сравнив коэффициенты для признака `is_toll` между моделью для всего датасета (см. файл `severity_hypotheses.ipynb`) и моделью для горячих точек выше, можно отметить, что для горячих точек коэффициент для `is_toll` значительно выше: для средней тяжести аварий (severity_encode = 2) — 0.3235, а для тяжёлых аварий (severity_encode = 3) — 0.4115. В то время как для всех наблюдений коэффициенты значительно ниже: для средней тяжести — 0.2609, а для тяжёлых аварий — 0.2564. Это указывает на то, что влияние признака `is_toll` на тяжесть аварий в горячих точках усиливается по сравнению с общими дорогами.\n",
    "\n",
    "Это подводит нас к созданию модели, которая сможет предсказывать горячие точки по координатам и дополнительным признакам."
   ]
  },
  {
   "cell_type": "markdown",
   "id": "87e32d2b",
   "metadata": {},
   "source": [
    "# Hot spot predictor model"
   ]
  },
  {
   "cell_type": "markdown",
   "id": "c2f22a71",
   "metadata": {},
   "source": [
    "The model works better with info about driver behavior on the roads and other accidents variables, but we must proceed from the fact that when opening a new section of road we have no information about accidents on it, so we will select features that reflect the geographical location and characteristics of the road section itself."
   ]
  },
  {
   "cell_type": "code",
   "execution_count": 62,
   "id": "37c0e56e",
   "metadata": {},
   "outputs": [
    {
     "name": "stdout",
     "output_type": "stream",
     "text": [
      "Accuracy: 0.8456382700762266\n",
      "F1 (macro): 0.820213298890597\n"
     ]
    }
   ],
   "source": [
    "features = [\"COORD_L\", \"COORD_W\", \"road_object_type_cat\", \"dor_z_cat\", \"OBJ_DTP_cat\", \"CHOM_cat\", \"ndu_cat\", \"factor_cat\", \"dor_k\", \"is_toll\"]\n",
    "\n",
    "X_model = df[features]\n",
    "\n",
    "# Target variable: hotspots (1 = hotspot, 0 = not hotspot)\n",
    "y_model = np.where(df[\"cluster\"] != -1, 1, 0)\n",
    "\n",
    "X_train, X_test, y_train, y_test = train_test_split(X_model, y_model, test_size=0.2, random_state=42)\n",
    "\n",
    "rf_model = RandomForestClassifier(n_estimators=100, random_state=42)\n",
    "rf_model.fit(X_train, y_train)\n",
    "\n",
    "y_pred = rf_model.predict(X_test)\n",
    "\n",
    "print(\"Accuracy:\", accuracy_score(y_test, y_pred))\n",
    "print(\"F1 (macro):\", f1_score(y_test, y_pred, average='macro'))"
   ]
  },
  {
   "cell_type": "markdown",
   "id": "db795802",
   "metadata": {},
   "source": [
    "Gradient boosting was also tried, but it resulted in 5% less quality on both metrics."
   ]
  },
  {
   "cell_type": "markdown",
   "id": "468041f2",
   "metadata": {},
   "source": [
    "Example of prediction:"
   ]
  },
  {
   "cell_type": "code",
   "execution_count": 63,
   "id": "59c9cfc0",
   "metadata": {},
   "outputs": [
    {
     "name": "stdout",
     "output_type": "stream",
     "text": [
      "This is not a hot spot (low-risk area).\n"
     ]
    }
   ],
   "source": [
    "new_data = pd.DataFrame({\n",
    "    \"COORD_L\": [55.7558],\n",
    "    \"COORD_W\": [37.6173],\n",
    "    \"road_object_type_cat\": [2],\n",
    "    \"dor_z_cat\": [1],\n",
    "    \"OBJ_DTP_cat\": [3],\n",
    "    \"CHOM_cat\": [0],\n",
    "    \"ndu_cat\": [1],\n",
    "    \"factor_cat\": [0],\n",
    "    \"dor_k\": [1],\n",
    "    \"is_toll\": [0]\n",
    "})\n",
    "\n",
    "new_prediction = rf_model.predict(new_data)\n",
    "\n",
    "if new_prediction[0] == 1:\n",
    "    print(\"This is a hot spot (high-risk area).\")\n",
    "else:\n",
    "    print(\"This is not a hot spot (low-risk area).\")"
   ]
  },
  {
   "cell_type": "code",
   "execution_count": 64,
   "id": "a97cfcd5",
   "metadata": {},
   "outputs": [
    {
     "data": {
      "text/html": [
       "<div style=\"width:100%;\"><div style=\"position:relative;width:100%;height:0;padding-bottom:60%;\"><span style=\"color:#565656\">Make this Notebook Trusted to load map: File -> Trust Notebook</span><iframe srcdoc=\"&lt;!DOCTYPE html&gt;\n",
       "&lt;html&gt;\n",
       "&lt;head&gt;\n",
       "    \n",
       "    &lt;meta http-equiv=&quot;content-type&quot; content=&quot;text/html; charset=UTF-8&quot; /&gt;\n",
       "    \n",
       "        &lt;script&gt;\n",
       "            L_NO_TOUCH = false;\n",
       "            L_DISABLE_3D = false;\n",
       "        &lt;/script&gt;\n",
       "    \n",
       "    &lt;style&gt;html, body {width: 100%;height: 100%;margin: 0;padding: 0;}&lt;/style&gt;\n",
       "    &lt;style&gt;#map {position:absolute;top:0;bottom:0;right:0;left:0;}&lt;/style&gt;\n",
       "    &lt;script src=&quot;https://cdn.jsdelivr.net/npm/leaflet@1.9.3/dist/leaflet.js&quot;&gt;&lt;/script&gt;\n",
       "    &lt;script src=&quot;https://code.jquery.com/jquery-3.7.1.min.js&quot;&gt;&lt;/script&gt;\n",
       "    &lt;script src=&quot;https://cdn.jsdelivr.net/npm/bootstrap@5.2.2/dist/js/bootstrap.bundle.min.js&quot;&gt;&lt;/script&gt;\n",
       "    &lt;script src=&quot;https://cdnjs.cloudflare.com/ajax/libs/Leaflet.awesome-markers/2.0.2/leaflet.awesome-markers.js&quot;&gt;&lt;/script&gt;\n",
       "    &lt;link rel=&quot;stylesheet&quot; href=&quot;https://cdn.jsdelivr.net/npm/leaflet@1.9.3/dist/leaflet.css&quot;/&gt;\n",
       "    &lt;link rel=&quot;stylesheet&quot; href=&quot;https://cdn.jsdelivr.net/npm/bootstrap@5.2.2/dist/css/bootstrap.min.css&quot;/&gt;\n",
       "    &lt;link rel=&quot;stylesheet&quot; href=&quot;https://netdna.bootstrapcdn.com/bootstrap/3.0.0/css/bootstrap-glyphicons.css&quot;/&gt;\n",
       "    &lt;link rel=&quot;stylesheet&quot; href=&quot;https://cdn.jsdelivr.net/npm/@fortawesome/fontawesome-free@6.2.0/css/all.min.css&quot;/&gt;\n",
       "    &lt;link rel=&quot;stylesheet&quot; href=&quot;https://cdnjs.cloudflare.com/ajax/libs/Leaflet.awesome-markers/2.0.2/leaflet.awesome-markers.css&quot;/&gt;\n",
       "    &lt;link rel=&quot;stylesheet&quot; href=&quot;https://cdn.jsdelivr.net/gh/python-visualization/folium/folium/templates/leaflet.awesome.rotate.min.css&quot;/&gt;\n",
       "    \n",
       "            &lt;meta name=&quot;viewport&quot; content=&quot;width=device-width,\n",
       "                initial-scale=1.0, maximum-scale=1.0, user-scalable=no&quot; /&gt;\n",
       "            &lt;style&gt;\n",
       "                #map_61f218b9490055fd7cea040a99912ea8 {\n",
       "                    position: relative;\n",
       "                    width: 100.0%;\n",
       "                    height: 100.0%;\n",
       "                    left: 0.0%;\n",
       "                    top: 0.0%;\n",
       "                }\n",
       "                .leaflet-container { font-size: 1rem; }\n",
       "            &lt;/style&gt;\n",
       "        \n",
       "&lt;/head&gt;\n",
       "&lt;body&gt;\n",
       "    \n",
       "    \n",
       "            &lt;div class=&quot;folium-map&quot; id=&quot;map_61f218b9490055fd7cea040a99912ea8&quot; &gt;&lt;/div&gt;\n",
       "        \n",
       "&lt;/body&gt;\n",
       "&lt;script&gt;\n",
       "    \n",
       "    \n",
       "            var map_61f218b9490055fd7cea040a99912ea8 = L.map(\n",
       "                &quot;map_61f218b9490055fd7cea040a99912ea8&quot;,\n",
       "                {\n",
       "                    center: [55.7558, 37.6173],\n",
       "                    crs: L.CRS.EPSG3857,\n",
       "                    ...{\n",
       "  &quot;zoom&quot;: 10,\n",
       "  &quot;zoomControl&quot;: true,\n",
       "  &quot;preferCanvas&quot;: false,\n",
       "}\n",
       "\n",
       "                }\n",
       "            );\n",
       "\n",
       "            \n",
       "\n",
       "        \n",
       "    \n",
       "            var tile_layer_92b8689e5b78adc4f0b74ec9acdec101 = L.tileLayer(\n",
       "                &quot;https://tile.openstreetmap.org/{z}/{x}/{y}.png&quot;,\n",
       "                {\n",
       "  &quot;minZoom&quot;: 0,\n",
       "  &quot;maxZoom&quot;: 19,\n",
       "  &quot;maxNativeZoom&quot;: 19,\n",
       "  &quot;noWrap&quot;: false,\n",
       "  &quot;attribution&quot;: &quot;\\u0026copy; \\u003ca href=\\&quot;https://www.openstreetmap.org/copyright\\&quot;\\u003eOpenStreetMap\\u003c/a\\u003e contributors&quot;,\n",
       "  &quot;subdomains&quot;: &quot;abc&quot;,\n",
       "  &quot;detectRetina&quot;: false,\n",
       "  &quot;tms&quot;: false,\n",
       "  &quot;opacity&quot;: 1,\n",
       "}\n",
       "\n",
       "            );\n",
       "        \n",
       "    \n",
       "            tile_layer_92b8689e5b78adc4f0b74ec9acdec101.addTo(map_61f218b9490055fd7cea040a99912ea8);\n",
       "        \n",
       "    \n",
       "            var circle_marker_c3230ee555eb97b189a3e48b5176a568 = L.circleMarker(\n",
       "                [55.7558, 37.6173],\n",
       "                {&quot;bubblingMouseEvents&quot;: true, &quot;color&quot;: &quot;blue&quot;, &quot;dashArray&quot;: null, &quot;dashOffset&quot;: null, &quot;fill&quot;: true, &quot;fillColor&quot;: &quot;blue&quot;, &quot;fillOpacity&quot;: 0.6, &quot;fillRule&quot;: &quot;evenodd&quot;, &quot;lineCap&quot;: &quot;round&quot;, &quot;lineJoin&quot;: &quot;round&quot;, &quot;opacity&quot;: 1.0, &quot;radius&quot;: 6, &quot;stroke&quot;: true, &quot;weight&quot;: 3}\n",
       "            ).addTo(map_61f218b9490055fd7cea040a99912ea8);\n",
       "        \n",
       "&lt;/script&gt;\n",
       "&lt;/html&gt;\" style=\"position:absolute;width:100%;height:100%;left:0;top:0;border:none !important;\" allowfullscreen webkitallowfullscreen mozallowfullscreen></iframe></div></div>"
      ],
      "text/plain": [
       "<folium.folium.Map at 0x2189f82c400>"
      ]
     },
     "execution_count": 64,
     "metadata": {},
     "output_type": "execute_result"
    }
   ],
   "source": [
    "m = folium.Map(location=[55.7558, 37.6173], zoom_start=10)\n",
    "\n",
    "# Если точка горячая, красный маркер, если нет — синий\n",
    "color = \"red\" if new_prediction[0] == 1 else \"blue\"\n",
    "\n",
    "folium.CircleMarker(\n",
    "    location=[new_data[\"COORD_L\"][0], new_data[\"COORD_W\"][0]],\n",
    "    radius=6,\n",
    "    color=color,\n",
    "    fill=True,\n",
    "    fill_color=color,\n",
    "    fill_opacity=0.6\n",
    ").add_to(m)\n",
    "\n",
    "m"
   ]
  },
  {
   "cell_type": "markdown",
   "id": "85e59a5b",
   "metadata": {},
   "source": [
    "Since the model is trained on both toll and non-toll roads, and includes the `'is_toll'` feature along with only those features related to the geographical location and road characteristics, it can be useful for predicting dangerous areas on new toll roads. Observations from non-toll roads, unlike toll roads, almost entirely cover the country's territory, which will allow the model to identify hotspots on a new toll road, even if it is geographically far from previously built toll highways.\n",
    "\n",
    "Let's check it! We will try to train the model on data excluding the toll road M-1 and see how well the model performs in identifying hotspots for this road."
   ]
  },
  {
   "cell_type": "code",
   "execution_count": null,
   "id": "56343857",
   "metadata": {},
   "outputs": [],
   "source": [
    "df_train = df[~df['dor'].str.contains('М-1', case=False, na=False)]\n",
    "X_train = df_train[features]\n",
    "y_train = np.where(df_train[\"cluster\"] != -1, 1, 0)  # 1 = hotspot, 0 = not hotspot\n",
    "\n",
    "df_m1 = df[df['dor'].str.contains('М-1', case=False, na=False)]\n",
    "X_test = df_m1[features]\n",
    "y_test = np.where(df_m1[\"cluster\"] != -1, 1, 0)  # 1 = hotspot, 0 = not hotspot"
   ]
  },
  {
   "cell_type": "code",
   "execution_count": 44,
   "id": "a673d504",
   "metadata": {},
   "outputs": [
    {
     "name": "stdout",
     "output_type": "stream",
     "text": [
      "Accuracy for М-1: 0.68481455563331\n",
      "F1 (macro) for М-1: 0.6166441473508499\n"
     ]
    }
   ],
   "source": [
    "rf_model = RandomForestClassifier(n_estimators=100, random_state=42)\n",
    "rf_model.fit(X_train, y_train)\n",
    "y_pred_m1 = rf_model.predict(X_test)\n",
    "\n",
    "accuracy = accuracy_score(y_test, y_pred_m1)\n",
    "f1_macro = f1_score(y_test, y_pred_m1, average='macro')\n",
    "\n",
    "print(\"Accuracy for М-1:\", accuracy)\n",
    "print(\"F1 (macro) for М-1:\", f1_macro)"
   ]
  }
 ],
 "metadata": {
  "kernelspec": {
   "display_name": "Python 3",
   "language": "python",
   "name": "python3"
  },
  "language_info": {
   "codemirror_mode": {
    "name": "ipython",
    "version": 3
   },
   "file_extension": ".py",
   "mimetype": "text/x-python",
   "name": "python",
   "nbconvert_exporter": "python",
   "pygments_lexer": "ipython3",
   "version": "3.9.7"
  }
 },
 "nbformat": 4,
 "nbformat_minor": 5
}
