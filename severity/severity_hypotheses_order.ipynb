{
 "cells": [
  {
   "cell_type": "code",
   "execution_count": null,
   "id": "94b25b0a",
   "metadata": {},
   "outputs": [],
   "source": [
    "import warnings\n",
    "import pandas as pd\n",
    "\n",
    "# settings\n",
    "pd.set_option('mode.chained_assignment', None)\n",
    "warnings.filterwarnings(\"ignore\", category=DeprecationWarning)\n",
    "\n",
    "# imbalance\n",
    "from imblearn.under_sampling import RandomUnderSampler\n",
    "from imblearn.over_sampling import RandomOverSampler\n",
    "\n",
    "# models\n",
    "from statsmodels.miscmodels.ordinal_model import OrderedModel"
   ]
  },
  {
   "cell_type": "code",
   "execution_count": 2,
   "id": "b664ec70",
   "metadata": {},
   "outputs": [
    {
     "name": "stdout",
     "output_type": "stream",
     "text": [
      "(440127, 75)\n"
     ]
    },
    {
     "data": {
      "text/html": [
       "<div>\n",
       "<style scoped>\n",
       "    .dataframe tbody tr th:only-of-type {\n",
       "        vertical-align: middle;\n",
       "    }\n",
       "\n",
       "    .dataframe tbody tr th {\n",
       "        vertical-align: top;\n",
       "    }\n",
       "\n",
       "    .dataframe thead th {\n",
       "        text-align: right;\n",
       "    }\n",
       "</style>\n",
       "<table border=\"1\" class=\"dataframe\">\n",
       "  <thead>\n",
       "    <tr style=\"text-align: right;\">\n",
       "      <th></th>\n",
       "      <th>REGION</th>\n",
       "      <th>DATE</th>\n",
       "      <th>COORD_L</th>\n",
       "      <th>COORD_W</th>\n",
       "      <th>road_name</th>\n",
       "      <th>road_category</th>\n",
       "      <th>n_VEHICLES</th>\n",
       "      <th>n_PARTICIPANTS</th>\n",
       "      <th>ID</th>\n",
       "      <th>n_DEATHS</th>\n",
       "      <th>...</th>\n",
       "      <th>severity</th>\n",
       "      <th>YEAR</th>\n",
       "      <th>MONTH</th>\n",
       "      <th>WEEKDAY</th>\n",
       "      <th>SEASON</th>\n",
       "      <th>is_WEEKEND</th>\n",
       "      <th>HOUR</th>\n",
       "      <th>is_NIGHT</th>\n",
       "      <th>is_PEAK_HOUR</th>\n",
       "      <th>is_toll</th>\n",
       "    </tr>\n",
       "  </thead>\n",
       "  <tbody>\n",
       "    <tr>\n",
       "      <th>0</th>\n",
       "      <td>1</td>\n",
       "      <td>31.01.2015</td>\n",
       "      <td>81.151944</td>\n",
       "      <td>53.740000</td>\n",
       "      <td>Романово - Завьялово - Баево - Камень-на-Оби</td>\n",
       "      <td>5.0</td>\n",
       "      <td>1</td>\n",
       "      <td>3</td>\n",
       "      <td>161242174</td>\n",
       "      <td>0</td>\n",
       "      <td>...</td>\n",
       "      <td>2</td>\n",
       "      <td>2015</td>\n",
       "      <td>1</td>\n",
       "      <td>5</td>\n",
       "      <td>1</td>\n",
       "      <td>1</td>\n",
       "      <td>9</td>\n",
       "      <td>0</td>\n",
       "      <td>1</td>\n",
       "      <td>0</td>\n",
       "    </tr>\n",
       "    <tr>\n",
       "      <th>1</th>\n",
       "      <td>1</td>\n",
       "      <td>30.01.2015</td>\n",
       "      <td>85.018056</td>\n",
       "      <td>51.684444</td>\n",
       "      <td>Куяган - Куяча - Тоурак</td>\n",
       "      <td>6.0</td>\n",
       "      <td>2</td>\n",
       "      <td>3</td>\n",
       "      <td>161105683</td>\n",
       "      <td>0</td>\n",
       "      <td>...</td>\n",
       "      <td>2</td>\n",
       "      <td>2015</td>\n",
       "      <td>1</td>\n",
       "      <td>4</td>\n",
       "      <td>1</td>\n",
       "      <td>0</td>\n",
       "      <td>14</td>\n",
       "      <td>0</td>\n",
       "      <td>0</td>\n",
       "      <td>0</td>\n",
       "    </tr>\n",
       "    <tr>\n",
       "      <th>2</th>\n",
       "      <td>1</td>\n",
       "      <td>30.01.2015</td>\n",
       "      <td>81.250000</td>\n",
       "      <td>53.818056</td>\n",
       "      <td>Барнаул - Камень-на-Оби - граница Новосибирско...</td>\n",
       "      <td>5.0</td>\n",
       "      <td>2</td>\n",
       "      <td>3</td>\n",
       "      <td>161763431</td>\n",
       "      <td>0</td>\n",
       "      <td>...</td>\n",
       "      <td>1</td>\n",
       "      <td>2015</td>\n",
       "      <td>1</td>\n",
       "      <td>4</td>\n",
       "      <td>1</td>\n",
       "      <td>0</td>\n",
       "      <td>17</td>\n",
       "      <td>0</td>\n",
       "      <td>1</td>\n",
       "      <td>0</td>\n",
       "    </tr>\n",
       "    <tr>\n",
       "      <th>3</th>\n",
       "      <td>1</td>\n",
       "      <td>24.01.2015</td>\n",
       "      <td>51.000000</td>\n",
       "      <td>84.000000</td>\n",
       "      <td>Быканов Мост - Солоновка - Солонешное - границ...</td>\n",
       "      <td>7.0</td>\n",
       "      <td>1</td>\n",
       "      <td>2</td>\n",
       "      <td>160331994</td>\n",
       "      <td>0</td>\n",
       "      <td>...</td>\n",
       "      <td>1</td>\n",
       "      <td>2015</td>\n",
       "      <td>1</td>\n",
       "      <td>5</td>\n",
       "      <td>1</td>\n",
       "      <td>1</td>\n",
       "      <td>19</td>\n",
       "      <td>0</td>\n",
       "      <td>0</td>\n",
       "      <td>0</td>\n",
       "    </tr>\n",
       "    <tr>\n",
       "      <th>4</th>\n",
       "      <td>1</td>\n",
       "      <td>23.01.2015</td>\n",
       "      <td>84.000000</td>\n",
       "      <td>53.000000</td>\n",
       "      <td>Быканов Мост - Солоновка - Солонешное - границ...</td>\n",
       "      <td>7.0</td>\n",
       "      <td>1</td>\n",
       "      <td>2</td>\n",
       "      <td>160213415</td>\n",
       "      <td>1</td>\n",
       "      <td>...</td>\n",
       "      <td>3</td>\n",
       "      <td>2015</td>\n",
       "      <td>1</td>\n",
       "      <td>4</td>\n",
       "      <td>1</td>\n",
       "      <td>0</td>\n",
       "      <td>21</td>\n",
       "      <td>0</td>\n",
       "      <td>0</td>\n",
       "      <td>0</td>\n",
       "    </tr>\n",
       "  </tbody>\n",
       "</table>\n",
       "<p>5 rows × 75 columns</p>\n",
       "</div>"
      ],
      "text/plain": [
       "   REGION        DATE    COORD_L    COORD_W  \\\n",
       "0       1  31.01.2015  81.151944  53.740000   \n",
       "1       1  30.01.2015  85.018056  51.684444   \n",
       "2       1  30.01.2015  81.250000  53.818056   \n",
       "3       1  24.01.2015  51.000000  84.000000   \n",
       "4       1  23.01.2015  84.000000  53.000000   \n",
       "\n",
       "                                           road_name  road_category  \\\n",
       "0       Романово - Завьялово - Баево - Камень-на-Оби            5.0   \n",
       "1                            Куяган - Куяча - Тоурак            6.0   \n",
       "2  Барнаул - Камень-на-Оби - граница Новосибирско...            5.0   \n",
       "3  Быканов Мост - Солоновка - Солонешное - границ...            7.0   \n",
       "4  Быканов Мост - Солоновка - Солонешное - границ...            7.0   \n",
       "\n",
       "   n_VEHICLES  n_PARTICIPANTS         ID  n_DEATHS  ...  severity  YEAR  \\\n",
       "0           1               3  161242174         0  ...         2  2015   \n",
       "1           2               3  161105683         0  ...         2  2015   \n",
       "2           2               3  161763431         0  ...         1  2015   \n",
       "3           1               2  160331994         0  ...         1  2015   \n",
       "4           1               2  160213415         1  ...         3  2015   \n",
       "\n",
       "   MONTH  WEEKDAY  SEASON  is_WEEKEND  HOUR  is_NIGHT  is_PEAK_HOUR  is_toll  \n",
       "0      1        5       1           1     9         0             1        0  \n",
       "1      1        4       1           0    14         0             0        0  \n",
       "2      1        4       1           0    17         0             1        0  \n",
       "3      1        5       1           1    19         0             0        0  \n",
       "4      1        4       1           0    21         0             0        0  \n",
       "\n",
       "[5 rows x 75 columns]"
      ]
     },
     "execution_count": 2,
     "metadata": {},
     "output_type": "execute_result"
    }
   ],
   "source": [
    "df = pd.read_csv(\"C:/Users/Настя/YandexDisk-n4skolesnikova/HSE 4th year/Graduation Thesis/data/ACCIDENT_LEVEL_DATA.csv\")\n",
    "df = df.drop('Unnamed: 0', axis=1)\n",
    "print(df.shape)\n",
    "df.head()"
   ]
  },
  {
   "cell_type": "code",
   "execution_count": 3,
   "id": "27853ec6",
   "metadata": {},
   "outputs": [
    {
     "data": {
      "text/plain": [
       "Index(['REGION', 'DATE', 'COORD_L', 'COORD_W', 'road_name', 'road_category',\n",
       "       'n_VEHICLES', 'n_PARTICIPANTS', 'ID', 'n_DEATHS', 'n_INJURED',\n",
       "       'vehicle_failure', 'non_private_vehicle', 'russian_vehicle',\n",
       "       'white_vehicle', 'black_vehicle', 'colored_vehicle', 'drunk_driver',\n",
       "       'female_driver', 'escaped', 'no_seatbelt_injury', 'n_drunk',\n",
       "       'n_children', 'n_cyclists', 'n_pedestrians', 'vehicle_age_min',\n",
       "       'vehicle_age_max', 'vehicle_age_avg', 'n_class_a', 'n_class_b',\n",
       "       'n_class_c', 'n_class_d', 'n_class_e', 'n_class_s', 'n_front_drive',\n",
       "       'n_rear_drive', 'n_4wd', 'n_guilty', 'guilty_share',\n",
       "       'n_fatal_violations', 'guilty_exp_avg', 'exp_avg', 'road_rank_cat',\n",
       "       'road_defects_cat', 'traffic_changes_cat', 'road_surface_cat',\n",
       "       'TYPE_cat', 'street_rank_cat', 'weather_cat', 'adj_objects_cat',\n",
       "       'cause_factors_cat', 'crossing_violation', 'impaired_driving',\n",
       "       'interference_violation', 'license_violation', 'maneuver_violation',\n",
       "       'other_violation', 'pedestrian_violation',\n",
       "       'sudden_appearance_violation', 'traffic_control_violation',\n",
       "       'transport_violation', 'vehicle_tech_violation', 'wrong_way',\n",
       "       'lighting_cat', 'site_objects_cat', 'severity', 'YEAR', 'MONTH',\n",
       "       'WEEKDAY', 'SEASON', 'is_WEEKEND', 'HOUR', 'is_NIGHT', 'is_PEAK_HOUR',\n",
       "       'is_toll'],\n",
       "      dtype='object')"
      ]
     },
     "execution_count": 3,
     "metadata": {},
     "output_type": "execute_result"
    }
   ],
   "source": [
    "df.columns"
   ]
  },
  {
   "cell_type": "code",
   "execution_count": null,
   "id": "663f26f2",
   "metadata": {},
   "outputs": [],
   "source": [
    "# were created for panel dataset, not to accident level data\n",
    "features_to_drop = ['no_lighting', 'adj_objects_interpretable', 'weather_interpretable', 'traffic_changes_bin']\n",
    "df.drop(features_to_drop, axis=1, inplace=True)"
   ]
  },
  {
   "cell_type": "code",
   "execution_count": 4,
   "id": "ca2d7e22",
   "metadata": {},
   "outputs": [
    {
     "name": "stdout",
     "output_type": "stream",
     "text": [
      "Final check for the gaps: 0 gaps\n"
     ]
    }
   ],
   "source": [
    "print(f\"Final check for the gaps: {df.isna().any().sum()} gaps\")"
   ]
  },
  {
   "cell_type": "markdown",
   "id": "04d6e904",
   "metadata": {},
   "source": [
    "### Hypothesis 2.1: \n",
    "#### «The probability of a more severe outcome of traffic accidents is higher on toll roads than on alternative free roads»\n",
    "\n",
    "\n",
    "### Hypothesis 2.2: \n",
    "#### «The factors influencing the severity of traffic accidents differ for toll and free roads»\n",
    "\n",
    "----"
   ]
  },
  {
   "cell_type": "code",
   "execution_count": 5,
   "id": "20e12886",
   "metadata": {},
   "outputs": [
    {
     "data": {
      "text/plain": [
       "array([2, 1, 3], dtype=int64)"
      ]
     },
     "execution_count": 5,
     "metadata": {},
     "output_type": "execute_result"
    }
   ],
   "source": [
    "df['severity'].unique()"
   ]
  },
  {
   "cell_type": "markdown",
   "id": "9c7b251f",
   "metadata": {},
   "source": [
    "A slight reminder about the encoding of the \"severity\" feature before testing the hypotheses: light injuries - 1, medium injuries - 2, severe injuries - 3."
   ]
  },
  {
   "cell_type": "code",
   "execution_count": 6,
   "id": "5e073903",
   "metadata": {},
   "outputs": [],
   "source": [
    "df_hypoth = df.copy()"
   ]
  },
  {
   "cell_type": "markdown",
   "id": "e54e330b",
   "metadata": {},
   "source": [
    "# Econometrics\n",
    "\n",
    "## Analysis of features"
   ]
  },
  {
   "cell_type": "code",
   "execution_count": null,
   "id": "6bc1748c",
   "metadata": {},
   "outputs": [],
   "source": [
    "features_to_drop = [\n",
    "    'vehicle_age_min',\n",
    "    'vehicle_age_max',\n",
    "    'guilty_exp_avg',\n",
    "    'n_VEHICLES',\n",
    "    'WEEKDAY',\n",
    "    'n_drunk',\n",
    "    'n_PARTICIPANTS',\n",
    "    'vehicle_failure',\n",
    "    'drunk_driver',\n",
    "    'MONTH'\n",
    "]\n",
    "\n",
    "df_hypoth.drop(features_to_drop, axis=1, inplace=True)"
   ]
  },
  {
   "cell_type": "markdown",
   "id": "03aab8b2",
   "metadata": {},
   "source": [
    "## Multinomial Logit (MNL) regression"
   ]
  },
  {
   "cell_type": "markdown",
   "id": "fc9ab085",
   "metadata": {},
   "source": [
    "Let's talk about the different model specifications that we will use to test the hypotheses.\n",
    "\n",
    "**1. Base Model (`severity ~ is_toll`)**  \n",
    "The initial specification includes only the `is_toll` variable to assess its direct relationship with accident severity without the influence of other factors. This simple model provides insight into the \"raw\" effect of toll roads and tests whether there is a statistically significant difference between accidents on toll and free roads. Although the results of this model may be biased due to unaccounted variables, it serves as an important starting point for hypothesis testing.\n",
    "\n",
    "**2. Geographic and Road Specifications (`+ road_category + road_rank_cat + site_objects_cat + adj_objects_cat`)**  \n",
    "In the second model, we add road type and category characteristics, as well as objects located along the roads. These features are necessary to rule out situations where accident severity is explained not by the toll status of the road, but, for example, by a higher class of the road or the specifics of the road infrastructure. By controlling for these factors, we check whether the `is_toll` effect remains robust when considering the possible structural differences between toll and free roads.\n",
    "\n",
    "**3. Incident Condition Model (`+ weather_cat + lighting_cat + road_surface_cat + ...`)**  \n",
    "The third model controls for external conditions at the time of the accident: weather factors, lighting, road surface condition, seasonality, and time characteristics. These variables are directly related to the probability of severe outcomes and may be unevenly distributed between toll and free roads. By adding them to the model, we minimize the risk of misinterpreting the `is_toll` effect, for example, due to frequent night-time accidents or precipitation on certain types of roads.\n",
    "\n",
    "**4. Behavioral Model (`+ license_violation + impaired_driving + ...`)**  \n",
    "The fourth specification focuses on the behavior of the participants in the accidents and the consequences of the accidents themselves. Variables such as the presence of violations, impaired driving, and the number of casualties reflect the immediate causes of accident severity. If the `is_toll` variable remains significant even after including these features, it indicates that its influence is not mediated solely by driver behavior but has an independent effect.\n",
    "\n",
    "**5. Full Model (all control variables)**  \n",
    "The fifth model combines all the previous blocks of features into one specification, creating the most comprehensive and rigorous test of the hypothesis. This model allows us to evaluate whether the toll road effect persists after simultaneously controlling for geographic, behavioral, infrastructure, and weather conditions. If the `is_toll` variable remains statistically significant and positively correlated with accident severity, it suggests a strong and reliable effect, supporting the original hypothesis."
   ]
  },
  {
   "cell_type": "markdown",
   "id": "5d3abcd6",
   "metadata": {},
   "source": [
    "#### Class `'is_toll'` imbalance"
   ]
  },
  {
   "cell_type": "markdown",
   "id": "01e75ac3",
   "metadata": {},
   "source": [
    "Earlier, a class imbalance was found in the `'is_toll'` variable: the positive class makes up less than 7% of the entire dataset. Therefore, the results of hypothesis testing on such data will not be representative.  \n",
    "To address the class imbalance problem, we will try three methods:\n",
    "\n",
    "0. Without balancing\n",
    "1. Balancing using undersampling  \n",
    "2. Balancing using class weighting"
   ]
  },
  {
   "cell_type": "code",
   "execution_count": null,
   "id": "155eeb4f",
   "metadata": {},
   "outputs": [],
   "source": [
    "df_hypoth['severity'] = pd.Categorical(df_hypoth['severity'], ordered=True)"
   ]
  },
  {
   "cell_type": "markdown",
   "id": "fabfc404",
   "metadata": {},
   "source": [
    "### (0). Without balancing"
   ]
  },
  {
   "cell_type": "code",
   "execution_count": 9,
   "id": "b4eec88e",
   "metadata": {},
   "outputs": [
    {
     "name": "stdout",
     "output_type": "stream",
     "text": [
      "Optimization terminated successfully.\n",
      "         Current function value: 1.028197\n",
      "         Iterations: 7\n",
      "         Function evaluations: 10\n",
      "         Gradient evaluations: 10\n",
      "\n",
      "1. Ordered Logit model:\n",
      "                             OrderedModel Results                             \n",
      "==============================================================================\n",
      "Dep. Variable:               severity   Log-Likelihood:            -4.5254e+05\n",
      "Model:                   OrderedModel   AIC:                         9.051e+05\n",
      "Method:            Maximum Likelihood   BIC:                         9.051e+05\n",
      "Date:                Sat, 03 May 2025                                         \n",
      "Time:                        04:48:56                                         \n",
      "No. Observations:              440127                                         \n",
      "Df Residuals:                  440124                                         \n",
      "Df Model:                           1                                         \n",
      "==============================================================================\n",
      "                 coef    std err          z      P>|z|      [0.025      0.975]\n",
      "------------------------------------------------------------------------------\n",
      "is_toll        0.1437      0.011     12.780      0.000       0.122       0.166\n",
      "1/2           -0.2313      0.003    -73.942      0.000      -0.237      -0.225\n",
      "2/3            0.6087      0.002    282.462      0.000       0.605       0.613\n",
      "==============================================================================\n"
     ]
    }
   ],
   "source": [
    "X = df_hypoth[['is_toll']]\n",
    "y = df_hypoth['severity']\n",
    "\n",
    "model = OrderedModel(y, X, distr='logit')\n",
    "result = model.fit(method='bfgs')\n",
    "\n",
    "print(\"\\n1. Ordered Logit model:\")\n",
    "print(result.summary())"
   ]
  },
  {
   "cell_type": "code",
   "execution_count": 12,
   "id": "09b76c28",
   "metadata": {},
   "outputs": [
    {
     "name": "stdout",
     "output_type": "stream",
     "text": [
      "Optimization terminated successfully.\n",
      "         Current function value: 1.023711\n",
      "         Iterations: 24\n",
      "         Function evaluations: 27\n",
      "         Gradient evaluations: 27\n",
      "\n",
      "2. Geographical and road specification:\n",
      "\n",
      "                             OrderedModel Results                             \n",
      "==============================================================================\n",
      "Dep. Variable:               severity   Log-Likelihood:            -4.5056e+05\n",
      "Model:                   OrderedModel   AIC:                         9.011e+05\n",
      "Method:            Maximum Likelihood   BIC:                         9.012e+05\n",
      "Date:                Sat, 03 May 2025                                         \n",
      "Time:                        04:59:31                                         \n",
      "No. Observations:              440127                                         \n",
      "Df Residuals:                  440119                                         \n",
      "Df Model:                           6                                         \n",
      "====================================================================================\n",
      "                       coef    std err          z      P>|z|      [0.025      0.975]\n",
      "------------------------------------------------------------------------------------\n",
      "is_toll              0.2383      0.012     19.902      0.000       0.215       0.262\n",
      "road_category        0.0573      0.002     28.713      0.000       0.053       0.061\n",
      "road_rank_cat        0.0179      0.004      4.646      0.000       0.010       0.026\n",
      "site_objects_cat     0.0389      0.001     34.784      0.000       0.037       0.041\n",
      "adj_objects_cat      0.0003      0.001      0.193      0.847      -0.003       0.003\n",
      "street_rank_cat     -0.0579      0.002    -35.449      0.000      -0.061      -0.055\n",
      "1/2                  0.4432      0.023     19.648      0.000       0.399       0.487\n",
      "2/3                  0.6153      0.002    285.408      0.000       0.611       0.620\n",
      "====================================================================================\n"
     ]
    }
   ],
   "source": [
    "X = df_hypoth[['is_toll', 'road_category', 'road_rank_cat', 'site_objects_cat', 'adj_objects_cat', 'street_rank_cat']]\n",
    "y = df_hypoth['severity']\n",
    "\n",
    "model = OrderedModel(y, X, distr='logit')\n",
    "result = model.fit(method='bfgs')\n",
    "\n",
    "print('\\n2. Geographical and road specification:\\n')\n",
    "print(result.summary())"
   ]
  },
  {
   "cell_type": "code",
   "execution_count": 13,
   "id": "717204e0",
   "metadata": {},
   "outputs": [
    {
     "name": "stdout",
     "output_type": "stream",
     "text": [
      "Optimization terminated successfully.\n",
      "         Current function value: 1.020381\n",
      "         Iterations: 46\n",
      "         Function evaluations: 49\n",
      "         Gradient evaluations: 49\n",
      "\n",
      "3. Model of incident conditions:\n",
      "\n",
      "                             OrderedModel Results                             \n",
      "==============================================================================\n",
      "Dep. Variable:               severity   Log-Likelihood:            -4.4910e+05\n",
      "Model:                   OrderedModel   AIC:                         8.982e+05\n",
      "Method:            Maximum Likelihood   BIC:                         8.984e+05\n",
      "Date:                Sat, 03 May 2025                                         \n",
      "Time:                        05:04:25                                         \n",
      "No. Observations:              440127                                         \n",
      "Df Residuals:                  440115                                         \n",
      "Df Model:                          10                                         \n",
      "=======================================================================================\n",
      "                          coef    std err          z      P>|z|      [0.025      0.975]\n",
      "---------------------------------------------------------------------------------------\n",
      "is_toll                 0.0942      0.011      8.331      0.000       0.072       0.116\n",
      "weather_cat            -0.0189      0.003     -6.219      0.000      -0.025      -0.013\n",
      "lighting_cat            0.0421      0.003     16.080      0.000       0.037       0.047\n",
      "road_surface_cat        0.0315      0.002     20.026      0.000       0.028       0.035\n",
      "traffic_changes_cat    -0.3552      0.006    -58.186      0.000      -0.367      -0.343\n",
      "is_NIGHT                0.3222      0.009     37.544      0.000       0.305       0.339\n",
      "is_PEAK_HOUR           -0.0177      0.006     -2.749      0.006      -0.030      -0.005\n",
      "is_WEEKEND              0.0022      0.006      0.367      0.713      -0.010       0.014\n",
      "SEASON                  0.0123      0.003      4.634      0.000       0.007       0.018\n",
      "cause_factors_cat       0.0213      0.001     16.468      0.000       0.019       0.024\n",
      "1/2                    -0.2530      0.027     -9.225      0.000      -0.307      -0.199\n",
      "2/3                     0.6209      0.002    287.679      0.000       0.617       0.625\n",
      "=======================================================================================\n"
     ]
    }
   ],
   "source": [
    "X = df_hypoth[['is_toll', 'weather_cat', 'lighting_cat', 'road_surface_cat', 'traffic_changes_cat', 'is_NIGHT', 'is_PEAK_HOUR', 'is_WEEKEND', 'SEASON', 'cause_factors_cat']]\n",
    "y = df_hypoth['severity']\n",
    "\n",
    "model = OrderedModel(y, X, distr='logit')\n",
    "result = model.fit(method='bfgs')\n",
    "\n",
    "print('\\n3. Model of incident conditions:\\n')\n",
    "print(result.summary())"
   ]
  },
  {
   "cell_type": "code",
   "execution_count": 14,
   "id": "520f9444",
   "metadata": {},
   "outputs": [
    {
     "name": "stdout",
     "output_type": "stream",
     "text": [
      "Optimization terminated successfully.\n",
      "         Current function value: 0.992985\n",
      "         Iterations: 84\n",
      "         Function evaluations: 85\n",
      "         Gradient evaluations: 85\n",
      "\n",
      "4. Behavioral model:\n",
      "\n",
      "                             OrderedModel Results                             \n",
      "==============================================================================\n",
      "Dep. Variable:               severity   Log-Likelihood:            -4.3704e+05\n",
      "Model:                   OrderedModel   AIC:                         8.741e+05\n",
      "Method:            Maximum Likelihood   BIC:                         8.743e+05\n",
      "Date:                Sat, 03 May 2025                                         \n",
      "Time:                        05:14:11                                         \n",
      "No. Observations:              440127                                         \n",
      "Df Residuals:                  440112                                         \n",
      "Df Model:                          13                                         \n",
      "===============================================================================================\n",
      "                                  coef    std err          z      P>|z|      [0.025      0.975]\n",
      "-----------------------------------------------------------------------------------------------\n",
      "is_toll                         0.3346      0.011     29.253      0.000       0.312       0.357\n",
      "wrong_way                       0.4373      0.008     55.446      0.000       0.422       0.453\n",
      "pedestrian_violation            1.2783      0.030     43.148      0.000       1.220       1.336\n",
      "impaired_driving                0.5732      0.008     71.222      0.000       0.557       0.589\n",
      "maneuver_violation             -0.2535      0.008    -30.045      0.000      -0.270      -0.237\n",
      "traffic_control_violation       0.0431      0.008      5.175      0.000       0.027       0.059\n",
      "license_violation               0.1616      0.010     16.513      0.000       0.142       0.181\n",
      "transport_violation             0.7265      0.010     75.348      0.000       0.708       0.745\n",
      "crossing_violation              0.6134      0.021     28.925      0.000       0.572       0.655\n",
      "interference_violation          0.1994      0.027      7.383      0.000       0.146       0.252\n",
      "sudden_appearance_violation     0.8265      0.033     25.389      0.000       0.763       0.890\n",
      "other_violation                 0.0036      0.006      0.552      0.581      -0.009       0.016\n",
      "n_guilty                        0.1988      0.018     11.152      0.000       0.164       0.234\n",
      "1/2                             0.2787      0.019     14.431      0.000       0.241       0.317\n",
      "2/3                             0.6656      0.002    305.995      0.000       0.661       0.670\n",
      "===============================================================================================\n"
     ]
    }
   ],
   "source": [
    "X = df_hypoth[['is_toll', 'wrong_way', 'pedestrian_violation', 'impaired_driving', 'maneuver_violation', 'traffic_control_violation', 'license_violation', \n",
    "               'transport_violation', 'crossing_violation', 'interference_violation', 'sudden_appearance_violation', 'other_violation', 'n_guilty']]\n",
    "y = df_hypoth['severity']\n",
    "\n",
    "model = OrderedModel(y, X, distr='logit')\n",
    "result = model.fit(method='bfgs')\n",
    "\n",
    "print('\\n4. Behavioral model:\\n')\n",
    "print(result.summary())"
   ]
  },
  {
   "cell_type": "code",
   "execution_count": 15,
   "id": "f127b0c5",
   "metadata": {},
   "outputs": [
    {
     "name": "stdout",
     "output_type": "stream",
     "text": [
      "Optimization terminated successfully.\n",
      "         Current function value: 0.981128\n",
      "         Iterations: 118\n",
      "         Function evaluations: 121\n",
      "         Gradient evaluations: 121\n",
      "\n",
      "5. Full model (all control variables):\n",
      "\n",
      "                             OrderedModel Results                             \n",
      "==============================================================================\n",
      "Dep. Variable:               severity   Log-Likelihood:            -4.3182e+05\n",
      "Model:                   OrderedModel   AIC:                         8.637e+05\n",
      "Method:            Maximum Likelihood   BIC:                         8.641e+05\n",
      "Date:                Sat, 03 May 2025                                         \n",
      "Time:                        05:31:53                                         \n",
      "No. Observations:              440127                                         \n",
      "Df Residuals:                  440094                                         \n",
      "Df Model:                          31                                         \n",
      "===============================================================================================\n",
      "                                  coef    std err          z      P>|z|      [0.025      0.975]\n",
      "-----------------------------------------------------------------------------------------------\n",
      "is_toll                         0.2981      0.012     24.482      0.000       0.274       0.322\n",
      "road_category                   0.0357      0.002     17.114      0.000       0.032       0.040\n",
      "road_rank_cat                   0.0421      0.004     10.585      0.000       0.034       0.050\n",
      "site_objects_cat                0.0241      0.001     20.121      0.000       0.022       0.026\n",
      "adj_objects_cat                 0.0115      0.001      7.943      0.000       0.009       0.014\n",
      "weather_cat                    -0.0156      0.003     -5.042      0.000      -0.022      -0.010\n",
      "lighting_cat                    0.0140      0.003      5.208      0.000       0.009       0.019\n",
      "road_surface_cat                0.0330      0.002     20.279      0.000       0.030       0.036\n",
      "traffic_changes_cat            -0.4211      0.007    -63.418      0.000      -0.434      -0.408\n",
      "is_NIGHT                        0.2007      0.009     22.652      0.000       0.183       0.218\n",
      "is_PEAK_HOUR                   -0.0044      0.007     -0.673      0.501      -0.017       0.008\n",
      "is_WEEKEND                     -0.0215      0.006     -3.485      0.000      -0.034      -0.009\n",
      "SEASON                          0.0119      0.003      4.403      0.000       0.007       0.017\n",
      "wrong_way                       0.2289      0.010     22.761      0.000       0.209       0.249\n",
      "pedestrian_violation            1.2510      0.032     39.423      0.000       1.189       1.313\n",
      "impaired_driving                0.4137      0.010     40.744      0.000       0.394       0.434\n",
      "maneuver_violation             -0.5501      0.011    -48.757      0.000      -0.572      -0.528\n",
      "traffic_control_violation      -0.0629      0.010     -6.200      0.000      -0.083      -0.043\n",
      "license_violation              -0.1677      0.019     -9.008      0.000      -0.204      -0.131\n",
      "transport_violation             0.5508      0.014     39.633      0.000       0.524       0.578\n",
      "crossing_violation              0.4538      0.023     19.611      0.000       0.408       0.499\n",
      "interference_violation          0.0179      0.028      0.645      0.519      -0.037       0.072\n",
      "sudden_appearance_violation     0.5149      0.033     15.441      0.000       0.450       0.580\n",
      "other_violation                -0.1766      0.010    -18.202      0.000      -0.196      -0.158\n",
      "TYPE_cat                       -0.0251      0.002    -11.419      0.000      -0.029      -0.021\n",
      "exp_avg                         0.0029      0.000     12.822      0.000       0.002       0.003\n",
      "guilty_share                   -0.4694      0.014    -34.570      0.000      -0.496      -0.443\n",
      "n_fatal_violations              0.1367      0.006     22.771      0.000       0.125       0.148\n",
      "n_INJURED                      -0.1179      0.003    -39.848      0.000      -0.124      -0.112\n",
      "cause_factors_cat               0.0159      0.001     12.026      0.000       0.013       0.018\n",
      "n_guilty                        0.3344      0.019     17.464      0.000       0.297       0.372\n",
      "1/2                             0.0661      0.043      1.531      0.126      -0.019       0.151\n",
      "2/3                             0.6849      0.002    314.030      0.000       0.681       0.689\n",
      "===============================================================================================\n"
     ]
    }
   ],
   "source": [
    "X = df_hypoth[['is_toll', 'road_category', 'road_rank_cat', 'site_objects_cat', 'adj_objects_cat', \n",
    "               'weather_cat', 'lighting_cat', 'road_surface_cat', 'traffic_changes_cat', 'is_NIGHT', 'is_PEAK_HOUR', 'is_WEEKEND', 'SEASON', \n",
    "               'wrong_way', 'pedestrian_violation', 'impaired_driving', 'maneuver_violation', 'traffic_control_violation', 'license_violation', \n",
    "               'transport_violation', 'crossing_violation', 'interference_violation', 'sudden_appearance_violation', 'other_violation', \n",
    "               'TYPE_cat', 'exp_avg', 'guilty_share', 'n_fatal_violations', 'n_INJURED', 'cause_factors_cat', 'n_guilty']]\n",
    "y = df_hypoth['severity']\n",
    "\n",
    "model = OrderedModel(y, X, distr='logit')\n",
    "result = model.fit(method='bfgs')\n",
    "\n",
    "print('\\n5. Full model (all control variables):\\n')\n",
    "print(result.summary())"
   ]
  },
  {
   "cell_type": "markdown",
   "id": "e23f80d4",
   "metadata": {},
   "source": [
    "### (1). Undersampling"
   ]
  },
  {
   "cell_type": "code",
   "execution_count": 18,
   "id": "11526f82",
   "metadata": {},
   "outputs": [
    {
     "data": {
      "text/plain": [
       "(59080, 63)"
      ]
     },
     "execution_count": 18,
     "metadata": {},
     "output_type": "execute_result"
    }
   ],
   "source": [
    "X = df_hypoth.drop(columns=[\"is_toll\"])\n",
    "y = df_hypoth[\"is_toll\"]\n",
    "\n",
    "rus = RandomUnderSampler(random_state=42)\n",
    "X_resampled, y_resampled = rus.fit_resample(X, y)\n",
    "\n",
    "df_balanced = pd.concat([X_resampled, y_resampled], axis=1)\n",
    "df_balanced.shape"
   ]
  },
  {
   "cell_type": "code",
   "execution_count": 21,
   "id": "921f3c69",
   "metadata": {},
   "outputs": [
    {
     "name": "stdout",
     "output_type": "stream",
     "text": [
      "Optimization terminated successfully.\n",
      "         Current function value: 0.988753\n",
      "         Iterations: 122\n",
      "         Function evaluations: 126\n",
      "         Gradient evaluations: 126\n",
      "\n",
      "5. Full model (undersampling):\n",
      "\n",
      "                             OrderedModel Results                             \n",
      "==============================================================================\n",
      "Dep. Variable:               severity   Log-Likelihood:                -58416.\n",
      "Model:                   OrderedModel   AIC:                         1.169e+05\n",
      "Method:            Maximum Likelihood   BIC:                         1.172e+05\n",
      "Date:                Sat, 03 May 2025                                         \n",
      "Time:                        05:40:27                                         \n",
      "No. Observations:               59080                                         \n",
      "Df Residuals:                   59047                                         \n",
      "Df Model:                          31                                         \n",
      "===============================================================================================\n",
      "                                  coef    std err          z      P>|z|      [0.025      0.975]\n",
      "-----------------------------------------------------------------------------------------------\n",
      "is_toll                         0.2904      0.020     14.254      0.000       0.250       0.330\n",
      "road_category                   0.0322      0.005      5.966      0.000       0.022       0.043\n",
      "road_rank_cat                   0.0614      0.014      4.432      0.000       0.034       0.088\n",
      "site_objects_cat                0.0283      0.003      8.730      0.000       0.022       0.035\n",
      "adj_objects_cat                 0.0120      0.004      3.247      0.001       0.005       0.019\n",
      "weather_cat                     0.0118      0.009      1.339      0.180      -0.005       0.029\n",
      "lighting_cat                    0.0126      0.007      1.751      0.080      -0.002       0.027\n",
      "road_surface_cat                0.0248      0.005      5.279      0.000       0.016       0.034\n",
      "traffic_changes_cat            -0.3439      0.017    -19.800      0.000      -0.378      -0.310\n",
      "is_NIGHT                        0.2405      0.023     10.300      0.000       0.195       0.286\n",
      "is_PEAK_HOUR                    0.0115      0.018      0.638      0.523      -0.024       0.047\n",
      "is_WEEKEND                     -0.0335      0.017     -1.988      0.047      -0.066      -0.000\n",
      "SEASON                          0.0140      0.007      1.907      0.057      -0.000       0.028\n",
      "wrong_way                       0.1940      0.029      6.700      0.000       0.137       0.251\n",
      "pedestrian_violation            1.2931      0.087     14.918      0.000       1.123       1.463\n",
      "impaired_driving                0.2983      0.030      9.800      0.000       0.239       0.358\n",
      "maneuver_violation             -0.6402      0.031    -20.602      0.000      -0.701      -0.579\n",
      "traffic_control_violation      -0.1376      0.029     -4.757      0.000      -0.194      -0.081\n",
      "license_violation              -0.1734      0.054     -3.228      0.001      -0.279      -0.068\n",
      "transport_violation             0.3841      0.040      9.650      0.000       0.306       0.462\n",
      "crossing_violation              0.5337      0.064      8.347      0.000       0.408       0.659\n",
      "interference_violation         -0.0604      0.069     -0.880      0.379      -0.195       0.074\n",
      "sudden_appearance_violation     0.4580      0.100      4.593      0.000       0.263       0.653\n",
      "other_violation                -0.2684      0.027     -9.910      0.000      -0.321      -0.215\n",
      "TYPE_cat                       -0.0101      0.006     -1.670      0.095      -0.022       0.002\n",
      "exp_avg                         0.0025      0.001      3.632      0.000       0.001       0.004\n",
      "guilty_share                   -0.5324      0.036    -14.747      0.000      -0.603      -0.462\n",
      "n_fatal_violations              0.2282      0.017     13.084      0.000       0.194       0.262\n",
      "n_INJURED                      -0.1237      0.008    -15.785      0.000      -0.139      -0.108\n",
      "cause_factors_cat               0.0100      0.004      2.773      0.006       0.003       0.017\n",
      "n_guilty                        0.4272      0.053      8.105      0.000       0.324       0.531\n",
      "1/2                             0.4403      0.121      3.626      0.000       0.202       0.678\n",
      "2/3                             0.6943      0.006    118.551      0.000       0.683       0.706\n",
      "===============================================================================================\n"
     ]
    }
   ],
   "source": [
    "X = df_balanced[['is_toll', 'road_category', 'road_rank_cat', 'site_objects_cat', 'adj_objects_cat', \n",
    "               'weather_cat', 'lighting_cat', 'road_surface_cat', 'traffic_changes_cat', 'is_NIGHT', 'is_PEAK_HOUR', 'is_WEEKEND', 'SEASON', \n",
    "               'wrong_way', 'pedestrian_violation', 'impaired_driving', 'maneuver_violation', 'traffic_control_violation', 'license_violation', \n",
    "               'transport_violation', 'crossing_violation', 'interference_violation', 'sudden_appearance_violation', 'other_violation', \n",
    "               'TYPE_cat', 'exp_avg', 'guilty_share', 'n_fatal_violations', 'n_INJURED', 'cause_factors_cat', 'n_guilty']]\n",
    "y = df_balanced['severity']\n",
    "\n",
    "model = OrderedModel(y, X, distr='logit')\n",
    "result = model.fit(method='bfgs')\n",
    "\n",
    "print('\\n5. Full model (undersampling):\\n')\n",
    "print(result.summary())"
   ]
  },
  {
   "cell_type": "markdown",
   "id": "9c0a4ba1",
   "metadata": {},
   "source": [
    "### (2). Sample weights"
   ]
  },
  {
   "cell_type": "code",
   "execution_count": 24,
   "id": "fb68c37f",
   "metadata": {},
   "outputs": [
    {
     "data": {
      "text/plain": [
       "(821174, 63)"
      ]
     },
     "execution_count": 24,
     "metadata": {},
     "output_type": "execute_result"
    }
   ],
   "source": [
    "X = df_hypoth.drop(columns=[\"is_toll\"])\n",
    "y = df_hypoth[\"is_toll\"]\n",
    "\n",
    "ros = RandomOverSampler(random_state=42)\n",
    "X_resampled, y_resampled = ros.fit_resample(X, y)\n",
    "\n",
    "df_weighted = pd.concat([X_resampled, y_resampled], axis=1)\n",
    "df_weighted.shape"
   ]
  },
  {
   "cell_type": "code",
   "execution_count": 25,
   "id": "b982592d",
   "metadata": {},
   "outputs": [
    {
     "name": "stdout",
     "output_type": "stream",
     "text": [
      "Optimization terminated successfully.\n",
      "         Current function value: 0.990017\n",
      "         Iterations: 121\n",
      "         Function evaluations: 125\n",
      "         Gradient evaluations: 125\n",
      "\n",
      "5. Full model (undersampling):\n",
      "\n",
      "                             OrderedModel Results                             \n",
      "==============================================================================\n",
      "Dep. Variable:               severity   Log-Likelihood:            -8.1298e+05\n",
      "Model:                   OrderedModel   AIC:                         1.626e+06\n",
      "Method:            Maximum Likelihood   BIC:                         1.626e+06\n",
      "Date:                Sat, 03 May 2025                                         \n",
      "Time:                        06:30:14                                         \n",
      "No. Observations:              821174                                         \n",
      "Df Residuals:                  821141                                         \n",
      "Df Model:                          31                                         \n",
      "===============================================================================================\n",
      "                                  coef    std err          z      P>|z|      [0.025      0.975]\n",
      "-----------------------------------------------------------------------------------------------\n",
      "is_toll                         0.2955      0.005     53.908      0.000       0.285       0.306\n",
      "road_category                   0.0341      0.001     23.560      0.000       0.031       0.037\n",
      "road_rank_cat                   0.0466      0.004     12.582      0.000       0.039       0.054\n",
      "site_objects_cat                0.0248      0.001     28.460      0.000       0.023       0.026\n",
      "adj_objects_cat                 0.0146      0.001     14.661      0.000       0.013       0.017\n",
      "weather_cat                     0.0023      0.002      0.971      0.332      -0.002       0.007\n",
      "lighting_cat                    0.0193      0.002     10.016      0.000       0.016       0.023\n",
      "road_surface_cat                0.0284      0.001     22.651      0.000       0.026       0.031\n",
      "traffic_changes_cat            -0.3418      0.005    -73.350      0.000      -0.351      -0.333\n",
      "is_NIGHT                        0.2263      0.006     36.217      0.000       0.214       0.239\n",
      "is_PEAK_HOUR                    0.0055      0.005      1.134      0.257      -0.004       0.015\n",
      "is_WEEKEND                     -0.0370      0.005     -8.200      0.000      -0.046      -0.028\n",
      "SEASON                          0.0121      0.002      6.150      0.000       0.008       0.016\n",
      "wrong_way                       0.2128      0.008     27.385      0.000       0.198       0.228\n",
      "pedestrian_violation            1.2840      0.023     55.011      0.000       1.238       1.330\n",
      "impaired_driving                0.3468      0.008     42.466      0.000       0.331       0.363\n",
      "maneuver_violation             -0.6167      0.008    -73.917      0.000      -0.633      -0.600\n",
      "traffic_control_violation      -0.1016      0.008    -13.040      0.000      -0.117      -0.086\n",
      "license_violation              -0.1009      0.014     -7.026      0.000      -0.129      -0.073\n",
      "transport_violation             0.4439      0.011     41.091      0.000       0.423       0.465\n",
      "crossing_violation              0.5751      0.017     33.913      0.000       0.542       0.608\n",
      "interference_violation         -0.0014      0.019     -0.077      0.939      -0.038       0.035\n",
      "sudden_appearance_violation     0.5307      0.027     19.820      0.000       0.478       0.583\n",
      "other_violation                -0.2341      0.007    -32.168      0.000      -0.248      -0.220\n",
      "TYPE_cat                       -0.0087      0.002     -5.350      0.000      -0.012      -0.006\n",
      "exp_avg                         0.0022      0.000     11.965      0.000       0.002       0.003\n",
      "guilty_share                   -0.5616      0.010    -57.786      0.000      -0.581      -0.543\n",
      "n_fatal_violations              0.1900      0.005     40.559      0.000       0.181       0.199\n",
      "n_INJURED                      -0.1221      0.002    -57.354      0.000      -0.126      -0.118\n",
      "cause_factors_cat               0.0083      0.001      8.634      0.000       0.006       0.010\n",
      "n_guilty                        0.4691      0.014     32.980      0.000       0.441       0.497\n",
      "1/2                             0.3372      0.033     10.340      0.000       0.273       0.401\n",
      "2/3                             0.6878      0.002    436.824      0.000       0.685       0.691\n",
      "===============================================================================================\n"
     ]
    }
   ],
   "source": [
    "X = df_weighted[['is_toll', 'road_category', 'road_rank_cat', 'site_objects_cat', 'adj_objects_cat', \n",
    "               'weather_cat', 'lighting_cat', 'road_surface_cat', 'traffic_changes_cat', 'is_NIGHT', 'is_PEAK_HOUR', 'is_WEEKEND', 'SEASON', \n",
    "               'wrong_way', 'pedestrian_violation', 'impaired_driving', 'maneuver_violation', 'traffic_control_violation', 'license_violation', \n",
    "               'transport_violation', 'crossing_violation', 'interference_violation', 'sudden_appearance_violation', 'other_violation', \n",
    "               'TYPE_cat', 'exp_avg', 'guilty_share', 'n_fatal_violations', 'n_INJURED', 'cause_factors_cat', 'n_guilty']]\n",
    "y = df_weighted['severity']\n",
    "\n",
    "model = OrderedModel(y, X, distr='logit')\n",
    "result = model.fit(method='bfgs')\n",
    "\n",
    "print('\\n5. Full model (undersampling):\\n')\n",
    "print(result.summary())"
   ]
  },
  {
   "cell_type": "markdown",
   "id": "52e79b7a",
   "metadata": {},
   "source": [
    "In models without accounting for class imbalance, the variable `'is_toll'` shows a positive and statistically significant effect on accident severity across all specifications, which supports the hypothesis. When using sample weights, the effect remains stable and even strengthens, which indicates the reliability of the obtained result. In the case of applying undersampling, instability is observed: in one specification, the effect becomes negative and significant, while in others it becomes insignificant. This behavior can be explained by the loss of information due to the artificial reduction of the majority class (`'is_toll'` = 0). Given the overall stability of the result in the full and weighted approaches, the **hypothesis 2.1. of more severe consequences of accidents on toll roads receives empirical confirmation**."
   ]
  },
  {
   "cell_type": "markdown",
   "id": "bab4eed7",
   "metadata": {},
   "source": [
    "### Separate models"
   ]
  },
  {
   "cell_type": "markdown",
   "id": "241e6403",
   "metadata": {},
   "source": [
    "We will evaluate the same for toll roads and free roads separately. There is a chance that the models will differ in terms of the significance and direction of the influence of factors."
   ]
  },
  {
   "cell_type": "code",
   "execution_count": 31,
   "id": "421a517e",
   "metadata": {},
   "outputs": [],
   "source": [
    "df_toll = df_hypoth[df_hypoth['is_toll'] == 1]\n",
    "df_toll.drop(['is_toll'], axis=1, inplace=True)\n",
    "\n",
    "df_free = df_hypoth[df_hypoth['is_toll'] == 0]\n",
    "df_free.drop(['is_toll'], axis=1, inplace=True)"
   ]
  },
  {
   "cell_type": "code",
   "execution_count": 32,
   "id": "22af7dd4",
   "metadata": {},
   "outputs": [
    {
     "name": "stdout",
     "output_type": "stream",
     "text": [
      "Optimization terminated successfully.\n",
      "         Current function value: 0.998965\n",
      "         Iterations: 144\n",
      "         Function evaluations: 147\n",
      "         Gradient evaluations: 147\n",
      "\n",
      "Full model for toll roads:\n",
      "\n",
      "                             OrderedModel Results                             \n",
      "==============================================================================\n",
      "Dep. Variable:               severity   Log-Likelihood:                -29509.\n",
      "Model:                   OrderedModel   AIC:                         5.908e+04\n",
      "Method:            Maximum Likelihood   BIC:                         5.935e+04\n",
      "Date:                Sat, 03 May 2025                                         \n",
      "Time:                        13:08:59                                         \n",
      "No. Observations:               29540                                         \n",
      "Df Residuals:                   29508                                         \n",
      "Df Model:                          30                                         \n",
      "===============================================================================================\n",
      "                                  coef    std err          z      P>|z|      [0.025      0.975]\n",
      "-----------------------------------------------------------------------------------------------\n",
      "road_category                   0.0302      0.007      4.137      0.000       0.016       0.045\n",
      "road_rank_cat                   0.1181      0.046      2.588      0.010       0.029       0.208\n",
      "site_objects_cat                0.0253      0.005      5.494      0.000       0.016       0.034\n",
      "adj_objects_cat                 0.0183      0.005      3.707      0.000       0.009       0.028\n",
      "weather_cat                     0.0272      0.013      2.059      0.039       0.001       0.053\n",
      "lighting_cat                    0.0232      0.010      2.320      0.020       0.004       0.043\n",
      "road_surface_cat                0.0206      0.007      2.896      0.004       0.007       0.035\n",
      "traffic_changes_cat            -0.2523      0.024    -10.710      0.000      -0.298      -0.206\n",
      "is_NIGHT                        0.2475      0.032      7.785      0.000       0.185       0.310\n",
      "is_PEAK_HOUR                    0.0028      0.026      0.106      0.915      -0.048       0.054\n",
      "is_WEEKEND                     -0.0605      0.024     -2.538      0.011      -0.107      -0.014\n",
      "SEASON                          0.0140      0.010      1.346      0.178      -0.006       0.034\n",
      "wrong_way                       0.1708      0.044      3.865      0.000       0.084       0.257\n",
      "pedestrian_violation            1.2315      0.124      9.913      0.000       0.988       1.475\n",
      "impaired_driving                0.2199      0.050      4.414      0.000       0.122       0.318\n",
      "maneuver_violation             -0.7197      0.045    -15.843      0.000      -0.809      -0.631\n",
      "traffic_control_violation      -0.1740      0.044     -3.968      0.000      -0.260      -0.088\n",
      "license_violation              -0.0172      0.081     -0.212      0.832      -0.176       0.142\n",
      "transport_violation             0.2906      0.062      4.689      0.000       0.169       0.412\n",
      "crossing_violation              0.6786      0.090      7.522      0.000       0.502       0.855\n",
      "interference_violation         -0.1207      0.091     -1.319      0.187      -0.300       0.059\n",
      "sudden_appearance_violation     0.5334      0.165      3.231      0.001       0.210       0.857\n",
      "other_violation                -0.3501      0.040     -8.749      0.000      -0.428      -0.272\n",
      "TYPE_cat                        0.0098      0.009      1.114      0.265      -0.007       0.027\n",
      "exp_avg                         0.0016      0.001      1.417      0.156      -0.001       0.004\n",
      "guilty_share                   -0.6245      0.051    -12.350      0.000      -0.724      -0.525\n",
      "n_fatal_violations              0.2916      0.027     10.788      0.000       0.239       0.345\n",
      "n_INJURED                      -0.1220      0.011    -11.094      0.000      -0.144      -0.100\n",
      "cause_factors_cat               0.0015      0.005      0.302      0.763      -0.008       0.011\n",
      "n_guilty                        0.6389      0.077      8.302      0.000       0.488       0.790\n",
      "1/2                             0.7004      0.239      2.932      0.003       0.232       1.169\n",
      "2/3                             0.6950      0.008     85.098      0.000       0.679       0.711\n",
      "===============================================================================================\n"
     ]
    }
   ],
   "source": [
    "X = df_toll[['road_category', 'road_rank_cat', 'site_objects_cat', 'adj_objects_cat', \n",
    "               'weather_cat', 'lighting_cat', 'road_surface_cat', 'traffic_changes_cat', 'is_NIGHT', 'is_PEAK_HOUR', 'is_WEEKEND', 'SEASON', \n",
    "               'wrong_way', 'pedestrian_violation', 'impaired_driving', 'maneuver_violation', 'traffic_control_violation', 'license_violation', \n",
    "               'transport_violation', 'crossing_violation', 'interference_violation', 'sudden_appearance_violation', 'other_violation', \n",
    "               'TYPE_cat', 'exp_avg', 'guilty_share', 'n_fatal_violations', 'n_INJURED', 'cause_factors_cat', 'n_guilty']]\n",
    "y = df_toll['severity']\n",
    "\n",
    "model = OrderedModel(y, X, distr='logit')\n",
    "result = model.fit(method='bfgs')\n",
    "\n",
    "print('\\nFull model for toll roads:\\n')\n",
    "print(result.summary())"
   ]
  },
  {
   "cell_type": "code",
   "execution_count": 33,
   "id": "75baa849",
   "metadata": {},
   "outputs": [
    {
     "name": "stdout",
     "output_type": "stream",
     "text": [
      "Optimization terminated successfully.\n",
      "         Current function value: 0.979578\n",
      "         Iterations: 101\n",
      "         Function evaluations: 104\n",
      "         Gradient evaluations: 104\n",
      "\n",
      "Full model for free roads:\n",
      "\n",
      "                             OrderedModel Results                             \n",
      "==============================================================================\n",
      "Dep. Variable:               severity   Log-Likelihood:            -4.0220e+05\n",
      "Model:                   OrderedModel   AIC:                         8.045e+05\n",
      "Method:            Maximum Likelihood   BIC:                         8.048e+05\n",
      "Date:                Sat, 03 May 2025                                         \n",
      "Time:                        13:21:40                                         \n",
      "No. Observations:              410587                                         \n",
      "Df Residuals:                  410555                                         \n",
      "Df Model:                          30                                         \n",
      "===============================================================================================\n",
      "                                  coef    std err          z      P>|z|      [0.025      0.975]\n",
      "-----------------------------------------------------------------------------------------------\n",
      "road_category                   0.0358      0.002     16.442      0.000       0.032       0.040\n",
      "road_rank_cat                   0.0416      0.004     10.370      0.000       0.034       0.049\n",
      "site_objects_cat                0.0239      0.001     19.249      0.000       0.021       0.026\n",
      "adj_objects_cat                 0.0108      0.002      7.112      0.000       0.008       0.014\n",
      "weather_cat                    -0.0182      0.003     -5.735      0.000      -0.024      -0.012\n",
      "lighting_cat                    0.0129      0.003      4.615      0.000       0.007       0.018\n",
      "road_surface_cat                0.0335      0.002     20.076      0.000       0.030       0.037\n",
      "traffic_changes_cat            -0.4361      0.007    -62.960      0.000      -0.450      -0.423\n",
      "is_NIGHT                        0.1969      0.009     21.322      0.000       0.179       0.215\n",
      "is_PEAK_HOUR                   -0.0049      0.007     -0.720      0.471      -0.018       0.008\n",
      "is_WEEKEND                     -0.0191      0.006     -2.990      0.003      -0.032      -0.007\n",
      "SEASON                          0.0116      0.003      4.141      0.000       0.006       0.017\n",
      "wrong_way                       0.2319      0.010     22.432      0.000       0.212       0.252\n",
      "pedestrian_violation            1.2443      0.033     37.876      0.000       1.180       1.309\n",
      "impaired_driving                0.4234      0.010     40.788      0.000       0.403       0.444\n",
      "maneuver_violation             -0.5410      0.012    -46.302      0.000      -0.564      -0.518\n",
      "traffic_control_violation      -0.0571      0.010     -5.476      0.000      -0.078      -0.037\n",
      "license_violation              -0.1734      0.019     -9.060      0.000      -0.211      -0.136\n",
      "transport_violation             0.5670      0.014     39.737      0.000       0.539       0.595\n",
      "crossing_violation              0.4337      0.024     18.094      0.000       0.387       0.481\n",
      "interference_violation          0.0215      0.029      0.736      0.461      -0.036       0.079\n",
      "sudden_appearance_violation     0.5106      0.034     14.983      0.000       0.444       0.577\n",
      "other_violation                -0.1677      0.010    -16.751      0.000      -0.187      -0.148\n",
      "TYPE_cat                       -0.0279      0.002    -12.214      0.000      -0.032      -0.023\n",
      "exp_avg                         0.0030      0.000     12.953      0.000       0.003       0.003\n",
      "guilty_share                   -0.4533      0.014    -32.091      0.000      -0.481      -0.426\n",
      "n_fatal_violations              0.1286      0.006     20.876      0.000       0.117       0.141\n",
      "n_INJURED                      -0.1176      0.003    -38.259      0.000      -0.124      -0.112\n",
      "cause_factors_cat               0.0170      0.001     12.379      0.000       0.014       0.020\n",
      "n_guilty                        0.3113      0.020     15.733      0.000       0.273       0.350\n",
      "1/2                             0.0127      0.045      0.285      0.776      -0.075       0.100\n",
      "2/3                             0.6846      0.002    302.461      0.000       0.680       0.689\n",
      "===============================================================================================\n"
     ]
    }
   ],
   "source": [
    "X = df_free[['road_category', 'road_rank_cat', 'site_objects_cat', 'adj_objects_cat', \n",
    "               'weather_cat', 'lighting_cat', 'road_surface_cat', 'traffic_changes_cat', 'is_NIGHT', 'is_PEAK_HOUR', 'is_WEEKEND', 'SEASON', \n",
    "               'wrong_way', 'pedestrian_violation', 'impaired_driving', 'maneuver_violation', 'traffic_control_violation', 'license_violation', \n",
    "               'transport_violation', 'crossing_violation', 'interference_violation', 'sudden_appearance_violation', 'other_violation', \n",
    "               'TYPE_cat', 'exp_avg', 'guilty_share', 'n_fatal_violations', 'n_INJURED', 'cause_factors_cat', 'n_guilty']]\n",
    "y = df_free['severity']\n",
    "\n",
    "model = OrderedModel(y, X, distr='logit')\n",
    "result = model.fit(method='bfgs')\n",
    "\n",
    "print('\\nFull model for free roads:\\n')\n",
    "print(result.summary())"
   ]
  },
  {
   "cell_type": "markdown",
   "id": "18880315",
   "metadata": {},
   "source": [
    "**Conclusions.**"
   ]
  }
 ],
 "metadata": {
  "kernelspec": {
   "display_name": "Python 3",
   "language": "python",
   "name": "python3"
  },
  "language_info": {
   "codemirror_mode": {
    "name": "ipython",
    "version": 3
   },
   "file_extension": ".py",
   "mimetype": "text/x-python",
   "name": "python",
   "nbconvert_exporter": "python",
   "pygments_lexer": "ipython3",
   "version": "3.9.7"
  }
 },
 "nbformat": 4,
 "nbformat_minor": 5
}
