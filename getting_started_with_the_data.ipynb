{
 "cells": [
  {
   "cell_type": "code",
   "execution_count": 92,
   "metadata": {},
   "outputs": [],
   "source": [
    "import ast\n",
    "\n",
    "import pandas as pd\n",
    "import numpy as np\n",
    "import matplotlib.pyplot as plt\n",
    "\n",
    "from sklearn.preprocessing import LabelEncoder\n",
    "from sklearn.preprocessing import MultiLabelBinarizer\n",
    "\n",
    "from sklearn.metrics import mean_absolute_error\n",
    "from sklearn.model_selection import train_test_split\n",
    "\n",
    "from sklearn.multioutput import MultiOutputRegressor\n",
    "from sklearn.ensemble import GradientBoostingRegressor"
   ]
  },
  {
   "cell_type": "code",
   "execution_count": 93,
   "metadata": {},
   "outputs": [
    {
     "name": "stderr",
     "output_type": "stream",
     "text": [
      "C:\\Users\\Настя\\AppData\\Local\\Temp\\ipykernel_22752\\1620449790.py:1: DtypeWarning: Columns (5,6) have mixed types. Specify dtype option on import or set low_memory=False.\n",
      "  df = pd.read_csv('data/DTP_DATA_2025.csv')\n"
     ]
    },
    {
     "name": "stdout",
     "output_type": "stream",
     "text": [
      "(1475674, 59)\n"
     ]
    },
    {
     "data": {
      "text/html": [
       "<div>\n",
       "<style scoped>\n",
       "    .dataframe tbody tr th:only-of-type {\n",
       "        vertical-align: middle;\n",
       "    }\n",
       "\n",
       "    .dataframe tbody tr th {\n",
       "        vertical-align: top;\n",
       "    }\n",
       "\n",
       "    .dataframe thead th {\n",
       "        text-align: right;\n",
       "    }\n",
       "</style>\n",
       "<table border=\"1\" class=\"dataframe\">\n",
       "  <thead>\n",
       "    <tr style=\"text-align: right;\">\n",
       "      <th></th>\n",
       "      <th>REGION</th>\n",
       "      <th>TYPE</th>\n",
       "      <th>DATE</th>\n",
       "      <th>traffic_changes</th>\n",
       "      <th>COORD_L</th>\n",
       "      <th>COORD_W</th>\n",
       "      <th>road_name</th>\n",
       "      <th>road_category</th>\n",
       "      <th>road_rank</th>\n",
       "      <th>cause_factors</th>\n",
       "      <th>...</th>\n",
       "      <th>n_front_drive</th>\n",
       "      <th>n_rear_drive</th>\n",
       "      <th>n_4wd</th>\n",
       "      <th>n_guilty</th>\n",
       "      <th>guilty_share</th>\n",
       "      <th>n_fatal_violations</th>\n",
       "      <th>violations</th>\n",
       "      <th>injury_severity</th>\n",
       "      <th>guilty_exp_avg</th>\n",
       "      <th>exp_avg</th>\n",
       "    </tr>\n",
       "  </thead>\n",
       "  <tbody>\n",
       "    <tr>\n",
       "      <th>0</th>\n",
       "      <td>1</td>\n",
       "      <td>Столкновение</td>\n",
       "      <td>31.01.2015</td>\n",
       "      <td>Движение частично перекрыто</td>\n",
       "      <td>83.740833</td>\n",
       "      <td>53.333056</td>\n",
       "      <td>NaN</td>\n",
       "      <td>NaN</td>\n",
       "      <td>Не указано</td>\n",
       "      <td>Сведения отсутствуют</td>\n",
       "      <td>...</td>\n",
       "      <td>0</td>\n",
       "      <td>0</td>\n",
       "      <td>0</td>\n",
       "      <td>1</td>\n",
       "      <td>0.5</td>\n",
       "      <td>1</td>\n",
       "      <td>{'Другие нарушения ПДД водителем'}</td>\n",
       "      <td>{'Раненый, находящийся (находившийся)  на амбу...</td>\n",
       "      <td>15.0</td>\n",
       "      <td>13.0</td>\n",
       "    </tr>\n",
       "    <tr>\n",
       "      <th>1</th>\n",
       "      <td>1</td>\n",
       "      <td>Наезд на пешехода</td>\n",
       "      <td>31.01.2015</td>\n",
       "      <td>Режим движения не изменялся</td>\n",
       "      <td>82.462778</td>\n",
       "      <td>52.245833</td>\n",
       "      <td>А-322 Барнаул - Рубцовск - граница с Республик...</td>\n",
       "      <td>3.0</td>\n",
       "      <td>Федеральная (дорога федерального значения)</td>\n",
       "      <td>Сведения отсутствуют</td>\n",
       "      <td>...</td>\n",
       "      <td>0</td>\n",
       "      <td>0</td>\n",
       "      <td>0</td>\n",
       "      <td>1</td>\n",
       "      <td>1.0</td>\n",
       "      <td>2</td>\n",
       "      <td>{'Несоблюдение требований ОСАГО', 'Нахождение ...</td>\n",
       "      <td>{'Раненый, находящийся (находившийся) на стаци...</td>\n",
       "      <td>NaN</td>\n",
       "      <td>5.0</td>\n",
       "    </tr>\n",
       "    <tr>\n",
       "      <th>2</th>\n",
       "      <td>1</td>\n",
       "      <td>Наезд на пешехода</td>\n",
       "      <td>31.01.2015</td>\n",
       "      <td>Движение частично перекрыто</td>\n",
       "      <td>83.501944</td>\n",
       "      <td>53.274167</td>\n",
       "      <td>NaN</td>\n",
       "      <td>NaN</td>\n",
       "      <td>Не указано</td>\n",
       "      <td>Сведения отсутствуют</td>\n",
       "      <td>...</td>\n",
       "      <td>0</td>\n",
       "      <td>0</td>\n",
       "      <td>0</td>\n",
       "      <td>2</td>\n",
       "      <td>2.0</td>\n",
       "      <td>1</td>\n",
       "      <td>{'Переход через проезжую часть вне пешеходного...</td>\n",
       "      <td>{'Раненый, находящийся (находившийся)  на амбу...</td>\n",
       "      <td>NaN</td>\n",
       "      <td>17.0</td>\n",
       "    </tr>\n",
       "    <tr>\n",
       "      <th>3</th>\n",
       "      <td>1</td>\n",
       "      <td>Наезд на пешехода</td>\n",
       "      <td>31.01.2015</td>\n",
       "      <td>Режим движения не изменялся</td>\n",
       "      <td>83.251667</td>\n",
       "      <td>53.285278</td>\n",
       "      <td>NaN</td>\n",
       "      <td>NaN</td>\n",
       "      <td>Не указано</td>\n",
       "      <td>Сведения отсутствуют</td>\n",
       "      <td>...</td>\n",
       "      <td>0</td>\n",
       "      <td>0</td>\n",
       "      <td>0</td>\n",
       "      <td>1</td>\n",
       "      <td>1.0</td>\n",
       "      <td>1</td>\n",
       "      <td>{'Переход через проезжую часть вне пешеходного...</td>\n",
       "      <td>{'Раненый, находящийся (находившийся)  на амбу...</td>\n",
       "      <td>NaN</td>\n",
       "      <td>27.0</td>\n",
       "    </tr>\n",
       "    <tr>\n",
       "      <th>4</th>\n",
       "      <td>1</td>\n",
       "      <td>Наезд на пешехода</td>\n",
       "      <td>31.01.2015</td>\n",
       "      <td>Движение частично перекрыто</td>\n",
       "      <td>83.708889</td>\n",
       "      <td>53.318333</td>\n",
       "      <td>NaN</td>\n",
       "      <td>NaN</td>\n",
       "      <td>Не указано</td>\n",
       "      <td>Сведения отсутствуют</td>\n",
       "      <td>...</td>\n",
       "      <td>0</td>\n",
       "      <td>0</td>\n",
       "      <td>0</td>\n",
       "      <td>1</td>\n",
       "      <td>1.0</td>\n",
       "      <td>1</td>\n",
       "      <td>{'Переход через проезжую часть в неустановленн...</td>\n",
       "      <td>{'Раненый, находящийся (находившийся) на стаци...</td>\n",
       "      <td>NaN</td>\n",
       "      <td>1.0</td>\n",
       "    </tr>\n",
       "  </tbody>\n",
       "</table>\n",
       "<p>5 rows × 59 columns</p>\n",
       "</div>"
      ],
      "text/plain": [
       "   REGION               TYPE        DATE              traffic_changes  \\\n",
       "0       1       Столкновение  31.01.2015  Движение частично перекрыто   \n",
       "1       1  Наезд на пешехода  31.01.2015  Режим движения не изменялся   \n",
       "2       1  Наезд на пешехода  31.01.2015  Движение частично перекрыто   \n",
       "3       1  Наезд на пешехода  31.01.2015  Режим движения не изменялся   \n",
       "4       1  Наезд на пешехода  31.01.2015  Движение частично перекрыто   \n",
       "\n",
       "     COORD_L    COORD_W                                          road_name  \\\n",
       "0  83.740833  53.333056                                                NaN   \n",
       "1  82.462778  52.245833  А-322 Барнаул - Рубцовск - граница с Республик...   \n",
       "2  83.501944  53.274167                                                NaN   \n",
       "3  83.251667  53.285278                                                NaN   \n",
       "4  83.708889  53.318333                                                NaN   \n",
       "\n",
       "   road_category                                   road_rank  \\\n",
       "0            NaN                                  Не указано   \n",
       "1            3.0  Федеральная (дорога федерального значения)   \n",
       "2            NaN                                  Не указано   \n",
       "3            NaN                                  Не указано   \n",
       "4            NaN                                  Не указано   \n",
       "\n",
       "          cause_factors  ... n_front_drive  n_rear_drive  n_4wd n_guilty  \\\n",
       "0  Сведения отсутствуют  ...             0             0      0        1   \n",
       "1  Сведения отсутствуют  ...             0             0      0        1   \n",
       "2  Сведения отсутствуют  ...             0             0      0        2   \n",
       "3  Сведения отсутствуют  ...             0             0      0        1   \n",
       "4  Сведения отсутствуют  ...             0             0      0        1   \n",
       "\n",
       "  guilty_share n_fatal_violations  \\\n",
       "0          0.5                  1   \n",
       "1          1.0                  2   \n",
       "2          2.0                  1   \n",
       "3          1.0                  1   \n",
       "4          1.0                  1   \n",
       "\n",
       "                                          violations  \\\n",
       "0                 {'Другие нарушения ПДД водителем'}   \n",
       "1  {'Несоблюдение требований ОСАГО', 'Нахождение ...   \n",
       "2  {'Переход через проезжую часть вне пешеходного...   \n",
       "3  {'Переход через проезжую часть вне пешеходного...   \n",
       "4  {'Переход через проезжую часть в неустановленн...   \n",
       "\n",
       "                                     injury_severity guilty_exp_avg exp_avg  \n",
       "0  {'Раненый, находящийся (находившийся)  на амбу...           15.0    13.0  \n",
       "1  {'Раненый, находящийся (находившийся) на стаци...            NaN     5.0  \n",
       "2  {'Раненый, находящийся (находившийся)  на амбу...            NaN    17.0  \n",
       "3  {'Раненый, находящийся (находившийся)  на амбу...            NaN    27.0  \n",
       "4  {'Раненый, находящийся (находившийся) на стаци...            NaN     1.0  \n",
       "\n",
       "[5 rows x 59 columns]"
      ]
     },
     "execution_count": 93,
     "metadata": {},
     "output_type": "execute_result"
    }
   ],
   "source": [
    "df = pd.read_csv('data/DTP_DATA_2025.csv')\n",
    "df = df.drop('Unnamed: 0', axis=1)\n",
    "print(df.shape)\n",
    "features_number = df.shape[1]\n",
    "df.head(5)"
   ]
  },
  {
   "cell_type": "code",
   "execution_count": 94,
   "metadata": {},
   "outputs": [
    {
     "data": {
      "text/plain": [
       "Index(['REGION', 'TYPE', 'DATE', 'traffic_changes', 'COORD_L', 'COORD_W',\n",
       "       'road_name', 'road_category', 'road_rank', 'cause_factors',\n",
       "       'street_rank', 'road_km', 'road_m', 'NP', 'road_defects', 'adj_objects',\n",
       "       'lighting', 'road_surface', 'site_objects', 'weather', 'n_VEHICLES',\n",
       "       'n_PARTICIPANTS', 'ID', 'n_DEATHS', 'n_INJURED', 'TIME',\n",
       "       'vehicle_failure', 'non_private_vehicle', 'russian_vehicle',\n",
       "       'white_vehicle', 'black_vehicle', 'colored_vehicle', 'drunk_driver',\n",
       "       'female_driver', 'escaped', 'no_seatbelt_injury', 'n_drunk',\n",
       "       'n_children', 'n_cyclists', 'n_pedestrians', 'vehicle_age_min',\n",
       "       'vehicle_age_max', 'vehicle_age_avg', 'n_class_a', 'n_class_b',\n",
       "       'n_class_c', 'n_class_d', 'n_class_e', 'n_class_s', 'n_front_drive',\n",
       "       'n_rear_drive', 'n_4wd', 'n_guilty', 'guilty_share',\n",
       "       'n_fatal_violations', 'violations', 'injury_severity', 'guilty_exp_avg',\n",
       "       'exp_avg'],\n",
       "      dtype='object')"
      ]
     },
     "execution_count": 94,
     "metadata": {},
     "output_type": "execute_result"
    }
   ],
   "source": [
    "df.columns"
   ]
  },
  {
   "cell_type": "code",
   "execution_count": 95,
   "metadata": {},
   "outputs": [
    {
     "name": "stdout",
     "output_type": "stream",
     "text": [
      "Number of observations before processing: 1475674\n"
     ]
    }
   ],
   "source": [
    "print(f\"Number of observations before processing: {df.shape[0]}\")"
   ]
  },
  {
   "cell_type": "markdown",
   "metadata": {},
   "source": [
    "## Processing the data gaps"
   ]
  },
  {
   "cell_type": "code",
   "execution_count": 96,
   "metadata": {},
   "outputs": [
    {
     "name": "stdout",
     "output_type": "stream",
     "text": [
      "1. traffic_changes\n",
      "2. COORD_L\n",
      "3. COORD_W\n",
      "4. road_name\n",
      "5. road_category\n",
      "6. street_rank\n",
      "7. road_km\n",
      "8. road_m\n",
      "9. NP\n",
      "10. vehicle_age_min\n",
      "11. vehicle_age_max\n",
      "12. vehicle_age_avg\n",
      "13. guilty_exp_avg\n"
     ]
    }
   ],
   "source": [
    "features_with_gaps = df.columns[df.isna().any()].tolist()\n",
    "\n",
    "for i, col in enumerate(features_with_gaps, start=1):\n",
    "    print(f\"{i}. {col}\")"
   ]
  },
  {
   "cell_type": "markdown",
   "metadata": {},
   "source": [
    "We don't need every feature, so let's create a list of columns to drop and update it as needed."
   ]
  },
  {
   "cell_type": "code",
   "execution_count": 97,
   "metadata": {},
   "outputs": [],
   "source": [
    "drop_columns = ['road_km', 'road_m']\n",
    "# will be dropped because they are irrelevant to our task"
   ]
  },
  {
   "cell_type": "markdown",
   "metadata": {},
   "source": [
    "__traffic_changes__: 2 objects were dropped"
   ]
  },
  {
   "cell_type": "code",
   "execution_count": 98,
   "metadata": {},
   "outputs": [
    {
     "name": "stdout",
     "output_type": "stream",
     "text": [
      "traffic_changes gaps: 2\n",
      "Objects left: 1475672\n"
     ]
    }
   ],
   "source": [
    "print(f\"traffic_changes gaps: {df['traffic_changes'].isna().sum()}\")\n",
    "\n",
    "df = df[df['traffic_changes'].notna()]\n",
    "print(f\"Objects left: {df.shape[0]}\")"
   ]
  },
  {
   "cell_type": "markdown",
   "metadata": {},
   "source": [
    "__COORD_L and COORD_W:__"
   ]
  },
  {
   "cell_type": "code",
   "execution_count": 99,
   "metadata": {},
   "outputs": [
    {
     "data": {
      "text/plain": [
       "COORD_L    float64\n",
       "COORD_W    float64\n",
       "dtype: object"
      ]
     },
     "execution_count": 99,
     "metadata": {},
     "output_type": "execute_result"
    }
   ],
   "source": [
    "df[['COORD_L', 'COORD_W']].dtypes\n",
    "\n",
    "# turn into float64\n",
    "df['COORD_L'] = pd.to_numeric(df['COORD_L'], errors='coerce')\n",
    "df['COORD_W'] = pd.to_numeric(df['COORD_W'], errors='coerce')\n",
    "\n",
    "df[['COORD_L', 'COORD_W']].dtypes"
   ]
  },
  {
   "cell_type": "markdown",
   "metadata": {},
   "source": [
    "Begin with analyzing columns gaps: 15 objects were dropped"
   ]
  },
  {
   "cell_type": "code",
   "execution_count": 100,
   "metadata": {},
   "outputs": [
    {
     "name": "stdout",
     "output_type": "stream",
     "text": [
      "COORD_L gaps: 166\n",
      "COORD_W gaps: 156\n",
      "COORD_L and COORD_W common gaps: 167\n",
      "COORD_L gaps: 0\n",
      "COORD_W gaps: 0\n",
      "Objects left: 1475505\n"
     ]
    }
   ],
   "source": [
    "L_ind = set(df[df['COORD_L'].isna()]['ID'])\n",
    "W_ind = set(df[df['COORD_W'].isna()]['ID'])\n",
    "common_gaps = L_ind | W_ind\n",
    "\n",
    "print(f\"COORD_L gaps: {df['COORD_L'].isna().sum()}\")\n",
    "print(f\"COORD_W gaps: {df['COORD_W'].isna().sum()}\")\n",
    "print(f\"COORD_L and COORD_W common gaps: {len(common_gaps)}\")\n",
    "\n",
    "df = df[(df['COORD_L'].notna()) & (df['COORD_W'].notna())]\n",
    "print(f\"COORD_L gaps: {df['COORD_L'].isna().sum()}\")\n",
    "print(f\"COORD_W gaps: {df['COORD_W'].isna().sum()}\")\n",
    "print(f\"Objects left: {df.shape[0]}\")"
   ]
  },
  {
   "cell_type": "markdown",
   "metadata": {},
   "source": [
    "### **road_name, road_category:** key features in our analysis"
   ]
  },
  {
   "cell_type": "markdown",
   "metadata": {},
   "source": [
    "Why `road_name` is a key feature?\n",
    "- contains road names\n",
    "- will allow to identify accidents on toll roads (here you can find [the list of toll roads in Russia](https://avtodor-tr.ru/road/))\n",
    "- so we can create binary key feature `toll road`"
   ]
  },
  {
   "cell_type": "code",
   "execution_count": 101,
   "metadata": {},
   "outputs": [
    {
     "name": "stdout",
     "output_type": "stream",
     "text": [
      "Gaps in road_name: 964910\n",
      "Gaps in road_category: 971592\n",
      "Road_name and road_category common gaps: 977475\n"
     ]
    }
   ],
   "source": [
    "print(f\"Gaps in road_name: {df['road_name'].isna().sum()}\")\n",
    "print(f\"Gaps in road_category: {df['road_category'].isna().sum()}\")\n",
    "\n",
    "dor_ind = set(df[df['road_name'].isna()]['ID'])\n",
    "dor_k_ind = set(df[df['road_category'].isna()]['ID'])\n",
    "common_gaps = dor_ind | dor_k_ind\n",
    "\n",
    "print(f\"Road_name and road_category common gaps: {len(common_gaps)}\")"
   ]
  },
  {
   "cell_type": "code",
   "execution_count": 102,
   "metadata": {},
   "outputs": [
    {
     "name": "stdout",
     "output_type": "stream",
     "text": [
      "Observations left after deleting NaN in 'road_name' feature: 510595\n"
     ]
    }
   ],
   "source": [
    "# now we are not going to fill the gaps (do it later), so drop NaN\n",
    "\n",
    "df = df[df['road_name'].notna()]\n",
    "print(f\"Observations left after deleting NaN in 'road_name' feature: {df.shape[0]}\")"
   ]
  },
  {
   "cell_type": "markdown",
   "metadata": {},
   "source": [
    "__street_rank:__ replace nan by new value"
   ]
  },
  {
   "cell_type": "code",
   "execution_count": 103,
   "metadata": {},
   "outputs": [
    {
     "name": "stdout",
     "output_type": "stream",
     "text": [
      "street_rank gaps: 127857\n",
      "street_rank gaps left: 0\n"
     ]
    }
   ],
   "source": [
    "print(f\"street_rank gaps: {df['street_rank'].isna().sum()}\")\n",
    "\n",
    "df['street_rank'] = df['street_rank'].fillna('Назначение неизвестно')\n",
    "print(f\"street_rank gaps left: {df['street_rank'].isna().sum()}\")"
   ]
  },
  {
   "cell_type": "markdown",
   "metadata": {},
   "source": [
    "__guilty_exp_avg:__ 145498 objects were deleted"
   ]
  },
  {
   "cell_type": "code",
   "execution_count": 104,
   "metadata": {},
   "outputs": [
    {
     "name": "stdout",
     "output_type": "stream",
     "text": [
      "guilty_exp_avg gaps: 37401\n",
      "Objects left: 473194\n"
     ]
    }
   ],
   "source": [
    "print(f\"guilty_exp_avg gaps: {df['guilty_exp_avg'].isna().sum()}\")\n",
    "\n",
    "df = df[df['guilty_exp_avg'].notna()]\n",
    "print(f\"Objects left: {df.shape[0]}\")"
   ]
  },
  {
   "cell_type": "markdown",
   "metadata": {},
   "source": [
    "__vehicle_age_min, vehicle_age_max, vehicle_age_avg:__ will be filled by ML algorithm later"
   ]
  },
  {
   "cell_type": "code",
   "execution_count": 105,
   "metadata": {},
   "outputs": [
    {
     "name": "stdout",
     "output_type": "stream",
     "text": [
      "Gaps in vehicle_age_min: 6208\n",
      "Gaps in vehicle_age_max: 6208\n",
      "Gaps in vehicle_age_avg: 6208\n",
      "Common gaps: 6208\n"
     ]
    }
   ],
   "source": [
    "print(f\"Gaps in vehicle_age_min: {df['vehicle_age_min'].isna().sum()}\")\n",
    "print(f\"Gaps in vehicle_age_max: {df['vehicle_age_max'].isna().sum()}\")\n",
    "print(f\"Gaps in vehicle_age_avg: {df['vehicle_age_avg'].isna().sum()}\")\n",
    "\n",
    "min_ind = set(df[df['vehicle_age_min'].isna()]['ID'])\n",
    "max_ind = set(df[df['vehicle_age_max'].isna()]['ID'])\n",
    "avg_ind = set(df[df['vehicle_age_avg'].isna()]['ID'])\n",
    "common_gaps = min_ind | max_ind | avg_ind\n",
    "\n",
    "print(f\"Common gaps: {len(common_gaps)}\")"
   ]
  },
  {
   "cell_type": "markdown",
   "metadata": {},
   "source": [
    "Wi will train a model that will predict missing values ​​based on other features below."
   ]
  },
  {
   "cell_type": "markdown",
   "metadata": {},
   "source": [
    "#### **Lyrical digression and NP:** why it is useless and will be deleted"
   ]
  },
  {
   "cell_type": "code",
   "execution_count": 106,
   "metadata": {},
   "outputs": [
    {
     "name": "stdout",
     "output_type": "stream",
     "text": [
      "NP gaps: 358663\n"
     ]
    }
   ],
   "source": [
    "print(f\"NP gaps: {df['NP'].isna().sum()}\")"
   ]
  },
  {
   "cell_type": "markdown",
   "metadata": {},
   "source": [
    "`NP` contains only (compared to `dor`) 388.721 gaps and had a potential to be a key feature."
   ]
  },
  {
   "cell_type": "markdown",
   "metadata": {},
   "source": [
    "Why `NP` could be a key feature?\n",
    "- the aim of the thesis is not only to analyze toll roads but also to compare them with free roads in Russia\n",
    "- toll roads in Russia are mostly highways, which makes them very different from accidents occurring within cities (due to different conditions, speed limits, etc.)\n",
    "- for a correct analysis, accidents that occurred in populated areas must be excluded from the DataFrame\n",
    "- identifying these areas using NP could help achieve this\n",
    "\n",
    "Why it is NOT?\n",
    "- because the feature doesn't work tha way it should\n",
    "- according to its intended meaning, `NP` should either: \n",
    "\n",
    "(1) contain names of populated areas with non-populated areas represented as NaN or \n",
    "\n",
    "(2) include names of populated areas and a clear label for non-populated areas (e.g., \"not NP\" or \"highway\")\n",
    "\n",
    "- in reality, `NP` contains both names of populated areas and labels for non-populated areas, but these labels account for less than 0.2% of the non-NaN observations in `NP`\n",
    "- as a result, the column primarily reflects the names of populated areas nearest to the accident location — even when the accident occurred on a highway\n",
    "- this makes the feature completely useless for the analysis objectives, as it does not reliably distinguish between accidents in populated and non-populated areas"
   ]
  },
  {
   "cell_type": "code",
   "execution_count": 107,
   "metadata": {},
   "outputs": [
    {
     "name": "stdout",
     "output_type": "stream",
     "text": [
      "Number of observations without gaps in 'NP', where 'NP' values are not considered as populated areas: 275\n",
      "-----\n",
      " \n",
      "M-1 highway found in non_NP_obs DataFrame: 0\n",
      "Spoiler: the number will be the same for every toll road\n",
      "-----\n",
      " \n",
      "M-1 highway found in full DataFrame: 1642\n",
      "-----\n",
      " \n",
      "The M-1 toll road unique NP values (M-1 road is a highway):\n"
     ]
    },
    {
     "data": {
      "text/plain": [
       "array(['г Москва', 'г Кубинка', 'д Ляхово', 'с/п Новоивановское',\n",
       "       'с/п Успенское', 'рп Новоивановское', 'д Барвиха', 'д Бутынь',\n",
       "       'г Одинцово', 'г Клин', 'дп Лесной Городок', 'д Немчиново',\n",
       "       'д Вырубово', 'с Жаворонки', 'д Красная Горка', 'д Каменка',\n",
       "       'г Ярцево', 'д Анохово', 'г Гагарин'], dtype=object)"
      ]
     },
     "execution_count": 107,
     "metadata": {},
     "output_type": "execute_result"
    }
   ],
   "source": [
    "np_marks_list = [\n",
    "    'г ', 'д ', 'п ', 'с ', 'х ', 'ст-ца ', 'аал ', 'аул ', 'массив ', 'мкр ', \n",
    "    'пгт ', 'починок ', 'сл ', 'ст ', 'поселение ', 'жилрайон ', 'городок ', 'заимка ', 'м ', 'у'\n",
    "    ]           # compiled by the method of analyzing unique 'NP' feature values\n",
    "\n",
    "non_missing_np = df[df['NP'].notna()]\n",
    "not_np_unique = non_missing_np['NP'].unique().tolist()\n",
    "not_np_unique = sorted(not_np_unique)\n",
    "\n",
    "for np in not_np_unique[:]:\n",
    "    for np_mark in np_marks_list:\n",
    "        if np_mark in np:\n",
    "            not_np_unique.remove(np)\n",
    "            break\n",
    "\n",
    "non_NP_obs = df[df['NP'].isin(not_np_unique)]\n",
    "print(f\"Number of observations without gaps in 'NP', where 'NP' values are not considered as populated areas: {non_NP_obs.shape[0]}\")\n",
    "print('-----')\n",
    "print(' ')\n",
    "\n",
    "# and if we try to find any highway in this DataFrame we'll fail:\n",
    "\n",
    "dor_uniq = df['road_name'].unique().tolist()\n",
    "M_1_dors = list()\n",
    "\n",
    "for dor in dor_uniq:\n",
    "    try:\n",
    "        if 'М-1 ' in dor and 'подъездная' not in dor and 'Подъездная' not in dor:\n",
    "            M_1_dors.append(dor)\n",
    "    except TypeError:\n",
    "        continue\n",
    "\n",
    "M1_df = non_NP_obs[non_NP_obs['road_name'].isin(M_1_dors)]\n",
    "print(f\"M-1 highway found in non_NP_obs DataFrame: {M1_df.shape[0]}\")\n",
    "print('Spoiler: the number will be the same for every toll road')\n",
    "print('-----')\n",
    "print(' ')\n",
    "\n",
    "# and in full DataFrame:\n",
    "\n",
    "M1_df = df[df['road_name'].isin(M_1_dors)]\n",
    "print(f\"M-1 highway found in full DataFrame: {M1_df.shape[0]}\")\n",
    "print('-----')\n",
    "print(' ')\n",
    "\n",
    "# analyzing the 'NP' values of M-1 toll road observations and finding out the 'NP' uselesness\n",
    "\n",
    "print('The M-1 toll road unique NP values (M-1 road is a highway):')\n",
    "M1_df[M1_df['NP'].notna()]['NP'].unique()"
   ]
  },
  {
   "cell_type": "code",
   "execution_count": 108,
   "metadata": {},
   "outputs": [],
   "source": [
    "drop_columns.append('NP')"
   ]
  },
  {
   "cell_type": "markdown",
   "metadata": {},
   "source": [
    "## Processing categorical features"
   ]
  },
  {
   "cell_type": "markdown",
   "metadata": {},
   "source": [
    "Which features are categorical?"
   ]
  },
  {
   "cell_type": "code",
   "execution_count": 109,
   "metadata": {},
   "outputs": [
    {
     "name": "stdout",
     "output_type": "stream",
     "text": [
      "1. injury_severity\n",
      "2. cause_factors\n",
      "3. street_rank\n",
      "4. road_defects\n",
      "5. TYPE\n",
      "6. traffic_changes\n",
      "7. site_objects\n",
      "8. violations\n",
      "9. weather\n",
      "10. road_rank\n",
      "11. road_surface\n",
      "12. lighting\n",
      "13. adj_objects\n"
     ]
    }
   ],
   "source": [
    "cat_cols = df.select_dtypes(include=['object']).columns\n",
    "non_cat_cols = ['COORD_L', 'COORD_W', 'DATE', 'TIME']\n",
    "non_cat_cols.append('road_name')      # road names will be necessary on further steps\n",
    "cat_cols = list(set(cat_cols) - set(drop_columns) - set(non_cat_cols))      # do not proceed unnecessary features\n",
    "\n",
    "for i, col in enumerate(cat_cols, start=1):\n",
    "    print(f\"{i}. {col}\")"
   ]
  },
  {
   "cell_type": "markdown",
   "metadata": {},
   "source": [
    "We will handle each categorical feature manually to ensure consistent labeling and avoid issues caused by duplicates, typos, or overly detailed values that should be grouped together."
   ]
  },
  {
   "cell_type": "markdown",
   "metadata": {},
   "source": [
    "---\n",
    "\n",
    "__road_rank — road significance__"
   ]
  },
  {
   "cell_type": "code",
   "execution_count": 110,
   "metadata": {},
   "outputs": [
    {
     "data": {
      "text/plain": [
       "['Другие места',\n",
       " 'Иная дорога',\n",
       " 'Местного значения (дорога местного значения, включая относящиеся к собственности поселений, муниципальных районов, городских округов)',\n",
       " 'Местного значения (дороги местного значения, включая относящиеся к собственности поселений, муниципальных районов, городских округов)',\n",
       " 'Не указано',\n",
       " 'Региональная или межмуниципальная (дорога регионального или межмуниципального значения)',\n",
       " 'Федеральная (дорога федерального значения)',\n",
       " 'Частная (дорога, относящиеся к частной и иным формам собственности)',\n",
       " 'Частная (дороги, относящиеся к частной и иным формам собственности)']"
      ]
     },
     "execution_count": 110,
     "metadata": {},
     "output_type": "execute_result"
    }
   ],
   "source": [
    "sorted(df['road_rank'].unique())"
   ]
  },
  {
   "cell_type": "code",
   "execution_count": 111,
   "metadata": {},
   "outputs": [
    {
     "data": {
      "text/plain": [
       "['Другое',\n",
       " 'Местного значения',\n",
       " 'Не указано',\n",
       " 'Региональная или межмуниципальная',\n",
       " 'Федеральная',\n",
       " 'Частная']"
      ]
     },
     "execution_count": 111,
     "metadata": {},
     "output_type": "execute_result"
    }
   ],
   "source": [
    "replace_map = {\n",
    "    'Региональная или межмуниципальная (дорога регионального или межмуниципального значения)': 'Региональная или межмуниципальная',\n",
    "    'Федеральная (дорога федерального значения)': 'Федеральная',\n",
    "    'Местного значения (дороги местного значения, включая относящиеся к собственности поселений, муниципальных районов, городских округов)': 'Местного значения',\n",
    "    'Местного значения (дорога местного значения, включая относящиеся к собственности поселений, муниципальных районов, городских округов)': 'Местного значения',\n",
    "    'Частная (дороги, относящиеся к частной и иным формам собственности)': 'Частная',\n",
    "    'Частная (дорога, относящиеся к частной и иным формам собственности)': 'Частная',\n",
    "    'Другие места': 'Другое',\n",
    "    'Иная дорога': 'Другое',\n",
    "    'Не указано': 'Не указано'\n",
    "}\n",
    "\n",
    "df['road_rank'] = df['road_rank'].replace(replace_map)\n",
    "sorted(df['road_rank'].unique())"
   ]
  },
  {
   "cell_type": "code",
   "execution_count": 112,
   "metadata": {},
   "outputs": [],
   "source": [
    "le = LabelEncoder()\n",
    "df['road_rank_cat'] = le.fit_transform(df['road_rank'])"
   ]
  },
  {
   "cell_type": "markdown",
   "metadata": {},
   "source": [
    "---\n",
    "\n",
    "**road_defects — defects of the road network transport and operational maintenance**"
   ]
  },
  {
   "cell_type": "code",
   "execution_count": 113,
   "metadata": {},
   "outputs": [
    {
     "data": {
      "text/plain": [
       "['Дефекты покрытия',\n",
       " 'Иные недостатки',\n",
       " 'Нарушения в размещении наружной рекламы',\n",
       " 'Не установлены',\n",
       " 'Недостатки зимнего содержания',\n",
       " 'Недостаточное освещение',\n",
       " 'Неисправное освещение',\n",
       " 'Неисправность светофора',\n",
       " 'Неправильное применение, плохая видимость дорожных знаков',\n",
       " 'Неровное покрытие',\n",
       " 'Несоответствие дорожных ограждений предъявляемым требованиям',\n",
       " 'Несоответствие железнодорожного переезда предъявляемым требованиям',\n",
       " 'Несоответствие люков смотровых колодцев и ливневой канализации предъявляемым требованиям',\n",
       " 'Неудовлетворительное состояние обочин',\n",
       " 'Неудовлетворительное состояние разделительной полосы',\n",
       " 'Низкие сцепные качества покрытия',\n",
       " 'Ограничение видимости',\n",
       " 'Отклонение верха головки рельса трамвайных (железнодорожных) путей, расположенных в пределах проезжей части, относительно покрытия, более чем на 2,0 см',\n",
       " 'Отсутствие временных ТСОД в местах проведения работ',\n",
       " 'Отсутствие дорожных знаков в необходимых местах',\n",
       " 'Отсутствие дорожных ограждений в необходимых местах',\n",
       " 'Отсутствие направляющих устройств и световозвращающих элементов на них',\n",
       " 'Отсутствие освещения',\n",
       " 'Отсутствие пешеходных ограждений в необходимых местах',\n",
       " 'Отсутствие тротуаров (пешеходных дорожек)',\n",
       " 'Отсутствие элементов обустройства остановочного пункта общественного пассажирского транспорта',\n",
       " 'Отсутствие, плохая различимость вертикальной разметки',\n",
       " 'Отсутствие, плохая различимость горизонтальной разметки проезжей части',\n",
       " 'Плохая видимость световозвращателей, размещенных на дорожных ограждениях',\n",
       " 'Плохая видимость светофора',\n",
       " 'Сужение проезжей части, наличие препятствий, затрудняющих движение транспортных средств']"
      ]
     },
     "execution_count": 113,
     "metadata": {},
     "output_type": "execute_result"
    }
   ],
   "source": [
    "sorted(df['road_defects'].unique())"
   ]
  },
  {
   "cell_type": "code",
   "execution_count": 114,
   "metadata": {},
   "outputs": [
    {
     "data": {
      "text/plain": [
       "['Видимость',\n",
       " 'Дорожные знаки',\n",
       " 'Зимнее содержание',\n",
       " 'Люки и колодцы',\n",
       " 'Наружная реклама',\n",
       " 'Не указано',\n",
       " 'Обочины и разделительные полосы',\n",
       " 'Ограждения',\n",
       " 'Освещение',\n",
       " 'Отсутствие ТСОД',\n",
       " 'Переезды и ж/д инфраструктура',\n",
       " 'Пешеходная инфраструктура',\n",
       " 'Покрытие',\n",
       " 'Прочее',\n",
       " 'Разметка']"
      ]
     },
     "execution_count": 114,
     "metadata": {},
     "output_type": "execute_result"
    }
   ],
   "source": [
    "replace_map = {\n",
    "    # Lighting and traffic lights\n",
    "    'Недостаточное освещение': 'Освещение',\n",
    "    'Неисправное освещение': 'Освещение',\n",
    "    'Отсутствие освещения': 'Освещение',\n",
    "    'Плохая видимость светофора': 'Освещение',\n",
    "    'Неисправность светофора': 'Освещение',\n",
    "\n",
    "    # Pavement and roadway\n",
    "    'Дефекты покрытия': 'Покрытие',\n",
    "    'Неровное покрытие': 'Покрытие',\n",
    "    'Низкие сцепные качества покрытия': 'Покрытие',\n",
    "    'Сужение проезжей части, наличие препятствий, затрудняющих движение транспортных средств': 'Покрытие',\n",
    "    'Отклонение верха головки рельса трамвайных (железнодорожных) путей, расположенных в пределах проезжей части, относительно покрытия, более чем на 2,0 см': 'Покрытие',\n",
    "\n",
    "    # Markup\n",
    "    'Отсутствие, плохая различимость вертикальной разметки': 'Разметка',\n",
    "    'Отсутствие, плохая различимость горизонтальной разметки проезжей части': 'Разметка',\n",
    "\n",
    "    # Signs\n",
    "    'Отсутствие дорожных знаков в необходимых местах': 'Дорожные знаки',\n",
    "    'Неправильное применение, плохая видимость дорожных знаков': 'Дорожные знаки',\n",
    "\n",
    "    # Fences and devices\n",
    "    'Отсутствие дорожных ограждений в необходимых местах': 'Ограждения',\n",
    "    'Отсутствие пешеходных ограждений в необходимых местах': 'Ограждения',\n",
    "    'Плохая видимость световозвращателей, размещенных на дорожных ограждениях': 'Ограждения',\n",
    "    'Отсутствие направляющих устройств и световозвращающих элементов на них': 'Ограждения',\n",
    "\n",
    "    # Sidewalks, bus stops\n",
    "    'Отсутствие тротуаров (пешеходных дорожек)': 'Пешеходная инфраструктура',\n",
    "    'Отсутствие элементов обустройства остановочного пункта общественного пассажирского транспорта': 'Пешеходная инфраструктура',\n",
    "\n",
    "    # Road shoulders and median strips\n",
    "    'Неудовлетворительное состояние обочин': 'Обочины и разделительные полосы',\n",
    "    'Неудовлетворительное состояние разделительной полосы': 'Обочины и разделительные полосы',\n",
    "\n",
    "    # Railway, manholes, crossings\n",
    "    'Несоответствие железнодорожного переезда предъявляемым требованиям': 'Переезды и ж/д инфраструктура',\n",
    "    'Несоответствие люков смотровых колодцев и ливневой канализации предъявляемым требованиям': 'Люки и колодцы',\n",
    "    \n",
    "    # Other\n",
    "    'Отсутствие временных ТСОД в местах проведения работ': 'Отсутствие ТСОД',\n",
    "    'Нарушения в размещении наружной рекламы': 'Наружная реклама',\n",
    "    'Недостатки зимнего содержания': 'Зимнее содержание',\n",
    "    'Несоответствие дорожных ограждений предъявляемым требованиям': 'Ограждения',\n",
    "    'Ограничение видимости': 'Видимость',\n",
    "    'Иные недостатки': 'Прочее',\n",
    "    'Не установлены': 'Не указано'\n",
    "}\n",
    "\n",
    "df['road_defects'] = df['road_defects'].replace(replace_map)\n",
    "sorted(df['road_defects'].unique())"
   ]
  },
  {
   "cell_type": "code",
   "execution_count": 115,
   "metadata": {},
   "outputs": [],
   "source": [
    "le = LabelEncoder()\n",
    "df['road_defects_cat'] = le.fit_transform(df['road_defects'])"
   ]
  },
  {
   "cell_type": "markdown",
   "metadata": {},
   "source": [
    "---\n",
    "**traffic_changes — info about changes in traffic**"
   ]
  },
  {
   "cell_type": "code",
   "execution_count": 116,
   "metadata": {},
   "outputs": [
    {
     "data": {
      "text/plain": [
       "['Движение полностью перекрыто',\n",
       " 'Движение частично перекрыто',\n",
       " 'Режим движения не изменялся']"
      ]
     },
     "execution_count": 116,
     "metadata": {},
     "output_type": "execute_result"
    }
   ],
   "source": [
    "sorted(df['traffic_changes'].unique())"
   ]
  },
  {
   "cell_type": "code",
   "execution_count": 117,
   "metadata": {},
   "outputs": [
    {
     "data": {
      "text/plain": [
       "[0, 1]"
      ]
     },
     "execution_count": 117,
     "metadata": {},
     "output_type": "execute_result"
    }
   ],
   "source": [
    "def get_changes_in_traffic(category):\n",
    "    if category in ['Движение частично перекрыто', 'Движение полностью перекрыто']:\n",
    "        return 1\n",
    "    else:\n",
    "        return 0\n",
    "\n",
    "df['traffic_changes_bin'] = df['traffic_changes'].apply(get_changes_in_traffic)\n",
    "sorted(df['traffic_changes_bin'].unique())"
   ]
  },
  {
   "cell_type": "code",
   "execution_count": 118,
   "metadata": {},
   "outputs": [],
   "source": [
    "le = LabelEncoder()\n",
    "df['traffic_changes_cat'] = le.fit_transform(df['traffic_changes'])"
   ]
  },
  {
   "cell_type": "markdown",
   "metadata": {},
   "source": [
    "---\n",
    "**road_surface — road surface condition**"
   ]
  },
  {
   "cell_type": "code",
   "execution_count": 119,
   "metadata": {},
   "outputs": [
    {
     "data": {
      "text/plain": [
       "['Гололедица',\n",
       " 'Загрязненное',\n",
       " 'Залитое (покрытое) водой',\n",
       " 'Заснеженное',\n",
       " 'Мокрое',\n",
       " 'Не установлено',\n",
       " 'Обработанное противогололедными материалами',\n",
       " 'Пыльное',\n",
       " 'Свежеуложенная поверхностная обработка',\n",
       " 'Со снежным накатом',\n",
       " 'Сухое']"
      ]
     },
     "execution_count": 119,
     "metadata": {},
     "output_type": "execute_result"
    }
   ],
   "source": [
    "sorted(df['road_surface'].unique())"
   ]
  },
  {
   "cell_type": "code",
   "execution_count": 120,
   "metadata": {},
   "outputs": [
    {
     "data": {
      "text/plain": [
       "['Гололед',\n",
       " 'Заснеженное',\n",
       " 'Мокрое',\n",
       " 'Не указано',\n",
       " 'Обработанное',\n",
       " 'Обработка',\n",
       " 'Пыльное',\n",
       " 'Сухое']"
      ]
     },
     "execution_count": 120,
     "metadata": {},
     "output_type": "execute_result"
    }
   ],
   "source": [
    "replace_map = {\n",
    "    'Сухое': 'Сухое',\n",
    "    \n",
    "    'Мокрое': 'Мокрое',\n",
    "    'Залитое (покрытое) водой': 'Мокрое',\n",
    "    \n",
    "    'Заснеженное': 'Заснеженное',\n",
    "    'Со снежным накатом': 'Заснеженное',\n",
    "    'Гололедица': 'Гололед',\n",
    "    \n",
    "    'Обработанное противогололедными материалами': 'Обработанное',\n",
    "    \n",
    "    'Пыльное': 'Пыльное',\n",
    "    'Загрязненное': 'Пыльное',\n",
    "    \n",
    "    'Свежеуложенная поверхностная обработка': 'Обработка',\n",
    "    \n",
    "    'Не установлено': 'Не указано'\n",
    "}\n",
    "\n",
    "df['road_surface'] = df['road_surface'].replace(replace_map)\n",
    "sorted(df['road_surface'].unique())"
   ]
  },
  {
   "cell_type": "code",
   "execution_count": 121,
   "metadata": {},
   "outputs": [],
   "source": [
    "le = LabelEncoder()\n",
    "df['road_surface_cat'] = le.fit_transform(df['road_surface'])"
   ]
  },
  {
   "cell_type": "markdown",
   "metadata": {},
   "source": [
    "---\n",
    "\n",
    "__TYPE__"
   ]
  },
  {
   "cell_type": "code",
   "execution_count": 122,
   "metadata": {},
   "outputs": [
    {
     "data": {
      "text/plain": [
       "['Возгорание вследствие технической неисправности движущегося или остановившегося ТС, участвующего в дорожном движении.',\n",
       " 'Иной вид ДТП',\n",
       " 'Наезд на велосипедиста',\n",
       " 'Наезд на внезапно возникшее препятствие',\n",
       " 'Наезд на гужевой транспорт',\n",
       " 'Наезд на животное',\n",
       " 'Наезд на лицо, не являющееся участником дорожного движения, осуществляющее какую-либо другую деятельность',\n",
       " 'Наезд на лицо, не являющееся участником дорожного движения, осуществляющее несение службы',\n",
       " 'Наезд на лицо, не являющееся участником дорожного движения, осуществляющее производство работ',\n",
       " 'Наезд на пешехода',\n",
       " 'Наезд на препятствие',\n",
       " 'Наезд на стоящее ТС',\n",
       " 'Опрокидывание',\n",
       " 'Отбрасывание предмета',\n",
       " 'Падение груза',\n",
       " 'Падение пассажира',\n",
       " 'Столкновение',\n",
       " 'Съезд с дороги']"
      ]
     },
     "execution_count": 122,
     "metadata": {},
     "output_type": "execute_result"
    }
   ],
   "source": [
    "sorted(df['TYPE'].unique())"
   ]
  },
  {
   "cell_type": "code",
   "execution_count": 123,
   "metadata": {},
   "outputs": [
    {
     "data": {
      "text/plain": [
       "['Другое',\n",
       " 'Наезд на велосипедиста',\n",
       " 'Наезд на животное',\n",
       " 'Наезд на пешехода',\n",
       " 'Наезд на препятствие',\n",
       " 'Наезд на человека',\n",
       " 'Прочее',\n",
       " 'Столкновение']"
      ]
     },
     "execution_count": 123,
     "metadata": {},
     "output_type": "execute_result"
    }
   ],
   "source": [
    "replace_map = {\n",
    "    # Collisions\n",
    "    'Столкновение': 'Столкновение',\n",
    "    'Опрокидывание': 'Столкновение',\n",
    "    'Съезд с дороги': 'Столкновение',\n",
    "\n",
    "    # Collisions with pedestrians and people\n",
    "    'Наезд на пешехода': 'Наезд на пешехода',\n",
    "    'Наезд на лицо, не являющееся участником дорожного движения, осуществляющее какую-либо другую деятельность': 'Наезд на человека',\n",
    "    'Наезд на лицо, не являющееся участником дорожного движения, осуществляющее несение службы': 'Наезд на человека',\n",
    "    'Наезд на лицо, не являющееся участником дорожного движения, осуществляющее производство работ': 'Наезд на человека',\n",
    "    'Наезд на велосипедиста': 'Наезд на велосипедиста',\n",
    "\n",
    "    # Collisions with objects and obstacles\n",
    "    'Наезд на препятствие': 'Наезд на препятствие',\n",
    "    'Наезд на стоящее ТС': 'Наезд на препятствие',\n",
    "    'Наезд на внезапно возникшее препятствие': 'Наезд на препятствие',\n",
    "\n",
    "    # Other raids\n",
    "    'Наезд на животное': 'Наезд на животное',\n",
    "    'Наезд на гужевой транспорт': 'Наезд на животное',\n",
    "\n",
    "    # Other\n",
    "    'Падение пассажира': 'Прочее',\n",
    "    'Падение груза': 'Прочее',\n",
    "    'Отбрасывание предмета': 'Прочее',\n",
    "    'Возгорание вследствие технической неисправности движущегося или остановившегося ТС, участвующего в дорожном движении.': 'Прочее',\n",
    "    \n",
    "    'Иной вид ДТП': 'Другое'\n",
    "}\n",
    "\n",
    "df['TYPE'] = df['TYPE'].replace(replace_map)\n",
    "sorted(df['TYPE'].unique())"
   ]
  },
  {
   "cell_type": "code",
   "execution_count": 124,
   "metadata": {},
   "outputs": [],
   "source": [
    "le = LabelEncoder()\n",
    "df['TYPE_cat'] = le.fit_transform(df['TYPE'])"
   ]
  },
  {
   "cell_type": "markdown",
   "metadata": {},
   "source": [
    "--- \n",
    "\n",
    "__street_rank — street significance__"
   ]
  },
  {
   "cell_type": "code",
   "execution_count": 125,
   "metadata": {},
   "outputs": [
    {
     "data": {
      "text/plain": [
       "['Велосипедные дорожки',\n",
       " 'Вне НП',\n",
       " 'Второстепенные улицы в жилой застройке (переулки)',\n",
       " 'Главные улицы',\n",
       " 'Иные места',\n",
       " 'Магистральные дороги',\n",
       " 'Магистральные улицы общегородского значения',\n",
       " 'Магистральные улицы районного значения',\n",
       " 'Назначение неизвестно',\n",
       " 'Основные улицы',\n",
       " 'Основные улицы в жилой застройке',\n",
       " 'Парковые дороги',\n",
       " 'Парковые дороги, пешеходные улицы (пешеходные зоны)',\n",
       " 'Пешеходные улицы',\n",
       " 'Поселковые дороги',\n",
       " 'Проезды',\n",
       " 'Улицы и дороги местного значения в жилой застройке',\n",
       " 'Улицы и дороги местного значения в производственных, промышленных и коммунально-складских зонах',\n",
       " 'Улицы и дороги местного значения научно-производственных промышленных и коммунально-складских районов',\n",
       " 'Хозяйственные проезды, скотопрогоны']"
      ]
     },
     "execution_count": 125,
     "metadata": {},
     "output_type": "execute_result"
    }
   ],
   "source": [
    "sorted(df['street_rank'].unique())"
   ]
  },
  {
   "cell_type": "code",
   "execution_count": 126,
   "metadata": {},
   "outputs": [
    {
     "data": {
      "text/plain": [
       "['Вне НП',\n",
       " 'Другое',\n",
       " 'Магистральная дорога',\n",
       " 'Магистральная улица',\n",
       " 'Не указано',\n",
       " 'Пешеходная зона',\n",
       " 'Улица местного значения']"
      ]
     },
     "execution_count": 126,
     "metadata": {},
     "output_type": "execute_result"
    }
   ],
   "source": [
    "replace_map = {\n",
    "    # Highways and main streets\n",
    "    'Магистральные дороги': 'Магистральная дорога',\n",
    "    \n",
    "    'Магистральные улицы общегородского значения': 'Магистральная улица',\n",
    "    'Магистральные улицы районного значения': 'Магистральная улица',\n",
    "    'Главные улицы': 'Магистральная улица',\n",
    "    'Основные улицы': 'Магистральная улица',\n",
    "    'Основные улицы в жилой застройке': 'Магистральная улица',\n",
    "\n",
    "    # Local streets\n",
    "    'Второстепенные улицы в жилой застройке (переулки)': 'Улица местного значения',\n",
    "    'Улицы и дороги местного значения в жилой застройке': 'Улица местного значения',\n",
    "    'Улицы и дороги местного значения в производственных, промышленных и коммунально-складских зонах': 'Улица местного значения',\n",
    "    'Улицы и дороги местного значения научно-производственных промышленных и коммунально-складских районов': 'Улица местного значения',\n",
    "    'Проезды': 'Улица местного значения',\n",
    "    'Поселковые дороги': 'Улица местного значения',\n",
    "    'Хозяйственные проезды, скотопрогоны': 'Улица местного значения',\n",
    "\n",
    "    # Pedestrian areas and parks\n",
    "    'Пешеходные улицы': 'Пешеходная зона',\n",
    "    'Парковые дороги': 'Пешеходная зона',\n",
    "    'Парковые дороги, пешеходные улицы (пешеходные зоны)': 'Пешеходная зона',\n",
    "    'Велосипедные дорожки': 'Пешеходная зона',\n",
    "\n",
    "    # Other\n",
    "    'Вне НП': 'Вне НП',\n",
    "    'Назначение неизвестно': 'Не указано',\n",
    "    'Иные места': 'Другое'\n",
    "}\n",
    "\n",
    "df['street_rank'] = df['street_rank'].replace(replace_map)\n",
    "sorted(df['street_rank'].unique())"
   ]
  },
  {
   "cell_type": "markdown",
   "metadata": {},
   "source": [
    "To create the final datasets in our task, we need to filter out observations that occurred outside the city limits, as accidents in populated areas happen under completely different conditions and cannot be compared to those on toll roads.\n",
    "\n",
    "As we know the variable `NP`, or populated area, turned out to be completely useless because it showed the nearest populated area to the accident, rather than whether the accident occurred in a populated area or not. However, we still have the `street_rank` variable, which accurately reflects where the accident occurred. We'll extract this information into a separate binary feature `out_of_town` before transforming `street_rank` into a categorical variable, since its original meaning will no longer be accessible after encoding."
   ]
  },
  {
   "cell_type": "code",
   "execution_count": 127,
   "metadata": {},
   "outputs": [],
   "source": [
    "df['out_of_town'] = df['street_rank'].isin([\n",
    "    'Вне НП',\n",
    "    'Не указано',\n",
    "    'Магистральная дорога'\n",
    "]).astype(int)"
   ]
  },
  {
   "cell_type": "code",
   "execution_count": 128,
   "metadata": {},
   "outputs": [],
   "source": [
    "le = LabelEncoder()\n",
    "df['street_rank_cat'] = le.fit_transform(df['street_rank'])"
   ]
  },
  {
   "cell_type": "markdown",
   "metadata": {},
   "source": [
    "---\n",
    "\n",
    "__weather__"
   ]
  },
  {
   "cell_type": "code",
   "execution_count": 129,
   "metadata": {},
   "outputs": [
    {
     "data": {
      "text/plain": [
       "['Дождь',\n",
       " 'Метель',\n",
       " 'Пасмурно',\n",
       " 'Снегопад',\n",
       " 'Температура выше +30С',\n",
       " 'Температура ниже -30С',\n",
       " 'Туман',\n",
       " 'Ураганный ветер',\n",
       " 'Ясно']"
      ]
     },
     "execution_count": 129,
     "metadata": {},
     "output_type": "execute_result"
    }
   ],
   "source": [
    "sorted(df['weather'].unique())"
   ]
  },
  {
   "cell_type": "code",
   "execution_count": 130,
   "metadata": {},
   "outputs": [
    {
     "data": {
      "text/plain": [
       "array(['nothing', 'LOW_VISIBILITY', 'SMOW', 'HURRICANE_WIND',\n",
       "       'ABOVE_30_DGR', 'BELOW_30_DGR'], dtype=object)"
      ]
     },
     "execution_count": 130,
     "metadata": {},
     "output_type": "execute_result"
    }
   ],
   "source": [
    "def get_weather(category):\n",
    "    if category in ['Снегопад', 'Метель']:\n",
    "        return 'SMOW'\n",
    "    elif category in ['Туман', 'Пасмурно']:\n",
    "        return 'LOW_VISIBILITY'\n",
    "    elif category == 'Температура выше +30С':\n",
    "        return 'ABOVE_30_DGR'\n",
    "    elif category == 'Температура ниже -30С':\n",
    "        return 'BELOW_30_DGR'\n",
    "    elif category == 'Ураганный ветер':\n",
    "        return 'HURRICANE_WIND'\n",
    "    else:\n",
    "        return 'nothing'\n",
    "\n",
    "df['weather_interpretable'] = df['weather'].apply(get_weather)\n",
    "df['weather_interpretable'].unique()"
   ]
  },
  {
   "cell_type": "code",
   "execution_count": 131,
   "metadata": {},
   "outputs": [
    {
     "data": {
      "text/plain": [
       "['Жара',\n",
       " 'Мороз',\n",
       " 'Осадки',\n",
       " 'Плохая видимость',\n",
       " 'Сильный ветер',\n",
       " 'Хорошая погода']"
      ]
     },
     "execution_count": 131,
     "metadata": {},
     "output_type": "execute_result"
    }
   ],
   "source": [
    "replace_map = {\n",
    "    # Precipitation\n",
    "    'Дождь': 'Осадки',\n",
    "    'Снегопад': 'Осадки',\n",
    "    'Метель': 'Осадки',\n",
    "\n",
    "    # Poor visibility\n",
    "    'Туман': 'Плохая видимость',\n",
    "    'Пасмурно': 'Плохая видимость',\n",
    "\n",
    "    # Extreme temperatures\n",
    "    'Температура выше +30С': 'Жара',\n",
    "    'Температура ниже -30С': 'Мороз',\n",
    "\n",
    "    # Wind\n",
    "    'Ураганный ветер': 'Сильный ветер',\n",
    "\n",
    "    # Good weather\n",
    "    'Ясно': 'Хорошая погода'\n",
    "}\n",
    "\n",
    "df['weather'] = df['weather'].replace(replace_map)\n",
    "sorted(df['weather'].unique())"
   ]
  },
  {
   "cell_type": "code",
   "execution_count": 132,
   "metadata": {},
   "outputs": [],
   "source": [
    "le = LabelEncoder()\n",
    "df['weather_cat'] = le.fit_transform(df['weather'])"
   ]
  },
  {
   "cell_type": "markdown",
   "metadata": {},
   "source": [
    "---\n",
    "\n",
    "__adj_objects — road network objects near RTA__"
   ]
  },
  {
   "cell_type": "code",
   "execution_count": 133,
   "metadata": {},
   "outputs": [
    {
     "data": {
      "text/plain": [
       "['АЗС',\n",
       " 'Автовокзал (автостанция)',\n",
       " 'Автостоянка (отделенная от проезжей части)',\n",
       " 'Административные здания',\n",
       " 'Аэропорт, ж/д вокзал (ж/д станция), речной или морской порт (пристань)',\n",
       " 'Гаражные постройки (гаражный кооператив, товарищество либо иное место концентрированного размещения гаражей)',\n",
       " 'Жилые дома индивидуальной застройки',\n",
       " 'Зоны отдыха',\n",
       " 'Иная образовательная организация',\n",
       " 'Иное образовательное учреждение',\n",
       " 'Иной объект',\n",
       " 'Кладбище',\n",
       " 'Крупный торговый объект (являющийся объектом массового тяготения пешеходов и (или) транспорта)',\n",
       " 'Ледовая переправа',\n",
       " 'Ледовая переправа (официально открытая и оборудованная);',\n",
       " 'Лечебные учреждения',\n",
       " 'Медицинские (лечебные) организации',\n",
       " 'Многоквартирные жилые дома',\n",
       " 'Мост',\n",
       " 'Надземный пешеходный переход',\n",
       " 'Нерегулируемое пересечение с круговым движением',\n",
       " 'Нерегулируемый ж/д переезд',\n",
       " 'Нерегулируемый перекрёсток',\n",
       " 'Нерегулируемый пешеходный переход',\n",
       " 'Объект (здание, сооружение) религиозного культа',\n",
       " 'Объект строительства',\n",
       " 'Объект торговли, общественного питания на автодороге вне НП',\n",
       " 'Одиночный торговый объект, являющийся местом притяжения транспорта и (или) пешеходов',\n",
       " 'Остановка маршрутного такси',\n",
       " 'Остановка общественного транспорта',\n",
       " 'Остановка трамвая',\n",
       " 'Отсутствие в непосредственной близости объектов УДС и объектов притяжения',\n",
       " 'Подземный пешеходный переход',\n",
       " 'Производственное предприятие',\n",
       " 'Пункт весового контроля',\n",
       " 'Регулируемый ж/д переезд без дежурного',\n",
       " 'Регулируемый ж/д переезд с дежурным',\n",
       " 'Регулируемый перекрёсток',\n",
       " 'Регулируемый пешеходный переход',\n",
       " 'СП ДПС (КПМ)',\n",
       " 'Спортивные и развлекательные объекты',\n",
       " 'Стихийно возникшая (не предусмотренная) ледовая переправа',\n",
       " 'Территориальное подразделение МВД России (либо его структурное подразделение)',\n",
       " 'Тоннель',\n",
       " 'Школа либо иная детская (в т.ч. дошкольная) организация',\n",
       " 'Школа либо иное детское (в т.ч. дошкольное) учреждение',\n",
       " 'Эстакада, путепровод']"
      ]
     },
     "execution_count": 133,
     "metadata": {},
     "output_type": "execute_result"
    }
   ],
   "source": [
    "sorted(df['adj_objects'].unique())"
   ]
  },
  {
   "cell_type": "code",
   "execution_count": 134,
   "metadata": {},
   "outputs": [
    {
     "data": {
      "text/plain": [
       "24722"
      ]
     },
     "execution_count": 134,
     "metadata": {},
     "output_type": "execute_result"
    }
   ],
   "source": [
    "df['road_name'].nunique()"
   ]
  },
  {
   "cell_type": "code",
   "execution_count": 135,
   "metadata": {},
   "outputs": [
    {
     "data": {
      "text/plain": [
       "['Дорожная инфраструктура',\n",
       " 'Жилая застройка',\n",
       " 'Ледовая переправа',\n",
       " 'Медицина',\n",
       " 'Нет объектов',\n",
       " 'Образование',\n",
       " 'Остановка',\n",
       " 'Прочее',\n",
       " 'Торговля',\n",
       " 'Транспортная инфраструктура']"
      ]
     },
     "execution_count": 135,
     "metadata": {},
     "output_type": "execute_result"
    }
   ],
   "source": [
    "replace_map = {\n",
    "    # Education\n",
    "    'Школа либо иная детская (в т.ч. дошкольная) организация': 'Образование',\n",
    "    'Школа либо иное детское (в т.ч. дошкольное) учреждение': 'Образование',\n",
    "    'Иная образовательная организация': 'Образование',\n",
    "    'Иное образовательное учреждение': 'Образование',\n",
    "\n",
    "    # Medicine\n",
    "    'Лечебные учреждения': 'Медицина',\n",
    "    'Медицинские (лечебные) организации': 'Медицина',\n",
    "\n",
    "    # Residential development\n",
    "    'Жилые дома индивидуальной застройки': 'Жилая застройка',\n",
    "    'Многоквартирные жилые дома': 'Жилая застройка',\n",
    "\n",
    "    # Trade and food\n",
    "    'Крупный торговый объект (являющийся объектом массового тяготения пешеходов и (или) транспорта)': 'Торговля',\n",
    "    'Одиночный торговый объект, являющийся местом притяжения транспорта и (или) пешеходов': 'Торговля',\n",
    "    'Объект торговли, общественного питания на автодороге вне НП': 'Торговля',\n",
    "\n",
    "    # Transport facilities\n",
    "    'АЗС': 'Транспортная инфраструктура',\n",
    "    'Автовокзал (автостанция)': 'Транспортная инфраструктура',\n",
    "    'Аэропорт, ж/д вокзал (ж/д станция), речной или морской порт (пристань)': 'Транспортная инфраструктура',\n",
    "    'Остановка маршрутного такси': 'Остановка',\n",
    "    'Остановка общественного транспорта': 'Остановка',\n",
    "    'Остановка трамвая': 'Остановка',\n",
    "    'Гаражные постройки (гаражный кооператив, товарищество либо иное место концентрированного размещения гаражей)': 'Транспортная инфраструктура',\n",
    "    'Автостоянка (отделенная от проезжей части)': 'Транспортная инфраструктура',\n",
    "    'Пункт весового контроля': 'Транспортная инфраструктура',\n",
    "\n",
    "    # Road infrastructure\n",
    "    'Регулируемый перекрёсток': 'Дорожная инфраструктура',\n",
    "    'Нерегулируемый перекрёсток': 'Дорожная инфраструктура',\n",
    "    'Нерегулируемое пересечение с круговым движением': 'Дорожная инфраструктура',\n",
    "    'Регулируемый пешеходный переход': 'Дорожная инфраструктура',\n",
    "    'Нерегулируемый пешеходный переход': 'Дорожная инфраструктура',\n",
    "    'Подземный пешеходный переход': 'Дорожная инфраструктура',\n",
    "    'Надземный пешеходный переход': 'Дорожная инфраструктура',\n",
    "    'Регулируемый ж/д переезд с дежурным': 'Дорожная инфраструктура',\n",
    "    'Регулируемый ж/д переезд без дежурного': 'Дорожная инфраструктура',\n",
    "    'Нерегулируемый ж/д переезд': 'Дорожная инфраструктура',\n",
    "    'Мост': 'Дорожная инфраструктура',\n",
    "    'Эстакада, путепровод': 'Дорожная инфраструктура',\n",
    "    'Тоннель': 'Дорожная инфраструктура',\n",
    "    'СП ДПС (КПМ)': 'Дорожная инфраструктура',\n",
    "\n",
    "    # Other\n",
    "    'Объект (здание, сооружение) религиозного культа': 'Прочее',\n",
    "    'Административные здания': 'Прочее',\n",
    "    'Зоны отдыха': 'Прочее',\n",
    "    'Кладбище': 'Прочее',\n",
    "    'Объект строительства': 'Прочее',\n",
    "    'Производственное предприятие': 'Прочее',\n",
    "    'Территориальное подразделение МВД России (либо его структурное подразделение)': 'Прочее',\n",
    "    'Спортивные и развлекательные объекты': 'Прочее',\n",
    "    'Иной объект': 'Прочее',\n",
    "\n",
    "    # Ice crossing\n",
    "    'Ледовая переправа': 'Ледовая переправа',\n",
    "    'Ледовая переправа (официально открытая и оборудованная);': 'Ледовая переправа',\n",
    "    'Стихийно возникшая (не предусмотренная) ледовая переправа': 'Ледовая переправа',\n",
    "\n",
    "    # Absence of objects\n",
    "    'Отсутствие в непосредственной близости объектов УДС и объектов притяжения': 'Нет объектов'\n",
    "}\n",
    "\n",
    "df['adj_objects'] = df['adj_objects'].replace(replace_map)\n",
    "sorted(df['adj_objects'].unique())"
   ]
  },
  {
   "cell_type": "code",
   "execution_count": 136,
   "metadata": {},
   "outputs": [
    {
     "data": {
      "text/plain": [
       "['LIVING_OBJ', 'ROAD_INFRSTRCT', 'SOCIAL_OBJ', 'TRANSPORT_OBJ', 'no_obj']"
      ]
     },
     "execution_count": 136,
     "metadata": {},
     "output_type": "execute_result"
    }
   ],
   "source": [
    "def get_objects(category):\n",
    "    if category in ['Образование', 'Медицина', 'Торговля', 'Прочее']:\n",
    "        return 'SOCIAL_OBJ'\n",
    "    elif category in ['Транспортная инфраструктура', 'Остановка']:\n",
    "        return 'TRANSPORT_OBJ'\n",
    "    elif category == 'Жилая застройка':\n",
    "        return 'LIVING_OBJ'\n",
    "    elif category == 'Дорожная инфраструктура':\n",
    "        return 'ROAD_INFRSTRCT'\n",
    "    else:\n",
    "        return 'no_obj'\n",
    "\n",
    "df['adj_objects_interpretable'] = df['adj_objects'].apply(get_objects)\n",
    "sorted(df['adj_objects_interpretable'].unique())"
   ]
  },
  {
   "cell_type": "code",
   "execution_count": 137,
   "metadata": {},
   "outputs": [],
   "source": [
    "le = LabelEncoder()\n",
    "df['adj_objects_cat'] = le.fit_transform(df['adj_objects'])"
   ]
  },
  {
   "cell_type": "markdown",
   "metadata": {},
   "source": [
    "---\n",
    "__cause_factors — factors influencing the traffic__"
   ]
  },
  {
   "cell_type": "code",
   "execution_count": 138,
   "metadata": {},
   "outputs": [
    {
     "data": {
      "text/plain": [
       "['Изменение в режиме движения вследствие согласованного массового мероприятия',\n",
       " 'Конструктивное сужение проезжей части вследствие уменьшения количества полос движения',\n",
       " 'Наличие  пересечения (примыкания), не предусмотренного проектной документацией',\n",
       " 'Наличие на проезжей части неисправного ТС, мешающего движению',\n",
       " 'Наличие на проезжей части, обочине или тротуаре торгового или иного объекта, затрудняющего движение или парковку транспорта и (или) движение пешеходов',\n",
       " 'Наличие на тротуарах (пешеходных дорожках, обочинах) припаркованного  транспорта,   затрудняющего движение пешеходов',\n",
       " 'Наличие пересечения (примыкания), не предусмотренного проектной документацией» (не применяется с 12.2020)',\n",
       " 'Нарушение режима движения вследствие несогласованного массового мероприятия',\n",
       " 'Несоответствие габарита моста (путепровода) ширине проезжей части  на подходах к нему',\n",
       " \"Несоответствие категории дороги (фактических геометрических характеристик) интенсивности движения (исходя из требований СНиП 2.05.02.-85 'Автомобильные дороги')\",\n",
       " 'Несоответствие категории дороги (фактических геометрических характеристик) интенсивности движения (исходя из требований СНиП 2.05.02.-85 ?Автомобильные дороги?)',\n",
       " 'Несоответствие категории дороги (фактических геометрических характеристик) интенсивности движения (исходя из требований СП 34.13330.2012 «Свод правил. Автомобильные дороги. Актуализированная редакция СНиП 2.05.02-85*»)',\n",
       " 'Несоответствие параметров дороги, в т.ч. геометрических, её категории на месте ДТП или на подходах к нему (величина радиуса поворота, ширина полос движения, обочин, крутизна откосов насыпи, отсутствие разделительной полосы, отсутствие виража и т.д.)',\n",
       " 'Неудовлетворительное состояние тротуара или пешеходной дорожки (в  т.ч. недостатки зимнего содержания), затрудняющие или препятствующие движению пешеходов',\n",
       " 'Оказание влияния на движение транспортного потока или отдельного транспортного средства, наличия или внезапного возникновения на проезжей части посторонних предметов (упавшее дерево или мачта освещения, осыпь камней, селевой вынос, груз с другого транспортного сред-ства или конструктивный элемент другого транспортного средства и т.д.)',\n",
       " 'Оказание влияния на движение транспортного потока или отдельного транспортного средства, наличия или внезапного появления на проезжей части животных',\n",
       " 'Отключение электроснабжения на данном элементе УДС (улице, дороге, площади, дворе и т.д.) в целом',\n",
       " 'Отключение электроснабжения на данном элементе УДС (улице, дороге, площади, дворе и т.д.) в целом (не применяется с 12.2020)',\n",
       " 'Отключение электроснабжения целиком или частично в муниципальном образовании  (районе, городе, районе  города, посёлке, селе, деревне, ауле и т.д.)',\n",
       " 'Отключение электроснабжения целиком или частично в муниципальном образовании (районе, городе, районе города, посёлке, селе, деревне, ауле и т.д.)',\n",
       " 'Отсутствие дополнительных полос для движения (в т.ч. переходно-скоростных полос) в необходимых местах',\n",
       " 'Отсутствие дополнительных полос для движения (в т.ч. переходно-скоростных полос) в необходимых местах (не применяется с 12.2020)',\n",
       " 'Проведение дорожных и прочих работ без сужения проезжей части',\n",
       " 'Проведение работ на тротуарах (пешеходных дорожках, обочинах),  затрудняющих движение пешеходов',\n",
       " \"Работа светофора на регулируемом перекрёстке или регулируемом пешеходном переходе в режиме 'жёлтого мигания'\",\n",
       " 'Режим движения изменён вследствие проведения спецмероприятия',\n",
       " 'Режим движения нарушен вследствие ранее произошедшего ДТП',\n",
       " 'Сведения отсутствуют',\n",
       " 'Сужение проезжей части вследствие проведения работ',\n",
       " 'Сужение проезжей части припаркованным транспортом',\n",
       " 'Участок, контролируемый камерой автоматической фотовидеофиксации нарушений ПДД, не обозначенный соответствующим предупреждающим знаком',\n",
       " 'Участок, контролируемый камерой автоматической фотовидеофиксации нарушений ПДД, обозначенный соответствующим предупреждающим знаком',\n",
       " 'Участок, контролируемый мобильными автоматической фотовидеофиксации нарушений ПДД',\n",
       " 'Участок, контролируемый передвижными средствами автоматической фотовидеофиксации нарушений ПДД',\n",
       " 'Участок, контролируемый стационарными камерами автоматической фотовидеофиксации нарушений ПДД, не обозначенный соответствующим предупреждающим знаком',\n",
       " 'Участок, контролируемый стационарными камерами автоматической фотовидеофиксации нарушений ПДД, обозначенный соответствующим предупреждающим знаком',\n",
       " 'Участок, оборудованный искусственными неровностями',\n",
       " 'Участок, оборудованный искусственными неровностями и обозначенный соответствующими дорожными знаками и разметкой',\n",
       " 'Участок, оборудованный искусственными неровностями, не обозначенный соответствующими дорожными знаками и (или) разметкой',\n",
       " 'Участок, оборудованный шумовыми полосами']"
      ]
     },
     "execution_count": 138,
     "metadata": {},
     "output_type": "execute_result"
    }
   ],
   "source": [
    "sorted(df['cause_factors'].unique())"
   ]
  },
  {
   "cell_type": "code",
   "execution_count": 139,
   "metadata": {},
   "outputs": [
    {
     "data": {
      "text/plain": [
       "['ДТП ранее',\n",
       " 'Животные/препятствия',\n",
       " 'Искусственные неровности',\n",
       " 'Камера (мобильная)',\n",
       " 'Камера (не обозначена)',\n",
       " 'Камера (обозначена)',\n",
       " 'Конструктивное сужение',\n",
       " 'Массовое мероприятие',\n",
       " 'Нелегальное примыкание',\n",
       " 'Несоответствие габаритов',\n",
       " 'Несоответствие категории',\n",
       " 'Отключение электроснабжения',\n",
       " 'Отсутствие полос',\n",
       " 'Посторонние объекты',\n",
       " 'Проблемы на тротуаре',\n",
       " 'Работы без сужения',\n",
       " 'Работы на тротуарах',\n",
       " 'Режим светофора',\n",
       " 'Сведения отсутствуют',\n",
       " 'Сужение из-за работ',\n",
       " 'Сужение из-за транспорта',\n",
       " 'ТС мешает движению',\n",
       " 'Шумовые полосы']"
      ]
     },
     "execution_count": 139,
     "metadata": {},
     "output_type": "execute_result"
    }
   ],
   "source": [
    "replace_map = {\n",
    "    # Traffic disruptions due to events\n",
    "    'Изменение в режиме движения вследствие согласованного массового мероприятия': 'Массовое мероприятие',\n",
    "    'Нарушение режима движения вследствие несогласованного массового мероприятия': 'Массовое мероприятие',\n",
    "    'Режим движения изменён вследствие проведения спецмероприятия': 'Массовое мероприятие',\n",
    "\n",
    "    # Road accident as a cause\n",
    "    'Режим движения нарушен вследствие ранее произошедшего ДТП': 'ДТП ранее',\n",
    "\n",
    "    # Road works/narrowing\n",
    "    'Проведение дорожных и прочих работ без сужения проезжей части': 'Работы без сужения',\n",
    "    'Сужение проезжей части вследствие проведения работ': 'Сужение из-за работ',\n",
    "    'Сужение проезжей части припаркованным транспортом': 'Сужение из-за транспорта',\n",
    "    'Конструктивное сужение проезжей части вследствие уменьшения количества полос движения': 'Конструктивное сужение',\n",
    "\n",
    "    # Work on sidewalks/pedestrians\n",
    "    'Проведение работ на тротуарах (пешеходных дорожках, обочинах),  затрудняющих движение пешеходов': 'Работы на тротуарах',\n",
    "    'Неудовлетворительное состояние тротуара или пешеходной дорожки (в  т.ч. недостатки зимнего содержания), затрудняющие или препятствующие движению пешеходов': 'Проблемы на тротуаре',\n",
    "\n",
    "    # Defective/abandoned vehicle\n",
    "    'Наличие на проезжей части неисправного ТС, мешающего движению': 'ТС мешает движению',\n",
    "    'Наличие на тротуарах (пешеходных дорожках, обочинах) припаркованного  транспорта,   затрудняющего движение пешеходов': 'ТС мешает движению',\n",
    "    \n",
    "    # Foreign objects\n",
    "    'Наличие на проезжей части, обочине или тротуаре торгового или иного объекта, затрудняющего движение или парковку транспорта и (или) движение пешеходов': 'Посторонние объекты',\n",
    "    'Оказание влияния на движение транспортного потока или отдельного транспортного средства, наличия или внезапного возникновения на проезжей части посторонних предметов (упавшее дерево или мачта освещения, осыпь камней, селевой вынос, груз с другого транспортного сред-ства или конструктивный элемент другого транспортного средства и т.д.)': 'Посторонние объекты',\n",
    "    'Оказание влияния на движение транспортного потока или отдельного транспортного средства, наличия или внезапного появления на проезжей части животных': 'Животные/препятствия',\n",
    "\n",
    "    # Intersections, junctions\n",
    "    'Наличие  пересечения (примыкания), не предусмотренного проектной документацией': 'Нелегальное примыкание',\n",
    "    'Наличие пересечения (примыкания), не предусмотренного проектной документацией» (не применяется с 12.2020)': 'Нелегальное примыкание',\n",
    "\n",
    "    # Road non-compliance with standards\n",
    "    \"Несоответствие категории дороги (фактических геометрических характеристик) интенсивности движения (исходя из требований СНиП 2.05.02.-85 'Автомобильные дороги')\": 'Несоответствие категории',\n",
    "    \"Несоответствие категории дороги (фактических геометрических характеристик) интенсивности движения (исходя из требований СНиП 2.05.02.-85 ?Автомобильные дороги?)\": 'Несоответствие категории',\n",
    "    'Несоответствие категории дороги (фактических геометрических характеристик) интенсивности движения (исходя из требований СП 34.13330.2012 «Свод правил. Автомобильные дороги. Актуализированная редакция СНиП 2.05.02-85*»)': 'Несоответствие категории',\n",
    "    'Несоответствие параметров дороги, в т.ч. геометрических, её категории на месте ДТП или на подходах к нему (величина радиуса поворота, ширина полос движения, обочин, крутизна откосов насыпи, отсутствие разделительной полосы, отсутствие виража и т.д.)': 'Несоответствие категории',\n",
    "    'Несоответствие габарита моста (путепровода) ширине проезжей части  на подходах к нему': 'Несоответствие габаритов',\n",
    "\n",
    "    # Electricity supply\n",
    "    'Отключение электроснабжения на данном элементе УДС (улице, дороге, площади, дворе и т.д.) в целом': 'Отключение электроснабжения',\n",
    "    'Отключение электроснабжения на данном элементе УДС (улице, дороге, площади, дворе и т.д.) в целом (не применяется с 12.2020)': 'Отключение электроснабжения',\n",
    "    'Отключение электроснабжения целиком или частично в муниципальном образовании (районе, городе, районе города, посёлке, селе, деревне, ауле и т.д.)': 'Отключение электроснабжения',\n",
    "    'Отключение электроснабжения целиком или частично в муниципальном образовании  (районе, городе, районе  города, посёлке, селе, деревне, ауле и т.д.)': 'Отключение электроснабжения',\n",
    "\n",
    "    # Traffic lanes\n",
    "    'Отсутствие дополнительных полос для движения (в т.ч. переходно-скоростных полос) в необходимых местах': 'Отсутствие полос',\n",
    "    'Отсутствие дополнительных полос для движения (в т.ч. переходно-скоростных полос) в необходимых местах (не применяется с 12.2020)': 'Отсутствие полос',\n",
    "\n",
    "    # Traffic lights\n",
    "    \"Работа светофора на регулируемом перекрёстке или регулируемом пешеходном переходе в режиме 'жёлтого мигания'\": 'Режим светофора',\n",
    "\n",
    "    # Speed ​​cameras\n",
    "    'Участок, контролируемый камерами автоматической фотовидеофиксации нарушений ПДД, обозначенный соответствующим предупреждающим знаком': 'Камера (обозначена)',\n",
    "    'Участок, контролируемый стационарными камерами автоматической фотовидеофиксации нарушений ПДД, обозначенный соответствующим предупреждающим знаком': 'Камера (обозначена)',\n",
    "    'Участок, контролируемый стационарными камерами автоматической фотовидеофиксации нарушений ПДД, не обозначенный соответствующим предупреждающим знаком': 'Камера (не обозначена)',\n",
    "    'Участок, контролируемый мобильными автоматической фотовидеофиксации нарушений ПДД': 'Камера (мобильная)',\n",
    "    'Участок, контролируемый передвижными средствами автоматической фотовидеофиксации нарушений ПДД': 'Камера (мобильная)',\n",
    "    'Участок, контролируемый камерой автоматической фотовидеофиксации нарушений ПДД, не обозначенный соответствующим предупреждающим знаком': 'Камера (не обозначена)',\n",
    "\n",
    "    'Участок, контролируемый камерой автоматической фотовидеофиксации нарушений ПДД, обозначенный соответствующим предупреждающим знаком': 'Камера (обозначена)',\n",
    "\n",
    "    # Speed ​​bumps\n",
    "    'Участок, оборудованный искусственными неровностями': 'Искусственные неровности',\n",
    "    'Участок, оборудованный искусственными неровностями и обозначенный соответствующими дорожными знаками и разметкой': 'Искусственные неровности',\n",
    "    'Участок, оборудованный искусственными неровностями, не обозначенный соответствующими дорожными знаками и (или) разметкой': 'Искусственные неровности',\n",
    "    'Участок, оборудованный шумовыми полосами': 'Шумовые полосы',\n",
    "\n",
    "    # Other\n",
    "    'Сведения отсутствуют': 'Сведения отсутствуют'\n",
    "}\n",
    "\n",
    "df['cause_factors'] = df['cause_factors'].replace(replace_map)\n",
    "sorted(df['cause_factors'].unique())"
   ]
  },
  {
   "cell_type": "code",
   "execution_count": 140,
   "metadata": {},
   "outputs": [],
   "source": [
    "le = LabelEncoder()\n",
    "df['cause_factors_cat'] = le.fit_transform(df['cause_factors'])"
   ]
  },
  {
   "cell_type": "markdown",
   "metadata": {},
   "source": [
    "---\n",
    "\n",
    "__violations__"
   ]
  },
  {
   "cell_type": "markdown",
   "metadata": {},
   "source": [
    "It's a multiclass categorial feature."
   ]
  },
  {
   "cell_type": "code",
   "execution_count": 141,
   "metadata": {},
   "outputs": [
    {
     "name": "stdout",
     "output_type": "stream",
     "text": [
      "1. Выезд на полосу встречного движения\n",
      "2. Выезд на полосу встречного движения в местах, где это запрещено\n",
      "3. Выезд на полосу встречного движения с разворотом, поворотом налево или объездом препятствия\n",
      "4. Выезд на трамвайные пути встречного направления\n",
      "5. Движение вдоль проезжей части попутного направления вне населенного пункта при удовлетворительном состоянии обочины\n",
      "6. Движение вдоль проезжей части при наличии и удовлетворительном состоянии тротуара\n",
      "7. Движение во встречном направлении по дороге с односторонним движением\n",
      "8. Другие нарушения ПДД водителем\n",
      "9. Другие нарушения ПДД водителями (не применяется с 12.2020)\n",
      "10. Игра на проезжей части\n",
      "11. Иные нарушения\n",
      "12. Нарушение водителем правил применения ремней безопасности (ставится в случае, когда не пристегнут водитель)\n",
      "13. Нарушение водителем правил применения ремней безопасности (ставится в случае, когда не пристегнут пассажир)\n",
      "14. Нарушение правил буксировки\n",
      "15. Нарушение правил движения в жилых зонах\n",
      "16. Нарушение правил движения тяжеловесного и(или) крупногабаритного ТС(превышение допустимых габаритов ТС, превышением допустимой массы ТС или допустимой нагрузки на ось ТС)\n",
      "17. Нарушение правил обгона\n",
      "18. Нарушение правил остановки и стоянки\n",
      "19. Нарушение правил перевозки детей (не использование детских сидений либо удерживающих устройств)\n",
      "20. Нарушение правил перевозки крупногабаритных и тяжеловесных грузов\n",
      "21. Нарушение правил перевозки людей\n",
      "22. Нарушение правил перевозки опасных грузов\n",
      "23. Нарушение правил перестроения\n",
      "24. Нарушение правил погрузки, выгрузки и крепления грузов\n",
      "25. Нарушение правил пользования внешними световыми приборами\n",
      "26. Нарушение правил пользования общественным транспортом\n",
      "27. Нарушение правил при круговом движении\n",
      "28. Нарушение правил применения мотошлема\n",
      "29. Нарушение правил применения мотошлема пассажиром\n",
      "30. Нарушение правил применения ремней безопасности пассажиром\n",
      "31. Нарушение правил проезда ж/д переездов\n",
      "32. Нарушение правил проезда остановок трамвая\n",
      "33. Нарушение правил проезда пешеходного перехода\n",
      "34. Нарушение правил расположения ТС на проезжей части\n",
      "35. Нарушение правил учебной езды\n",
      "36. Нарушение режима труда и отдыха водителя\n",
      "37. Нарушение требований дорожных знаков\n",
      "38. Нарушение требований линий разметки\n",
      "39. Нарушение требований сигналов регулировщика\n",
      "40. Нарушение требований сигналов светофора\n",
      "41. Нарушение правил движения тяжеловесного и(или) крупногабаритного ТС(превышение допустимых габаритов ТС, превышением допустимой массы ТС или допустимой нагрузки на ось ТС)\n",
      "42. Нахождение на проезжей части без цели её перехода\n",
      "43. Невыполнение требований обеспечения безопасности при начале движения\n",
      "44. Незаконное нанесение специальных цветографических схем автомобилей оперативных служб\n",
      "45. Неожиданный выход из-за ТС\n",
      "46. Неожиданный выход из-за сооружений (деревьев)\n",
      "47. Неожиданный выход из-за стоящего ТС\n",
      "48. Неповиновение или сопротивление находящемуся при исполнении служебных обязанностей сотруднику правоохранительных органов или военнослужащему при остановке или задержании ТС\n",
      "49. Неподача или неправильная подача сигналов\n",
      "50. Неподача или неправильная подача сигналов поворота\n",
      "51. Неподчинение сигналам регулирования\n",
      "52. Неправильный выбор дистанции\n",
      "53. Непредоставление преимущества в движении ТС, имеющему нанесенные на наружные поверхности специальные цветографические схемы, надписи и обозначения, с одновременно включённым проблесковым маячком синего цвета и специальным звуковым сигналом\n",
      "54. Непредоставление преимущества в движении пешеходу\n",
      "55. Несоблюдение бокового интервала\n",
      "56. Несоблюдение очередности проезда\n",
      "57. Несоблюдение очередности проезда перекрестков\n",
      "58. Несоблюдение требований ОСАГО\n",
      "59. Несоблюдение условий, разрешающих движение транспорта задним ходом\n",
      "60. Несоответствие скорости конкретным условиям движения\n",
      "61. Ожидание маршрутного ТС на проезжей части, вне посадочных площадок, тротуаров и обочин (при их наличии)\n",
      "62. Опасное вождение\n",
      "63. Ослепление светом фар\n",
      "64. Оставление движущегося транспортного средства (выход или выпрыгивание на ходу и т.д.)\n",
      "65. Оставление места ДТП\n",
      "66. Отказ водителя от прохождения медицинского освидетельствования на состояние опьянения\n",
      "67. Отказ водителя, не имеющего права управления ТС либо лишенного права управления ТС от прохождении медицинского освидетельствования на состояние опьянения\n",
      "68. Отказ водителя, не имеющего права управления ТС либо лишенного права управления ТС, от прохождения медицинского освидетельствования на состояние опьянения (не применяется с 12.2020)\n",
      "69. Отсутствие световозвращающих жилетов (снаряжения) у лиц, осуществляющих работу на проезжей части\n",
      "70. Отсутствие световозвращающих элементов\n",
      "71. Отсутствие у водителя документов, предусмотренных законодательными и иными НПА\n",
      "72. Передача управления ТС лицу, находящемуся в состоянии опьянения\n",
      "73. Передвижение по проезжей части на скейтборде (роликовых коньках и т.д.)\n",
      "74. Пересечение велосипедистом проезжей части по пешеходному переходу\n",
      "75. Переход проезжей части в запрещённом месте (оборудованном пешеходными  ограждениями)\n",
      "76. Переход проезжей части перед приближающимся ТС с включёнными проблесковым маячком синего (сине-красного) цвета и звуковым сигналом\n",
      "77. Переход через проезжую часть в неустановленном месте (при наличии в зоне видимости перекрёстка)\n",
      "78. Переход через проезжую часть вне пешеходного перехода в зоне его видимости либо при наличии в непосредственной близости подземного (надземного) пешеходного перехода\n",
      "79. Пешеход в возрасте до 7 лет без взрослого\n",
      "80. Пешеход в состоянии алкогольного опьянения\n",
      "81. Пешеход в состоянии наркотического опьянения\n",
      "82. Пользование во время движения незаконно установленными устройствами для подачи специальных световых и звуковых сигналов\n",
      "83. Пользование мобильной связью во время управления автомобилем\n",
      "84. Превышение установленной скорости движения\n",
      "85. Разворот в местах, где разворот запрещён\n",
      "86. Светопропускание стекол менее нормативного\n",
      "87. Создание помех для водителя в управлении транспортным средством\n",
      "88. Стоянка на проезжей части или обочине без освещения\n",
      "89. Употребление водителем алкогольных напитков, наркотических, психотропных или иных одурманивающих веществ после дорожно-транспортного происшествия, к которому он причастен, до проведения освидетельствования с целью установления состояния опьянения или до принятия решения об освобождении от проведения такого освидетельствовани\n",
      "90. Управление ТС без очков (контактных линз) в случае, когда их использование водителем обязательно\n",
      "91. Управление ТС в состоянии алкогольного опьянения\n",
      "92. Управление ТС в состоянии наркотического опьянения\n",
      "93. Управление ТС в состоянии нетрудоспособности (болезни)\n",
      "94. Управление ТС лицом, лишенным права управления\n",
      "95. Управление ТС лицом, находящимся в состоянии алкогольного опьянения и не имеющим права управления ТС либо лишенным права управления ТС\n",
      "96. Управление ТС лицом, находящимся в состоянии алкогольного опьянения и не имеющим права управления ТС либо лишенным права управления ТС (не применяется с 12.2020)\n",
      "97. Управление ТС лицом, находящимся в состоянии наркотического опьянения и не имеющим права управления ТС либо лишенным права управления ТС\n",
      "98. Управление ТС лицом, находящимся в состоянии наркотического опьянения и не имеющим права управления ТС либо лишенным права управления ТС (не применяется с 12.2020)\n",
      "99. Управление ТС лицом, не имеющим права на управление ТС\n",
      "100. Управление ТС лицом, не имеющим соответствующей категории на управление ТС данного вида\n",
      "101. Управление в состоянии переутомления, сон за рулём\n",
      "102. Управление велосипедом с неисправной тормозной системой\n",
      "103. Управление велосипедом, не оснащённым светоотражающими элементами\n",
      "104. Управление мопедом лицом моложе 16 лет\n",
      "105. Управление при движении по автодороге велосипедом, гужевой повозкой лицом моложе 14 лет\n",
      "106. Управление транспортным средством при наличии неисправностей или условий, при которых эксплуатация транспортного средства запрещена\n",
      "107. Ходьба вдоль проезжей части попутного направления вне населенного пункта при удовлетворительном состоянии обочины\n",
      "108. Ходьба вдоль проезжей части при наличии и удовлетворительном состоянии тротуара\n",
      "109. Эксплуатация ТС с техническими неисправностями, при которых запрещается их эксплуатация\n",
      "110. Эксплуатация незарегистрированного ТС\n",
      "111. Эксплуатация технически неисправного ТС (проставляется в случае ДТП по причине технеисправности)\n"
     ]
    }
   ],
   "source": [
    "df['violations'] = df['violations'].apply(ast.literal_eval)       # from string \"{}\" to real set {}\n",
    "\n",
    "all_violations = set()\n",
    "\n",
    "for violations in df['violations']:\n",
    "    all_violations.update(violations)\n",
    "\n",
    "unique_violations = sorted(all_violations)\n",
    "for i, v in enumerate(unique_violations, 1):\n",
    "    print(f\"{i}. {v}\")"
   ]
  },
  {
   "cell_type": "code",
   "execution_count": 142,
   "metadata": {},
   "outputs": [],
   "source": [
    "replace_map = {\n",
    "    # Нарушения, связанные с движением по встречной / запрещённой полосе\n",
    "    \"Выезд на полосу встречного движения\": \"wrong_way\",\n",
    "    \"Выезд на полосу встречного движения в местах, где это запрещено\": \"wrong_way\",\n",
    "    \"Выезд на полосу встречного движения с разворотом, поворотом налево или объездом препятствия\": \"wrong_way\",\n",
    "    \"Выезд на трамвайные пути встречного направления\": \"wrong_way\",\n",
    "    \"Движение во встречном направлении по дороге с односторонним движением\": \"wrong_way\",\n",
    "    \"Нарушение правил расположения ТС на проезжей части\": \"wrong_way\",\n",
    "    \"Выезд на полосу встречного движения\": \"wrong_way\",\n",
    "    \"Выезд на трамвайные пути встречного направления\": \"wrong_way\",\n",
    "\n",
    "    # Нарушения ПДД пешеходами\n",
    "    \"Пешеход в возрасте до 7 лет без взрослого\": \"pedestrian_violation\",\n",
    "    \"Пешеход в состоянии алкогольного опьянения\": \"pedestrian_violation\",\n",
    "    \"Пешеход в состоянии наркотического опьянения\": \"pedestrian_violation\",\n",
    "    \"Нахождение на проезжей части без цели её перехода\": \"pedestrian_violation\",\n",
    "    \"Игра на проезжей части\": \"pedestrian_violation\",\n",
    "    \"Переход через проезжую часть вне пешеходного перехода в зоне его видимости либо при наличии в непосредственной близости подземного (надземного) пешеходного перехода\": \"pedestrian_violation\",\n",
    "    \"Переход через проезжую часть в неустановленном месте (при наличии в зоне видимости перекрёстка)\": \"pedestrian_violation\",\n",
    "    \"Переход проезжей части перед приближающимся ТС с включёнными проблесковым маячком синего (сине-красного) цвета и звуковым сигналом\": \"pedestrian_violation\",\n",
    "    \"Переход проезжей части в запрещённом месте (оборудованном пешеходными  ограждениями)\": \"pedestrian_violation\",\n",
    "    \"Движение вдоль проезжей части попутного направления вне населенного пункта при удовлетворительном состоянии обочины\": \"pedestrian_violation\",\n",
    "    \"Движение вдоль проезжей части при наличии и удовлетворительном состоянии тротуара\": \"pedestrian_violation\",\n",
    "    \"Передвижение по проезжей части на скейтборде (роликовых коньках и т.д.)\": \"pedestrian_violation\",\n",
    "    \"Пересечение велосипедистом проезжей части по пешеходному переходу\": \"pedestrian_violation\",\n",
    "    \"Ходьба вдоль проезжей части при наличии и удовлетворительном состоянии тротуара\": \"pedestrian_violation\",\n",
    "    \"Ходьба вдоль проезжей части попутного направления вне населенного пункта при удовлетворительном состоянии обочины\": \"pedestrian_violation\",\n",
    "    \"Ожидание маршрутного ТС на проезжей части, вне посадочных площадок, тротуаров и обочин (при их наличии)\": \"pedestrian_violation\",\n",
    "\n",
    "    # Алкоголь, наркотики и отказ от освидетельствования\n",
    "    \"Управление ТС в состоянии алкогольного опьянения\": \"impaired_driving\",\n",
    "    \"Управление ТС в состоянии наркотического опьянения\": \"impaired_driving\",\n",
    "    \"Передача управления ТС лицу, находящемуся в состоянии опьянения\": \"impaired_driving\",\n",
    "    \"Управление ТС лицом, находящимся в состоянии алкогольного опьянения и не имеющим права управления ТС либо лишенным права управления ТС\": \"impaired_driving\",\n",
    "    \"Управление ТС лицом, находящимся в состоянии алкогольного опьянения и не имеющим права управления ТС либо лишенным права управления ТС (не применяется с 12.2020)\": \"impaired_driving\",\n",
    "    \"Управление ТС лицом, находящимся в состоянии наркотического опьянения и не имеющим права управления ТС либо лишенным права управления ТС\": \"impaired_driving\",\n",
    "    \"Управление ТС лицом, находящимся в состоянии наркотического опьянения и не имеющим права управления ТС либо лишенным права управления ТС (не применяется с 12.2020)\": \"impaired_driving\",\n",
    "    \"Отказ водителя от прохождения медицинского освидетельствования на состояние опьянения\": \"impaired_driving\",\n",
    "    \"Отказ водителя, не имеющего права управления ТС либо лишенного права управления ТС от прохождении мед. освидетельствования\": \"impaired_driving\",\n",
    "    \"Отказ водителя, не имеющего права управления ТС либо лишенного права управления ТС, от прохождения мед. освидетельствования (не применяется с 12.2020)\": \"impaired_driving\",\n",
    "    \"Отказ водителя, не имеющего права управления ТС либо лишенного права управления ТС от прохождении медицинского освидетельствования на состояние опьянения\": \"impaired_driving\",\n",
    "    \"Отказ водителя, не имеющего права управления ТС либо лишенного права управления ТС, от прохождения медицинского освидетельствования на состояние опьянения (не применяется с 12.2020)\": \"impaired_driving\",\n",
    "    \"Употребление водителем алкогольных напитков, наркотических, психотропных или иных одурманивающих веществ после дорожно-транспортного происшествия, к которому он причастен, до проведения освидетельствования с целью установления состояния опьянения или до принятия решения об освобождении от проведения такого освидетельствовани\": \"impaired_driving\",\n",
    "\n",
    "    # Нарушения, связанные с обгоном, перестроением, круговым движением\n",
    "    \"Нарушение правил обгона\": \"maneuver_violation\",\n",
    "    \"Нарушение правил перестроения\": \"maneuver_violation\",\n",
    "    \"Нарушение правил при круговом движении\": \"maneuver_violation\",\n",
    "    \"Нарушение правил применения сигналов поворота\": \"maneuver_violation\",\n",
    "    \"Разворот в местах, где разворот запрещён\": \"maneuver_violation\",\n",
    "    \"Неправильный выбор дистанции\": \"maneuver_violation\",\n",
    "    \"Несоблюдение бокового интервала\": \"maneuver_violation\",\n",
    "    \"Неподача или неправильная подача сигналов\": \"maneuver_violation\",\n",
    "    \"Неподача или неправильная подача сигналов поворота\": \"maneuver_violation\",\n",
    "    \"Несоблюдение очередности проезда\": \"maneuver_violation\",\n",
    "    \"Несоблюдение очередности проезда перекрестков\": \"maneuver_violation\",\n",
    "    \"Несоблюдение условий, разрешающих движение транспорта задним ходом\": \"maneuver_violation\",\n",
    "    \"Опасное вождение\": \"maneuver_violation\",\n",
    "    \"Невыполнение требований обеспечения безопасности при начале движения\": \"maneuver_violation\",\n",
    "\n",
    "    # Нарушения при проезде регулируемых участков\n",
    "    \"Нарушение требований сигналов светофора\": \"traffic_control_violation\",\n",
    "    \"Нарушение требований сигналов регулировщика\": \"traffic_control_violation\",\n",
    "    \"Нарушение требований дорожных знаков\": \"traffic_control_violation\",\n",
    "    \"Нарушение требований линий разметки\": \"traffic_control_violation\",\n",
    "    \"Неподчинение сигналам регулирования\": \"traffic_control_violation\",\n",
    "    \"Превышение установленной скорости движения\": \"traffic_control_violation\",\n",
    "    \"Несоответствие скорости конкретным условиям движения\": \"traffic_control_violation\",\n",
    "    \"Непредоставление преимущества в движении ТС со спецсигналами\": \"traffic_control_violation\",\n",
    "\n",
    "    # Отсутствие документов, прав, категории\n",
    "    \"Управление ТС лицом, не имеющим права на управление ТС\": \"license_violation\",\n",
    "    \"Управление ТС лицом, лишенным права управления\": \"license_violation\",\n",
    "    \"Управление ТС лицом, не имеющим соответствующей категории на управление ТС данного вида\": \"license_violation\",\n",
    "    \"Управление мопедом лицом моложе 16 лет\": \"license_violation\",\n",
    "    \"Управление велосипедом, гужевой повозкой лицом моложе 14 лет\": \"license_violation\",\n",
    "    \"Управление при движении по автодороге велосипедом, гужевой повозкой лицом моложе 14 лет\": \"license_violation\",\n",
    "\n",
    "    # Нарушения перевозки пассажиров, детей, грузов\n",
    "    \"Нарушение правил перевозки людей\": \"transport_violation\",\n",
    "    \"Нарушение правил перевозки детей (не использование детских сидений либо удерживающих устройств)\": \"transport_violation\",\n",
    "    \"Нарушение правил перевозки опасных грузов\": \"transport_violation\",\n",
    "    \"Нарушение правил перевозки крупногабаритных и тяжеловесных грузов\": \"transport_violation\",\n",
    "    \"Нарушение правил применения ремней безопасности пассажиром\": \"transport_violation\",\n",
    "    \"Нарушение правил применения ремней безопасности (ставится в случае, когда не пристегнут водитель)\": \"transport_violation\",\n",
    "    \"Нарушение водителем правил применения ремней безопасности (ставится в случае, когда не пристегнут водитель)\": \"transport_violation\",\n",
    "    \"Нарушение правил применения ремней безопасности (ставится в случае, когда не пристегнут пассажир)\": \"transport_violation\",\n",
    "    \"Нарушение водителем правил применения ремней безопасности (ставится в случае, когда не пристегнут пассажир)\": \"transport_violation\",\n",
    "    \"Нарушение водителем правил применения ремней безопасности (водитель)\": \"transport_violation\",\n",
    "    \"Нарушение водителем правил применения ремней безопасности (пассажир)\": \"transport_violation\",\n",
    "    \"Нарушение правил применения мотошлема\": \"transport_violation\",\n",
    "    \"Нарушение правил применения мотошлема пассажиром\": \"transport_violation\",\n",
    "    \"Нарушение правил движения тяжеловесного и(или) крупногабаритного ТС(превышение допустимых габаритов ТС, превышением допустимой массы ТС или допустимой нагрузки на ось ТС)\": \"transport_violation\",\n",
    "    \"Нарушение правил движения тяжеловесного и(или) крупногабаритного ТС(превышение допустимых габаритов ТС, превышением допустимой массы ТС или допустимой нагрузки на ось ТС)\": \"transport_violation\",\n",
    "    \"Нарушение правил буксировки\": \"transport_violation\",\n",
    "    \"Нарушение правил погрузки, выгрузки и крепления грузов\": \"transport_violation\",\n",
    "\n",
    "    # Нарушения, связанные с пешеходными переходами, ЖД переездами\n",
    "    \"Нарушение правил проезда пешеходного перехода\": \"crossing_violation\",\n",
    "    \"Нарушение правил проезда ж/д переездов\": \"crossing_violation\",\n",
    "    \"Нарушение правил проезда остановок трамвая\": \"crossing_violation\",\n",
    "    \"Непредоставление преимущества в движении пешеходу\": \"crossing_violation\",\n",
    "\n",
    "    # Нарушения освещения и технического состояния ТС\n",
    "    \"Эксплуатация ТС с техническими неисправностями, при которых запрещается их эксплуатация\": \"vehicle_tech_violation\",\n",
    "    \"Управление транспортным средством при наличии неисправностей или условий, при которых эксплуатация транспортного средства запрещена\": \"vehicle_tech_violation\",\n",
    "    \"Управление велосипедом с неисправной тормозной системой\": \"vehicle_tech_violation\",\n",
    "    \"Эксплуатация технически неисправного ТС (в случае ДТП)\": \"vehicle_tech_violation\",\n",
    "    \"Эксплуатация технически неисправного ТС (проставляется в случае ДТП по причине технеисправности)\": \"vehicle_tech_violation\",\n",
    "\n",
    "    # Прочее\n",
    "    \"Пользование мобильной связью во время управления автомобилем\": \"interference_violation\",\n",
    "    \"Управление ТС без очков (контактных линз) в случае, когда их использование водителем обязательно\": \"interference_violation\",\n",
    "    \"Создание помех для водителя в управлении транспортным средством\": \"interference_violation\",\n",
    "    \"Ослепление светом фар\": \"interference_violation\",\n",
    "    \"Управление ТС в состоянии нетрудоспособности (болезни)\": \"interference_violation\",\n",
    "    \"Управление в состоянии переутомления, сон за рулём\": \"interference_violation\",\n",
    "\n",
    "    \"Неожиданный выход из-за ТС\": \"sudden_appearance_violation\",\n",
    "    \"Неожиданный выход из-за стоящего ТС\": \"sudden_appearance_violation\",\n",
    "    \"Неожиданный выход из-за сооружений (деревьев)\": \"sudden_appearance_violation\",\n",
    "    \"Оставление движущегося транспортного средства (выход или выпрыгивание на ходу и т.д.)\": \"sudden_appearance_violation\",\n",
    "    \"Управление велосипедом, не оснащённым светоотражающими элементами\": \"sudden_appearance_violation\",\n",
    "    \"Отсутствие световозвращающих жилетов (снаряжения) у лиц, осуществляющих работу на проезжей части\": \"sudden_appearance_violation\",\n",
    "    \"Отсутствие световозвращающих элементов\": \"sudden_appearance_violation\",\n",
    "    \"Стоянка на проезжей части или обочине без освещения\": \"sudden_appearance_violation\",\n",
    "\n",
    "    \"Нарушение правил пользования внешними световыми приборами\": \"other_violation\",\n",
    "    \"Нарушение правил учебной езды\": \"other_violation\",\n",
    "    \"Нарушение правил остановки и стоянки\": \"other_violation\",\n",
    "    \"Неповиновение или сопротивление находящемуся при исполнении служебных обязанностей сотруднику правоохранительных органов или военнослужащему при остановке или задержании ТС\": \"other_violation\",\n",
    "    \"Нарушение режима труда и отдыха водителя\": \"other_violation\",\n",
    "    \"Незаконное нанесение специальных цветографических схем автомобилей оперативных служб\": \"other_violation\",\n",
    "    \"Нарушение правил движения в жилых зонах\": \"other_violation\",\n",
    "    \"Другие нарушения ПДД водителем\": \"other_violation\",\n",
    "    \"Эксплуатация незарегистрированного ТС\": \"other_violation\",\n",
    "    \"Другие нарушения ПДД водителями (не применяется с 12.2020)\": \"other_violation\",\n",
    "    \"Оставление места ДТП\": \"other_violation\",\n",
    "    \"Светопропускание стекол менее нормативного\": \"other_violation\",\n",
    "    \"Несоблюдение требований ОСАГО\": \"other_violation\",\n",
    "    \"Отсутствие у водителя документов, предусмотренных законодательными и иными НПА\": \"other_violation\",\n",
    "    \"Иные нарушения\": \"other_violation\",\n",
    "    \"Нарушение правил пользования общественным транспортом\": \"other_violation\",\n",
    "    \"Пользование во время движения незаконно установленными устройствами для подачи специальных световых и звуковых сигналов\": \"other_violation\",\n",
    "    \"Непредоставление преимущества в движении ТС, имеющему нанесенные на наружные поверхности специальные цветографические схемы, надписи и обозначения, с одновременно включённым проблесковым маячком синего цвета и специальным звуковым сигналом\": \"other_violation\"\n",
    "}\n",
    "\n",
    "def map_violation_set(violation_set):\n",
    "    return set(replace_map.get(v, v) for v in violation_set)\n",
    "\n",
    "df['violations'] = df['violations'].apply(map_violation_set)"
   ]
  },
  {
   "cell_type": "code",
   "execution_count": 143,
   "metadata": {},
   "outputs": [
    {
     "name": "stdout",
     "output_type": "stream",
     "text": [
      "1. crossing_violation\n",
      "2. impaired_driving\n",
      "3. interference_violation\n",
      "4. license_violation\n",
      "5. maneuver_violation\n",
      "6. other_violation\n",
      "7. pedestrian_violation\n",
      "8. sudden_appearance_violation\n",
      "9. traffic_control_violation\n",
      "10. transport_violation\n",
      "11. vehicle_tech_violation\n",
      "12. wrong_way\n"
     ]
    }
   ],
   "source": [
    "all_violations = set()\n",
    "\n",
    "for violations in df['violations']:\n",
    "    all_violations.update(violations)\n",
    "\n",
    "unique_violations = sorted(all_violations)\n",
    "for i, v in enumerate(unique_violations, 1):\n",
    "    print(f\"{i}. {v}\")"
   ]
  },
  {
   "cell_type": "code",
   "execution_count": 144,
   "metadata": {},
   "outputs": [
    {
     "name": "stdout",
     "output_type": "stream",
     "text": [
      "Previous num of features: 72\n",
      "\n",
      "Current num of features: 84\n"
     ]
    }
   ],
   "source": [
    "print(f\"Previous num of features: {df.shape[1]}\\n\")\n",
    "\n",
    "mlb = MultiLabelBinarizer()\n",
    "violations_encoded = pd.DataFrame(\n",
    "    mlb.fit_transform(df['violations']),\n",
    "    columns=mlb.classes_,\n",
    "    index=df.index\n",
    ")\n",
    "\n",
    "df = pd.concat([df, violations_encoded], axis=1)\n",
    "\n",
    "print(f\"Current num of features: {df.shape[1]}\")"
   ]
  },
  {
   "cell_type": "markdown",
   "metadata": {},
   "source": [
    "---\n",
    "\n",
    "__lighting__"
   ]
  },
  {
   "cell_type": "code",
   "execution_count": 145,
   "metadata": {},
   "outputs": [
    {
     "data": {
      "text/plain": [
       "['В темное время суток, освещение включено',\n",
       " 'В темное время суток, освещение не включено',\n",
       " 'В темное время суток, освещение отсутствует',\n",
       " 'Не установлено',\n",
       " 'Светлое время суток',\n",
       " 'Сумерки']"
      ]
     },
     "execution_count": 145,
     "metadata": {},
     "output_type": "execute_result"
    }
   ],
   "source": [
    "sorted(df['lighting'].unique())"
   ]
  },
  {
   "cell_type": "code",
   "execution_count": 146,
   "metadata": {},
   "outputs": [
    {
     "data": {
      "text/plain": [
       "[0, 1]"
      ]
     },
     "execution_count": 146,
     "metadata": {},
     "output_type": "execute_result"
    }
   ],
   "source": [
    "def get_lighting(category):\n",
    "    if category == 'В темное время суток, освещение отсутствует':\n",
    "        return 1\n",
    "    else:\n",
    "        return 0\n",
    "\n",
    "df['no_lighting'] = df['lighting'].apply(get_lighting)\n",
    "sorted(df['no_lighting'].unique())"
   ]
  },
  {
   "cell_type": "code",
   "execution_count": 147,
   "metadata": {},
   "outputs": [
    {
     "data": {
      "text/plain": [
       "['День', 'Не указано', 'Ночь без освещения', 'Ночь с освещением', 'Сумерки']"
      ]
     },
     "execution_count": 147,
     "metadata": {},
     "output_type": "execute_result"
    }
   ],
   "source": [
    "replace_map = {\n",
    "    'Светлое время суток': 'День',\n",
    "    'Сумерки': 'Сумерки',\n",
    "    'В темное время суток, освещение включено': 'Ночь с освещением',\n",
    "    'В темное время суток, освещение не включено': 'Ночь без освещения',\n",
    "    'В темное время суток, освещение отсутствует': 'Ночь без освещения',\n",
    "    'Не установлено': 'Не указано'\n",
    "}\n",
    "\n",
    "df['lighting'] = df['lighting'].replace(replace_map)\n",
    "sorted(df['lighting'].unique())"
   ]
  },
  {
   "cell_type": "code",
   "execution_count": 148,
   "metadata": {},
   "outputs": [],
   "source": [
    "le = LabelEncoder()\n",
    "df['lighting_cat'] = le.fit_transform(df['lighting'])"
   ]
  },
  {
   "cell_type": "markdown",
   "metadata": {},
   "source": [
    "---\n",
    "\n",
    "__site_objects — road network objects at the scene of RTA__"
   ]
  },
  {
   "cell_type": "code",
   "execution_count": 149,
   "metadata": {},
   "outputs": [
    {
     "data": {
      "text/plain": [
       "['АЗС',\n",
       " 'Автостоянка (не отделённая от проезжей части)',\n",
       " 'Автостоянка (отделенная от проезжей части)',\n",
       " 'Внутридворовая территория',\n",
       " 'Выезд с прилегающей территории',\n",
       " 'Гаражные постройки (гаражный кооператив, товарищество либо иное место концентрированного размещения гаражей)',\n",
       " 'Иное место',\n",
       " 'Ледовая переправа',\n",
       " 'Ледовая переправа(официально открытая и оборудованная)',\n",
       " 'Место для перегона скота',\n",
       " 'Мост, эстакада, путепровод',\n",
       " 'Нерегулируемое пересечение с круговым движением',\n",
       " 'Нерегулируемый ж/д переезд',\n",
       " 'Нерегулируемый перекрёсток неравнозначных улиц (дорог)',\n",
       " 'Нерегулируемый перекрёсток равнозначных улиц (дорог)',\n",
       " 'Нерегулируемый пешеходный переход',\n",
       " 'Нерегулируемый пешеходный переход, расположенный на участке улицы или дороги, проходящей вдоль территории школы или иного детского учреждения',\n",
       " 'Нерегулируемый пешеходный переход, расположенный на участке улицы или дороги, проходящей вдоль территории школы или иной детской организации',\n",
       " 'Остановка маршрутного такси',\n",
       " 'Остановка общественного транспорта',\n",
       " 'Остановка трамвая',\n",
       " 'Перегон (нет объектов на месте ДТП)',\n",
       " 'Пешеходная зона',\n",
       " 'Подход к мосту, эстакаде, путепроводу',\n",
       " 'Регулируемый ж/д переезд без дежурного',\n",
       " 'Регулируемый ж/д переезд с дежурным',\n",
       " 'Регулируемый перекресток',\n",
       " 'Регулируемый пешеходный переход',\n",
       " 'Регулируемый пешеходный переход, расположенный на участке улицы или дороги, проходящей вдоль территории школы или иного детского учреждения',\n",
       " 'Регулируемый пешеходный переход, расположенный на участке улицы или дороги, проходящей вдоль территории школы или иной детской организации',\n",
       " 'Стихийно возникшая (не предусмотренная) ледовая переправа',\n",
       " 'Тоннель',\n",
       " 'Тротуар, пешеходная дорожка']"
      ]
     },
     "execution_count": 149,
     "metadata": {},
     "output_type": "execute_result"
    }
   ],
   "source": [
    "sorted(df['site_objects'].unique())"
   ]
  },
  {
   "cell_type": "code",
   "execution_count": 150,
   "metadata": {},
   "outputs": [
    {
     "data": {
      "text/plain": [
       "['Ж/д переезд (нерегулируемый)',\n",
       " 'Ж/д переезд (регулируемый)',\n",
       " 'Ледовая переправа',\n",
       " 'Мост/эстакада/тоннель',\n",
       " 'Остановка',\n",
       " 'Перекрёсток (круговое)',\n",
       " 'Перекрёсток (нерегулируемый)',\n",
       " 'Перекрёсток (регулируемый)',\n",
       " 'Пешеходная зона',\n",
       " 'Пешеходный переход (нерегулируемый)',\n",
       " 'Пешеходный переход (регулируемый)',\n",
       " 'Прилегающая территория',\n",
       " 'Прочее',\n",
       " 'Стоянка']"
      ]
     },
     "execution_count": 150,
     "metadata": {},
     "output_type": "execute_result"
    }
   ],
   "source": [
    "replace_map = {\n",
    "    # Pedestrian crossings\n",
    "    'Нерегулируемый пешеходный переход': 'Пешеходный переход (нерегулируемый)',\n",
    "    'Нерегулируемый пешеходный переход, расположенный на участке улицы или дороги, проходящей вдоль территории школы или иного детского учреждения': 'Пешеходный переход (нерегулируемый)',\n",
    "    'Нерегулируемый пешеходный переход, расположенный на участке улицы или дороги, проходящей вдоль территории школы или иной детской организации': 'Пешеходный переход (нерегулируемый)',\n",
    "\n",
    "    'Регулируемый пешеходный переход': 'Пешеходный переход (регулируемый)',\n",
    "    'Регулируемый пешеходный переход, расположенный на участке улицы или дороги, проходящей вдоль территории школы или иного детского учреждения': 'Пешеходный переход (регулируемый)',\n",
    "    'Регулируемый пешеходный переход, расположенный на участке улицы или дороги, проходящей вдоль территории школы или иной детской организации': 'Пешеходный переход (регулируемый)',\n",
    "\n",
    "    # Railway crossings\n",
    "    'Регулируемый ж/д переезд с дежурным': 'Ж/д переезд (регулируемый)',\n",
    "    'Регулируемый ж/д переезд без дежурного': 'Ж/д переезд (регулируемый)',\n",
    "\n",
    "    'Нерегулируемый ж/д переезд': 'Ж/д переезд (нерегулируемый)',\n",
    "\n",
    "    # Crossroads\n",
    "    'Регулируемый перекресток': 'Перекрёсток (регулируемый)',\n",
    "\n",
    "    'Нерегулируемый перекрёсток неравнозначных улиц (дорог)': 'Перекрёсток (нерегулируемый)',\n",
    "    'Нерегулируемый перекрёсток равнозначных улиц (дорог)': 'Перекрёсток (нерегулируемый)',\n",
    "\n",
    "    'Нерегулируемое пересечение с круговым движением': 'Перекрёсток (круговое)',\n",
    "\n",
    "    # Public transport\n",
    "    'Остановка маршрутного такси': 'Остановка',\n",
    "    'Остановка общественного транспорта': 'Остановка',\n",
    "    'Остановка трамвая': 'Остановка',\n",
    "\n",
    "    # Ice crossing\n",
    "    'Ледовая переправа': 'Ледовая переправа',\n",
    "    'Ледовая переправа(официально открытая и оборудованная)': 'Ледовая переправа',\n",
    "    'Стихийно возникшая (не предусмотренная) ледовая переправа': 'Ледовая переправа',\n",
    "\n",
    "    # Bridges and tunnels\n",
    "    'Мост, эстакада, путепровод': 'Мост/эстакада/тоннель',\n",
    "    'Подход к мосту, эстакаде, путепроводу': 'Мост/эстакада/тоннель',\n",
    "    'Тоннель': 'Мост/эстакада/тоннель',\n",
    "\n",
    "    # Parking, parking lot, adjacent territory\n",
    "    'Автостоянка (отделенная от проезжей части)': 'Стоянка',\n",
    "    'Автостоянка (не отделённая от проезжей части)': 'Стоянка',\n",
    "    'АЗС': 'Стоянка',\n",
    "    'Гаражные постройки (гаражный кооператив, товарищество либо иное место концентрированного размещения гаражей)': 'Стоянка',\n",
    "    \n",
    "    'Выезд с прилегающей территории': 'Прилегающая территория',\n",
    "    'Внутридворовая территория': 'Прилегающая территория',\n",
    "\n",
    "    # Pedestrian areas\n",
    "    'Пешеходная зона': 'Пешеходная зона',\n",
    "    'Тротуар, пешеходная дорожка': 'Пешеходная зона',\n",
    "\n",
    "    # Other\n",
    "    'Место для перегона скота': 'Прочее',\n",
    "    'Перегон (нет объектов на месте ДТП)': 'Прочее',\n",
    "    'Иное место': 'Прочее'\n",
    "}\n",
    "\n",
    "\n",
    "df['site_objects'] = df['site_objects'].replace(replace_map)\n",
    "sorted(df['site_objects'].unique())"
   ]
  },
  {
   "cell_type": "code",
   "execution_count": 151,
   "metadata": {},
   "outputs": [],
   "source": [
    "le = LabelEncoder()\n",
    "df['site_objects_cat'] = le.fit_transform(df['site_objects'])"
   ]
  },
  {
   "cell_type": "markdown",
   "metadata": {},
   "source": [
    "---\n",
    "\n",
    "__injury_severity__"
   ]
  },
  {
   "cell_type": "markdown",
   "metadata": {},
   "source": [
    "Also has multiple classes."
   ]
  },
  {
   "cell_type": "code",
   "execution_count": 152,
   "metadata": {},
   "outputs": [
    {
     "name": "stdout",
     "output_type": "stream",
     "text": [
      "1. Не пострадал\n",
      "2. Получил телесные повреждения с показанием к лечению в медицинских организациях (кроме разовой медицинской помощи)\n",
      "3. Получил телесные повреждения с показанием к лечению в медицинских организациях, фактически лечение не проходил, к категории раненый не относится\n",
      "4. Получил травмы с оказанием разовой медицинской помощи, к категории раненый не относится\n",
      "5. Раненый, находящийся (находившийся)  на амбулаторном лечении, либо которому по характеру полученных травм обозначена необходимость амбулаторного лечения (вне зависимости от его фактического прохождения)\n",
      "6. Раненый, находящийся (находившийся) на амбулаторном лечении, либо в условиях дневного стационара\n",
      "7. Раненый, находящийся (находившийся) на стационарном лечении\n",
      "8. Скончался в течение 1 суток\n",
      "9. Скончался в течение 10 суток\n",
      "10. Скончался в течение 11 суток\n",
      "11. Скончался в течение 12 суток\n",
      "12. Скончался в течение 13 суток\n",
      "13. Скончался в течение 14 суток\n",
      "14. Скончался в течение 15 суток\n",
      "15. Скончался в течение 16 суток\n",
      "16. Скончался в течение 17 суток\n",
      "17. Скончался в течение 18 суток\n",
      "18. Скончался в течение 19 суток\n",
      "19. Скончался в течение 2 суток\n",
      "20. Скончался в течение 20 суток\n",
      "21. Скончался в течение 21 суток\n",
      "22. Скончался в течение 22 суток\n",
      "23. Скончался в течение 23 суток\n",
      "24. Скончался в течение 24 суток\n",
      "25. Скончался в течение 25 суток\n",
      "26. Скончался в течение 26 суток\n",
      "27. Скончался в течение 27 суток\n",
      "28. Скончался в течение 28 суток\n",
      "29. Скончался в течение 29 суток\n",
      "30. Скончался в течение 3 суток\n",
      "31. Скончался в течение 30 суток\n",
      "32. Скончался в течение 4 суток\n",
      "33. Скончался в течение 5 суток\n",
      "34. Скончался в течение 6 суток\n",
      "35. Скончался в течение 7 суток\n",
      "36. Скончался в течение 8 суток\n",
      "37. Скончался в течение 9 суток\n",
      "38. Скончался на месте ДТП до приезда скорой медицинской помощи\n",
      "39. Скончался на месте ДТП по прибытию скорой медицинской помощи, но до транспортировки в мед. организацию\n",
      "40. Скончался на месте ДТП по прибытию скорой медицинской помощи, но до транспортировки в медицинское учреждение\n",
      "41. Скончался при транспортировке\n"
     ]
    }
   ],
   "source": [
    "df['injury_severity'] = df['injury_severity'].apply(ast.literal_eval)       # from string \"{}\" to real set {}\n",
    "\n",
    "all_harms = set()\n",
    "\n",
    "for harm in df['injury_severity']:\n",
    "    all_harms.update(harm)\n",
    "\n",
    "unique_harms = sorted(all_harms)\n",
    "for i, v in enumerate(unique_harms, 1):\n",
    "    print(f\"{i}. {v}\")"
   ]
  },
  {
   "cell_type": "code",
   "execution_count": 153,
   "metadata": {},
   "outputs": [],
   "source": [
    "replace_map = {\n",
    "    'Не пострадал': 'minor_injury',\n",
    "    'Получил телесные повреждения с показанием к лечению в медицинских организациях, фактически лечение не проходил, к категории раненый не относится': 'minor_injury',\n",
    "    'Получил травмы с оказанием разовой медицинской помощи, к категории раненый не относится': 'minor_injury',\n",
    "\n",
    "    # Moderate injuries (not hospitalization)\n",
    "    'Получил телесные повреждения с показанием к лечению в медицинских организациях (кроме разовой медицинской помощи)': 'injury_no_hospitalization',\n",
    "    'Раненый, находящийся (находившийся)  на амбулаторном лечении, либо которому по характеру полученных травм обозначена необходимость амбулаторного лечения (вне зависимости от его фактического прохождения)': 'injury_no_hospitalization',\n",
    "    'Раненый, находящийся (находившийся) на амбулаторном лечении, либо в условиях дневного стационара': 'injury_no_hospitalization',\n",
    "\n",
    "    # Severe injuries (hospitalization)\n",
    "    'Раненый, находящийся (находившийся) на стационарном лечении': 'injury_with_hospitalization',\n",
    "\n",
    "    # Death on the spot\n",
    "    'Скончался на месте ДТП до приезда скорой медицинской помощи': 'death_before_hospital',\n",
    "    'Скончался на месте ДТП по прибытию скорой медицинской помощи, но до транспортировки в мед. организацию': 'death_before_hospital',\n",
    "    'Скончался на месте ДТП по прибытию скорой медицинской помощи, но до транспортировки в медицинское учреждение': 'death_before_hospital',\n",
    "\n",
    "    # Death during transportation\n",
    "    'Скончался при транспортировке': 'death_before_hospital',\n",
    "\n",
    "    # Death\n",
    "    'Скончался в течение 1 суток': 'death_within_30_days',\n",
    "    'Скончался в течение 2 суток': 'death_within_30_days',\n",
    "    'Скончался в течение 3 суток': 'death_within_30_days',\n",
    "    'Скончался в течение 4 суток': 'death_within_30_days',\n",
    "    'Скончался в течение 5 суток': 'death_within_30_days',\n",
    "    'Скончался в течение 6 суток': 'death_within_30_days',\n",
    "    'Скончался в течение 7 суток': 'death_within_30_days',\n",
    "    'Скончался в течение 8 суток': 'death_within_30_days',\n",
    "    'Скончался в течение 9 суток': 'death_within_30_days',\n",
    "    'Скончался в течение 10 суток': 'death_within_30_days',\n",
    "    'Скончался в течение 11 суток': 'death_within_30_days',\n",
    "    'Скончался в течение 12 суток': 'death_within_30_days',\n",
    "    'Скончался в течение 13 суток': 'death_within_30_days',\n",
    "    'Скончался в течение 14 суток': 'death_within_30_days',\n",
    "    'Скончался в течение 15 суток': 'death_within_30_days',\n",
    "    'Скончался в течение 16 суток': 'death_within_30_days',\n",
    "    'Скончался в течение 17 суток': 'death_within_30_days',\n",
    "    'Скончался в течение 18 суток': 'death_within_30_days',\n",
    "    'Скончался в течение 19 суток': 'death_within_30_days',\n",
    "    'Скончался в течение 20 суток': 'death_within_30_days',\n",
    "    'Скончался в течение 21 суток': 'death_within_30_days',\n",
    "    'Скончался в течение 22 суток': 'death_within_30_days',\n",
    "    'Скончался в течение 23 суток': 'death_within_30_days',\n",
    "    'Скончался в течение 24 суток': 'death_within_30_days',\n",
    "    'Скончался в течение 25 суток': 'death_within_30_days',\n",
    "    'Скончался в течение 26 суток': 'death_within_30_days',\n",
    "    'Скончался в течение 27 суток': 'death_within_30_days',\n",
    "    'Скончался в течение 28 суток': 'death_within_30_days',\n",
    "    'Скончался в течение 29 суток': 'death_within_30_days',\n",
    "    'Скончался в течение 30 суток': 'death_within_30_days',\n",
    "}\n",
    "\n",
    "def map_violation_set(violation_set):\n",
    "    return set(replace_map.get(v, v) for v in violation_set)\n",
    "\n",
    "df['injury_severity'] = df['injury_severity'].apply(map_violation_set)"
   ]
  },
  {
   "cell_type": "code",
   "execution_count": 154,
   "metadata": {},
   "outputs": [
    {
     "name": "stdout",
     "output_type": "stream",
     "text": [
      "1. death_before_hospital\n",
      "2. death_within_30_days\n",
      "3. injury_no_hospitalization\n",
      "4. injury_with_hospitalization\n",
      "5. minor_injury\n"
     ]
    }
   ],
   "source": [
    "all_harms = set()\n",
    "\n",
    "for harm in df['injury_severity']:\n",
    "    all_harms.update(harm)\n",
    "\n",
    "unique_harms = sorted(all_harms)\n",
    "for i, v in enumerate(unique_harms, 1):\n",
    "    print(f\"{i}. {v}\")"
   ]
  },
  {
   "cell_type": "code",
   "execution_count": 155,
   "metadata": {},
   "outputs": [],
   "source": [
    "# print(f\"Previous num of features: {df.shape[1]}\\n\")\n",
    "\n",
    "# mlb = MultiLabelBinarizer()\n",
    "# harms_encoded = pd.DataFrame(\n",
    "#     mlb.fit_transform(df['bodily harm']),\n",
    "#     columns=mlb.classes_,\n",
    "#     index=df.index\n",
    "# )\n",
    "\n",
    "# df = pd.concat([df, harms_encoded], axis=1)\n",
    "\n",
    "# print(f\"Current num of features: {df.shape[1]}\")\n",
    "\n",
    "severity_rank = {\n",
    "    'minor_injury': 0,\n",
    "    'injury_no_hospitalization': 1,\n",
    "    'injury_with_hospitalization': 2,\n",
    "    'death_before_hospital': 3,\n",
    "    'death_within_30_days': 3\n",
    "}\n",
    "\n",
    "df['injury_grouped'] = df['injury_severity'].apply(\n",
    "    lambda x: {replace_map.get(i, i) for i in x} if isinstance(x, (set, list)) else set()\n",
    ")\n",
    "\n",
    "df['severity'] = df['injury_grouped'].apply(\n",
    "    lambda group: max((severity_rank.get(item, -1) for item in group), default=-1)\n",
    ")\n",
    "\n",
    "drop_columns.append('injury_grouped')"
   ]
  },
  {
   "cell_type": "code",
   "execution_count": 156,
   "metadata": {},
   "outputs": [
    {
     "data": {
      "text/plain": [
       "severity\n",
       "1    210028\n",
       "2    185577\n",
       "3     77583\n",
       "0         6\n",
       "Name: count, dtype: int64"
      ]
     },
     "execution_count": 156,
     "metadata": {},
     "output_type": "execute_result"
    }
   ],
   "source": [
    "df['severity'].value_counts()"
   ]
  },
  {
   "cell_type": "code",
   "execution_count": 157,
   "metadata": {},
   "outputs": [],
   "source": [
    "df = df[df['severity'] != 0]\n",
    "# because of lack of obs"
   ]
  },
  {
   "cell_type": "markdown",
   "metadata": {},
   "source": [
    "---"
   ]
  },
  {
   "cell_type": "code",
   "execution_count": 158,
   "metadata": {},
   "outputs": [],
   "source": [
    "# drop raw categorial features\n",
    "drop_columns.extend(cat_cols)"
   ]
  },
  {
   "cell_type": "markdown",
   "metadata": {},
   "source": [
    "## Create some new features"
   ]
  },
  {
   "cell_type": "code",
   "execution_count": 159,
   "metadata": {},
   "outputs": [
    {
     "name": "stderr",
     "output_type": "stream",
     "text": [
      "C:\\Users\\Настя\\AppData\\Local\\Temp\\ipykernel_22752\\3878303528.py:1: UserWarning: Parsing dates in %d.%m.%Y format when dayfirst=False (the default) was specified. Pass `dayfirst=True` or specify a format to silence this warning.\n",
      "  df['YEAR'] = pd.to_datetime(df['DATE']).dt.year\n",
      "C:\\Users\\Настя\\AppData\\Local\\Temp\\ipykernel_22752\\3878303528.py:2: UserWarning: Parsing dates in %d.%m.%Y format when dayfirst=False (the default) was specified. Pass `dayfirst=True` or specify a format to silence this warning.\n",
      "  df['MONTH'] = pd.to_datetime(df['DATE']).dt.month\n",
      "C:\\Users\\Настя\\AppData\\Local\\Temp\\ipykernel_22752\\3878303528.py:3: UserWarning: Parsing dates in %d.%m.%Y format when dayfirst=False (the default) was specified. Pass `dayfirst=True` or specify a format to silence this warning.\n",
      "  df['WEEKDAY'] = pd.to_datetime(df['DATE']).dt.weekday  # 0 = Mon, 6 = Sun\n"
     ]
    }
   ],
   "source": [
    "df['YEAR'] = pd.to_datetime(df['DATE']).dt.year\n",
    "df['MONTH'] = pd.to_datetime(df['DATE']).dt.month\n",
    "df['WEEKDAY'] = pd.to_datetime(df['DATE']).dt.weekday  # 0 = Mon, 6 = Sun\n",
    "df['SEASON'] = df['MONTH'] % 12 // 3 + 1\n",
    "df['is_WEEKEND'] = df['WEEKDAY'].isin([5, 6]).astype(int)"
   ]
  },
  {
   "cell_type": "code",
   "execution_count": 160,
   "metadata": {},
   "outputs": [],
   "source": [
    "df['HOUR'] = pd.to_datetime(df['TIME'], format='%H:%M').dt.hour\n",
    "\n",
    "df['is_NIGHT'] = df['HOUR'].apply(lambda x: 1 if (x < 6 or x >= 22) else 0)\n",
    "\n",
    "df['is_PEAK_HOUR'] = df['HOUR'].apply(lambda x: 1 if x in [7,8,9,16,17,18] else 0)"
   ]
  },
  {
   "cell_type": "code",
   "execution_count": 161,
   "metadata": {},
   "outputs": [],
   "source": [
    "drop_columns.extend(['TIME'])"
   ]
  },
  {
   "cell_type": "markdown",
   "metadata": {},
   "source": [
    "## Drop unnecessary columns"
   ]
  },
  {
   "cell_type": "code",
   "execution_count": 162,
   "metadata": {},
   "outputs": [
    {
     "name": "stdout",
     "output_type": "stream",
     "text": [
      "['road_km', 'road_m', 'NP', 'injury_grouped', 'injury_severity', 'cause_factors', 'street_rank', 'road_defects', 'TYPE', 'traffic_changes', 'site_objects', 'violations', 'weather', 'road_rank', 'road_surface', 'lighting', 'adj_objects', 'TIME']\n"
     ]
    }
   ],
   "source": [
    "print(drop_columns)"
   ]
  },
  {
   "cell_type": "code",
   "execution_count": 163,
   "metadata": {},
   "outputs": [
    {
     "name": "stdout",
     "output_type": "stream",
     "text": [
      "Features left: 79, in the begining was: 59\n"
     ]
    }
   ],
   "source": [
    "df = df.drop(drop_columns, axis=1)\n",
    "\n",
    "print(f\"Features left: {df.shape[1]}, in the begining was: {features_number}\")"
   ]
  },
  {
   "cell_type": "code",
   "execution_count": 164,
   "metadata": {},
   "outputs": [
    {
     "data": {
      "text/plain": [
       "Index(['REGION', 'DATE', 'COORD_L', 'COORD_W', 'road_name', 'road_category',\n",
       "       'n_VEHICLES', 'n_PARTICIPANTS', 'ID', 'n_DEATHS', 'n_INJURED',\n",
       "       'vehicle_failure', 'non_private_vehicle', 'russian_vehicle',\n",
       "       'white_vehicle', 'black_vehicle', 'colored_vehicle', 'drunk_driver',\n",
       "       'female_driver', 'escaped', 'no_seatbelt_injury', 'n_drunk',\n",
       "       'n_children', 'n_cyclists', 'n_pedestrians', 'vehicle_age_min',\n",
       "       'vehicle_age_max', 'vehicle_age_avg', 'n_class_a', 'n_class_b',\n",
       "       'n_class_c', 'n_class_d', 'n_class_e', 'n_class_s', 'n_front_drive',\n",
       "       'n_rear_drive', 'n_4wd', 'n_guilty', 'guilty_share',\n",
       "       'n_fatal_violations', 'guilty_exp_avg', 'exp_avg', 'road_rank_cat',\n",
       "       'road_defects_cat', 'traffic_changes_bin', 'traffic_changes_cat',\n",
       "       'road_surface_cat', 'TYPE_cat', 'out_of_town', 'street_rank_cat',\n",
       "       'weather_interpretable', 'weather_cat', 'adj_objects_interpretable',\n",
       "       'adj_objects_cat', 'cause_factors_cat', 'crossing_violation',\n",
       "       'impaired_driving', 'interference_violation', 'license_violation',\n",
       "       'maneuver_violation', 'other_violation', 'pedestrian_violation',\n",
       "       'sudden_appearance_violation', 'traffic_control_violation',\n",
       "       'transport_violation', 'vehicle_tech_violation', 'wrong_way',\n",
       "       'no_lighting', 'lighting_cat', 'site_objects_cat', 'severity', 'YEAR',\n",
       "       'MONTH', 'WEEKDAY', 'SEASON', 'is_WEEKEND', 'HOUR', 'is_NIGHT',\n",
       "       'is_PEAK_HOUR'],\n",
       "      dtype='object')"
      ]
     },
     "execution_count": 164,
     "metadata": {},
     "output_type": "execute_result"
    }
   ],
   "source": [
    "df.columns"
   ]
  },
  {
   "cell_type": "markdown",
   "metadata": {},
   "source": [
    "## Processing the data gaps (part 2) with ML algorithms"
   ]
  },
  {
   "cell_type": "markdown",
   "metadata": {},
   "source": [
    "After initial processing of gaps there are still columns with NaN. In this part we will fill them using machine learning methods."
   ]
  },
  {
   "cell_type": "code",
   "execution_count": 165,
   "metadata": {},
   "outputs": [
    {
     "name": "stdout",
     "output_type": "stream",
     "text": [
      "Columns for proceed:\n",
      "\n",
      "'road_category' — 11652 gaps\n",
      "'vehicle_age_min' — 6207 gaps\n",
      "'vehicle_age_max' — 6207 gaps\n",
      "'vehicle_age_avg' — 6207 gaps\n",
      "\n",
      "Current num of obs: 473188\n"
     ]
    }
   ],
   "source": [
    "cols_with_gaps = df.columns[df.isna().any()].tolist()\n",
    "\n",
    "print('Columns for proceed:\\n')\n",
    "for col in cols_with_gaps:\n",
    "    gaps = df[col].isna().sum()\n",
    "    print(f\"'{col}' — {gaps} gaps\")\n",
    "\n",
    "print(f\"\\nCurrent num of obs: {df.shape[0]}\")"
   ]
  },
  {
   "cell_type": "code",
   "execution_count": 166,
   "metadata": {},
   "outputs": [],
   "source": [
    "df_ml = df.copy()\n",
    "\n",
    "# encoding 'dor'\n",
    "le = LabelEncoder()\n",
    "df_ml['road_name_encoded'] = le.fit_transform(df_ml['road_name'])"
   ]
  },
  {
   "cell_type": "code",
   "execution_count": 167,
   "metadata": {},
   "outputs": [
    {
     "name": "stdout",
     "output_type": "stream",
     "text": [
      "Num of obs in train DataFrame: 455563\n"
     ]
    }
   ],
   "source": [
    "# train models to dill the gaps on these data\n",
    "df_train = df_ml.dropna()\n",
    "print(f\"Num of obs in train DataFrame: {df_train.shape[0]}\")"
   ]
  },
  {
   "cell_type": "markdown",
   "metadata": {},
   "source": [
    "#### **'road_category'**"
   ]
  },
  {
   "cell_type": "code",
   "execution_count": 168,
   "metadata": {},
   "outputs": [
    {
     "data": {
      "text/plain": [
       "array([ 5.,  6.,  7.,  3.,  4.,  2.,  1.,  8., nan])"
      ]
     },
     "execution_count": 168,
     "metadata": {},
     "output_type": "execute_result"
    }
   ],
   "source": [
    "df['road_category'].unique()"
   ]
  },
  {
   "cell_type": "markdown",
   "metadata": {},
   "source": [
    "Analysis shows that `'road_category'` is a categorical preproceed feature."
   ]
  },
  {
   "cell_type": "code",
   "execution_count": 169,
   "metadata": {},
   "outputs": [
    {
     "name": "stdout",
     "output_type": "stream",
     "text": [
      "Classification report:\n",
      "               precision    recall  f1-score   support\n",
      "\n",
      "           1       0.62      0.67      0.65      7249\n",
      "           2       0.54      0.47      0.51      5393\n",
      "           3       0.49      0.34      0.40      3721\n",
      "           4       0.72      0.76      0.74     22801\n",
      "           5       0.79      0.82      0.80     27332\n",
      "           6       0.80      0.80      0.80     19785\n",
      "           7       0.67      0.50      0.57      2172\n",
      "           8       0.73      0.56      0.64      2660\n",
      "\n",
      "    accuracy                           0.73     91113\n",
      "   macro avg       0.67      0.62      0.64     91113\n",
      "weighted avg       0.73      0.73      0.73     91113\n",
      "\n"
     ]
    }
   ],
   "source": [
    "from sklearn.model_selection import train_test_split\n",
    "from sklearn.preprocessing import LabelEncoder, StandardScaler\n",
    "from sklearn.neighbors import KNeighborsClassifier\n",
    "from sklearn.metrics import classification_report\n",
    "\n",
    "df_knn = df_train[['road_name_encoded', 'road_rank_cat', 'COORD_L', 'COORD_W', 'road_category']]\n",
    "\n",
    "X = df_knn[['road_name_encoded', 'road_rank_cat', 'COORD_L', 'COORD_W']]\n",
    "y = df_knn['road_category'].astype(int)\n",
    "\n",
    "# normalize\n",
    "scaler = StandardScaler()\n",
    "X_scaled = scaler.fit_transform(X)\n",
    "\n",
    "X_train, X_val, y_train, y_val = train_test_split(\n",
    "    X_scaled, y, test_size=0.2, random_state=42, stratify=y\n",
    ")\n",
    "\n",
    "knn = KNeighborsClassifier(n_neighbors=5)\n",
    "knn.fit(X_train, y_train)\n",
    "\n",
    "y_pred = knn.predict(X_val)\n",
    "\n",
    "print(\"Classification report:\\n\", classification_report(y_val, y_pred))"
   ]
  },
  {
   "cell_type": "code",
   "execution_count": 170,
   "metadata": {},
   "outputs": [],
   "source": [
    "df_missing = df_ml[df_ml['road_category'].isna()]\n",
    "\n",
    "X_missing = df_missing[['road_name_encoded', 'road_rank_cat', 'COORD_L', 'COORD_W']]\n",
    "X_missing_scaled = scaler.transform(X_missing)\n",
    "\n",
    "predicted_dor_k = knn.predict(X_missing_scaled)\n",
    "\n",
    "# Записываем результат обратно в основной DataFrame\n",
    "df.loc[df_missing.index, 'road_category'] = predicted_dor_k"
   ]
  },
  {
   "cell_type": "code",
   "execution_count": 171,
   "metadata": {},
   "outputs": [
    {
     "name": "stdout",
     "output_type": "stream",
     "text": [
      "Column 'road_category' has 0 gaps.\n"
     ]
    }
   ],
   "source": [
    "gaps = df['road_category'].isna().sum()\n",
    "print(f\"Column 'road_category' has {gaps} gaps.\")"
   ]
  },
  {
   "cell_type": "markdown",
   "metadata": {},
   "source": [
    "#### **'vehicle_age_min', 'vehicle_age_max', 'vehicle_age_avg'**"
   ]
  },
  {
   "cell_type": "code",
   "execution_count": 172,
   "metadata": {},
   "outputs": [
    {
     "data": {
      "text/plain": [
       "vehicle_age_min    float64\n",
       "vehicle_age_max    float64\n",
       "vehicle_age_avg    float64\n",
       "dtype: object"
      ]
     },
     "execution_count": 172,
     "metadata": {},
     "output_type": "execute_result"
    }
   ],
   "source": [
    "df[['vehicle_age_min', 'vehicle_age_max', 'vehicle_age_avg']].dtypes"
   ]
  },
  {
   "cell_type": "code",
   "execution_count": 173,
   "metadata": {},
   "outputs": [
    {
     "name": "stdout",
     "output_type": "stream",
     "text": [
      "MAE (min vehicles age): 6.44\n",
      "MAE (max vehicles age): 4.98\n",
      "MAE (avg vehicles age): 5.32\n",
      "\n",
      "Overall MAE (all targets averaged): 5.58\n"
     ]
    }
   ],
   "source": [
    "features = [\n",
    "    'n_VEHICLES', 'n_PARTICIPANTS', 'non_private_vehicle', 'russian_vehicle',\n",
    "    'drunk_driver', 'escaped',\n",
    "    'n_class_a', 'n_class_b', 'n_class_c',\n",
    "    'n_class_d', 'n_class_e', 'n_class_s', 'n_front_drive',\n",
    "    'n_rear_drive', 'n_4wd',\n",
    "    'exp_avg', 'guilty_exp_avg',\n",
    "    'vehicle_failure',\n",
    "    'weather_cat', 'lighting_cat', 'cause_factors_cat', 'out_of_town'\n",
    "]\n",
    "\n",
    "X = df_train[features]\n",
    "y = df_train[['vehicle_age_min', 'vehicle_age_max', 'vehicle_age_avg']].astype(int)\n",
    "\n",
    "X_train, X_test, y_train, y_test = train_test_split(X, y, test_size=0.2, random_state=42)\n",
    "\n",
    "model = MultiOutputRegressor(GradientBoostingRegressor(random_state=42))\n",
    "model.fit(X_train, y_train)\n",
    "\n",
    "y_pred = model.predict(X_test)\n",
    "\n",
    "mae = mean_absolute_error(y_test, y_pred)\n",
    "mae_min = mean_absolute_error(y_test.iloc[:, 0], y_pred[:, 0])\n",
    "mae_max = mean_absolute_error(y_test.iloc[:, 1], y_pred[:, 1])\n",
    "mae_avg = mean_absolute_error(y_test.iloc[:, 2], y_pred[:, 2])\n",
    "\n",
    "print(f\"MAE (min vehicles age): {mae_min:.2f}\")\n",
    "print(f\"MAE (max vehicles age): {mae_max:.2f}\")\n",
    "print(f\"MAE (avg vehicles age): {mae_avg:.2f}\")\n",
    "print(f\"\\nOverall MAE (all targets averaged): {mae:.2f}\")"
   ]
  },
  {
   "cell_type": "code",
   "execution_count": 174,
   "metadata": {},
   "outputs": [],
   "source": [
    "df_missing = df_ml[df_ml[['vehicle_age_min', 'vehicle_age_max', 'vehicle_age_avg']].isna().any(axis=1)]\n",
    "X_missing = df_missing[features]\n",
    "\n",
    "y_pred = model.predict(X_missing)\n",
    "\n",
    "y_pred_fixed = y_pred.copy()\n",
    "\n",
    "for i in range(y_pred.shape[0]):\n",
    "    min_val, max_val, avg_val = y_pred[i]\n",
    "\n",
    "    min_val = min(min_val, avg_val, max_val)\n",
    "    max_val = max(min_val, avg_val, max_val)\n",
    "    avg_val = max(min_val, min(avg_val, max_val))\n",
    "\n",
    "    y_pred_fixed[i] = [min_val, max_val, avg_val]\n",
    "\n",
    "\n",
    "df.loc[df_missing.index, 'vehicle_age_min'] = y_pred_fixed[:, 0]\n",
    "df.loc[df_missing.index, 'vehicle_age_max'] = y_pred_fixed[:, 1]\n",
    "df.loc[df_missing.index, 'vehicle_age_avg'] = y_pred_fixed[:, 2]"
   ]
  },
  {
   "cell_type": "code",
   "execution_count": 175,
   "metadata": {},
   "outputs": [
    {
     "name": "stdout",
     "output_type": "stream",
     "text": [
      "Column 'min vehicles age' has 0 gaps.\n",
      "Column 'max vehicles age' has 0 gaps.\n",
      "Column 'avg vehicles age' has 0 gaps.\n"
     ]
    }
   ],
   "source": [
    "gaps = df['vehicle_age_min'].isna().sum()\n",
    "print(f\"Column 'min vehicles age' has {gaps} gaps.\")\n",
    "\n",
    "gaps = df['vehicle_age_max'].isna().sum()\n",
    "print(f\"Column 'max vehicles age' has {gaps} gaps.\")\n",
    "\n",
    "gaps = df['vehicle_age_avg'].isna().sum()\n",
    "print(f\"Column 'avg vehicles age' has {gaps} gaps.\")"
   ]
  },
  {
   "cell_type": "code",
   "execution_count": 176,
   "metadata": {},
   "outputs": [
    {
     "data": {
      "text/plain": [
       "(473188, 79)"
      ]
     },
     "execution_count": 176,
     "metadata": {},
     "output_type": "execute_result"
    }
   ],
   "source": [
    "df.shape"
   ]
  },
  {
   "cell_type": "code",
   "execution_count": 177,
   "metadata": {},
   "outputs": [],
   "source": [
    "df.to_csv('data/DTP_DATA_2025_PROCESSED.csv')"
   ]
  }
 ],
 "metadata": {
  "kernelspec": {
   "display_name": "Python 3",
   "language": "python",
   "name": "python3"
  },
  "language_info": {
   "codemirror_mode": {
    "name": "ipython",
    "version": 3
   },
   "file_extension": ".py",
   "mimetype": "text/x-python",
   "name": "python",
   "nbconvert_exporter": "python",
   "pygments_lexer": "ipython3",
   "version": "3.9.7"
  }
 },
 "nbformat": 4,
 "nbformat_minor": 2
}
