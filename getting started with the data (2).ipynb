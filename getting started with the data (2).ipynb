{
 "cells": [
  {
   "cell_type": "code",
   "execution_count": 47,
   "metadata": {},
   "outputs": [],
   "source": [
    "import pandas as pd\n",
    "import numpy as np\n",
    "import matplotlib.pyplot as plt"
   ]
  },
  {
   "cell_type": "code",
   "execution_count": 48,
   "metadata": {},
   "outputs": [
    {
     "name": "stderr",
     "output_type": "stream",
     "text": [
      "C:\\Users\\Настя\\AppData\\Local\\Temp\\ipykernel_7536\\1562921182.py:1: DtypeWarning: Columns (6,7,28,38,45) have mixed types. Specify dtype option on import or set low_memory=False.\n",
      "  df = pd.read_csv('DTP_DATA_CORRECT.csv')\n"
     ]
    },
    {
     "name": "stdout",
     "output_type": "stream",
     "text": [
      "(1400915, 89)\n"
     ]
    },
    {
     "data": {
      "text/html": [
       "<div>\n",
       "<style scoped>\n",
       "    .dataframe tbody tr th:only-of-type {\n",
       "        vertical-align: middle;\n",
       "    }\n",
       "\n",
       "    .dataframe tbody tr th {\n",
       "        vertical-align: top;\n",
       "    }\n",
       "\n",
       "    .dataframe thead th {\n",
       "        text-align: right;\n",
       "    }\n",
       "</style>\n",
       "<table border=\"1\" class=\"dataframe\">\n",
       "  <thead>\n",
       "    <tr style=\"text-align: right;\">\n",
       "      <th></th>\n",
       "      <th>DTPV</th>\n",
       "      <th>date</th>\n",
       "      <th>district</th>\n",
       "      <th>EMTP_NUMBER</th>\n",
       "      <th>CHOM</th>\n",
       "      <th>COORD_L</th>\n",
       "      <th>COORD_W</th>\n",
       "      <th>dor</th>\n",
       "      <th>dor_k</th>\n",
       "      <th>dor_z</th>\n",
       "      <th>...</th>\n",
       "      <th>any cyclists</th>\n",
       "      <th>any concomitant traffic violations</th>\n",
       "      <th>any injuries without safety belt</th>\n",
       "      <th>any child restraints</th>\n",
       "      <th>number of guilty objects</th>\n",
       "      <th>fatal traffic violation(s)</th>\n",
       "      <th>number of fatal traffic violations</th>\n",
       "      <th>bodily harm</th>\n",
       "      <th>guilty drivers' average experience</th>\n",
       "      <th>drivers' average experience</th>\n",
       "    </tr>\n",
       "  </thead>\n",
       "  <tbody>\n",
       "    <tr>\n",
       "      <th>0</th>\n",
       "      <td>Столкновение</td>\n",
       "      <td>31.01.2015</td>\n",
       "      <td>ЖЕЛЕЗНОДОРОЖНЫЙ</td>\n",
       "      <td>NaN</td>\n",
       "      <td>Движение частично перекрыто</td>\n",
       "      <td>83.740833</td>\n",
       "      <td>53.333056</td>\n",
       "      <td>NaN</td>\n",
       "      <td>NaN</td>\n",
       "      <td>Не указано</td>\n",
       "      <td>...</td>\n",
       "      <td>0</td>\n",
       "      <td>0</td>\n",
       "      <td>0</td>\n",
       "      <td>0</td>\n",
       "      <td>1</td>\n",
       "      <td>{'Другие нарушения ПДД водителем'}</td>\n",
       "      <td>1</td>\n",
       "      <td>{'Раненый, находящийся (находившийся)  на амбу...</td>\n",
       "      <td>15.0</td>\n",
       "      <td>13.0</td>\n",
       "    </tr>\n",
       "    <tr>\n",
       "      <th>1</th>\n",
       "      <td>Наезд на пешехода</td>\n",
       "      <td>31.01.2015</td>\n",
       "      <td>АЛЕЙСКИЙ</td>\n",
       "      <td>NaN</td>\n",
       "      <td>Режим движения не изменялся</td>\n",
       "      <td>82.462778</td>\n",
       "      <td>52.245833</td>\n",
       "      <td>А-322 Барнаул - Рубцовск - граница с Республик...</td>\n",
       "      <td>3.0</td>\n",
       "      <td>Федеральная (дорога федерального значения)</td>\n",
       "      <td>...</td>\n",
       "      <td>0</td>\n",
       "      <td>1</td>\n",
       "      <td>0</td>\n",
       "      <td>0</td>\n",
       "      <td>1</td>\n",
       "      <td>{'Нахождение на проезжей части без цели её пер...</td>\n",
       "      <td>1</td>\n",
       "      <td>{'Раненый, находящийся (находившийся) на стаци...</td>\n",
       "      <td>NaN</td>\n",
       "      <td>5.0</td>\n",
       "    </tr>\n",
       "    <tr>\n",
       "      <th>2</th>\n",
       "      <td>Наезд на пешехода</td>\n",
       "      <td>31.01.2015</td>\n",
       "      <td>ИНДУСТРИАЛЬНЫЙ</td>\n",
       "      <td>NaN</td>\n",
       "      <td>Движение частично перекрыто</td>\n",
       "      <td>83.501944</td>\n",
       "      <td>53.274167</td>\n",
       "      <td>NaN</td>\n",
       "      <td>NaN</td>\n",
       "      <td>Не указано</td>\n",
       "      <td>...</td>\n",
       "      <td>0</td>\n",
       "      <td>0</td>\n",
       "      <td>0</td>\n",
       "      <td>0</td>\n",
       "      <td>2</td>\n",
       "      <td>{'Переход через проезжую часть вне пешеходного...</td>\n",
       "      <td>1</td>\n",
       "      <td>{'Раненый, находящийся (находившийся)  на амбу...</td>\n",
       "      <td>NaN</td>\n",
       "      <td>17.0</td>\n",
       "    </tr>\n",
       "    <tr>\n",
       "      <th>3</th>\n",
       "      <td>Наезд на пешехода</td>\n",
       "      <td>31.01.2015</td>\n",
       "      <td>ЦЕНТРАЛЬНЫЙ</td>\n",
       "      <td>NaN</td>\n",
       "      <td>Режим движения не изменялся</td>\n",
       "      <td>83.251667</td>\n",
       "      <td>53.285278</td>\n",
       "      <td>NaN</td>\n",
       "      <td>NaN</td>\n",
       "      <td>Не указано</td>\n",
       "      <td>...</td>\n",
       "      <td>0</td>\n",
       "      <td>0</td>\n",
       "      <td>0</td>\n",
       "      <td>0</td>\n",
       "      <td>1</td>\n",
       "      <td>{'Переход через проезжую часть вне пешеходного...</td>\n",
       "      <td>1</td>\n",
       "      <td>{'Раненый, находящийся (находившийся)  на амбу...</td>\n",
       "      <td>NaN</td>\n",
       "      <td>27.0</td>\n",
       "    </tr>\n",
       "    <tr>\n",
       "      <th>4</th>\n",
       "      <td>Наезд на пешехода</td>\n",
       "      <td>31.01.2015</td>\n",
       "      <td>ИНДУСТРИАЛЬНЫЙ</td>\n",
       "      <td>NaN</td>\n",
       "      <td>Движение частично перекрыто</td>\n",
       "      <td>83.708889</td>\n",
       "      <td>53.318333</td>\n",
       "      <td>NaN</td>\n",
       "      <td>NaN</td>\n",
       "      <td>Не указано</td>\n",
       "      <td>...</td>\n",
       "      <td>0</td>\n",
       "      <td>0</td>\n",
       "      <td>0</td>\n",
       "      <td>0</td>\n",
       "      <td>1</td>\n",
       "      <td>{'Переход через проезжую часть в неустановленн...</td>\n",
       "      <td>1</td>\n",
       "      <td>{'Раненый, находящийся (находившийся) на стаци...</td>\n",
       "      <td>NaN</td>\n",
       "      <td>1.0</td>\n",
       "    </tr>\n",
       "  </tbody>\n",
       "</table>\n",
       "<p>5 rows × 89 columns</p>\n",
       "</div>"
      ],
      "text/plain": [
       "                DTPV        date         district  EMTP_NUMBER  \\\n",
       "0       Столкновение  31.01.2015  ЖЕЛЕЗНОДОРОЖНЫЙ          NaN   \n",
       "1  Наезд на пешехода  31.01.2015         АЛЕЙСКИЙ          NaN   \n",
       "2  Наезд на пешехода  31.01.2015   ИНДУСТРИАЛЬНЫЙ          NaN   \n",
       "3  Наезд на пешехода  31.01.2015      ЦЕНТРАЛЬНЫЙ          NaN   \n",
       "4  Наезд на пешехода  31.01.2015   ИНДУСТРИАЛЬНЫЙ          NaN   \n",
       "\n",
       "                          CHOM    COORD_L    COORD_W  \\\n",
       "0  Движение частично перекрыто  83.740833  53.333056   \n",
       "1  Режим движения не изменялся  82.462778  52.245833   \n",
       "2  Движение частично перекрыто  83.501944  53.274167   \n",
       "3  Режим движения не изменялся  83.251667  53.285278   \n",
       "4  Движение частично перекрыто  83.708889  53.318333   \n",
       "\n",
       "                                                 dor  dor_k  \\\n",
       "0                                                NaN    NaN   \n",
       "1  А-322 Барнаул - Рубцовск - граница с Республик...    3.0   \n",
       "2                                                NaN    NaN   \n",
       "3                                                NaN    NaN   \n",
       "4                                                NaN    NaN   \n",
       "\n",
       "                                        dor_z  ... any cyclists  \\\n",
       "0                                  Не указано  ...            0   \n",
       "1  Федеральная (дорога федерального значения)  ...            0   \n",
       "2                                  Не указано  ...            0   \n",
       "3                                  Не указано  ...            0   \n",
       "4                                  Не указано  ...            0   \n",
       "\n",
       "  any concomitant traffic violations any injuries without safety belt  \\\n",
       "0                                  0                                0   \n",
       "1                                  1                                0   \n",
       "2                                  0                                0   \n",
       "3                                  0                                0   \n",
       "4                                  0                                0   \n",
       "\n",
       "   any child restraints  number of guilty objects  \\\n",
       "0                     0                         1   \n",
       "1                     0                         1   \n",
       "2                     0                         2   \n",
       "3                     0                         1   \n",
       "4                     0                         1   \n",
       "\n",
       "                          fatal traffic violation(s)  \\\n",
       "0                 {'Другие нарушения ПДД водителем'}   \n",
       "1  {'Нахождение на проезжей части без цели её пер...   \n",
       "2  {'Переход через проезжую часть вне пешеходного...   \n",
       "3  {'Переход через проезжую часть вне пешеходного...   \n",
       "4  {'Переход через проезжую часть в неустановленн...   \n",
       "\n",
       "  number of fatal traffic violations  \\\n",
       "0                                  1   \n",
       "1                                  1   \n",
       "2                                  1   \n",
       "3                                  1   \n",
       "4                                  1   \n",
       "\n",
       "                                         bodily harm  \\\n",
       "0  {'Раненый, находящийся (находившийся)  на амбу...   \n",
       "1  {'Раненый, находящийся (находившийся) на стаци...   \n",
       "2  {'Раненый, находящийся (находившийся)  на амбу...   \n",
       "3  {'Раненый, находящийся (находившийся)  на амбу...   \n",
       "4  {'Раненый, находящийся (находившийся) на стаци...   \n",
       "\n",
       "  guilty drivers' average experience  drivers' average experience  \n",
       "0                               15.0                         13.0  \n",
       "1                                NaN                          5.0  \n",
       "2                                NaN                         17.0  \n",
       "3                                NaN                         27.0  \n",
       "4                                NaN                          1.0  \n",
       "\n",
       "[5 rows x 89 columns]"
      ]
     },
     "execution_count": 48,
     "metadata": {},
     "output_type": "execute_result"
    }
   ],
   "source": [
    "df = pd.read_csv('DTP_DATA_CORRECT.csv')\n",
    "df = df.drop('Unnamed: 0', axis=1)\n",
    "print(df.shape)\n",
    "features_number = df.shape[1]\n",
    "df.head(5)"
   ]
  },
  {
   "cell_type": "code",
   "execution_count": 49,
   "metadata": {},
   "outputs": [
    {
     "data": {
      "text/plain": [
       "Index(['DTPV', 'date', 'district', 'EMTP_NUMBER', 'CHOM', 'COORD_L', 'COORD_W',\n",
       "       'dor', 'dor_k', 'dor_z', 'factor', 'house', 'k_ul', 'km', 'm', 'NP',\n",
       "       'ndu', 'OBJ_DTP', 'osv', 's_dtp', 's_pch', 'sdor', 'spog', 'street',\n",
       "       'color', 'f_sob', 'g_v', 'm_pov', 'm_ts', 'marka_ts', 'n_ts', 'o_pf',\n",
       "       'r_rul', 't_n', 't_ts', 'ts_s', 'ALCO', 'INJURED_CARD_ID', 'k_UCH',\n",
       "       'NPDD', 'n_UCH', 'POL', 'SAFETY_BELT', 'SOP_NPDD', 's_SEAT_GROUP',\n",
       "       's_SM', 's_T', 'v_ST', 'KTS', 'KUCH', 'kartId', 'POG', 'RAN', 'rowNum',\n",
       "       'time', 'any TV technical failures', 'any non-private vehicles',\n",
       "       'any russian vehicles', 'any vehicles older than 1990',\n",
       "       'any vehicles older than 2000', 'any vehicles older than 2010',\n",
       "       'any white vehicles', 'any black vehicles', 'any colored vehicles',\n",
       "       'any front-wheel-drive vehicles', 'any rear-wheel-drive vehicles',\n",
       "       'any four-wheel-drive vehicles', 'any A-class vehicles',\n",
       "       'any B-class vehicles', 'any C-class vehicles', 'any D-class vehicles',\n",
       "       'any E-class vehicles', 'any S-class vehicles', 'any non-car vehicles',\n",
       "       'any drunk passengers', 'any drunk drivers', 'any female drivers',\n",
       "       'any escaped participants', 'any pedestrians', 'any cyclists',\n",
       "       'any concomitant traffic violations',\n",
       "       'any injuries without safety belt', 'any child restraints',\n",
       "       'number of guilty objects', 'fatal traffic violation(s)',\n",
       "       'number of fatal traffic violations', 'bodily harm',\n",
       "       'guilty drivers' average experience', 'drivers' average experience'],\n",
       "      dtype='object')"
      ]
     },
     "execution_count": 49,
     "metadata": {},
     "output_type": "execute_result"
    }
   ],
   "source": [
    "df.columns"
   ]
  },
  {
   "cell_type": "code",
   "execution_count": 50,
   "metadata": {},
   "outputs": [],
   "source": [
    "df = df.drop(['color', 'f_sob', 'g_v', 'm_pov', 'm_ts', 'marka_ts', 'n_ts', 'o_pf',\n",
    "       'r_rul', 't_n', 't_ts', 'ts_s', 'ALCO', 'INJURED_CARD_ID', 'k_UCH',\n",
    "       'NPDD', 'n_UCH', 'POL', 'SAFETY_BELT', 'SOP_NPDD', 's_SEAT_GROUP',\n",
    "       's_SM', 's_T', 'v_ST'], axis=1)\n",
    "\n",
    "# dropped features because they were accidentally included in the DataFrame; \n",
    "# they contain information about the last accident participant and the last vehicle in the XML"
   ]
  },
  {
   "cell_type": "code",
   "execution_count": 51,
   "metadata": {},
   "outputs": [],
   "source": [
    "# just because i didn't think ahead\n",
    "\n",
    "new_column_names = {\n",
    "    \"guilty drivers' average experience\": \"guilty drivers average experience\",\n",
    "    \"drivers' average experience\": \"drivers average experience\"\n",
    "}\n",
    "\n",
    "df = df.rename(columns=new_column_names)"
   ]
  },
  {
   "cell_type": "code",
   "execution_count": 52,
   "metadata": {},
   "outputs": [
    {
     "data": {
      "text/plain": [
       "Index(['DTPV', 'date', 'district', 'EMTP_NUMBER', 'CHOM', 'COORD_L', 'COORD_W',\n",
       "       'dor', 'dor_k', 'dor_z', 'factor', 'house', 'k_ul', 'km', 'm', 'NP',\n",
       "       'ndu', 'OBJ_DTP', 'osv', 's_dtp', 's_pch', 'sdor', 'spog', 'street',\n",
       "       'KTS', 'KUCH', 'kartId', 'POG', 'RAN', 'rowNum', 'time',\n",
       "       'any TV technical failures', 'any non-private vehicles',\n",
       "       'any russian vehicles', 'any vehicles older than 1990',\n",
       "       'any vehicles older than 2000', 'any vehicles older than 2010',\n",
       "       'any white vehicles', 'any black vehicles', 'any colored vehicles',\n",
       "       'any front-wheel-drive vehicles', 'any rear-wheel-drive vehicles',\n",
       "       'any four-wheel-drive vehicles', 'any A-class vehicles',\n",
       "       'any B-class vehicles', 'any C-class vehicles', 'any D-class vehicles',\n",
       "       'any E-class vehicles', 'any S-class vehicles', 'any non-car vehicles',\n",
       "       'any drunk passengers', 'any drunk drivers', 'any female drivers',\n",
       "       'any escaped participants', 'any pedestrians', 'any cyclists',\n",
       "       'any concomitant traffic violations',\n",
       "       'any injuries without safety belt', 'any child restraints',\n",
       "       'number of guilty objects', 'fatal traffic violation(s)',\n",
       "       'number of fatal traffic violations', 'bodily harm',\n",
       "       'guilty drivers average experience', 'drivers average experience'],\n",
       "      dtype='object')"
      ]
     },
     "execution_count": 52,
     "metadata": {},
     "output_type": "execute_result"
    }
   ],
   "source": [
    "df.columns"
   ]
  },
  {
   "cell_type": "code",
   "execution_count": 53,
   "metadata": {},
   "outputs": [
    {
     "data": {
      "text/plain": [
       "(1400915, 65)"
      ]
     },
     "execution_count": 53,
     "metadata": {},
     "output_type": "execute_result"
    }
   ],
   "source": [
    "df.shape"
   ]
  },
  {
   "cell_type": "markdown",
   "metadata": {},
   "source": [
    "### Meanings of columns"
   ]
  },
  {
   "cell_type": "code",
   "execution_count": 54,
   "metadata": {},
   "outputs": [],
   "source": [
    "column_meanings = {\n",
    "    'DTPV': 'RTA type',\n",
    "    # 'date',\n",
    "    # 'district',\n",
    "    'EMTP_NUMBER': 'RTA number', # its meaning is similar to kartId\n",
    "    'CHOM': 'info about changes in traffic',\n",
    "    'dor': 'road name',\n",
    "    'dor_k': 'road category',\n",
    "    'dor_z': 'road significance',\n",
    "    'factor': 'factors influencing the traffic',\n",
    "    # 'house',\n",
    "    'k_ul': 'street significance',\n",
    "    'km': 'RTA road km',\n",
    "    'm': 'RTA road m',\n",
    "    'NP': 'human settlement',\n",
    "    'ndu': 'defects of the road network transport and operational maintenance',\n",
    "    'OBJ_DTP': 'road network objects near RTA',\n",
    "    'osv': 'lighting',\n",
    "    's_dtp': '', # dk what is it \n",
    "    's_pch': 'road surface condition',\n",
    "    'sdor': 'road network objects at the scene of RTA',\n",
    "    'spog': 'weather',\n",
    "    # 'street',\n",
    "    # -----------------------------------------------------------------------------\n",
    "    # (info about every vehicle, was not save as column)\n",
    "    'color': 'vehicle color',\n",
    "    'f_sob': 'form of ownership', # it is not displayed in pdf version\n",
    "    'g_v': 'vehicle year of release',\n",
    "    'm_pov': 'vehicle damage place',\n",
    "    'm_ts': 'vehicle model',\n",
    "    'marka_ts': 'vehicle brand',\n",
    "    'n_ts': 'vehicle number in RTA',\n",
    "    'o_pf': 'form of ownership', # similar to f_sob in meaning, but has other values, f_sob was preferred it\n",
    "    'r_rul': 'steering position',\n",
    "    't_n': 'vehicle technical failure',\n",
    "    't_ts': 'vehicle class',\n",
    "    'ts_s': 'info about vehicle leaving a RTA place',\n",
    "    # (info about every participant, was not save as column)\n",
    "    'ALCO': 'ppm',\n",
    "    'INJURED_CARD_ID': '', # dk what is it\n",
    "    'k_UCH': 'participant category',\n",
    "    'NPDD': 'direct traffic violations',\n",
    "    'n_UCH': 'participant number',\n",
    "    'POL': 'gender',\n",
    "    'SAFETY_BELT': 'safety belt',\n",
    "    'SOP_NPDD': 'concomitant traffic violations',\n",
    "    's_SEAT_GROUP': 'type of child restraint',\n",
    "    's_SM': 'info about participant leaving a RTA place',\n",
    "    's_T': 'severity of the consequences',\n",
    "    'v_ST': 'driving experience',\n",
    "    # ---------------------------------------------------------------------\n",
    "    # (general RTA info again)\n",
    "    'KTS': 'number of vehicle in RTA',\n",
    "    'KUCH': 'number of participants in RTA',\n",
    "    'kartId': 'RTA ID', # it is not displayed in pdf version\n",
    "    'POG': 'number of deaths',\n",
    "    'RAN': 'number of wounded',\n",
    "    # 'rowNum',\n",
    "    # 'time'\n",
    "}"
   ]
  },
  {
   "cell_type": "markdown",
   "metadata": {},
   "source": [
    "## Processing the data gaps"
   ]
  },
  {
   "cell_type": "code",
   "execution_count": 55,
   "metadata": {},
   "outputs": [
    {
     "name": "stdout",
     "output_type": "stream",
     "text": [
      "['EMTP_NUMBER', 'CHOM', 'COORD_L', 'COORD_W', 'dor', 'dor_k', 'house', 'k_ul', 'km', 'm', 'NP', 'street', 'guilty drivers average experience']\n"
     ]
    }
   ],
   "source": [
    "features_with_gaps = df.columns[df.isna().any()].tolist()\n",
    "print(features_with_gaps)"
   ]
  },
  {
   "cell_type": "markdown",
   "metadata": {},
   "source": [
    "We don't need every feature, so let's create a list of columns to drop and update it as needed."
   ]
  },
  {
   "cell_type": "code",
   "execution_count": 56,
   "metadata": {},
   "outputs": [],
   "source": [
    "drop_columns = ['district', 'house', 'street', 'rowNum', 'km', 'm']\n",
    "# will be dropped because they are irrelevant to our task"
   ]
  },
  {
   "cell_type": "markdown",
   "metadata": {},
   "source": [
    "__EMTP_NUMBER vs kartId__: `kartId` was chosen as an accident ID\n",
    "\n",
    "`kartId` does not appear in the PDF but is present in the XML and serves the same function as `EMTP_NUMBER`, so we need to choose between them."
   ]
  },
  {
   "cell_type": "code",
   "execution_count": 57,
   "metadata": {},
   "outputs": [
    {
     "name": "stdout",
     "output_type": "stream",
     "text": [
      "EMTP_NUMBER gaps: 823047\n",
      "kartId gaps: 0\n"
     ]
    }
   ],
   "source": [
    "print(f\"EMTP_NUMBER gaps: {df['EMTP_NUMBER'].isna().sum()}\")\n",
    "print(f\"kartId gaps: {df['kartId'].isna().sum()}\")\n",
    "\n",
    "# drop EMTP_NUMBER, it's fulled of nan\n",
    "\n",
    "drop_columns.append('EMTP_NUMBER')"
   ]
  },
  {
   "cell_type": "markdown",
   "metadata": {},
   "source": [
    "__CHOM__: 2 objects were dropped"
   ]
  },
  {
   "cell_type": "code",
   "execution_count": 58,
   "metadata": {},
   "outputs": [
    {
     "name": "stdout",
     "output_type": "stream",
     "text": [
      "CHOM gaps: 2\n",
      "Objects left: 1400913\n"
     ]
    }
   ],
   "source": [
    "print(f\"CHOM gaps: {df['CHOM'].isna().sum()}\")\n",
    "\n",
    "df = df[df['CHOM'].notna()]\n",
    "print(f\"Objects left: {df.shape[0]}\")"
   ]
  },
  {
   "cell_type": "markdown",
   "metadata": {},
   "source": [
    "__k_ul:__ replace nan by new value"
   ]
  },
  {
   "cell_type": "code",
   "execution_count": 60,
   "metadata": {},
   "outputs": [
    {
     "name": "stdout",
     "output_type": "stream",
     "text": [
      "k_ul gaps: 120984\n",
      "street gaps: 517069\n",
      "k_ul gaps left: 0\n"
     ]
    }
   ],
   "source": [
    "print(f\"k_ul gaps: {df['k_ul'].isna().sum()}\")\n",
    "print(f\"street gaps: {df['street'].isna().sum()}\")\n",
    "\n",
    "# Can't try to fill the k_ul gaps by street values, cause the number of nan in street is much bigger.\n",
    "# Replace nan by 'Назначение неизвестно'\n",
    "\n",
    "df['k_ul'] = df['k_ul'].fillna('Назначение неизвестно')\n",
    "print(f\"k_ul gaps left: {df['k_ul'].isna().sum()}\")"
   ]
  },
  {
   "cell_type": "markdown",
   "metadata": {},
   "source": [
    "__guilty drivers' average experience:__ 145498 objects were deleted"
   ]
  },
  {
   "cell_type": "code",
   "execution_count": 61,
   "metadata": {},
   "outputs": [
    {
     "name": "stdout",
     "output_type": "stream",
     "text": [
      "guilty drivers average experience gaps: 145859\n",
      "Objects left: 1255054\n"
     ]
    }
   ],
   "source": [
    "print(f\"guilty drivers average experience gaps: {df['guilty drivers average experience'].isna().sum()}\")\n",
    "\n",
    "df = df[df['guilty drivers average experience'].notna()]\n",
    "print(f\"Objects left: {df.shape[0]}\")"
   ]
  },
  {
   "cell_type": "markdown",
   "metadata": {},
   "source": [
    "### **dor, dor_k:** key features in our analysis"
   ]
  },
  {
   "cell_type": "markdown",
   "metadata": {},
   "source": [
    "__dor and dor_k:__ 930.003 common gaps"
   ]
  },
  {
   "cell_type": "markdown",
   "metadata": {},
   "source": [
    "Why `dor` is a key feature?\n",
    "- contains road names\n",
    "- will allow to identify accidents on toll roads (here you can find [the list of toll roads in Russia](https://avtodor-tr.ru/road/))\n",
    "- so we can create binary key feature `toll road`"
   ]
  },
  {
   "cell_type": "code",
   "execution_count": 62,
   "metadata": {},
   "outputs": [
    {
     "data": {
      "text/plain": [
       "447902"
      ]
     },
     "execution_count": 62,
     "metadata": {},
     "output_type": "execute_result"
    }
   ],
   "source": [
    "df['dor'].notna().sum()"
   ]
  },
  {
   "cell_type": "code",
   "execution_count": 63,
   "metadata": {},
   "outputs": [
    {
     "name": "stdout",
     "output_type": "stream",
     "text": [
      "Gaps in dor: 807152\n",
      "Gaps in dor_k: 813752\n",
      "Dor and dor_k common gaps: 818893\n"
     ]
    }
   ],
   "source": [
    "print(f\"Gaps in dor: {df['dor'].isna().sum()}\")\n",
    "print(f\"Gaps in dor_k: {df['dor_k'].isna().sum()}\")\n",
    "\n",
    "dor_ind = set(df[df['dor'].isna()]['kartId'])\n",
    "dor_k_ind = set(df[df['dor_k'].isna()]['kartId'])\n",
    "common_gaps = dor_ind | dor_k_ind\n",
    "\n",
    "print(f\"Dor and dor_k common gaps: {len(common_gaps)}\")"
   ]
  },
  {
   "cell_type": "markdown",
   "metadata": {},
   "source": [
    "#### **Lyrical digression and NP:** why it is useless and will be deleted"
   ]
  },
  {
   "cell_type": "code",
   "execution_count": 64,
   "metadata": {},
   "outputs": [
    {
     "name": "stdout",
     "output_type": "stream",
     "text": [
      "NP gaps: 362018\n"
     ]
    }
   ],
   "source": [
    "print(f\"NP gaps: {df['NP'].isna().sum()}\")"
   ]
  },
  {
   "cell_type": "markdown",
   "metadata": {},
   "source": [
    "`NP` contains only (compared to `dor`) 388.721 gaps and had a potential to be a key feature."
   ]
  },
  {
   "cell_type": "markdown",
   "metadata": {},
   "source": [
    "Why `NP` could be a key feature?\n",
    "- the aim of the thesis is not only to analyze toll roads but also to compare them with free roads in Russia\n",
    "- toll roads in Russia are mostly highways, which makes them very different from accidents occurring within cities (due to different conditions, speed limits, etc.)\n",
    "- for a correct analysis, accidents that occurred in populated areas must be excluded from the DataFrame\n",
    "- identifying these areas using NP could help achieve this\n",
    "\n",
    "Why it is NOT?\n",
    "- because the feature doesn't work tha way it should\n",
    "- according to its intended meaning, `NP` should either: \n",
    "\n",
    "(1) contain names of populated areas with non-populated areas represented as NaN or \n",
    "\n",
    "(2) include names of populated areas and a clear label for non-populated areas (e.g., \"not NP\" or \"highway\")\n",
    "\n",
    "- in reality, `NP` contains both names of populated areas and labels for non-populated areas, but these labels account for less than 0.2% of the non-NaN observations in `NP`\n",
    "- as a result, the column primarily reflects the names of populated areas nearest to the accident location — even when the accident occurred on a highway\n",
    "- this makes the feature completely useless for the analysis objectives, as it does not reliably distinguish between accidents in populated and non-populated areas"
   ]
  },
  {
   "cell_type": "code",
   "execution_count": 65,
   "metadata": {},
   "outputs": [
    {
     "name": "stdout",
     "output_type": "stream",
     "text": [
      "Number of observations without gaps in 'NP', where 'NP' values are not considered as populated areas: 1360\n",
      "-----\n",
      " \n",
      "M-1 highway found in non_NP_obs DataFrame: 0\n",
      "Spoiler: the number will be the same for every toll road\n",
      "-----\n",
      " \n",
      "M-1 highway found in full DataFrame: 1546\n",
      "-----\n",
      " \n",
      "The M-1 toll road unique NP values (M-1 road is a highway):\n"
     ]
    },
    {
     "data": {
      "text/plain": [
       "array(['г Москва', 'г Кубинка', 'д Ляхово', 'с/п Новоивановское',\n",
       "       'с/п Успенское', 'рп Новоивановское', 'д Барвиха', 'д Бутынь',\n",
       "       'г Одинцово', 'г Клин', 'дп Лесной Городок', 'д Немчиново',\n",
       "       'д Вырубово', 'с Жаворонки', 'д Красная Горка', 'д Каменка',\n",
       "       'г Ярцево', 'д Анохово', 'г Гагарин'], dtype=object)"
      ]
     },
     "execution_count": 65,
     "metadata": {},
     "output_type": "execute_result"
    }
   ],
   "source": [
    "np_marks_list = [\n",
    "    'г ', 'д ', 'п ', 'с ', 'х ', 'ст-ца ', 'аал ', 'аул ', 'массив ', 'мкр ', \n",
    "    'пгт ', 'починок ', 'сл ', 'ст ', 'поселение ', 'жилрайон ', 'городок ', 'заимка ', 'м ', 'у'\n",
    "    ]           # compiled by the method of analyzing unique 'NP' feature values\n",
    "\n",
    "non_missing_np = df[df['NP'].notna()]\n",
    "not_np_unique = non_missing_np['NP'].unique().tolist()\n",
    "not_np_unique = sorted(not_np_unique)\n",
    "\n",
    "for np in not_np_unique[:]:\n",
    "    for np_mark in np_marks_list:\n",
    "        if np_mark in np:\n",
    "            not_np_unique.remove(np)\n",
    "            break\n",
    "\n",
    "non_NP_obs = df[df['NP'].isin(not_np_unique)]\n",
    "print(f\"Number of observations without gaps in 'NP', where 'NP' values are not considered as populated areas: {non_NP_obs.shape[0]}\")\n",
    "print('-----')\n",
    "print(' ')\n",
    "\n",
    "# and if we try to find any highway in this DataFrame we'll fail:\n",
    "\n",
    "dor_uniq = df['dor'].unique().tolist()\n",
    "M_1_dors = list()\n",
    "\n",
    "for dor in dor_uniq:\n",
    "    try:\n",
    "        if 'М-1 ' in dor and 'подъездная' not in dor and 'Подъездная' not in dor:\n",
    "            M_1_dors.append(dor)\n",
    "    except TypeError:\n",
    "        continue\n",
    "\n",
    "M1_df = non_NP_obs[non_NP_obs['dor'].isin(M_1_dors)]\n",
    "print(f\"M-1 highway found in non_NP_obs DataFrame: {M1_df.shape[0]}\")\n",
    "print('Spoiler: the number will be the same for every toll road')\n",
    "print('-----')\n",
    "print(' ')\n",
    "\n",
    "# and in full DataFrame:\n",
    "\n",
    "M1_df = df[df['dor'].isin(M_1_dors)]\n",
    "print(f\"M-1 highway found in full DataFrame: {M1_df.shape[0]}\")\n",
    "print('-----')\n",
    "print(' ')\n",
    "\n",
    "# analyzing the 'NP' values of M-1 toll road observations and finding out the 'NP' uselesness\n",
    "\n",
    "print('The M-1 toll road unique NP values (M-1 road is a highway):')\n",
    "M1_df[M1_df['NP'].notna()]['NP'].unique()"
   ]
  },
  {
   "cell_type": "code",
   "execution_count": 66,
   "metadata": {},
   "outputs": [],
   "source": [
    "drop_columns.append('NP')"
   ]
  },
  {
   "cell_type": "markdown",
   "metadata": {},
   "source": [
    "### How many observations of toll road accidents do we have without filling the gaps in 'dor'?"
   ]
  },
  {
   "cell_type": "markdown",
   "metadata": {},
   "source": [
    "Here we can find [the list of toll roads in Russia](https://avtodor-tr.ru/road/). It contains:\n",
    "- М-1 \"Беларусь\"\n",
    "- М-3 \"Украина\"\n",
    "- М-4 \"Дон\"\n",
    "- М-11 \"Нева\"\n",
    "- М-12 \"Восток\"\n",
    "- А-113 ЦКАД"
   ]
  },
  {
   "cell_type": "code",
   "execution_count": 67,
   "metadata": {},
   "outputs": [
    {
     "name": "stdout",
     "output_type": "stream",
     "text": [
      "Number of observations of toll road accidents: 28376\n",
      "-----\n"
     ]
    },
    {
     "data": {
      "text/html": [
       "<div>\n",
       "<style scoped>\n",
       "    .dataframe tbody tr th:only-of-type {\n",
       "        vertical-align: middle;\n",
       "    }\n",
       "\n",
       "    .dataframe tbody tr th {\n",
       "        vertical-align: top;\n",
       "    }\n",
       "\n",
       "    .dataframe thead th {\n",
       "        text-align: right;\n",
       "    }\n",
       "</style>\n",
       "<table border=\"1\" class=\"dataframe\">\n",
       "  <thead>\n",
       "    <tr style=\"text-align: right;\">\n",
       "      <th></th>\n",
       "      <th>DTPV</th>\n",
       "      <th>date</th>\n",
       "      <th>district</th>\n",
       "      <th>EMTP_NUMBER</th>\n",
       "      <th>CHOM</th>\n",
       "      <th>COORD_L</th>\n",
       "      <th>COORD_W</th>\n",
       "      <th>dor</th>\n",
       "      <th>dor_k</th>\n",
       "      <th>dor_z</th>\n",
       "      <th>...</th>\n",
       "      <th>any cyclists</th>\n",
       "      <th>any concomitant traffic violations</th>\n",
       "      <th>any injuries without safety belt</th>\n",
       "      <th>any child restraints</th>\n",
       "      <th>number of guilty objects</th>\n",
       "      <th>fatal traffic violation(s)</th>\n",
       "      <th>number of fatal traffic violations</th>\n",
       "      <th>bodily harm</th>\n",
       "      <th>guilty drivers average experience</th>\n",
       "      <th>drivers average experience</th>\n",
       "    </tr>\n",
       "  </thead>\n",
       "  <tbody>\n",
       "    <tr>\n",
       "      <th>25764</th>\n",
       "      <td>Столкновение</td>\n",
       "      <td>27.01.2015</td>\n",
       "      <td>КОРЕНОВСКИЙ</td>\n",
       "      <td>NaN</td>\n",
       "      <td>Движение частично перекрыто</td>\n",
       "      <td>39.915886</td>\n",
       "      <td>45.30323</td>\n",
       "      <td>М-4 Дон Москва - Воронеж - Ростов-на-Дону - Кр...</td>\n",
       "      <td>1.0</td>\n",
       "      <td>Федеральная (дорога федерального значения)</td>\n",
       "      <td>...</td>\n",
       "      <td>0</td>\n",
       "      <td>0</td>\n",
       "      <td>0</td>\n",
       "      <td>0</td>\n",
       "      <td>1</td>\n",
       "      <td>{'Выезд на полосу встречного движения'}</td>\n",
       "      <td>1</td>\n",
       "      <td>{'Раненый, находящийся (находившийся)  на амбу...</td>\n",
       "      <td>16.0</td>\n",
       "      <td>24.0</td>\n",
       "    </tr>\n",
       "    <tr>\n",
       "      <th>25788</th>\n",
       "      <td>Опрокидывание</td>\n",
       "      <td>25.01.2015</td>\n",
       "      <td>ПАВЛОВСКИЙ</td>\n",
       "      <td>NaN</td>\n",
       "      <td>Режим движения не изменялся</td>\n",
       "      <td>39.701389</td>\n",
       "      <td>45.891944</td>\n",
       "      <td>М-4 Дон Москва - Воронеж - Ростов-на-Дону - Кр...</td>\n",
       "      <td>1.0</td>\n",
       "      <td>Федеральная (дорога федерального значения)</td>\n",
       "      <td>...</td>\n",
       "      <td>0</td>\n",
       "      <td>0</td>\n",
       "      <td>0</td>\n",
       "      <td>0</td>\n",
       "      <td>1</td>\n",
       "      <td>{'Нарушение правил перестроения'}</td>\n",
       "      <td>1</td>\n",
       "      <td>{'Раненый, находящийся (находившийся) на стаци...</td>\n",
       "      <td>13.0</td>\n",
       "      <td>13.0</td>\n",
       "    </tr>\n",
       "    <tr>\n",
       "      <th>25829</th>\n",
       "      <td>Столкновение</td>\n",
       "      <td>22.01.2015</td>\n",
       "      <td>АРМАВИР (РАЙОН)</td>\n",
       "      <td>NaN</td>\n",
       "      <td>Движение частично перекрыто</td>\n",
       "      <td>41.07822</td>\n",
       "      <td>44.55451</td>\n",
       "      <td>Р-217 Кавказ автомобильная дорога М-4 Дон - Вл...</td>\n",
       "      <td>1.0</td>\n",
       "      <td>Федеральная (дорога федерального значения)</td>\n",
       "      <td>...</td>\n",
       "      <td>0</td>\n",
       "      <td>1</td>\n",
       "      <td>0</td>\n",
       "      <td>0</td>\n",
       "      <td>1</td>\n",
       "      <td>{'Несоблюдение очередности проезда'}</td>\n",
       "      <td>1</td>\n",
       "      <td>{'Раненый, находящийся (находившийся) на стаци...</td>\n",
       "      <td>17.0</td>\n",
       "      <td>13.5</td>\n",
       "    </tr>\n",
       "    <tr>\n",
       "      <th>25835</th>\n",
       "      <td>Опрокидывание</td>\n",
       "      <td>22.01.2015</td>\n",
       "      <td>ГЕЛЕНДЖИК (РАЙОН)</td>\n",
       "      <td>NaN</td>\n",
       "      <td>Режим движения не изменялся</td>\n",
       "      <td>38.1633</td>\n",
       "      <td>44.3146</td>\n",
       "      <td>М-4 Дон Москва - Воронеж - Ростов-на-Дону - Кр...</td>\n",
       "      <td>3.0</td>\n",
       "      <td>Федеральная (дорога федерального значения)</td>\n",
       "      <td>...</td>\n",
       "      <td>0</td>\n",
       "      <td>1</td>\n",
       "      <td>0</td>\n",
       "      <td>0</td>\n",
       "      <td>1</td>\n",
       "      <td>{'Несоответствие скорости конкретным условиям ...</td>\n",
       "      <td>1</td>\n",
       "      <td>{'Раненый, находящийся (находившийся)  на амбу...</td>\n",
       "      <td>27.0</td>\n",
       "      <td>27.0</td>\n",
       "    </tr>\n",
       "    <tr>\n",
       "      <th>25846</th>\n",
       "      <td>Столкновение</td>\n",
       "      <td>22.01.2015</td>\n",
       "      <td>ТИХОРЕЦКИЙ</td>\n",
       "      <td>NaN</td>\n",
       "      <td>Движение частично перекрыто</td>\n",
       "      <td>40.22636</td>\n",
       "      <td>45.37034</td>\n",
       "      <td>Р-217 Кавказ автомобильная дорога М-4 Дон - Вл...</td>\n",
       "      <td>2.0</td>\n",
       "      <td>Федеральная (дорога федерального значения)</td>\n",
       "      <td>...</td>\n",
       "      <td>0</td>\n",
       "      <td>0</td>\n",
       "      <td>0</td>\n",
       "      <td>0</td>\n",
       "      <td>1</td>\n",
       "      <td>{'Нарушение правил перестроения'}</td>\n",
       "      <td>1</td>\n",
       "      <td>{'Раненый, находящийся (находившийся)  на амбу...</td>\n",
       "      <td>3.0</td>\n",
       "      <td>20.5</td>\n",
       "    </tr>\n",
       "  </tbody>\n",
       "</table>\n",
       "<p>5 rows × 65 columns</p>\n",
       "</div>"
      ],
      "text/plain": [
       "                DTPV        date           district  EMTP_NUMBER  \\\n",
       "25764   Столкновение  27.01.2015        КОРЕНОВСКИЙ          NaN   \n",
       "25788  Опрокидывание  25.01.2015         ПАВЛОВСКИЙ          NaN   \n",
       "25829   Столкновение  22.01.2015    АРМАВИР (РАЙОН)          NaN   \n",
       "25835  Опрокидывание  22.01.2015  ГЕЛЕНДЖИК (РАЙОН)          NaN   \n",
       "25846   Столкновение  22.01.2015         ТИХОРЕЦКИЙ          NaN   \n",
       "\n",
       "                              CHOM    COORD_L    COORD_W  \\\n",
       "25764  Движение частично перекрыто  39.915886   45.30323   \n",
       "25788  Режим движения не изменялся  39.701389  45.891944   \n",
       "25829  Движение частично перекрыто   41.07822   44.55451   \n",
       "25835  Режим движения не изменялся    38.1633    44.3146   \n",
       "25846  Движение частично перекрыто   40.22636   45.37034   \n",
       "\n",
       "                                                     dor  dor_k  \\\n",
       "25764  М-4 Дон Москва - Воронеж - Ростов-на-Дону - Кр...    1.0   \n",
       "25788  М-4 Дон Москва - Воронеж - Ростов-на-Дону - Кр...    1.0   \n",
       "25829  Р-217 Кавказ автомобильная дорога М-4 Дон - Вл...    1.0   \n",
       "25835  М-4 Дон Москва - Воронеж - Ростов-на-Дону - Кр...    3.0   \n",
       "25846  Р-217 Кавказ автомобильная дорога М-4 Дон - Вл...    2.0   \n",
       "\n",
       "                                            dor_z  ... any cyclists  \\\n",
       "25764  Федеральная (дорога федерального значения)  ...            0   \n",
       "25788  Федеральная (дорога федерального значения)  ...            0   \n",
       "25829  Федеральная (дорога федерального значения)  ...            0   \n",
       "25835  Федеральная (дорога федерального значения)  ...            0   \n",
       "25846  Федеральная (дорога федерального значения)  ...            0   \n",
       "\n",
       "      any concomitant traffic violations any injuries without safety belt  \\\n",
       "25764                                  0                                0   \n",
       "25788                                  0                                0   \n",
       "25829                                  1                                0   \n",
       "25835                                  1                                0   \n",
       "25846                                  0                                0   \n",
       "\n",
       "       any child restraints  number of guilty objects  \\\n",
       "25764                     0                         1   \n",
       "25788                     0                         1   \n",
       "25829                     0                         1   \n",
       "25835                     0                         1   \n",
       "25846                     0                         1   \n",
       "\n",
       "                              fatal traffic violation(s)  \\\n",
       "25764            {'Выезд на полосу встречного движения'}   \n",
       "25788                  {'Нарушение правил перестроения'}   \n",
       "25829               {'Несоблюдение очередности проезда'}   \n",
       "25835  {'Несоответствие скорости конкретным условиям ...   \n",
       "25846                  {'Нарушение правил перестроения'}   \n",
       "\n",
       "      number of fatal traffic violations  \\\n",
       "25764                                  1   \n",
       "25788                                  1   \n",
       "25829                                  1   \n",
       "25835                                  1   \n",
       "25846                                  1   \n",
       "\n",
       "                                             bodily harm  \\\n",
       "25764  {'Раненый, находящийся (находившийся)  на амбу...   \n",
       "25788  {'Раненый, находящийся (находившийся) на стаци...   \n",
       "25829  {'Раненый, находящийся (находившийся) на стаци...   \n",
       "25835  {'Раненый, находящийся (находившийся)  на амбу...   \n",
       "25846  {'Раненый, находящийся (находившийся)  на амбу...   \n",
       "\n",
       "      guilty drivers average experience  drivers average experience  \n",
       "25764                              16.0                        24.0  \n",
       "25788                              13.0                        13.0  \n",
       "25829                              17.0                        13.5  \n",
       "25835                              27.0                        27.0  \n",
       "25846                               3.0                        20.5  \n",
       "\n",
       "[5 rows x 65 columns]"
      ]
     },
     "execution_count": 67,
     "metadata": {},
     "output_type": "execute_result"
    }
   ],
   "source": [
    "dor_uniq = df['dor'].unique().tolist()\n",
    "\n",
    "russian_toll_roads = ['М-1 ', 'М-3 ', 'М-4 ', 'М-11 ', 'М-12 ']\n",
    "toll_road_names = list()\n",
    "\n",
    "for dor in dor_uniq:\n",
    "    for toll_road in russian_toll_roads:\n",
    "        try:\n",
    "            if toll_road in dor and 'подъездная' not in dor.lower():\n",
    "                toll_road_names.append(dor)\n",
    "                break\n",
    "        except TypeError:\n",
    "            continue\n",
    "\n",
    "# print(len(toll_road_names))\n",
    "\n",
    "toll_roads_df = df[df['dor'].isin(toll_road_names)]\n",
    "print(f\"Number of observations of toll road accidents: {toll_roads_df.shape[0]}\")\n",
    "print('-----')\n",
    "toll_roads_df.head()"
   ]
  },
  {
   "cell_type": "markdown",
   "metadata": {},
   "source": [
    "This should be generally enough for analysis, but we have the coordinates (`COORD_L`, `COORD_W`), so we can try to fill in the gaps and increase our sample."
   ]
  },
  {
   "cell_type": "markdown",
   "metadata": {},
   "source": [
    "### __COORD_L and COORD_W:__ filling the 'dor' gaps"
   ]
  },
  {
   "cell_type": "markdown",
   "metadata": {},
   "source": [
    "Begin with analyzing columns gaps: 15 objects were dropped"
   ]
  },
  {
   "cell_type": "code",
   "execution_count": 68,
   "metadata": {},
   "outputs": [
    {
     "name": "stdout",
     "output_type": "stream",
     "text": [
      "COORD_L gaps: 14\n",
      "COORD_W gaps: 8\n",
      "COORD_L and COORD_W common gaps: 15\n",
      "Objects left: 1255039\n"
     ]
    }
   ],
   "source": [
    "L_ind = set(df[df['COORD_L'].isna()]['kartId'])\n",
    "W_ind = set(df[df['COORD_W'].isna()]['kartId'])\n",
    "common_gaps = L_ind | W_ind\n",
    "\n",
    "print(f\"COORD_L gaps: {df['COORD_L'].isna().sum()}\")\n",
    "print(f\"COORD_W gaps: {df['COORD_W'].isna().sum()}\")\n",
    "print(f\"COORD_L and COORD_W common gaps: {len(common_gaps)}\")\n",
    "\n",
    "df = df[(df['COORD_L'].notna()) & (df['COORD_W'].notna())]\n",
    "print(f\"Objects left: {df.shape[0]}\")"
   ]
  },
  {
   "cell_type": "markdown",
   "metadata": {},
   "source": [
    "#### Let's look at the distribution of omissions of the \"road\" feature by year"
   ]
  },
  {
   "cell_type": "code",
   "execution_count": 69,
   "metadata": {},
   "outputs": [
    {
     "data": {
      "image/png": "[encoded data removed]",
      "text/plain": [
       "<Figure size 1000x600 with 1 Axes>"
      ]
     },
     "metadata": {},
     "output_type": "display_data"
    }
   ],
   "source": [
    "df['date'] = pd.to_datetime(df['date'], format='%d.%m.%Y', errors='coerce')\n",
    "df['year'] = df['date'].dt.year\n",
    "\n",
    "nan_distribution = df[df['dor'].isna()].groupby('year').size()\n",
    "\n",
    "plt.figure(figsize=(10, 6))\n",
    "plt.bar(nan_distribution.index, nan_distribution.values)\n",
    "plt.xlabel('Year')\n",
    "plt.ylabel('Number of NaN in \"dor\"')\n",
    "plt.title('Distribution of NaN in \"dor\" by Year')\n",
    "plt.xticks(nan_distribution.index, rotation=45)\n",
    "plt.show()"
   ]
  },
  {
   "cell_type": "markdown",
   "metadata": {},
   "source": [
    "The number of NaN does not differ much from year to year, although there is a downward trend at the moment, there are no outliers."
   ]
  },
  {
   "cell_type": "markdown",
   "metadata": {},
   "source": [
    "#### How to retrieve the accident address using coordinates?\n",
    "\n",
    "Let's select an observation with a known answer to test the methods."
   ]
  },
  {
   "cell_type": "code",
   "execution_count": 70,
   "metadata": {},
   "outputs": [
    {
     "data": {
      "text/plain": [
       "26218      163227730\n",
       "26469      165244144\n",
       "26552      164824676\n",
       "26574      164696383\n",
       "27120      166265664\n",
       "             ...    \n",
       "1360261    223380249\n",
       "1360271    223498890\n",
       "1360302    223603661\n",
       "1360317    223721869\n",
       "1360327    223922221\n",
       "Name: kartId, Length: 4431, dtype: int64"
      ]
     },
     "execution_count": 70,
     "metadata": {},
     "output_type": "execute_result"
    }
   ],
   "source": [
    "toll_roads_df[toll_roads_df['NP'].notna()]['kartId']"
   ]
  },
  {
   "cell_type": "code",
   "execution_count": 71,
   "metadata": {},
   "outputs": [
    {
     "data": {
      "text/html": [
       "<div>\n",
       "<style scoped>\n",
       "    .dataframe tbody tr th:only-of-type {\n",
       "        vertical-align: middle;\n",
       "    }\n",
       "\n",
       "    .dataframe tbody tr th {\n",
       "        vertical-align: top;\n",
       "    }\n",
       "\n",
       "    .dataframe thead th {\n",
       "        text-align: right;\n",
       "    }\n",
       "</style>\n",
       "<table border=\"1\" class=\"dataframe\">\n",
       "  <thead>\n",
       "    <tr style=\"text-align: right;\">\n",
       "      <th></th>\n",
       "      <th>kartId</th>\n",
       "      <th>COORD_L</th>\n",
       "      <th>COORD_W</th>\n",
       "      <th>dor</th>\n",
       "      <th>NP</th>\n",
       "      <th>district</th>\n",
       "    </tr>\n",
       "  </thead>\n",
       "  <tbody>\n",
       "    <tr>\n",
       "      <th>1360261</th>\n",
       "      <td>223380249</td>\n",
       "      <td>45.406001</td>\n",
       "      <td>43.231556</td>\n",
       "      <td>Р-217 Кавказ автомобильная дорога М-4 Дон - Вл...</td>\n",
       "      <td>с Шаами-Юрт</td>\n",
       "      <td>Ачхой-Мартановский</td>\n",
       "    </tr>\n",
       "  </tbody>\n",
       "</table>\n",
       "</div>"
      ],
      "text/plain": [
       "            kartId    COORD_L    COORD_W  \\\n",
       "1360261  223380249  45.406001  43.231556   \n",
       "\n",
       "                                                       dor           NP  \\\n",
       "1360261  Р-217 Кавказ автомобильная дорога М-4 Дон - Вл...  с Шаами-Юрт   \n",
       "\n",
       "                   district  \n",
       "1360261  Ачхой-Мартановский  "
      ]
     },
     "execution_count": 71,
     "metadata": {},
     "output_type": "execute_result"
    }
   ],
   "source": [
    "obs = toll_roads_df[toll_roads_df['kartId'] == 223380249][['kartId', 'COORD_L', 'COORD_W', 'dor', 'NP', 'district']]\n",
    "obs"
   ]
  },
  {
   "cell_type": "code",
   "execution_count": 72,
   "metadata": {},
   "outputs": [
    {
     "data": {
      "text/plain": [
       "45.406001"
      ]
     },
     "execution_count": 72,
     "metadata": {},
     "output_type": "execute_result"
    }
   ],
   "source": [
    "float(obs['COORD_L'].values[0])"
   ]
  },
  {
   "cell_type": "code",
   "execution_count": 73,
   "metadata": {},
   "outputs": [
    {
     "name": "stdout",
     "output_type": "stream",
     "text": [
      "Адрес: улица Ю. Гагарина, Шаами-Юрт, Чечня, Россия\n"
     ]
    }
   ],
   "source": [
    "from geopy.geocoders import Photon\n",
    "geolocator = Photon(user_agent=\"my_photon_app\")\n",
    "\n",
    "latitude = float(obs['COORD_W'].values[0])    # COORD_W\n",
    "longitude = float(obs['COORD_L'].values[0])     # COORD_L\n",
    "\n",
    "# reverse geocoding\n",
    "try:\n",
    "    location = geolocator.reverse((latitude, longitude))\n",
    "    print(f\"Адрес: {location.address}\")\n",
    "except Exception as e:\n",
    "    print(f\"Ошибка: {e}\")"
   ]
  },
  {
   "cell_type": "code",
   "execution_count": 74,
   "metadata": {},
   "outputs": [
    {
     "name": "stdout",
     "output_type": "stream",
     "text": [
      "Название дороги: Название дороги не найдено\n"
     ]
    }
   ],
   "source": [
    "try:\n",
    "    location = geolocator.reverse((latitude, longitude))\n",
    "    if location:\n",
    "        raw_data = location.raw\n",
    "        road_name = raw_data.get('road', 'Название дороги не найдено')\n",
    "        print(f\"Название дороги: {road_name}\")\n",
    "    else:\n",
    "        print(\"Не удалось найти местоположение.\")\n",
    "except Exception as e:\n",
    "    print(f\"Ошибка: {e}\")"
   ]
  },
  {
   "cell_type": "code",
   "execution_count": 75,
   "metadata": {},
   "outputs": [
    {
     "name": "stdout",
     "output_type": "stream",
     "text": [
      "Название дороги: улица С. Лорсанова\n"
     ]
    }
   ],
   "source": [
    "from geopy.geocoders import Nominatim\n",
    "geolocator = Nominatim(user_agent=\"my_nominatim_app\")\n",
    "\n",
    "latitude = float(obs['COORD_W'].values[0])    # COORD_W\n",
    "longitude = float(obs['COORD_L'].values[0])   # COORD_L\n",
    "\n",
    "try:\n",
    "    location = geolocator.reverse((latitude, longitude), language='ru')\n",
    "    if location:\n",
    "        road_name = location.raw.get('address', {}).get('road', 'Название дороги не найдено')\n",
    "        print(f\"Название дороги: {road_name}\")\n",
    "    else:\n",
    "        print(\"Не удалось найти местоположение.\")\n",
    "except Exception as e:\n",
    "    print(f\"Ошибка: {e}\")"
   ]
  },
  {
   "cell_type": "markdown",
   "metadata": {},
   "source": [
    "## Rename and drop the columns"
   ]
  },
  {
   "cell_type": "code",
   "execution_count": 76,
   "metadata": {},
   "outputs": [
    {
     "name": "stdout",
     "output_type": "stream",
     "text": [
      "Features left: 58, in the begining was: 89\n"
     ]
    }
   ],
   "source": [
    "df = df.drop(drop_columns, axis=1)\n",
    "\n",
    "print(f\"Features left: {df.shape[1]}, in the begining was: {features_number}\")"
   ]
  },
  {
   "cell_type": "code",
   "execution_count": 77,
   "metadata": {},
   "outputs": [],
   "source": [
    "new_column_names = {\n",
    "    'DTPV': 'RTA type',\n",
    "    'kartId': 'RTA number',\n",
    "    'CHOM': 'traffic changes info',\n",
    "    'dor_z': 'road significance',\n",
    "    'factor': 'factors influenced traffic',\n",
    "    'k_ul': 'street significance',\n",
    "    'km': 'RTA road km',\n",
    "    'm': 'RTA road m',\n",
    "    'ndu': 'road network maintenance defects',\n",
    "    'OBJ_DTP': 'RTA-adjacent road objects',\n",
    "    'osv': 'lighting',\n",
    "    's_pch': 'road surface condition',\n",
    "    'sdor': 'RTA site road objects',\n",
    "    'spog': 'weather',\n",
    "    'KTS': 'RTA vehicle number',\n",
    "    'KUCH': 'RTA participants number',\n",
    "    'POG': 'number of deaths',\n",
    "    'RAN': 'number of wounded',\n",
    "    'time': 'RTA time'\n",
    "}\n",
    "\n",
    "df = df.rename(columns=new_column_names)"
   ]
  },
  {
   "cell_type": "code",
   "execution_count": 33,
   "metadata": {},
   "outputs": [
    {
     "data": {
      "text/plain": [
       "Index(['RTA type', 'date', 'traffic changes info', 'COORD_L', 'COORD_W', 'dor',\n",
       "       'dor_k', 'road significance', 'factors influenced traffic',\n",
       "       'street significance', 'road network maintenance defects',\n",
       "       'RTA-adjacent road objects', 'lighting', 's_dtp',\n",
       "       'road surface condition', 'RTA site road objects', 'weather',\n",
       "       'RTA vehicle number', 'RTA participants number', 'RTA number',\n",
       "       'number of deaths', 'number of wounded', 'RTA time',\n",
       "       'any TV technical failures', 'any non-private vehicles',\n",
       "       'any russian vehicles', 'any vehicles older than 1990',\n",
       "       'any vehicles older than 2000', 'any vehicles older than 2010',\n",
       "       'any white vehicles', 'any black vehicles', 'any colored vehicles',\n",
       "       'any front-wheel-drive vehicles', 'any rear-wheel-drive vehicles',\n",
       "       'any four-wheel-drive vehicles', 'any A-class vehicles',\n",
       "       'any B-class vehicles', 'any C-class vehicles', 'any D-class vehicles',\n",
       "       'any E-class vehicles', 'any S-class vehicles', 'any non-car vehicles',\n",
       "       'any drunk passengers', 'any drunk drivers', 'any female drivers',\n",
       "       'any escaped participants', 'any pedestrians', 'any cyclists',\n",
       "       'any concomitant traffic violations',\n",
       "       'any injuries without safety belt', 'any child restraints',\n",
       "       'number of guilty objects', 'fatal traffic violation(s)',\n",
       "       'number of fatal traffic violations', 'bodily harm',\n",
       "       'guilty drivers average experience', 'drivers average experience',\n",
       "       'year'],\n",
       "      dtype='object')"
      ]
     },
     "execution_count": 33,
     "metadata": {},
     "output_type": "execute_result"
    }
   ],
   "source": [
    "df.columns"
   ]
  },
  {
   "cell_type": "code",
   "execution_count": 78,
   "metadata": {},
   "outputs": [],
   "source": [
    "df.to_csv('DTP_DATA_CORRECT_PROCESSED.csv')"
   ]
  },
  {
   "cell_type": "markdown",
   "metadata": {},
   "source": [
    "#### _Drafts_"
   ]
  },
  {
   "cell_type": "code",
   "execution_count": 35,
   "metadata": {},
   "outputs": [],
   "source": [
    "# ts_uch_columns = ['ALCO', 'k_UCH', 'NPDD', 'n_UCH', 'POL', 'SAFETY_BELT', 'SOP_NPDD', 's_SEAT_GROUP', 's_SM', 's_T', 'v_ST']\n",
    "# ts_info_columns = ['color', 'g_v', 'm_pov', 'm_ts', 'marka_ts', 'n_ts', 'o_pf', 'r_rul', 't_n', 't_ts', 'ts_s']\n",
    "\n",
    "\n",
    "# for name in ts_uch_columns:\n",
    "#     for column in columns:\n",
    "#         if name in column:\n",
    "#             df1 = df1.rename(columns={column: column.replace(name, column_meanings[name])})\n",
    "\n",
    "# for name in ts_info_columns:\n",
    "#     for column in columns:\n",
    "#         if name in column:\n",
    "#             df1 = df1.rename(columns={column: column.replace(name, column_meanings[name])})"
   ]
  },
  {
   "cell_type": "code",
   "execution_count": 36,
   "metadata": {},
   "outputs": [],
   "source": [
    "# dor_uniq = df['dor'].unique().tolist()\n",
    "# M_1_dors = list()\n",
    "\n",
    "# for dor in dor_uniq:\n",
    "#     try:\n",
    "#         if 'М-1 ' in dor and 'подъездная' not in dor and 'Подъездная' not in dor:\n",
    "#             M_1_dors.append(dor)\n",
    "#     except TypeError:\n",
    "#         continue\n",
    "\n",
    "# print(M_1_dors)\n",
    "# print(len(M_1_dors))\n",
    "\n",
    "# number = 0\n",
    "# for M_1 in M_1_dors:\n",
    "#     number += df[df['dor'] == M_1].shape[0]\n",
    "# print(number)"
   ]
  }
 ],
 "metadata": {
  "kernelspec": {
   "display_name": "Python 3",
   "language": "python",
   "name": "python3"
  },
  "language_info": {
   "codemirror_mode": {
    "name": "ipython",
    "version": 3
   },
   "file_extension": ".py",
   "mimetype": "text/x-python",
   "name": "python",
   "nbconvert_exporter": "python",
   "pygments_lexer": "ipython3",
   "version": "3.9.7"
  }
 },
 "nbformat": 4,
 "nbformat_minor": 2
}
